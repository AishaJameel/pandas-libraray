{
 "cells": [
  {
   "cell_type": "code",
   "execution_count": 2,
   "id": "1dbf79ac-2952-4227-a5ce-4f0239fd5cd9",
   "metadata": {},
   "outputs": [
    {
     "name": "stdout",
     "output_type": "stream",
     "text": [
      "\n",
      "--Library Managment System--\n",
      "1. Display Books\n",
      "2. Issue Book\n",
      "3. Return Book\n",
      "4. Exit\n"
     ]
    },
    {
     "name": "stdin",
     "output_type": "stream",
     "text": [
      "Enter your choice:  2\n",
      "Enter the book number to issue:  33\n"
     ]
    },
    {
     "name": "stdout",
     "output_type": "stream",
     "text": [
      "Invalid book number.\n",
      "\n",
      "--Library Managment System--\n",
      "1. Display Books\n",
      "2. Issue Book\n",
      "3. Return Book\n",
      "4. Exit\n"
     ]
    },
    {
     "name": "stdin",
     "output_type": "stream",
     "text": [
      "Enter your choice:  4\n"
     ]
    },
    {
     "name": "stdout",
     "output_type": "stream",
     "text": [
      "exiting system...\n"
     ]
    }
   ],
   "source": [
    "class Book :\n",
    "  def __init__(self,title,author):\n",
    "    self.title = title\n",
    "    self.author = author\n",
    "    self.is_issued = False\n",
    "\n",
    "  def issue_book(self):\n",
    "    if self.is_issued:\n",
    "      return False\n",
    "    self.is_issued = True\n",
    "    return True\n",
    "\n",
    "  def return_book(self):\n",
    "    if not self.is_issued:\n",
    "      return False\n",
    "    self.is_issued = False\n",
    "    return True\n",
    "#variable declearation\n",
    "library = [Book(\"The Alchemist\", \"Paulo Ceolho\"),\n",
    "           Book(\"Python Basics\", \"John Doe\"),\n",
    "           Book(\"Harry Potter\", \"J.K. Rowling\"),\n",
    "           Book(\"GravityWrite\",\"Jamie Carter\")]\n",
    "#while loop\n",
    "while True:\n",
    "  print(\"\\n--Library Managment System--\")\n",
    "  print(\"1. Display Books\")\n",
    "  print(\"2. Issue Book\")\n",
    "  print(\"3. Return Book\")\n",
    "  print(\"4. Exit\")\n",
    "  choice = input(\"Enter your choice: \")\n",
    "  if choice == \"1\":\n",
    "    print(\"\\nAvailable Books:\")\n",
    "    for i, book in enumerate(library, 1):   #  Loop\n",
    "          status = (lambda issued: \"Issued\" if issued else \"Available\")(book.is_issued)  #  lambda\n",
    "          print(f\"{i}. {book.title} by {book.author} - {status}\")\n",
    "  elif choice == \"2\":\n",
    "    try:\n",
    "      book_no = int(input(\"Enter the book number to issue: \"))\n",
    "      if 1 <= book_no <= len(library):\n",
    "        book = library[book_no - 1]\n",
    "        if book.issue_book():\n",
    "          print(f\"Book '{book.title}' has been issued.\")\n",
    "        else:\n",
    "          print(f\"Book '{book.title}' is already issued.\")\n",
    "      else:\n",
    "          print(\"Invalid book number.\")\n",
    "    except ValueError:\n",
    "          print(\"Invalid input. Please enter a valid book number.\")\n",
    "  elif choice ==\"3\":\n",
    "    try:\n",
    "      book_no = int(input(\"Enter the book number to return: \"))\n",
    "      if 1 <= book_no <= len(library):\n",
    "        book = library[book_no - 1]\n",
    "        if book.return_book():\n",
    "          print(f\"Book '{book.title}' has been returned.\")\n",
    "        else:\n",
    "          print(f\"Book '{book.title}' is not issued.\")\n",
    "      else:\n",
    "        print(\"Invalid book number.\")\n",
    "    except ValueError:\n",
    "      print(\"Invalid input. Please enter a valid book number.\")\n",
    "  elif choice == \"4\":\n",
    "    print(\"exiting system...\")\n",
    "    break\n",
    "  else:\n",
    "      print(\"Invalid choice. Please try again.\")"
   ]
  },
  {
   "cell_type": "code",
   "execution_count": null,
   "id": "ef032c9b-43ca-4e0a-8912-7b6f327e8934",
   "metadata": {},
   "outputs": [],
   "source": []
  }
 ],
 "metadata": {
  "kernelspec": {
   "display_name": "Python [conda env:base] *",
   "language": "python",
   "name": "conda-base-py"
  },
  "language_info": {
   "codemirror_mode": {
    "name": "ipython",
    "version": 3
   },
   "file_extension": ".py",
   "mimetype": "text/x-python",
   "name": "python",
   "nbconvert_exporter": "python",
   "pygments_lexer": "ipython3",
   "version": "3.13.5"
  }
 },
 "nbformat": 4,
 "nbformat_minor": 5
}
