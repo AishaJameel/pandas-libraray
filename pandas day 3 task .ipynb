{
 "cells": [
  {
   "cell_type": "code",
   "execution_count": 3,
   "id": "0f444cb7-0798-4e92-8f23-642a72a0c12f",
   "metadata": {},
   "outputs": [
    {
     "name": "stdout",
     "output_type": "stream",
     "text": [
      "      Index                                        Name  \\\n",
      "0         1  Smart Fan Iron Cooker Go Wireless Portable   \n",
      "1         2                                         Fan   \n",
      "2         3   Smart Speakerphone Charger Eco Plus Clean   \n",
      "3         4              Premium Grill Trimmer Portable   \n",
      "4         5                            Keyboard Freezer   \n",
      "...     ...                                         ...   \n",
      "9995   9996                                   Powerbank   \n",
      "9996   9997            Rechargeable Lamp Scanner Vacuum   \n",
      "9997   9998                                      Heater   \n",
      "9998   9999               Rechargeable Headphones Stove   \n",
      "9999  10000                     Clean Charger Treadmill   \n",
      "\n",
      "                                            Description  \\\n",
      "0                             Catch enough role nearly.   \n",
      "1                             All movement yeah tax me.   \n",
      "2                   Quickly inside pull line lay start.   \n",
      "3                                 Lawyer one than fire.   \n",
      "4                     Remain Congress blood plan voice.   \n",
      "...                                                 ...   \n",
      "9995                  Yeah none boy fund city decision.   \n",
      "9996    Appear country enter there pull thing computer.   \n",
      "9997  Owner plan approach soldier church little little.   \n",
      "9998                     Base account partner probably.   \n",
      "9999        Return reflect truth tell scientist season.   \n",
      "\n",
      "                        Brand             Category  Price Currency  Stock  \\\n",
      "0                  Herman Ltd       Kids' Clothing    585      USD    194   \n",
      "1     Braun, King and Rollins       Grooming Tools    992      USD    724   \n",
      "2                Peck-Coleman    Fishing & Hunting    940      USD    769   \n",
      "3                   Hines Ltd             Skincare    324      USD     93   \n",
      "4     Spence, Webster and Orr  Laptops & Computers    908      USD    614   \n",
      "...                       ...                  ...    ...      ...    ...   \n",
      "9995       Castaneda-Harrison   Books & Stationery    567      USD     27   \n",
      "9996                Knapp-Key              Cycling    300      USD    177   \n",
      "9997    Meyer, Case and Mills    Fitness Equipment    399      USD    996   \n",
      "9998               Jones-Bell   Kitchen Appliances     45      USD    274   \n",
      "9999                Davis LLC    Sports & Outdoors     31      USD     46   \n",
      "\n",
      "                EAN        Color         Size   Availability  Internal ID  \n",
      "0     3968600833473     Cornsilk       5x7 in  limited_stock           54  \n",
      "1      191126950284       Bisque            S   discontinued           49  \n",
      "2     7569143820621         Blue  Extra Large      pre_order           42  \n",
      "3     2705140928037        Ivory     50x70 cm   out_of_stock           93  \n",
      "4     9830391008108  FloralWhite     10x10 cm   discontinued           91  \n",
      "...             ...          ...          ...            ...          ...  \n",
      "9995  6519003997216         Cyan       Medium      pre_order            7  \n",
      "9996  4707959228979    MintCream        Large  limited_stock           55  \n",
      "9997  5286509915488    LightGray        Large      pre_order           37  \n",
      "9998  3702651384368    SlateBlue     12x18 in       in_stock           52  \n",
      "9999  8879838276060        Ivory       Medium      backorder           70  \n",
      "\n",
      "[10000 rows x 13 columns]\n"
     ]
    }
   ],
   "source": [
    "import pandas as pd\n",
    "file = pd.read_csv(r\"C:\\Users\\amnaj\\OneDrive\\Desktop\\ARTIFICIAL INTELLIGENCE\\products-10000.csv\")\n",
    "print(file)"
   ]
  },
  {
   "cell_type": "code",
   "execution_count": 5,
   "id": "3be41bd3-b28c-4da4-9743-59edefc97e14",
   "metadata": {},
   "outputs": [
    {
     "data": {
      "text/html": [
       "<div>\n",
       "<style scoped>\n",
       "    .dataframe tbody tr th:only-of-type {\n",
       "        vertical-align: middle;\n",
       "    }\n",
       "\n",
       "    .dataframe tbody tr th {\n",
       "        vertical-align: top;\n",
       "    }\n",
       "\n",
       "    .dataframe thead th {\n",
       "        text-align: right;\n",
       "    }\n",
       "</style>\n",
       "<table border=\"1\" class=\"dataframe\">\n",
       "  <thead>\n",
       "    <tr style=\"text-align: right;\">\n",
       "      <th></th>\n",
       "      <th>Index</th>\n",
       "      <th>Name</th>\n",
       "      <th>Description</th>\n",
       "      <th>Brand</th>\n",
       "      <th>Category</th>\n",
       "      <th>Price</th>\n",
       "      <th>Currency</th>\n",
       "      <th>Stock</th>\n",
       "      <th>EAN</th>\n",
       "      <th>Color</th>\n",
       "      <th>Size</th>\n",
       "      <th>Availability</th>\n",
       "      <th>Internal ID</th>\n",
       "    </tr>\n",
       "  </thead>\n",
       "  <tbody>\n",
       "    <tr>\n",
       "      <th>0</th>\n",
       "      <td>1</td>\n",
       "      <td>Smart Fan Iron Cooker Go Wireless Portable</td>\n",
       "      <td>Catch enough role nearly.</td>\n",
       "      <td>Herman Ltd</td>\n",
       "      <td>Kids' Clothing</td>\n",
       "      <td>585</td>\n",
       "      <td>USD</td>\n",
       "      <td>194</td>\n",
       "      <td>3968600833473</td>\n",
       "      <td>Cornsilk</td>\n",
       "      <td>5x7 in</td>\n",
       "      <td>limited_stock</td>\n",
       "      <td>54</td>\n",
       "    </tr>\n",
       "    <tr>\n",
       "      <th>1</th>\n",
       "      <td>2</td>\n",
       "      <td>Fan</td>\n",
       "      <td>All movement yeah tax me.</td>\n",
       "      <td>Braun, King and Rollins</td>\n",
       "      <td>Grooming Tools</td>\n",
       "      <td>992</td>\n",
       "      <td>USD</td>\n",
       "      <td>724</td>\n",
       "      <td>191126950284</td>\n",
       "      <td>Bisque</td>\n",
       "      <td>S</td>\n",
       "      <td>discontinued</td>\n",
       "      <td>49</td>\n",
       "    </tr>\n",
       "    <tr>\n",
       "      <th>2</th>\n",
       "      <td>3</td>\n",
       "      <td>Smart Speakerphone Charger Eco Plus Clean</td>\n",
       "      <td>Quickly inside pull line lay start.</td>\n",
       "      <td>Peck-Coleman</td>\n",
       "      <td>Fishing &amp; Hunting</td>\n",
       "      <td>940</td>\n",
       "      <td>USD</td>\n",
       "      <td>769</td>\n",
       "      <td>7569143820621</td>\n",
       "      <td>Blue</td>\n",
       "      <td>Extra Large</td>\n",
       "      <td>pre_order</td>\n",
       "      <td>42</td>\n",
       "    </tr>\n",
       "    <tr>\n",
       "      <th>3</th>\n",
       "      <td>4</td>\n",
       "      <td>Premium Grill Trimmer Portable</td>\n",
       "      <td>Lawyer one than fire.</td>\n",
       "      <td>Hines Ltd</td>\n",
       "      <td>Skincare</td>\n",
       "      <td>324</td>\n",
       "      <td>USD</td>\n",
       "      <td>93</td>\n",
       "      <td>2705140928037</td>\n",
       "      <td>Ivory</td>\n",
       "      <td>50x70 cm</td>\n",
       "      <td>out_of_stock</td>\n",
       "      <td>93</td>\n",
       "    </tr>\n",
       "    <tr>\n",
       "      <th>4</th>\n",
       "      <td>5</td>\n",
       "      <td>Keyboard Freezer</td>\n",
       "      <td>Remain Congress blood plan voice.</td>\n",
       "      <td>Spence, Webster and Orr</td>\n",
       "      <td>Laptops &amp; Computers</td>\n",
       "      <td>908</td>\n",
       "      <td>USD</td>\n",
       "      <td>614</td>\n",
       "      <td>9830391008108</td>\n",
       "      <td>FloralWhite</td>\n",
       "      <td>10x10 cm</td>\n",
       "      <td>discontinued</td>\n",
       "      <td>91</td>\n",
       "    </tr>\n",
       "  </tbody>\n",
       "</table>\n",
       "</div>"
      ],
      "text/plain": [
       "   Index                                        Name  \\\n",
       "0      1  Smart Fan Iron Cooker Go Wireless Portable   \n",
       "1      2                                         Fan   \n",
       "2      3   Smart Speakerphone Charger Eco Plus Clean   \n",
       "3      4              Premium Grill Trimmer Portable   \n",
       "4      5                            Keyboard Freezer   \n",
       "\n",
       "                           Description                    Brand  \\\n",
       "0            Catch enough role nearly.               Herman Ltd   \n",
       "1            All movement yeah tax me.  Braun, King and Rollins   \n",
       "2  Quickly inside pull line lay start.             Peck-Coleman   \n",
       "3                Lawyer one than fire.                Hines Ltd   \n",
       "4    Remain Congress blood plan voice.  Spence, Webster and Orr   \n",
       "\n",
       "              Category  Price Currency  Stock            EAN        Color  \\\n",
       "0       Kids' Clothing    585      USD    194  3968600833473     Cornsilk   \n",
       "1       Grooming Tools    992      USD    724   191126950284       Bisque   \n",
       "2    Fishing & Hunting    940      USD    769  7569143820621         Blue   \n",
       "3             Skincare    324      USD     93  2705140928037        Ivory   \n",
       "4  Laptops & Computers    908      USD    614  9830391008108  FloralWhite   \n",
       "\n",
       "          Size   Availability  Internal ID  \n",
       "0       5x7 in  limited_stock           54  \n",
       "1            S   discontinued           49  \n",
       "2  Extra Large      pre_order           42  \n",
       "3     50x70 cm   out_of_stock           93  \n",
       "4     10x10 cm   discontinued           91  "
      ]
     },
     "execution_count": 5,
     "metadata": {},
     "output_type": "execute_result"
    }
   ],
   "source": [
    "file.head()"
   ]
  },
  {
   "cell_type": "code",
   "execution_count": 5,
   "id": "2f2f60a7-c175-4755-b4ef-155d80f9b5ed",
   "metadata": {},
   "outputs": [
    {
     "name": "stdout",
     "output_type": "stream",
     "text": [
      "(10000, 13)\n"
     ]
    }
   ],
   "source": [
    "#shape\n",
    "print(file.shape)"
   ]
  },
  {
   "cell_type": "code",
   "execution_count": 6,
   "id": "692dc1d2-0a38-484d-bc06-0559787a9279",
   "metadata": {
    "scrolled": true
   },
   "outputs": [
    {
     "name": "stdout",
     "output_type": "stream",
     "text": [
      "Index(['Index', 'Name', 'Description', 'Brand', 'Category', 'Price',\n",
      "       'Currency', 'Stock', 'EAN', 'Color', 'Size', 'Availability',\n",
      "       'Internal ID'],\n",
      "      dtype='object')\n"
     ]
    }
   ],
   "source": [
    "#column names and data type\n",
    "print(file.columns)"
   ]
  },
  {
   "cell_type": "code",
   "execution_count": 8,
   "id": "c3f27961-336e-46d1-96f7-ae75ceb3e3df",
   "metadata": {},
   "outputs": [
    {
     "name": "stdout",
     "output_type": "stream",
     "text": [
      "Index            int64\n",
      "Name            object\n",
      "Description     object\n",
      "Brand           object\n",
      "Category        object\n",
      "Price            int64\n",
      "Currency        object\n",
      "Stock            int64\n",
      "EAN              int64\n",
      "Color           object\n",
      "Size            object\n",
      "Availability    object\n",
      "Internal ID      int64\n",
      "dtype: object\n"
     ]
    }
   ],
   "source": [
    "print(file.dtypes)"
   ]
  },
  {
   "cell_type": "code",
   "execution_count": 9,
   "id": "ab45efc4-2957-4674-b79a-fdd74d8b2803",
   "metadata": {},
   "outputs": [
    {
     "name": "stdout",
     "output_type": "stream",
     "text": [
      "   Index                                        Name  \\\n",
      "0      1  Smart Fan Iron Cooker Go Wireless Portable   \n",
      "1      2                                         Fan   \n",
      "2      3   Smart Speakerphone Charger Eco Plus Clean   \n",
      "3      4              Premium Grill Trimmer Portable   \n",
      "4      5                            Keyboard Freezer   \n",
      "\n",
      "                           Description                    Brand  \\\n",
      "0            Catch enough role nearly.               Herman Ltd   \n",
      "1            All movement yeah tax me.  Braun, King and Rollins   \n",
      "2  Quickly inside pull line lay start.             Peck-Coleman   \n",
      "3                Lawyer one than fire.                Hines Ltd   \n",
      "4    Remain Congress blood plan voice.  Spence, Webster and Orr   \n",
      "\n",
      "              Category  Price Currency  Stock            EAN        Color  \\\n",
      "0       Kids' Clothing    585      USD    194  3968600833473     Cornsilk   \n",
      "1       Grooming Tools    992      USD    724   191126950284       Bisque   \n",
      "2    Fishing & Hunting    940      USD    769  7569143820621         Blue   \n",
      "3             Skincare    324      USD     93  2705140928037        Ivory   \n",
      "4  Laptops & Computers    908      USD    614  9830391008108  FloralWhite   \n",
      "\n",
      "          Size   Availability  Internal ID  \n",
      "0       5x7 in  limited_stock           54  \n",
      "1            S   discontinued           49  \n",
      "2  Extra Large      pre_order           42  \n",
      "3     50x70 cm   out_of_stock           93  \n",
      "4     10x10 cm   discontinued           91  \n"
     ]
    }
   ],
   "source": [
    "print(file.head())"
   ]
  },
  {
   "cell_type": "code",
   "execution_count": 10,
   "id": "710fb387-3020-4b13-baea-c75f6dde1057",
   "metadata": {},
   "outputs": [
    {
     "name": "stdout",
     "output_type": "stream",
     "text": [
      "      Index                              Name  \\\n",
      "9995   9996                         Powerbank   \n",
      "9996   9997  Rechargeable Lamp Scanner Vacuum   \n",
      "9997   9998                            Heater   \n",
      "9998   9999     Rechargeable Headphones Stove   \n",
      "9999  10000           Clean Charger Treadmill   \n",
      "\n",
      "                                            Description  \\\n",
      "9995                  Yeah none boy fund city decision.   \n",
      "9996    Appear country enter there pull thing computer.   \n",
      "9997  Owner plan approach soldier church little little.   \n",
      "9998                     Base account partner probably.   \n",
      "9999        Return reflect truth tell scientist season.   \n",
      "\n",
      "                      Brand            Category  Price Currency  Stock  \\\n",
      "9995     Castaneda-Harrison  Books & Stationery    567      USD     27   \n",
      "9996              Knapp-Key             Cycling    300      USD    177   \n",
      "9997  Meyer, Case and Mills   Fitness Equipment    399      USD    996   \n",
      "9998             Jones-Bell  Kitchen Appliances     45      USD    274   \n",
      "9999              Davis LLC   Sports & Outdoors     31      USD     46   \n",
      "\n",
      "                EAN      Color      Size   Availability  Internal ID  \n",
      "9995  6519003997216       Cyan    Medium      pre_order            7  \n",
      "9996  4707959228979  MintCream     Large  limited_stock           55  \n",
      "9997  5286509915488  LightGray     Large      pre_order           37  \n",
      "9998  3702651384368  SlateBlue  12x18 in       in_stock           52  \n",
      "9999  8879838276060      Ivory    Medium      backorder           70  \n"
     ]
    }
   ],
   "source": [
    "print(file.tail())"
   ]
  },
  {
   "cell_type": "code",
   "execution_count": 12,
   "id": "a67b0f02-172b-4a18-827d-577047ae3b92",
   "metadata": {},
   "outputs": [
    {
     "name": "stdout",
     "output_type": "stream",
     "text": [
      "Index           0\n",
      "Name            0\n",
      "Description     0\n",
      "Brand           0\n",
      "Category        0\n",
      "Price           0\n",
      "Currency        0\n",
      "Stock           0\n",
      "EAN             0\n",
      "Color           0\n",
      "Size            0\n",
      "Availability    0\n",
      "Internal ID     0\n",
      "dtype: int64\n"
     ]
    }
   ],
   "source": [
    "print(file.isnull().sum())"
   ]
  },
  {
   "cell_type": "code",
   "execution_count": 14,
   "id": "42b8e52d-874c-4731-b740-1799c38df26b",
   "metadata": {},
   "outputs": [
    {
     "name": "stdout",
     "output_type": "stream",
     "text": [
      "Index           0.0\n",
      "Name            0.0\n",
      "Description     0.0\n",
      "Brand           0.0\n",
      "Category        0.0\n",
      "Price           0.0\n",
      "Currency        0.0\n",
      "Stock           0.0\n",
      "EAN             0.0\n",
      "Color           0.0\n",
      "Size            0.0\n",
      "Availability    0.0\n",
      "Internal ID     0.0\n",
      "dtype: float64\n"
     ]
    }
   ],
   "source": [
    "\n",
    "#How many missing values are there in each column? What % of the column is missing?\n",
    "print(file.isnull().mean()*100)"
   ]
  },
  {
   "cell_type": "code",
   "execution_count": 15,
   "id": "3f83eb15-0eee-44a5-809e-74b5481123cc",
   "metadata": {},
   "outputs": [
    {
     "name": "stdout",
     "output_type": "stream",
     "text": [
      "0       False\n",
      "1       False\n",
      "2       False\n",
      "3       False\n",
      "4       False\n",
      "        ...  \n",
      "9995    False\n",
      "9996    False\n",
      "9997    False\n",
      "9998    False\n",
      "9999    False\n",
      "Length: 10000, dtype: bool\n"
     ]
    }
   ],
   "source": [
    "#duplicate rows\n",
    "print(file.duplicated())"
   ]
  },
  {
   "cell_type": "code",
   "execution_count": 17,
   "id": "8924cfa9-cc05-47d3-ba23-ff5022c3c30a",
   "metadata": {},
   "outputs": [
    {
     "name": "stdout",
     "output_type": "stream",
     "text": [
      "                                            Name                    Brand  \\\n",
      "0     Smart Fan Iron Cooker Go Wireless Portable               Herman Ltd   \n",
      "1                                            Fan  Braun, King and Rollins   \n",
      "2      Smart Speakerphone Charger Eco Plus Clean             Peck-Coleman   \n",
      "3                 Premium Grill Trimmer Portable                Hines Ltd   \n",
      "4                               Keyboard Freezer  Spence, Webster and Orr   \n",
      "...                                          ...                      ...   \n",
      "9995                                   Powerbank       Castaneda-Harrison   \n",
      "9996            Rechargeable Lamp Scanner Vacuum                Knapp-Key   \n",
      "9997                                      Heater    Meyer, Case and Mills   \n",
      "9998               Rechargeable Headphones Stove               Jones-Bell   \n",
      "9999                     Clean Charger Treadmill                Davis LLC   \n",
      "\n",
      "      Stock  \n",
      "0       194  \n",
      "1       724  \n",
      "2       769  \n",
      "3        93  \n",
      "4       614  \n",
      "...     ...  \n",
      "9995     27  \n",
      "9996    177  \n",
      "9997    996  \n",
      "9998    274  \n",
      "9999     46  \n",
      "\n",
      "[10000 rows x 3 columns]\n"
     ]
    }
   ],
   "source": [
    "#multiple columns selection\n",
    "print(file[[\"Name\",\"Brand\", \"Stock\"]])"
   ]
  },
  {
   "cell_type": "code",
   "execution_count": 18,
   "id": "01c99484-be0a-4c37-b6e8-a470f5085f21",
   "metadata": {},
   "outputs": [
    {
     "name": "stdout",
     "output_type": "stream",
     "text": [
      "Index                                     10\n",
      "Name                            Eco Dock Air\n",
      "Description     Know hope enjoy budget have.\n",
      "Brand                      Humphrey and Sons\n",
      "Category              Beauty & Personal Care\n",
      "Price                                    602\n",
      "Currency                                 USD\n",
      "Stock                                    923\n",
      "EAN                            3726212774009\n",
      "Color                             SandyBrown\n",
      "Size                                50x70 cm\n",
      "Availability                        in_stock\n",
      "Internal ID                               11\n",
      "Name: 9, dtype: object\n"
     ]
    }
   ],
   "source": [
    "print(file.loc[9])"
   ]
  },
  {
   "cell_type": "code",
   "execution_count": 19,
   "id": "c3ccea14-9e9e-4f30-9a20-4c45ae56be1f",
   "metadata": {},
   "outputs": [
    {
     "name": "stdout",
     "output_type": "stream",
     "text": [
      "Index                                     10\n",
      "Name                            Eco Dock Air\n",
      "Description     Know hope enjoy budget have.\n",
      "Brand                      Humphrey and Sons\n",
      "Category              Beauty & Personal Care\n",
      "Price                                    602\n",
      "Currency                                 USD\n",
      "Stock                                    923\n",
      "EAN                            3726212774009\n",
      "Color                             SandyBrown\n",
      "Size                                50x70 cm\n",
      "Availability                        in_stock\n",
      "Internal ID                               11\n",
      "Name: 9, dtype: object\n"
     ]
    }
   ],
   "source": [
    "print(file.iloc[9])"
   ]
  },
  {
   "cell_type": "code",
   "execution_count": 23,
   "id": "bc62eddd-81e8-4c18-a954-0618eb87a63c",
   "metadata": {},
   "outputs": [
    {
     "name": "stdout",
     "output_type": "stream",
     "text": [
      "                 Category  Price\n",
      "0          Kids' Clothing    585\n",
      "1          Grooming Tools    992\n",
      "2       Fishing & Hunting    940\n",
      "3                Skincare    324\n",
      "4     Laptops & Computers    908\n",
      "5      Kitchen Appliances    627\n",
      "6       Fishing & Hunting    385\n",
      "7                Skincare    296\n",
      "8      Clothing & Apparel    870\n",
      "9  Beauty & Personal Care    602\n"
     ]
    }
   ],
   "source": [
    "#Select the first 10 rows and only the Category and Price columns.\n",
    "\n",
    "print(file.loc[0:9 ,[\"Category\",\"Price\"]])"
   ]
  },
  {
   "cell_type": "code",
   "execution_count": 27,
   "id": "40a4f77a-ba81-455e-bf81-dec83dbba39a",
   "metadata": {},
   "outputs": [
    {
     "name": "stdout",
     "output_type": "stream",
     "text": [
      "                                                   Name  Price\n",
      "5                                     Smart Fridge Plus    627\n",
      "55    Advanced Thermostat Microphone Scooter Clean S...    425\n",
      "64                        Ultra Drone Wireless Go Clean    119\n",
      "187                        Wireless Webcam Mouse Silent    725\n",
      "206                                       Scanner Mouse    143\n",
      "...                                                 ...    ...\n",
      "9897                                   Eco Speakerphone    451\n",
      "9916                                  Eco Treadmill Pro    165\n",
      "9921                                 Fast Blender Scale    494\n",
      "9942                      Portable Bicycle Lock Fan One    197\n",
      "9998                      Rechargeable Headphones Stove     45\n",
      "\n",
      "[319 rows x 2 columns]\n"
     ]
    }
   ],
   "source": [
    "print(file.loc[file[\"Category\"] == \"Kitchen Appliances\",[\"Name\",\"Price\"]])"
   ]
  },
  {
   "cell_type": "code",
   "execution_count": 28,
   "id": "59266037-3bfc-40a8-93f6-85b64a0e1828",
   "metadata": {},
   "outputs": [
    {
     "name": "stdout",
     "output_type": "stream",
     "text": [
      "                                            Name  Price\n",
      "0     Smart Fan Iron Cooker Go Wireless Portable    585\n",
      "1                                            Fan    992\n",
      "2      Smart Speakerphone Charger Eco Plus Clean    940\n",
      "4                               Keyboard Freezer    908\n",
      "5                              Smart Fridge Plus    627\n",
      "...                                          ...    ...\n",
      "9991                                  Silent Fan    949\n",
      "9992           Smart Trimmer Stove Advanced Plus    518\n",
      "9993                                 Scale Clock    772\n",
      "9994                                     Blender    967\n",
      "9995                                   Powerbank    567\n",
      "\n",
      "[5049 rows x 2 columns]\n"
     ]
    }
   ],
   "source": [
    "#Find all products with Price > 500.\n",
    "print(file.loc[file[\"Price\"] >500,[\"Name\",\"Price\"]])\n"
   ]
  },
  {
   "cell_type": "code",
   "execution_count": 30,
   "id": "89dca9df-a49a-4b73-a3bc-0654d1f4e979",
   "metadata": {},
   "outputs": [
    {
     "name": "stdout",
     "output_type": "stream",
     "text": [
      "Empty DataFrame\n",
      "Columns: [Name]\n",
      "Index: []\n"
     ]
    }
   ],
   "source": [
    "#Find all products with Stock == 0.\n",
    "print(file.loc[file[\"Stock\"] == 0,[\"Name\"]])"
   ]
  },
  {
   "cell_type": "code",
   "execution_count": 31,
   "id": "ca15de11-4fd7-488c-bc13-cb9752713ef8",
   "metadata": {},
   "outputs": [
    {
     "name": "stdout",
     "output_type": "stream",
     "text": [
      "Empty DataFrame\n",
      "Columns: [Index, Name, Description, Brand, Category, Price, Currency, Stock, EAN, Color, Size, Availability, Internal ID]\n",
      "Index: []\n"
     ]
    }
   ],
   "source": [
    "#Show all products from the brand \"Mueller Inc\".\n",
    "print(file.loc[file[\"Brand\"] == \"Muller Inc\"])"
   ]
  },
  {
   "cell_type": "code",
   "execution_count": null,
   "id": "f06333fe-dc8d-4e66-a843-985c4f5d0af0",
   "metadata": {},
   "outputs": [],
   "source": []
  },
  {
   "cell_type": "code",
   "execution_count": 36,
   "id": "7b85ed65-81ff-474d-b593-9580148347f0",
   "metadata": {},
   "outputs": [
    {
     "name": "stdout",
     "output_type": "stream",
     "text": [
      "                                     Name\n",
      "3          Premium Grill Trimmer Portable\n",
      "17                                Blender\n",
      "18    Wireless Speakerphone Oven Advanced\n",
      "27                              Ultra Fan\n",
      "31       Mini Mixer Freezer Trimmer Smart\n",
      "...                                   ...\n",
      "9975                    Microphone Camera\n",
      "9987                Wireless Radio Silent\n",
      "9988                    Eco Mouse Compact\n",
      "9993                          Scale Clock\n",
      "9995                            Powerbank\n",
      "\n",
      "[681 rows x 1 columns]\n"
     ]
    }
   ],
   "source": [
    "#Show products where Price > 300 and Stock < 100.\n",
    "print(file.loc[(file[\"Price\"] > 300) & (file[\"Stock\"] <100),[\"Name\"]])\n"
   ]
  },
  {
   "cell_type": "code",
   "execution_count": 41,
   "id": "627995d8-41c7-4483-a903-f95e652e2063",
   "metadata": {},
   "outputs": [
    {
     "name": "stdout",
     "output_type": "stream",
     "text": [
      "                                                   Name  Price  Stock\n",
      "48                                      Ultra Watch Eco    703    572\n",
      "49                             Fast Lamp Scanner Vacuum    363    250\n",
      "126                                          Stove Iron    146    522\n",
      "209                      Digital Projector Fast X Ultra    608    839\n",
      "222                                          Stove Iron    104    845\n",
      "...                                                 ...    ...    ...\n",
      "9776                                    Keyboard Kettle    241    430\n",
      "9818                        Smart Scooter Ultra Premium    869    504\n",
      "9855  Automatic Lamp Speakerphone Headphones Advance...    144    874\n",
      "9863                     Automatic Fridge Mouse Monitor    304    104\n",
      "9872                               Digital Toaster Plus    531    335\n",
      "\n",
      "[298 rows x 3 columns]\n"
     ]
    }
   ],
   "source": [
    "#Show products where Category == \"Shoes & Footwear\" or Category == \"Books & Stationery\n",
    "print(file.loc[(file[\"Category\"] == \"Shoes & Footwear\") | ([\"Category\"] == \"Books & Stationery\"),[\"Name\",\"Price\", \"Stock\"]])"
   ]
  },
  {
   "cell_type": "code",
   "execution_count": 45,
   "id": "8a48cbcf-2780-4b73-a089-eb0cb73a3f0b",
   "metadata": {},
   "outputs": [
    {
     "name": "stdout",
     "output_type": "stream",
     "text": [
      "                                           Name  Price  Stock\n",
      "2     Smart Speakerphone Charger Eco Plus Clean    940    769\n",
      "5                             Smart Fridge Plus    627    901\n",
      "11                     Mini Powerbank Lite Plus    499    108\n",
      "15              Ultra Powerbank Scale Automatic    223     62\n",
      "23             Smart Microphone Clock Ultra One     17    687\n",
      "...                                         ...    ...    ...\n",
      "9987                      Wireless Radio Silent    465     83\n",
      "9991                                 Silent Fan    949    254\n",
      "9992          Smart Trimmer Stove Advanced Plus    518    668\n",
      "9995                                  Powerbank    567     27\n",
      "9997                                     Heater    399    996\n",
      "\n",
      "[1673 rows x 3 columns]\n"
     ]
    }
   ],
   "source": [
    "#Show products with Availability == \"pre_order\".\n",
    "print(file.loc[file[\"Availability\"] == \"pre_order\",[\"Name\",\"Price\", \"Stock\"]])"
   ]
  },
  {
   "cell_type": "code",
   "execution_count": 46,
   "id": "d0fd3725-0201-44f0-a099-093e8b979c88",
   "metadata": {},
   "outputs": [
    {
     "name": "stdout",
     "output_type": "stream",
     "text": [
      "                                            Name  Price\n",
      "0     Smart Fan Iron Cooker Go Wireless Portable    585\n",
      "2      Smart Speakerphone Charger Eco Plus Clean    940\n",
      "5                              Smart Fridge Plus    627\n",
      "23              Smart Microphone Clock Ultra One     17\n",
      "29                           Smart Lock Mini Pro    989\n",
      "...                                          ...    ...\n",
      "9971             Smart Router Keyboard One Ultra    909\n",
      "9978                                 Smart Drone    433\n",
      "9985         Smart Phone Automatic Advanced Plus    946\n",
      "9989                          Smart Speakerphone    261\n",
      "9992           Smart Trimmer Stove Advanced Plus    518\n",
      "\n",
      "[922 rows x 2 columns]\n"
     ]
    }
   ],
   "source": [
    "#Show products whose Name starts with \"Smart\".\n",
    "print(file.loc[file[\"Name\"].str.startswith(\"Smart\"),[\"Name\",\"Price\"]])"
   ]
  },
  {
   "cell_type": "code",
   "execution_count": 48,
   "id": "28f3389c-a0dc-4998-a6ff-218033384414",
   "metadata": {},
   "outputs": [
    {
     "name": "stdout",
     "output_type": "stream",
     "text": [
      "                                           Name  Price\n",
      "5121                    Smart Radio Pro Ultra X      1\n",
      "6027               Advanced Powerbank Projector      1\n",
      "4613                     Advanced Treadmill 360      1\n",
      "1374        Mini Mixer Router Phone Smart Prime      1\n",
      "7496  Premium Microphone Headphones Touch Sense      1\n",
      "...                                         ...    ...\n",
      "6573              Mini Oven Drone Mini Portable    999\n",
      "8348               Premium Toaster Scooter Edge    999\n",
      "3931                             Ultra Keyboard    999\n",
      "3576            Pro Clock Router Fridge Air Max    999\n",
      "2717                                 Mini Brush    999\n",
      "\n",
      "[10000 rows x 2 columns]\n"
     ]
    }
   ],
   "source": [
    "#Sort products by Price ascending\n",
    "print(file.sort_values(by=\"Price\",ascending=True)[[\"Name\",\"Price\"]])"
   ]
  },
  {
   "cell_type": "code",
   "execution_count": 49,
   "id": "d1e8aad3-c4db-43b3-a635-6f92e019094f",
   "metadata": {},
   "outputs": [
    {
     "name": "stdout",
     "output_type": "stream",
     "text": [
      "                                     Name  Stock\n",
      "2348         Bicycle Speakerphone Printer    999\n",
      "7210                         Dock Trimmer    999\n",
      "7168    Rechargeable Scale Stove Pro Plus    999\n",
      "456                          Iron Monitor    999\n",
      "8516                Trimmer Webcam Heater    999\n",
      "...                                   ...    ...\n",
      "8106            Mini Brush Blender Vacuum      1\n",
      "5636       Silent Cooker Cooler Touch 360      1\n",
      "3164            Ultra Radio Smart Max 360      1\n",
      "558              Advanced Router Portable      1\n",
      "497   Smart Charger Mini Max Rechargeable      1\n",
      "\n",
      "[10000 rows x 2 columns]\n"
     ]
    }
   ],
   "source": [
    "#Sort products by Stock descending.\n",
    "print(file.sort_values(by=\"Stock\",ascending=False)[[\"Name\",\"Stock\"]])"
   ]
  },
  {
   "cell_type": "code",
   "execution_count": 50,
   "id": "3fcbfdef-025e-4792-a648-2d65853765bd",
   "metadata": {},
   "outputs": [
    {
     "name": "stdout",
     "output_type": "stream",
     "text": [
      "                                                   Name  \\\n",
      "7529                 Rechargeable Kettle Edge Fast Fast   \n",
      "9840            Fast Dock Powerbank Speaker Sense Sense   \n",
      "9375                        Premium Brush Scanner Smart   \n",
      "7030                                   Compact Dock Pro   \n",
      "6349                           Advanced Powerbank Air X   \n",
      "...                                                 ...   \n",
      "1088                                  Pro Trimmer Stove   \n",
      "331                                             Scooter   \n",
      "1664  Portable Camera Treadmill Heater Advanced Mini...   \n",
      "5607                                 Smart Mouse Heater   \n",
      "3773                       Portable Scooter Edge Go 360   \n",
      "\n",
      "                             Category  \n",
      "7529  Accessories (Bags, Hats, Belts)  \n",
      "9840  Accessories (Bags, Hats, Belts)  \n",
      "9375  Accessories (Bags, Hats, Belts)  \n",
      "7030  Accessories (Bags, Hats, Belts)  \n",
      "6349  Accessories (Bags, Hats, Belts)  \n",
      "...                               ...  \n",
      "1088                 Women's Clothing  \n",
      "331                  Women's Clothing  \n",
      "1664                 Women's Clothing  \n",
      "5607                 Women's Clothing  \n",
      "3773                 Women's Clothing  \n",
      "\n",
      "[10000 rows x 2 columns]\n"
     ]
    }
   ],
   "source": [
    "#Sort by Category and within each category by Price (highest first).\n",
    "print(file.sort_values(by=\"Category\")[[\"Name\",\"Category\"]])"
   ]
  },
  {
   "cell_type": "code",
   "execution_count": 52,
   "id": "008612e1-202b-4b3c-9b58-5dda7c819516",
   "metadata": {},
   "outputs": [
    {
     "name": "stdout",
     "output_type": "stream",
     "text": [
      "      Index                                        Name  \\\n",
      "0         1  Smart Fan Iron Cooker Go Wireless Portable   \n",
      "1         2                                         Fan   \n",
      "2         3   Smart Speakerphone Charger Eco Plus Clean   \n",
      "3         4              Premium Grill Trimmer Portable   \n",
      "4         5                            Keyboard Freezer   \n",
      "...     ...                                         ...   \n",
      "9995   9996                                   Powerbank   \n",
      "9996   9997            Rechargeable Lamp Scanner Vacuum   \n",
      "9997   9998                                      Heater   \n",
      "9998   9999               Rechargeable Headphones Stove   \n",
      "9999  10000                     Clean Charger Treadmill   \n",
      "\n",
      "                                            Description  \\\n",
      "0                             Catch enough role nearly.   \n",
      "1                             All movement yeah tax me.   \n",
      "2                   Quickly inside pull line lay start.   \n",
      "3                                 Lawyer one than fire.   \n",
      "4                     Remain Congress blood plan voice.   \n",
      "...                                                 ...   \n",
      "9995                  Yeah none boy fund city decision.   \n",
      "9996    Appear country enter there pull thing computer.   \n",
      "9997  Owner plan approach soldier church little little.   \n",
      "9998                     Base account partner probably.   \n",
      "9999        Return reflect truth tell scientist season.   \n",
      "\n",
      "                        Brand             Category  Price Currency  Stock  \\\n",
      "0                  Herman Ltd       Kids' Clothing    585      USD    194   \n",
      "1     Braun, King and Rollins       Grooming Tools    992      USD    724   \n",
      "2                Peck-Coleman    Fishing & Hunting    940      USD    769   \n",
      "3                   Hines Ltd             Skincare    324      USD     93   \n",
      "4     Spence, Webster and Orr  Laptops & Computers    908      USD    614   \n",
      "...                       ...                  ...    ...      ...    ...   \n",
      "9995       Castaneda-Harrison   Books & Stationery    567      USD     27   \n",
      "9996                Knapp-Key              Cycling    300      USD    177   \n",
      "9997    Meyer, Case and Mills    Fitness Equipment    399      USD    996   \n",
      "9998               Jones-Bell   Kitchen Appliances     45      USD    274   \n",
      "9999                Davis LLC    Sports & Outdoors     31      USD     46   \n",
      "\n",
      "                EAN        Color         Size   Availability  Internal ID  \n",
      "0     3968600833473     Cornsilk       5x7 in  limited_stock           54  \n",
      "1      191126950284       Bisque            S   discontinued           49  \n",
      "2     7569143820621         Blue  Extra Large      pre_order           42  \n",
      "3     2705140928037        Ivory     50x70 cm   out_of_stock           93  \n",
      "4     9830391008108  FloralWhite     10x10 cm   discontinued           91  \n",
      "...             ...          ...          ...            ...          ...  \n",
      "9995  6519003997216         Cyan       Medium      pre_order            7  \n",
      "9996  4707959228979    MintCream        Large  limited_stock           55  \n",
      "9997  5286509915488    LightGray        Large      pre_order           37  \n",
      "9998  3702651384368    SlateBlue     12x18 in       in_stock           52  \n",
      "9999  8879838276060        Ivory       Medium      backorder           70  \n",
      "\n",
      "[10000 rows x 13 columns]\n"
     ]
    }
   ],
   "source": [
    "#Renaming & Removing\n",
    "#Rename columns Internal ID → internal_id, EAN → product_code, Price → unit_price.\n",
    "print(file.rename({\"Internal ID\" : \"internal_id\",\n",
    "                   \"EAN\" :\"product_code\",\n",
    "                   \"Price\": \"unit_price\"}))\n"
   ]
  },
  {
   "cell_type": "code",
   "execution_count": 56,
   "id": "428ce2d2-71c8-4570-aa8e-756a82d3af9a",
   "metadata": {},
   "outputs": [
    {
     "name": "stdout",
     "output_type": "stream",
     "text": [
      "Index(['_i_n_d_e_x_', '_n_a_m_e_', '_d_e_s_c_r_i_p_t_i_o_n_', '_b_r_a_n_d_',\n",
      "       '_c_a_t_e_g_o_r_y_', '_p_r_i_c_e_', '_c_u_r_r_e_n_c_y_', '_s_t_o_c_k_',\n",
      "       '_e_a_n_', '_c_o_l_o_r_', '_s_i_z_e_', '_a_v_a_i_l_a_b_i_l_i_t_y_',\n",
      "       '_i_n_t_e_r_n_a_l___i_d_'],\n",
      "      dtype='object')\n"
     ]
    }
   ],
   "source": [
    "#Make all column names lowercase with underscores.\n",
    "file.columns = file.columns.str.lower().str.replace(\" \",\"_\")\n",
    "print(file.columns)"
   ]
  },
  {
   "cell_type": "code",
   "execution_count": 59,
   "id": "80ae910d-b3ae-48e0-ae67-f9ccd2425eb5",
   "metadata": {},
   "outputs": [
    {
     "name": "stdout",
     "output_type": "stream",
     "text": [
      "      Index                                        Name  \\\n",
      "0         1  Smart Fan Iron Cooker Go Wireless Portable   \n",
      "1         2                                         Fan   \n",
      "2         3   Smart Speakerphone Charger Eco Plus Clean   \n",
      "3         4              Premium Grill Trimmer Portable   \n",
      "4         5                            Keyboard Freezer   \n",
      "...     ...                                         ...   \n",
      "9995   9996                                   Powerbank   \n",
      "9996   9997            Rechargeable Lamp Scanner Vacuum   \n",
      "9997   9998                                      Heater   \n",
      "9998   9999               Rechargeable Headphones Stove   \n",
      "9999  10000                     Clean Charger Treadmill   \n",
      "\n",
      "                        Brand             Category  Price Currency  Stock  \\\n",
      "0                  Herman Ltd       Kids' Clothing    585      USD    194   \n",
      "1     Braun, King and Rollins       Grooming Tools    992      USD    724   \n",
      "2                Peck-Coleman    Fishing & Hunting    940      USD    769   \n",
      "3                   Hines Ltd             Skincare    324      USD     93   \n",
      "4     Spence, Webster and Orr  Laptops & Computers    908      USD    614   \n",
      "...                       ...                  ...    ...      ...    ...   \n",
      "9995       Castaneda-Harrison   Books & Stationery    567      USD     27   \n",
      "9996                Knapp-Key              Cycling    300      USD    177   \n",
      "9997    Meyer, Case and Mills    Fitness Equipment    399      USD    996   \n",
      "9998               Jones-Bell   Kitchen Appliances     45      USD    274   \n",
      "9999                Davis LLC    Sports & Outdoors     31      USD     46   \n",
      "\n",
      "                EAN        Color         Size   Availability  Internal ID  \n",
      "0     3968600833473     Cornsilk       5x7 in  limited_stock           54  \n",
      "1      191126950284       Bisque            S   discontinued           49  \n",
      "2     7569143820621         Blue  Extra Large      pre_order           42  \n",
      "3     2705140928037        Ivory     50x70 cm   out_of_stock           93  \n",
      "4     9830391008108  FloralWhite     10x10 cm   discontinued           91  \n",
      "...             ...          ...          ...            ...          ...  \n",
      "9995  6519003997216         Cyan       Medium      pre_order            7  \n",
      "9996  4707959228979    MintCream        Large  limited_stock           55  \n",
      "9997  5286509915488    LightGray        Large      pre_order           37  \n",
      "9998  3702651384368    SlateBlue     12x18 in       in_stock           52  \n",
      "9999  8879838276060        Ivory       Medium      backorder           70  \n",
      "\n",
      "[10000 rows x 12 columns]\n"
     ]
    }
   ],
   "source": [
    "#Remove the Description column.\n",
    "file = pd.read_csv(r\"C:\\Users\\amnaj\\OneDrive\\Desktop\\products-10000.csv\")\n",
    "print(file.drop(columns = [\"Description\"]))"
   ]
  },
  {
   "cell_type": "code",
   "execution_count": 62,
   "id": "afbaa13b-618b-4ef4-ace1-ced8106ecf6f",
   "metadata": {},
   "outputs": [
    {
     "name": "stdout",
     "output_type": "stream",
     "text": [
      "      Index                                        Name  \\\n",
      "0         1  Smart Fan Iron Cooker Go Wireless Portable   \n",
      "1         2                                         Fan   \n",
      "2         3   Smart Speakerphone Charger Eco Plus Clean   \n",
      "3         4              Premium Grill Trimmer Portable   \n",
      "4         5                            Keyboard Freezer   \n",
      "...     ...                                         ...   \n",
      "9995   9996                                   Powerbank   \n",
      "9996   9997            Rechargeable Lamp Scanner Vacuum   \n",
      "9997   9998                                      Heater   \n",
      "9998   9999               Rechargeable Headphones Stove   \n",
      "9999  10000                     Clean Charger Treadmill   \n",
      "\n",
      "                                            Description  \\\n",
      "0                             Catch enough role nearly.   \n",
      "1                             All movement yeah tax me.   \n",
      "2                   Quickly inside pull line lay start.   \n",
      "3                                 Lawyer one than fire.   \n",
      "4                     Remain Congress blood plan voice.   \n",
      "...                                                 ...   \n",
      "9995                  Yeah none boy fund city decision.   \n",
      "9996    Appear country enter there pull thing computer.   \n",
      "9997  Owner plan approach soldier church little little.   \n",
      "9998                     Base account partner probably.   \n",
      "9999        Return reflect truth tell scientist season.   \n",
      "\n",
      "                        Brand             Category  Price Currency  Stock  \\\n",
      "0                  Herman Ltd       Kids' Clothing    585      USD    194   \n",
      "1     Braun, King and Rollins       Grooming Tools    992      USD    724   \n",
      "2                Peck-Coleman    Fishing & Hunting    940      USD    769   \n",
      "3                   Hines Ltd             Skincare    324      USD     93   \n",
      "4     Spence, Webster and Orr  Laptops & Computers    908      USD    614   \n",
      "...                       ...                  ...    ...      ...    ...   \n",
      "9995       Castaneda-Harrison   Books & Stationery    567      USD     27   \n",
      "9996                Knapp-Key              Cycling    300      USD    177   \n",
      "9997    Meyer, Case and Mills    Fitness Equipment    399      USD    996   \n",
      "9998               Jones-Bell   Kitchen Appliances     45      USD    274   \n",
      "9999                Davis LLC    Sports & Outdoors     31      USD     46   \n",
      "\n",
      "            Color         Size   Availability  \n",
      "0        Cornsilk       5x7 in  limited_stock  \n",
      "1          Bisque            S   discontinued  \n",
      "2            Blue  Extra Large      pre_order  \n",
      "3           Ivory     50x70 cm   out_of_stock  \n",
      "4     FloralWhite     10x10 cm   discontinued  \n",
      "...           ...          ...            ...  \n",
      "9995         Cyan       Medium      pre_order  \n",
      "9996    MintCream        Large  limited_stock  \n",
      "9997    LightGray        Large      pre_order  \n",
      "9998    SlateBlue     12x18 in       in_stock  \n",
      "9999        Ivory       Medium      backorder  \n",
      "\n",
      "[10000 rows x 11 columns]\n"
     ]
    }
   ],
   "source": [
    "#Remove both EAN and Internal ID (since they’re identifiers).\n",
    "print(file.drop(columns = [\"EAN\",\"Internal ID\"]))"
   ]
  },
  {
   "cell_type": "code",
   "execution_count": 65,
   "id": "8f3d4992-585e-46b1-9258-b08799f94278",
   "metadata": {},
   "outputs": [
    {
     "name": "stdout",
     "output_type": "stream",
     "text": [
      "503.3702\n"
     ]
    }
   ],
   "source": [
    "#What is the average price of products?\n",
    "print(file[\"Price\"].mean())"
   ]
  },
  {
   "cell_type": "code",
   "execution_count": 69,
   "id": "b16586fc-ba9e-4a84-9348-739b6810998e",
   "metadata": {},
   "outputs": [
    {
     "name": "stdout",
     "output_type": "stream",
     "text": [
      "Category\n",
      "Accessories (Bags, Hats, Belts)    142221\n",
      "Automotive                         144632\n",
      "Beauty & Personal Care             159161\n",
      "Bedding & Bath                     134973\n",
      "Books & Stationery                 153319\n",
      "Cameras & Accessories              156588\n",
      "Camping & Hiking                   160376\n",
      "Cleaning Supplies                  138208\n",
      "Clothing & Apparel                 174236\n",
      "Cycling                            143576\n",
      "Fishing & Hunting                  140486\n",
      "Fitness Equipment                  129491\n",
      "Fragrances                         147291\n",
      "Furniture                          140198\n",
      "Grooming Tools                     158434\n",
      "Haircare                           153993\n",
      "Headphones & Earbuds               156226\n",
      "Health & Wellness                  160698\n",
      "Home & Kitchen                     155687\n",
      "Home Decor                         148472\n",
      "Kids' Clothing                     142940\n",
      "Kitchen Appliances                 153322\n",
      "Laptops & Computers                134019\n",
      "Makeup                             140400\n",
      "Men's Clothing                     132659\n",
      "Office Supplies                    138795\n",
      "Shoes & Footwear                   145658\n",
      "Skincare                           148020\n",
      "Smartphones                        131367\n",
      "Smartwatches                       158401\n",
      "Sports & Outdoors                  136028\n",
      "Team Sports                        159781\n",
      "Toys & Games                       139690\n",
      "Women's Clothing                   133234\n",
      "Name: Stock, dtype: int64\n"
     ]
    }
   ],
   "source": [
    "#What is the average stock per category?\n",
    "grouped = file.groupby(\"Category\")[\"Stock\"].sum()\n",
    "print(grouped)"
   ]
  },
  {
   "cell_type": "code",
   "execution_count": 72,
   "id": "acabd5d2-0864-49c8-9030-6ab5f886c908",
   "metadata": {},
   "outputs": [
    {
     "name": "stdout",
     "output_type": "stream",
     "text": [
      "999\n",
      "                                              Name  Price\n",
      "1115                         Portable Mixer Vacuum    999\n",
      "1334             Portable Speaker Powerbank Camera    999\n",
      "1747                                  Charger Lamp    999\n",
      "2717                                    Mini Brush    999\n",
      "3576               Pro Clock Router Fridge Air Max    999\n",
      "3931                                Ultra Keyboard    999\n",
      "5120  Clean Grill Charger Headphones Sense Digital    999\n",
      "5861                   Fast Keyboard Lite Fast Air    999\n",
      "5958                      Fast Cooker Cooler Smart    999\n",
      "6573                 Mini Oven Drone Mini Portable    999\n",
      "6603                               Portable Cooler    999\n",
      "7462                Smart Bicycle Microphone Touch    999\n",
      "8348                  Premium Toaster Scooter Edge    999\n",
      "8451   Ultra Microphone Lamp Speaker Advanced Edge    999\n",
      "8778                     Automatic Heater Keyboard    999\n",
      "9832                       Ultra Monitor Mini Fast    999\n"
     ]
    }
   ],
   "source": [
    "#What is the maximum and minimum price? Which products are these\n",
    "max_price = file[\"Price\"].max()\n",
    "max_product= file[file[\"Price\"] == max_price][[\"Name\",\"Price\"]]\n",
    "print(max_price)\n",
    "print(max_product)\n"
   ]
  },
  {
   "cell_type": "code",
   "execution_count": 76,
   "id": "3a4f20d8-b756-4e76-bd31-5f2f0dbb4329",
   "metadata": {},
   "outputs": [
    {
     "name": "stdout",
     "output_type": "stream",
     "text": [
      "1\n",
      "                                           Name  Price\n",
      "1032                     Pro Drone Vacuum Clean      1\n",
      "1374        Mini Mixer Router Phone Smart Prime      1\n",
      "2569                               Silent Brush      1\n",
      "2865     Premium Clock Brush Advanced Touch Eco      1\n",
      "4613                     Advanced Treadmill 360      1\n",
      "5121                    Smart Radio Pro Ultra X      1\n",
      "6027               Advanced Powerbank Projector      1\n",
      "6543             Portable Microphone Headphones      1\n",
      "7496  Premium Microphone Headphones Touch Sense      1\n",
      "8432           Clean Radio Iron Automatic Sense      1\n"
     ]
    }
   ],
   "source": [
    "min_price = file[\"Price\"].min()\n",
    "min_product= file[file[\"Price\"]== min_price][[\"Name\",\"Price\"]]\n",
    "print (min_price)\n",
    "print(min_product)"
   ]
  },
  {
   "cell_type": "code",
   "execution_count": 78,
   "id": "f7a122e9-4de9-44b6-a8d6-eb8936298888",
   "metadata": {},
   "outputs": [
    {
     "name": "stdout",
     "output_type": "stream",
     "text": [
      "4992580\n"
     ]
    }
   ],
   "source": [
    "#What is the total stock across all products?\n",
    "print(file[\"Stock\"].sum())"
   ]
  },
  {
   "cell_type": "code",
   "execution_count": null,
   "id": "2cb46890-143b-4f04-a109-c38cf3dce4e0",
   "metadata": {},
   "outputs": [],
   "source": [
    "median_kitchen_price = df[df[\"Category\"] == \"Kitchen Appliances\"][\"Price\"].median()\n",
    "print(\"Median Price (Kitchen Appliances):\", median_kitchen_price)\n"
   ]
  },
  {
   "cell_type": "code",
   "execution_count": 79,
   "id": "eab64124-489f-4ea2-b340-cd6272e5efb1",
   "metadata": {},
   "outputs": [
    {
     "name": "stdout",
     "output_type": "stream",
     "text": [
      "474.0\n"
     ]
    }
   ],
   "source": [
    "#What is the median price of products in \"Kitchen Appliances\"?\n",
    "print(file[file[\"Category\"]==\"Kitchen Appliances\"][\"Price\"].median())"
   ]
  },
  {
   "cell_type": "code",
   "execution_count": 55,
   "id": "2e516811-287d-4614-bda2-3d895fd57960",
   "metadata": {},
   "outputs": [
    {
     "name": "stdout",
     "output_type": "stream",
     "text": [
      "Availability\n",
      "discontinued     1706\n",
      "out_of_stock     1700\n",
      "pre_order        1673\n",
      "limited_stock    1644\n",
      "in_stock         1644\n",
      "backorder        1633\n",
      "Name: count, dtype: int64\n"
     ]
    }
   ],
   "source": [
    "#What is the distribution of Availability values (in_stock vs pre_order)?\n",
    "print(file[\"Availability\"].value_counts())"
   ]
  },
  {
   "cell_type": "code",
   "execution_count": 83,
   "id": "a69b7c68-983f-48f0-b9c2-c402db4ccc58",
   "metadata": {},
   "outputs": [
    {
     "name": "stdout",
     "output_type": "stream",
     "text": [
      "                                 min_stock  max_stock   avg_stock\n",
      "Category                                                         \n",
      "Accessories (Bags, Hats, Belts)          1        994  534.665414\n",
      "Automotive                               1        999  474.203279\n",
      "Beauty & Personal Care                   4        997  520.133987\n",
      "Bedding & Bath                           1        988  511.261364\n",
      "Books & Stationery                       4        990  509.365449\n",
      "Cameras & Accessories                    2        996  505.122581\n",
      "Camping & Hiking                        19        999  524.104575\n",
      "Cleaning Supplies                        1        996  486.647887\n",
      "Clothing & Apparel                       6        997  544.487500\n",
      "Cycling                                  4        995  514.609319\n",
      "Fishing & Hunting                        3        999  468.286667\n",
      "Fitness Equipment                        1        999  465.794964\n",
      "Fragrances                              17        996  513.209059\n",
      "Furniture                                2        990  481.780069\n",
      "Grooming Tools                          15        999  509.434084\n",
      "Haircare                                 1        990  527.373288\n",
      "Headphones & Earbuds                    18        995  502.334405\n",
      "Health & Wellness                        5        998  518.380645\n",
      "Home & Kitchen                           1        999  492.680380\n",
      "Home Decor                               2        998  490.006601\n",
      "Kids' Clothing                           1        997  499.790210\n",
      "Kitchen Appliances                       6        998  480.633229\n",
      "Laptops & Computers                      5        999  507.647727\n",
      "Makeup                                   1        987  490.909091\n",
      "Men's Clothing                           4        999  454.311644\n",
      "Office Supplies                          1        999  504.709091\n",
      "Shoes & Footwear                         3        995  488.785235\n",
      "Skincare                                12        997  510.413793\n",
      "Smartphones                              2        990  449.886986\n",
      "Smartwatches                             2        999  510.970968\n",
      "Sports & Outdoors                        8        999  500.102941\n",
      "Team Sports                              4        999  505.636076\n",
      "Toys & Games                             3        999  493.604240\n",
      "Women's Clothing                         2        996  480.989170\n"
     ]
    }
   ],
   "source": [
    "#⦁\tMinimum, maximum, and average stock per category.\n",
    "\n",
    "stock_stats = file.groupby(\"Category\")[\"Stock\"].agg(\n",
    "    min_stock=\"min\",\n",
    "    max_stock=\"max\",\n",
    "    avg_stock=\"mean\"\n",
    ")\n",
    "print(stock_stats)\n"
   ]
  },
  {
   "cell_type": "code",
   "execution_count": 87,
   "id": "9a33bc00-69df-4e4b-aeb8-cbbb140dd561",
   "metadata": {},
   "outputs": [
    {
     "name": "stdout",
     "output_type": "stream",
     "text": [
      "Availability\n",
      "backorder        1633\n",
      "discontinued     1706\n",
      "in_stock         1644\n",
      "limited_stock    1644\n",
      "out_of_stock     1700\n",
      "pre_order        1673\n",
      "Name: Name, dtype: int64\n"
     ]
    }
   ],
   "source": [
    "#⦁\tCount of products per availability status.\n",
    "print(file.groupby(\"Availability\")[\"Name\"].count())"
   ]
  },
  {
   "cell_type": "code",
   "execution_count": 91,
   "id": "39505074-251e-49c5-938f-486d3bc8c4a5",
   "metadata": {},
   "outputs": [
    {
     "name": "stdout",
     "output_type": "stream",
     "text": [
      "Brand                         Category              \n",
      "Abbott Ltd                    Fishing & Hunting          95.0\n",
      "Abbott, Holden and Conrad     Shoes & Footwear          800.0\n",
      "Abbott, Lynch and Warner      Health & Wellness         521.0\n",
      "Abbott, Pitts and Charles     Books & Stationery        527.0\n",
      "Abbott, Zavala and Patrick    Beauty & Personal Care    611.0\n",
      "                                                        ...  \n",
      "Zuniga, Schwartz and Barber   Home & Kitchen            664.0\n",
      "Zuniga, Zavala and Contreras  Fishing & Hunting          71.0\n",
      "Zuniga-Allen                  Automotive                496.0\n",
      "Zuniga-Mcpherson              Kids' Clothing            969.0\n",
      "Zuniga-Yates                  Clothing & Apparel         32.0\n",
      "Name: Price, Length: 9976, dtype: float64\n"
     ]
    }
   ],
   "source": [
    "#⦁\tAverage price per brand and per category (multi-level groupby).\n",
    "grouped = file.groupby([\"Brand\",\"Category\"])[\"Price\"].mean()\n",
    "print(grouped)"
   ]
  },
  {
   "cell_type": "code",
   "execution_count": 92,
   "id": "0ae5c0f5-202e-4397-8d24-22f67c2c0adf",
   "metadata": {},
   "outputs": [
    {
     "name": "stdout",
     "output_type": "stream",
     "text": [
      "                             Brand  \\\n",
      "1777                    Abbott Ltd   \n",
      "8670     Abbott, Holden and Conrad   \n",
      "3849      Abbott, Lynch and Warner   \n",
      "534      Abbott, Pitts and Charles   \n",
      "1218    Abbott, Zavala and Patrick   \n",
      "...                            ...   \n",
      "9751   Zuniga, Schwartz and Barber   \n",
      "1535  Zuniga, Zavala and Contreras   \n",
      "3784                  Zuniga-Allen   \n",
      "2014              Zuniga-Mcpherson   \n",
      "3125                  Zuniga-Yates   \n",
      "\n",
      "                                             Name  Price  \n",
      "1777     Fast Charger Treadmill Wireless 360 Edge     95  \n",
      "8670                             Clean Stove Iron    800  \n",
      "3849                     Mini Radio Light Fan Air    521  \n",
      "534                         Ultra Freezer Premium    527  \n",
      "1218                       Ultra Grill Grill Lite    611  \n",
      "...                                           ...    ...  \n",
      "9751         Automatic Bicycle Sense Wireless 360    664  \n",
      "1535  Rechargeable Keyboard Freezer Premium Sense     71  \n",
      "3784                                   Stove Iron    496  \n",
      "2014               Ultra Scanner Shaver Powerbank    969  \n",
      "3125                          Automatic Treadmill     32  \n",
      "\n",
      "[9241 rows x 3 columns]\n"
     ]
    }
   ],
   "source": [
    "#⦁\tFor each brand, which product has the highest price?\n",
    "highest_price_per_product = file.loc[file.groupby(\"Brand\")[\"Price\"].idxmax(),[\"Brand\",\"Name\",\"Price\"]]\n",
    "print(highest_price_per_product)\n"
   ]
  },
  {
   "cell_type": "code",
   "execution_count": 96,
   "id": "bbdbd44c-b045-4b33-8155-1807a544d76c",
   "metadata": {},
   "outputs": [
    {
     "name": "stdout",
     "output_type": "stream",
     "text": [
      "      Price_with_Tax\n",
      "0             672.75\n",
      "1            1140.80\n",
      "2            1081.00\n",
      "3             372.60\n",
      "4            1044.20\n",
      "...              ...\n",
      "9995          652.05\n",
      "9996          345.00\n",
      "9997          458.85\n",
      "9998           51.75\n",
      "9999           35.65\n",
      "\n",
      "[10000 rows x 1 columns]\n"
     ]
    }
   ],
   "source": [
    "#⦁\tAdd a new column: ⦁\tAdd a new column: Price_with_Tax =  Price * 1.15 (assuming 15% tax).\n",
    "file[\"Price_with_Tax\"]= file[\"Price\"]*1.15\n",
    "print(file[[\"Price_with_Tax\"]])"
   ]
  },
  {
   "cell_type": "code",
   "execution_count": null,
   "id": "6a87d287-5da5-4b33-b946-fba703a96af9",
   "metadata": {},
   "outputs": [],
   "source": [
    "df[\"Avg_Price_Category\"] = df.groupby(\"Category\")[\"Price\"].transform(\"mean\")\n",
    "print(df.head())\n"
   ]
  },
  {
   "cell_type": "code",
   "execution_count": 98,
   "id": "19891f40-659d-4e20-bb3c-d23a50fa7c64",
   "metadata": {},
   "outputs": [
    {
     "name": "stdout",
     "output_type": "stream",
     "text": [
      "0       508.143357\n",
      "1       522.353698\n",
      "2       526.430000\n",
      "3       516.386207\n",
      "4       537.454545\n",
      "           ...    \n",
      "9995    496.870432\n",
      "9996    536.207885\n",
      "9997    489.003597\n",
      "9998    485.956113\n",
      "9999    489.066176\n",
      "Name: Avg_Price_Category, Length: 10000, dtype: float64\n"
     ]
    }
   ],
   "source": [
    "#⦁\tAdd a new column: average price per category (using transform).\n",
    "file[\"Avg_Price_Category\"] = file.groupby(\"Category\")[\"Price\"].transform(\"mean\")\n",
    "print(file[\"Avg_Price_Category\"]) #[] name of column not printed"
   ]
  },
  {
   "cell_type": "code",
   "execution_count": 99,
   "id": "d4eb0252-2f77-472e-943c-4c8dca29b99b",
   "metadata": {},
   "outputs": [
    {
     "name": "stdout",
     "output_type": "stream",
     "text": [
      "      Avg_Price_Category\n",
      "0             508.143357\n",
      "1             522.353698\n",
      "2             526.430000\n",
      "3             516.386207\n",
      "4             537.454545\n",
      "...                  ...\n",
      "9995          496.870432\n",
      "9996          536.207885\n",
      "9997          489.003597\n",
      "9998          485.956113\n",
      "9999          489.066176\n",
      "\n",
      "[10000 rows x 1 columns]\n"
     ]
    }
   ],
   "source": [
    "#⦁\tAdd a new column: average price per category (using transform).\n",
    "file[\"Avg_Price_Category\"] = file.groupby(\"Category\")[\"Price\"].transform(\"mean\")\n",
    "print(file[[\"Avg_Price_Category\"]]) #[[]] to print name of column too"
   ]
  },
  {
   "cell_type": "code",
   "execution_count": 101,
   "id": "988ca5db-b797-4268-b5ff-847f2761650f",
   "metadata": {},
   "outputs": [
    {
     "name": "stdout",
     "output_type": "stream",
     "text": [
      "                                            Name             Category  Price  \\\n",
      "0     Smart Fan Iron Cooker Go Wireless Portable       Kids' Clothing    585   \n",
      "1                                            Fan       Grooming Tools    992   \n",
      "2      Smart Speakerphone Charger Eco Plus Clean    Fishing & Hunting    940   \n",
      "3                 Premium Grill Trimmer Portable             Skincare    324   \n",
      "4                               Keyboard Freezer  Laptops & Computers    908   \n",
      "...                                          ...                  ...    ...   \n",
      "9995                                   Powerbank   Books & Stationery    567   \n",
      "9996            Rechargeable Lamp Scanner Vacuum              Cycling    300   \n",
      "9997                                      Heater    Fitness Equipment    399   \n",
      "9998               Rechargeable Headphones Stove   Kitchen Appliances     45   \n",
      "9999                     Clean Charger Treadmill    Sports & Outdoors     31   \n",
      "\n",
      "      Avg_Price_Category  Price_diff_avg  \n",
      "0             508.143357       76.856643  \n",
      "1             522.353698      469.646302  \n",
      "2             526.430000      413.570000  \n",
      "3             516.386207     -192.386207  \n",
      "4             537.454545      370.545455  \n",
      "...                  ...             ...  \n",
      "9995          496.870432       70.129568  \n",
      "9996          536.207885     -236.207885  \n",
      "9997          489.003597      -90.003597  \n",
      "9998          485.956113     -440.956113  \n",
      "9999          489.066176     -458.066176  \n",
      "\n",
      "[10000 rows x 5 columns]\n"
     ]
    }
   ],
   "source": [
    "#Add a column: difference between each product’s price and its category average.\n",
    "file[\"Avg_Price_Category\"] = file.groupby(\"Category\")[\"Price\"].transform(\"mean\")\n",
    "file[\"Price_diff_avg\"] = file[\"Price\"] - file[\"Avg_Price_Category\"]\n",
    "print(file[[\"Name\",\"Category\",\"Price\",\"Avg_Price_Category\",\"Price_diff_avg\"]])"
   ]
  },
  {
   "cell_type": "code",
   "execution_count": 106,
   "id": "bc96894b-e3f3-4469-a884-bdfc3b4565b8",
   "metadata": {},
   "outputs": [
    {
     "name": "stdout",
     "output_type": "stream",
     "text": [
      "                                            Name             Category  Stock  \\\n",
      "0     Smart Fan Iron Cooker Go Wireless Portable       Kids' Clothing    194   \n",
      "1                                            Fan       Grooming Tools    724   \n",
      "2      Smart Speakerphone Charger Eco Plus Clean    Fishing & Hunting    769   \n",
      "3                 Premium Grill Trimmer Portable             Skincare     93   \n",
      "4                               Keyboard Freezer  Laptops & Computers    614   \n",
      "...                                          ...                  ...    ...   \n",
      "9995                                   Powerbank   Books & Stationery     27   \n",
      "9996            Rechargeable Lamp Scanner Vacuum              Cycling    177   \n",
      "9997                                      Heater    Fitness Equipment    996   \n",
      "9998               Rechargeable Headphones Stove   Kitchen Appliances    274   \n",
      "9999                     Clean Charger Treadmill    Sports & Outdoors     46   \n",
      "\n",
      "      Category_total_stock  Stock_contribution_%  \n",
      "0                   142940              0.135721  \n",
      "1                   158434              0.456973  \n",
      "2                   140486              0.547386  \n",
      "3                   148020              0.062829  \n",
      "4                   134019              0.458144  \n",
      "...                    ...                   ...  \n",
      "9995                153319              0.017610  \n",
      "9996                143576              0.123280  \n",
      "9997                129491              0.769165  \n",
      "9998                153322              0.178709  \n",
      "9999                136028              0.033817  \n",
      "\n",
      "[10000 rows x 5 columns]\n"
     ]
    }
   ],
   "source": [
    "#⦁\tAdd a column: % contribution of each product’s stock to its category stock.\n",
    "file[\"Category_total_stock\"] = file.groupby(\"Category\")[\"Stock\"].transform(\"sum\")\n",
    "file[\"Stock_contribution_%\"] = (file[\"Stock\"]/file[\"Category_total_stock\"])*100\n",
    "print(file[[\"Name\", \"Category\", \"Stock\",\"Category_total_stock\",\"Stock_contribution_%\"]])"
   ]
  },
  {
   "cell_type": "code",
   "execution_count": 3,
   "id": "d76fc220-c6af-483e-a8af-8631e2d1c576",
   "metadata": {},
   "outputs": [
    {
     "name": "stdout",
     "output_type": "stream",
     "text": [
      "                                            Name             Category  Price  \\\n",
      "0     Smart Fan Iron Cooker Go Wireless Portable       Kids' Clothing    585   \n",
      "1                                            Fan       Grooming Tools    992   \n",
      "2      Smart Speakerphone Charger Eco Plus Clean    Fishing & Hunting    940   \n",
      "3                 Premium Grill Trimmer Portable             Skincare    324   \n",
      "4                               Keyboard Freezer  Laptops & Computers    908   \n",
      "...                                          ...                  ...    ...   \n",
      "9995                                   Powerbank   Books & Stationery    567   \n",
      "9996            Rechargeable Lamp Scanner Vacuum              Cycling    300   \n",
      "9997                                      Heater    Fitness Equipment    399   \n",
      "9998               Rechargeable Headphones Stove   Kitchen Appliances     45   \n",
      "9999                     Clean Charger Treadmill    Sports & Outdoors     31   \n",
      "\n",
      "       rank  \n",
      "0     106.0  \n",
      "1       4.0  \n",
      "2      19.0  \n",
      "3     177.0  \n",
      "4      24.0  \n",
      "...     ...  \n",
      "9995  110.0  \n",
      "9996  172.0  \n",
      "9997  138.0  \n",
      "9998  267.0  \n",
      "9999  247.0  \n",
      "\n",
      "[10000 rows x 4 columns]\n"
     ]
    }
   ],
   "source": [
    "#Rank products within each category by price.\n",
    "file[\"rank\"] = file.groupby(\"Category\")[\"Price\"].rank(method = \"dense\",ascending = False)\n",
    "print(file[[\"Name\" , \"Category\",\"Price\",\"rank\"]])  #dense ranking avoids gaps and keeps ranks consecutive."
   ]
  },
  {
   "cell_type": "code",
   "execution_count": 5,
   "id": "99bbbef9-81fd-45d8-afcb-43f954bcbba4",
   "metadata": {},
   "outputs": [
    {
     "name": "stdout",
     "output_type": "stream",
     "text": [
      "                                            Description Description_10cha\n",
      "0                             Catch enough role nearly.         Catch eno\n",
      "1                             All movement yeah tax me.         All movem\n",
      "2                   Quickly inside pull line lay start.         Quickly i\n",
      "3                                 Lawyer one than fire.         Lawyer on\n",
      "4                     Remain Congress blood plan voice.         Remain Co\n",
      "...                                                 ...               ...\n",
      "9995                  Yeah none boy fund city decision.         Yeah none\n",
      "9996    Appear country enter there pull thing computer.         Appear co\n",
      "9997  Owner plan approach soldier church little little.         Owner pla\n",
      "9998                     Base account partner probably.         Base acco\n",
      "9999        Return reflect truth tell scientist season.         Return re\n",
      "\n",
      "[10000 rows x 2 columns]\n"
     ]
    }
   ],
   "source": [
    "#Extract the first 10 characters of Description.\n",
    "file[\"Description_10cha\"] = file[\"Description\"].str[:9]\n",
    "print(file[[\"Description\",\"Description_10cha\"]])"
   ]
  },
  {
   "cell_type": "code",
   "execution_count": 13,
   "id": "9d768029-8419-4197-b393-0326a2b0e119",
   "metadata": {},
   "outputs": [
    {
     "name": "stdout",
     "output_type": "stream",
     "text": [
      "0       False\n",
      "1       False\n",
      "2       False\n",
      "3       False\n",
      "4       False\n",
      "        ...  \n",
      "9995    False\n",
      "9996    False\n",
      "9997    False\n",
      "9998    False\n",
      "9999    False\n",
      "Name: Name, Length: 10000, dtype: bool\n"
     ]
    }
   ],
   "source": [
    "#Count how many product names contain the word \"Digital\".\n",
    "count_digital = file[\"Name\"].str.contains(\"Digital\")\n",
    "print(count_digital)"
   ]
  },
  {
   "cell_type": "code",
   "execution_count": 12,
   "id": "b9006af5-6045-4741-b05b-8c8f41c1f370",
   "metadata": {},
   "outputs": [
    {
     "name": "stdout",
     "output_type": "stream",
     "text": [
      "839\n"
     ]
    }
   ],
   "source": [
    "count_digital = file[\"Name\"].str.contains(\"Digital\").sum()\n",
    "print(count_digital)"
   ]
  },
  {
   "cell_type": "code",
   "execution_count": 14,
   "id": "46a4b834-b1b4-453d-af86-f9059764a8fd",
   "metadata": {},
   "outputs": [
    {
     "name": "stdout",
     "output_type": "stream",
     "text": [
      "0                    HERMAN LTD\n",
      "1       BRAUN, KING AND ROLLINS\n",
      "2                  PECK-COLEMAN\n",
      "3                     HINES LTD\n",
      "4       SPENCE, WEBSTER AND ORR\n",
      "                 ...           \n",
      "9995         CASTANEDA-HARRISON\n",
      "9996                  KNAPP-KEY\n",
      "9997      MEYER, CASE AND MILLS\n",
      "9998                 JONES-BELL\n",
      "9999                  DAVIS LLC\n",
      "Name: Brand, Length: 10000, dtype: object\n"
     ]
    }
   ],
   "source": [
    "#Convert all brand names to uppercase.\n",
    "print(file[\"Brand\"].str.upper())"
   ]
  },
  {
   "cell_type": "code",
   "execution_count": 15,
   "id": "acfedcbf-276d-41f9-a362-a905697f3c7b",
   "metadata": {},
   "outputs": [
    {
     "name": "stdout",
     "output_type": "stream",
     "text": [
      "      Index                                           Name  \\\n",
      "40       41                              Smart Scale Stove   \n",
      "647     648          Digital Thermostat Drone Heater Smart   \n",
      "799     800                  Compact Webcam Dock Heater Go   \n",
      "1553   1554                                      Eco Scale   \n",
      "1691   1692                    Portable Mouse Mouse Router   \n",
      "1879   1880  Portable Blender Toaster Camera Compact Smart   \n",
      "1957   1958           Automatic Iron Microphone Plus Prime   \n",
      "1995   1996                          Portable Speakerphone   \n",
      "2232   2233                            Eco Cooler Wireless   \n",
      "2247   2248                       Keyboard Toaster Monitor   \n",
      "2377   2378                        Portable Treadmill Plus   \n",
      "2536   2537                 Compact Lock Clean Silent Mini   \n",
      "2572   2573            Premium Webcam Cooker Toaster Touch   \n",
      "2615   2616                       Portable Bicycle Scooter   \n",
      "3074   3075                                   Lamp Freezer   \n",
      "3453   3454               Pro Charger Bicycle Cooker Sense   \n",
      "3571   3572                                    Ultra Scale   \n",
      "4034   4035                        Printer Lock Thermostat   \n",
      "4097   4098                        Eco Mouse Charger Smart   \n",
      "4135   4136             Clean Dock Speaker Phone Fast Edge   \n",
      "4483   4484        Rechargeable Speakerphone Oven Wireless   \n",
      "4720   4721         Smart Charger Radio Digital Pro Silent   \n",
      "5407   5408               Smart Thermostat Automatic Sense   \n",
      "5442   5443                    Eco Speakerphone Mixer Mini   \n",
      "5829   5830                              Automatic Freezer   \n",
      "6128   6129                                        Freezer   \n",
      "6201   6202                           Fast Blender Blender   \n",
      "6865   6866            Digital Powerbank Radio Eco Go Lite   \n",
      "6885   6886     Portable Tablet Speakerphone Edge Eco Lite   \n",
      "6935   6936            Digital Scanner Keyboard Monitor Go   \n",
      "7256   7257                                   Toaster Oven   \n",
      "7484   7485      Eco Brush Scale Grill Digital Silent Lite   \n",
      "7580   7581                    Clean Lamp Lamp Air Digital   \n",
      "7664   7665            Wireless Radio Stove Shaver Premium   \n",
      "7692   7693                  Eco Iron Microphone Automatic   \n",
      "7735   7736                          Advanced Mixer Vacuum   \n",
      "7881   7882                                  Mouse Charger   \n",
      "7981   7982                                     Headphones   \n",
      "8120   8121                 Mini Thermostat Webcam Bicycle   \n",
      "8432   8433               Clean Radio Iron Automatic Sense   \n",
      "8458   8459                   Fast Printer Lock Thermostat   \n",
      "8650   8651                                  Smart Fan 360   \n",
      "9223   9224                                         Kettle   \n",
      "9363   9364                Premium Dock Advanced Touch 360   \n",
      "9382   9383                                         Router   \n",
      "9450   9451              Rechargeable Webcam Printer Smart   \n",
      "9507   9508                            Premium Phone Grill   \n",
      "9599   9600                   Rechargeable Toaster Scooter   \n",
      "9786   9787   Fast Thermostat Webcam Bicycle Digital Smart   \n",
      "\n",
      "                                            Description  \\\n",
      "40            Two toward direction memory account cost.   \n",
      "647                            Bad protect half memory.   \n",
      "799         Story song memory space under next several.   \n",
      "1553            Listen page window third memory itself.   \n",
      "1691  Something room paper memory second mother reli...   \n",
      "1879  Partner good about blood memory little according.   \n",
      "1957      Successful drug write memory send line fight.   \n",
      "1995                   Draw concern do at memory offer.   \n",
      "2232  Would memory bed realize recognize market grou...   \n",
      "2247  Dog main memory experience avoid direction bet...   \n",
      "2377                    Time tonight memory partner TV.   \n",
      "2536     Five memory election yourself my deal product.   \n",
      "2572         Up religious risk grow claim memory third.   \n",
      "2615           Admit I memory manager first reveal big.   \n",
      "3074            Require memory need rather dinner drug.   \n",
      "3453  President student rich player memory until mom...   \n",
      "3571                   Man school try pull part memory.   \n",
      "4034      Special from minute summer memory above game.   \n",
      "4097                     On memory team happy maintain.   \n",
      "4135          May mouth fact memory person agency edge.   \n",
      "4483         Student benefit worker memory interesting.   \n",
      "4720          Guy memory push all scene many heart use.   \n",
      "5407        Choice product senior live end memory idea.   \n",
      "5442  Include campaign far memory nature security wh...   \n",
      "5829              Young short job first memory clearly.   \n",
      "6128                             Race memory part thus.   \n",
      "6201  Challenge radio memory provide theory last sec...   \n",
      "6865  Image oil difficult worry score hour memory re...   \n",
      "6885  Leave nearly however memory attention event tr...   \n",
      "6935            Congress system memory see possible by.   \n",
      "7256    Agency theory this pretty memory each probably.   \n",
      "7484              Issue campaign attack memory success.   \n",
      "7580                  Certainly memory force back page.   \n",
      "7664  Forget hard American project individual next m...   \n",
      "7692     Drive memory window work hour knowledge mouth.   \n",
      "7735    Really story memory pressure college certainly.   \n",
      "7881       Cultural whatever well movie receive memory.   \n",
      "7981            Issue pattern there phone occur memory.   \n",
      "8120       Spring air think memory network follow none.   \n",
      "8432                                Lose camera memory.   \n",
      "8458                      Break role memory red debate.   \n",
      "8650              Statement memory film describe alone.   \n",
      "9223               Something skin debate memory toward.   \n",
      "9363                 Service seek technology so memory.   \n",
      "9382  Interview seem remain ground policy memory she...   \n",
      "9450               Police toward memory pick line help.   \n",
      "9507       Rather memory car offer bad real race break.   \n",
      "9599      Hold when memory somebody with economy light.   \n",
      "9786                     Newspaper other agency memory.   \n",
      "\n",
      "                                Brand                         Category  Price  \\\n",
      "40            Pace, Becker and Ibarra                     Smartwatches    334   \n",
      "647                      Snyder Group            Cameras & Accessories    583   \n",
      "799                   Michael-Patrick                     Toys & Games    428   \n",
      "1553    Clements, Duffy and Carpenter                       Home Decor    919   \n",
      "1691     Barajas, Williamson and Snow                 Women's Clothing    811   \n",
      "1879                   Benton-Schmidt                   Kids' Clothing    588   \n",
      "1957    Richmond, Gonzalez and Wilcox                          Cycling    253   \n",
      "1995                       Moran-Hart                Sports & Outdoors    189   \n",
      "2232            Hebert, Case and Boyd                      Team Sports    874   \n",
      "2247                   Soto-Alexander           Beauty & Personal Care    752   \n",
      "2377        Rivers, Herring and Nunez                           Makeup    854   \n",
      "2536                        Love-Hunt               Books & Stationery    387   \n",
      "2572      Oneill, Alexander and Moran                         Haircare    536   \n",
      "2615                       Mercer PLC                        Furniture    116   \n",
      "3074                    Cooper-Peters                          Cycling    359   \n",
      "3453                       Orozco LLC                   Home & Kitchen    836   \n",
      "3571                    Ritter-Hardin                       Fragrances    165   \n",
      "4034          Gentry, Hardy and Dixon                       Fragrances    728   \n",
      "4097                    Wilkinson LLC                          Cycling    164   \n",
      "4135        Galloway, Yates and Chase                   Kids' Clothing     54   \n",
      "4483       Lang, Zimmerman and Wilcox                 Camping & Hiking    651   \n",
      "4720              Fitzpatrick-Coleman               Books & Stationery    319   \n",
      "5407          Ray, Coffey and Murillo                      Team Sports    711   \n",
      "5442         Kerr, Salas and Buchanan                   Men's Clothing    173   \n",
      "5829                         Hood Ltd                         Skincare    435   \n",
      "6128                         Frye Inc                 Camping & Hiking    540   \n",
      "6201                  Sanchez-Kaufman               Books & Stationery    871   \n",
      "6865                       Mccann Ltd                         Skincare    790   \n",
      "6885      Mercado, Mason and Cummings                Health & Wellness     40   \n",
      "6935                    Collier Group                           Makeup    549   \n",
      "7256                      Stevens Ltd           Beauty & Personal Care    437   \n",
      "7484                   Vasquez-Becker                     Toys & Games    147   \n",
      "7580           Huff, Small and Robles                Fitness Equipment    478   \n",
      "7664                       Decker LLC  Accessories (Bags, Hats, Belts)    328   \n",
      "7692       Ballard, Gillespie and Lee                   Home & Kitchen    437   \n",
      "7735                   Villanueva LLC                       Fragrances    891   \n",
      "7881                 Gordon-Valentine                Fitness Equipment    311   \n",
      "7981  Rodriguez, Schroeder and Willis               Books & Stationery    193   \n",
      "8120                 Henderson-Bowers                   Grooming Tools     12   \n",
      "8432     Schmitt, Sellers and Gregory                 Camping & Hiking      1   \n",
      "8458                     Massey Group                 Camping & Hiking    206   \n",
      "8650                    Martinez-Berg                Fishing & Hunting     62   \n",
      "9223                      Cowan-Gomez                          Cycling    705   \n",
      "9363          Soto, Hensley and Black                      Team Sports    449   \n",
      "9382        Carlson, Sparks and Blair                Sports & Outdoors    902   \n",
      "9450      Valencia, Landry and Lawson                   Bedding & Bath    821   \n",
      "9507                         Wood PLC                      Team Sports    629   \n",
      "9599                     Trujillo Ltd                   Men's Clothing    716   \n",
      "9786                 Peterson-Salazar              Laptops & Computers    878   \n",
      "\n",
      "     Currency  Stock            EAN           Color         Size  \\\n",
      "40        USD     38  9990041184672    AntiqueWhite       5x7 in   \n",
      "647       USD    836  9470569304023       GoldenRod     10x10 cm   \n",
      "799       USD    677  7586820636016             Tan      8x10 in   \n",
      "1553      USD    165  6311637387193  MediumSeaGreen            L   \n",
      "1691      USD    926  2240342727267       LightPink     50x70 cm   \n",
      "1879      USD    878   965634146992            Gray        Large   \n",
      "1957      USD    440  1852324827714         Thistle      8x10 in   \n",
      "1995      USD    395   818031852198      DodgerBlue     12x18 in   \n",
      "2232      USD    185  5028553784241      SandyBrown       5x7 in   \n",
      "2247      USD    448  5925580405081       LightGray          XXL   \n",
      "2377      USD    380  6827233273391   PaleGoldenRod     10x10 cm   \n",
      "2536      USD    371   565111413298       SteelBlue     15x20 cm   \n",
      "2572      USD    534  6407607510828    MidnightBlue   100x200 mm   \n",
      "2615      USD    612   461131346540           Ivory        Large   \n",
      "3074      USD    324  7536222928813   DarkGoldenRod        Large   \n",
      "3453      USD    548  5823855271341           White       5x7 in   \n",
      "3571      USD     75  5401274247811           Olive     10x10 cm   \n",
      "4034      USD    601  6696011599592   PaleTurquoise            M   \n",
      "4097      USD    411  8784001314930     SpringGreen       Medium   \n",
      "4135      USD    734  6768323501584            Peru  Extra Large   \n",
      "4483      USD    115  6957601974343     LightYellow            S   \n",
      "4720      USD    867  4236081017767      DarkOrange            M   \n",
      "5407      USD    387  3040966459358      BlueViolet     10x10 cm   \n",
      "5442      USD    372  8690767638671         Fuchsia      8x10 in   \n",
      "5829      USD    229  8453787836669       LightCyan            S   \n",
      "6128      USD    583  8776630381766      Aquamarine     12x18 in   \n",
      "6201      USD    621  8055271167954  BlanchedAlmond            L   \n",
      "6865      USD    829  8077021696149     ForestGreen            S   \n",
      "6885      USD    181  2428738505792        Moccasin  Extra Large   \n",
      "6935      USD     85  9993533070798   DarkGoldenRod            L   \n",
      "7256      USD     58   538069418004           Azure            S   \n",
      "7484      USD    370  9956851949795           Azure        Small   \n",
      "7580      USD    487  8827470257046      LightCoral     15x20 cm   \n",
      "7664      USD    665  1254288408402         DimGray   100x200 mm   \n",
      "7692      USD    387  4014723808696       FireBrick     50x70 cm   \n",
      "7735      USD    726  3052242117944          Indigo      8x10 in   \n",
      "7881      USD     90  7652761991436           Azure        Small   \n",
      "7981      USD    889  1363159780445            Lime     30x40 cm   \n",
      "8120      USD    405  2379663679211        DarkBlue          XXL   \n",
      "8432      USD    586  1004318109683       Gainsboro      8x10 in   \n",
      "8458      USD    833  7881397885516        SeaGreen            S   \n",
      "8650      USD    923  7521084367740           Azure          XXL   \n",
      "9223      USD    922  3978813583003    MediumPurple   100x200 mm   \n",
      "9363      USD     43  1681113186882     NavajoWhite     10x10 cm   \n",
      "9382      USD    472  5627133021440          Purple        Small   \n",
      "9450      USD    873  5542994445344         OldLace     12x18 in   \n",
      "9507      USD    776  4158824855651             Tan            L   \n",
      "9599      USD    702  9157920675465     LightYellow       5x7 in   \n",
      "9786      USD    144  8129315355437     ForestGreen            M   \n",
      "\n",
      "       Availability  Internal ID   rank Description_10cha  \n",
      "40         in_stock           10  161.0         Two towar  \n",
      "647    out_of_stock           83  103.0         Bad prote  \n",
      "799       backorder           27  141.0         Story son  \n",
      "1553   discontinued           40   19.0         Listen pa  \n",
      "1691      backorder           27   50.0         Something  \n",
      "1879      backorder           85  105.0         Partner g  \n",
      "1957   out_of_stock           87  181.0         Successfu  \n",
      "1995      backorder           43  199.0         Draw conc  \n",
      "2232   discontinued           93   39.0         Would mem  \n",
      "2247   discontinued           30   77.0         Dog main   \n",
      "2377   discontinued           74   39.0         Time toni  \n",
      "2536       in_stock           34  158.0         Five memo  \n",
      "2572      pre_order           62  114.0         Up religi  \n",
      "2615  limited_stock           12  227.0         Admit I m  \n",
      "3074       in_stock           75  161.0         Require m  \n",
      "3453   discontinued           49   38.0         President  \n",
      "3571   out_of_stock           10  220.0         Man schoo  \n",
      "4034       in_stock           75   70.0         Special f  \n",
      "4097      backorder           58  196.0         On memory  \n",
      "4135       in_stock           36  232.0         May mouth  \n",
      "4483   out_of_stock           76   88.0         Student b  \n",
      "4720  limited_stock           83  177.0         Guy memor  \n",
      "5407   out_of_stock           96   89.0         Choice pr  \n",
      "5442      pre_order            6  203.0         Include c  \n",
      "5829   out_of_stock            3  153.0         Young sho  \n",
      "6128      backorder           60  113.0         Race memo  \n",
      "6201   out_of_stock           37   30.0         Challenge  \n",
      "6865  limited_stock           10   61.0         Image oil  \n",
      "6885  limited_stock           68  249.0         Leave nea  \n",
      "6935   discontinued           46  120.0         Congress   \n",
      "7256   discontinued           82  150.0         Agency th  \n",
      "7484       in_stock           75  217.0         Issue cam  \n",
      "7580  limited_stock           49  125.0         Certainly  \n",
      "7664   out_of_stock           27  153.0         Forget ha  \n",
      "7692   discontinued           70  152.0         Drive mem  \n",
      "7735   discontinued           88   31.0         Really st  \n",
      "7881      backorder           58  161.0         Cultural   \n",
      "7981      backorder            2  213.0         Issue pat  \n",
      "8120   discontinued           62  261.0         Spring ai  \n",
      "8432   discontinued           55  261.0         Lose came  \n",
      "8458  limited_stock           50  205.0         Break rol  \n",
      "8650       in_stock           32  247.0         Statement  \n",
      "9223  limited_stock            5   80.0         Something  \n",
      "9363      backorder           76  153.0         Service s  \n",
      "9382       in_stock           90   23.0         Interview  \n",
      "9450  limited_stock           60   37.0         Police to  \n",
      "9507      backorder           68  110.0         Rather me  \n",
      "9599   discontinued           72   71.0         Hold when  \n",
      "9786   out_of_stock           96   31.0         Newspaper  \n"
     ]
    }
   ],
   "source": [
    "#Find all products where Description contains \"memory\".\n",
    "memory_products = file[file[\"Description\"].str.contains(\"memory\")]\n",
    "print(memory_products)"
   ]
  },
  {
   "cell_type": "code",
   "execution_count": 16,
   "id": "9d2b585d-e48d-43eb-b5ea-74e6d1f78911",
   "metadata": {},
   "outputs": [
    {
     "name": "stdout",
     "output_type": "stream",
     "text": [
      "0       42\n",
      "1        3\n",
      "2       41\n",
      "3       30\n",
      "4       16\n",
      "        ..\n",
      "9995     9\n",
      "9996    32\n",
      "9997     6\n",
      "9998    29\n",
      "9999    23\n",
      "Name: Name, Length: 10000, dtype: int64\n"
     ]
    }
   ],
   "source": [
    "#Get the length of each product name.\n",
    "print(file[\"Name\"].str.len())"
   ]
  },
  {
   "cell_type": "code",
   "execution_count": 17,
   "id": "5a7f02d7-a067-4651-9e25-c410cfd030e5",
   "metadata": {},
   "outputs": [
    {
     "name": "stdout",
     "output_type": "stream",
     "text": [
      "                                            Name  name_length\n",
      "0     Smart Fan Iron Cooker Go Wireless Portable           42\n",
      "1                                            Fan            3\n",
      "2      Smart Speakerphone Charger Eco Plus Clean           41\n",
      "3                 Premium Grill Trimmer Portable           30\n",
      "4                               Keyboard Freezer           16\n",
      "...                                          ...          ...\n",
      "9995                                   Powerbank            9\n",
      "9996            Rechargeable Lamp Scanner Vacuum           32\n",
      "9997                                      Heater            6\n",
      "9998               Rechargeable Headphones Stove           29\n",
      "9999                     Clean Charger Treadmill           23\n",
      "\n",
      "[10000 rows x 2 columns]\n"
     ]
    }
   ],
   "source": [
    "file[\"name_length\"] = file[\"Name\"].str.len()\n",
    "print(file[[\"Name\",\"name_length\"]])"
   ]
  },
  {
   "cell_type": "code",
   "execution_count": 20,
   "id": "e36307ff-5c5f-4342-b37b-b0e6dd1ab7b2",
   "metadata": {},
   "outputs": [
    {
     "name": "stdout",
     "output_type": "stream",
     "text": [
      "      Index                              Name  \\\n",
      "8         9    Compact Fan Scooter Headphones   \n",
      "15       16   Ultra Powerbank Scale Automatic   \n",
      "20       21                              Lock   \n",
      "26       27             Clean Mixer Ultra Eco   \n",
      "29       30               Smart Lock Mini Pro   \n",
      "...     ...                               ...   \n",
      "9995   9996                         Powerbank   \n",
      "9996   9997  Rechargeable Lamp Scanner Vacuum   \n",
      "9997   9998                            Heater   \n",
      "9998   9999     Rechargeable Headphones Stove   \n",
      "9999  10000           Clean Charger Treadmill   \n",
      "\n",
      "                                            Description  \\\n",
      "8                       Medical myself his piece agree.   \n",
      "15              Against or catch tough nor wait reason.   \n",
      "20            Who seven meeting ball trouble ago cover.   \n",
      "26                          Serious source open threat.   \n",
      "29    Three development base reveal smile morning mi...   \n",
      "...                                                 ...   \n",
      "9995                  Yeah none boy fund city decision.   \n",
      "9996    Appear country enter there pull thing computer.   \n",
      "9997  Owner plan approach soldier church little little.   \n",
      "9998                     Base account partner probably.   \n",
      "9999        Return reflect truth tell scientist season.   \n",
      "\n",
      "                          Brand            Category  Price Currency  Stock  \\\n",
      "8                Weber and Sons  Clothing & Apparel    870      USD    930   \n",
      "15                 Macias Group   Fishing & Hunting    223      USD     62   \n",
      "20               Mullins-Dodson   Fishing & Hunting    350      USD    842   \n",
      "26    Luna, Davidson and Galvan      Grooming Tools    951      USD    190   \n",
      "29                   Branch Ltd   Cleaning Supplies    989      USD    879   \n",
      "...                         ...                 ...    ...      ...    ...   \n",
      "9995         Castaneda-Harrison  Books & Stationery    567      USD     27   \n",
      "9996                  Knapp-Key             Cycling    300      USD    177   \n",
      "9997      Meyer, Case and Mills   Fitness Equipment    399      USD    996   \n",
      "9998                 Jones-Bell  Kitchen Appliances     45      USD    274   \n",
      "9999                  Davis LLC   Sports & Outdoors     31      USD     46   \n",
      "\n",
      "                EAN          Color      Size   Availability  Internal ID  \\\n",
      "8     2666733210512       DarkBlue        XS  limited_stock            6   \n",
      "15    6282374002499          Azure  30x40 cm      pre_order           93   \n",
      "20     651020229713  LavenderBlush    5x7 in       in_stock           22   \n",
      "26    7547662604151        DarkRed  15x20 cm   discontinued           33   \n",
      "29    9292256940884       DarkCyan  10x10 cm   discontinued           91   \n",
      "...             ...            ...       ...            ...          ...   \n",
      "9995  6519003997216           Cyan    Medium      pre_order            7   \n",
      "9996  4707959228979      MintCream     Large  limited_stock           55   \n",
      "9997  5286509915488      LightGray     Large      pre_order           37   \n",
      "9998  3702651384368      SlateBlue  12x18 in       in_stock           52   \n",
      "9999  8879838276060          Ivory    Medium      backorder           70   \n",
      "\n",
      "       rank Description_10cha  name_length  \n",
      "8      35.0         Medical m           30  \n",
      "15    207.0         Against o           31  \n",
      "20    181.0         Who seven            4  \n",
      "26     17.0         Serious s           21  \n",
      "29      8.0         Three dev           19  \n",
      "...     ...               ...          ...  \n",
      "9995  110.0         Yeah none            9  \n",
      "9996  172.0         Appear co           32  \n",
      "9997  138.0         Owner pla            6  \n",
      "9998  267.0         Base acco           29  \n",
      "9999  247.0         Return re           23  \n",
      "\n",
      "[9901 rows x 16 columns]\n"
     ]
    }
   ],
   "source": [
    "#Check if there are duplicate Internal ID values.\n",
    "print(file[file[\"Internal ID\"].duplicated()])\n"
   ]
  },
  {
   "cell_type": "code",
   "execution_count": 23,
   "id": "eb8b44b8-4a88-4453-8ec6-ea177ed8afa0",
   "metadata": {},
   "outputs": [
    {
     "name": "stdout",
     "output_type": "stream",
     "text": [
      "99\n"
     ]
    }
   ],
   "source": [
    "print(file[\"Internal ID\"].nunique())"
   ]
  },
  {
   "cell_type": "code",
   "execution_count": 24,
   "id": "f86f69d3-2285-4f64-8b4f-e45c4697814e",
   "metadata": {},
   "outputs": [
    {
     "name": "stdout",
     "output_type": "stream",
     "text": [
      "      Index                                       Name  \\\n",
      "5121   5122                    Smart Radio Pro Ultra X   \n",
      "6027   6028               Advanced Powerbank Projector   \n",
      "4613   4614                     Advanced Treadmill 360   \n",
      "1374   1375        Mini Mixer Router Phone Smart Prime   \n",
      "7496   7497  Premium Microphone Headphones Touch Sense   \n",
      "\n",
      "                                            Description  \\\n",
      "5121                       To skill senior than career.   \n",
      "6027     Long significant on score kind cultural agree.   \n",
      "4613                          Miss by employee medical.   \n",
      "1374                Adult open alone position cultural.   \n",
      "7496  Participant technology after pull far governme...   \n",
      "\n",
      "                        Brand             Category  Price Currency  Stock  \\\n",
      "5121  Reid, Andrade and Gates  Laptops & Computers      1      USD    675   \n",
      "6027  Stone, Bryan and Murray           Fragrances      1      USD    563   \n",
      "4613  Rowe, Cisneros and Wise       Bedding & Bath      1      USD    465   \n",
      "1374               Frye Group           Home Decor      1      USD    843   \n",
      "7496          Spence-Mcintyre  Laptops & Computers      1      USD    920   \n",
      "\n",
      "                EAN      Color      Size  Availability  Internal ID   rank  \\\n",
      "5121  4798852354209       Lime  50x70 cm  discontinued           16  237.0   \n",
      "6027  2316184145771     Purple       XXL      in_stock           14  261.0   \n",
      "4613  1125177061797    DimGray  12x18 in  out_of_stock            7  221.0   \n",
      "1374  3334087024770        Tan    Medium     pre_order           86  259.0   \n",
      "7496  2573369405178  RoyalBlue    Medium  out_of_stock            4  237.0   \n",
      "\n",
      "     Description_10cha  name_length  \n",
      "5121         To skill            23  \n",
      "6027         Long sign           28  \n",
      "4613         Miss by e           22  \n",
      "1374         Adult ope           35  \n",
      "7496         Participa           41  \n"
     ]
    }
   ],
   "source": [
    "\n",
    "print(file.sort_values(\"Price\").head(5)) #sorted by ascending values low to high"
   ]
  },
  {
   "cell_type": "code",
   "execution_count": 25,
   "id": "1800b531-422e-4d07-a854-fb35bb96fd81",
   "metadata": {},
   "outputs": [
    {
     "name": "stdout",
     "output_type": "stream",
     "text": [
      "      Index                                          Name  \\\n",
      "5120   5121  Clean Grill Charger Headphones Sense Digital   \n",
      "1115   1116                         Portable Mixer Vacuum   \n",
      "7462   7463                Smart Bicycle Microphone Touch   \n",
      "8451   8452   Ultra Microphone Lamp Speaker Advanced Edge   \n",
      "1747   1748                                  Charger Lamp   \n",
      "\n",
      "                                            Description  \\\n",
      "5120                                  Fear gas finally.   \n",
      "1115  Describe institution interest job medical wall...   \n",
      "7462                         Dog official truth record.   \n",
      "8451                             Turn without each own.   \n",
      "1747  Generation suggest cup industry nearly yet org...   \n",
      "\n",
      "                         Brand                Category  Price Currency  Stock  \\\n",
      "5120             Hopkins-Lucas              Fragrances    999      USD    938   \n",
      "1115               Villa-Yates          Men's Clothing    999      USD    842   \n",
      "7462               Coleman PLC  Beauty & Personal Care    999      USD    256   \n",
      "8451  Webster, Yates and Glenn       Health & Wellness    999      USD    997   \n",
      "1747          Jefferson-Reeves          Men's Clothing    999      USD    925   \n",
      "\n",
      "                EAN         Color      Size   Availability  Internal ID  rank  \\\n",
      "5120  3171212138632  MidnightBlue     Large   discontinued           78   1.0   \n",
      "1115  2327428576756     LightPink  12x18 in  limited_stock           43   1.0   \n",
      "7462  3568641324390         Khaki     Small  limited_stock           78   1.0   \n",
      "8451  4868281880898     DarkGreen  15x20 cm      pre_order           61   1.0   \n",
      "1747  5187216836540     LightCyan     Small  limited_stock           56   1.0   \n",
      "\n",
      "     Description_10cha  name_length  \n",
      "5120         Fear gas            44  \n",
      "1115         Describe            21  \n",
      "7462         Dog offic           30  \n",
      "8451         Turn with           43  \n",
      "1747         Generatio           12  \n"
     ]
    }
   ],
   "source": [
    "print(file.sort_values(\"Price\",ascending=False).head(5))  #to get most expensive\n"
   ]
  },
  {
   "cell_type": "code",
   "execution_count": 27,
   "id": "838907d4-1376-4952-ae49-0d322804cf8b",
   "metadata": {},
   "outputs": [
    {
     "name": "stdout",
     "output_type": "stream",
     "text": [
      "      Index                                     Name  \\\n",
      "8106   8107                Mini Brush Blender Vacuum   \n",
      "4897   4898                    Eco Lamp Lamp Digital   \n",
      "497     498      Smart Charger Mini Max Rechargeable   \n",
      "174     175  Advanced Dock Automatic Silent Portable   \n",
      "9252   9253                          Mini Watch Plus   \n",
      "\n",
      "                                   Description                       Brand  \\\n",
      "8106  Analysis choice rich yes weight clearly.                Humphrey LLC   \n",
      "4897                 Travel hotel senior fine.                 Vincent Ltd   \n",
      "497           Product world head dinner there.                   Sloan LLC   \n",
      "174                Hope star recently certain.                   Brady PLC   \n",
      "9252              Loss magazine movie believe.  Lutz, Richard and Williams   \n",
      "\n",
      "                             Category  Price Currency  Stock            EAN  \\\n",
      "8106  Accessories (Bags, Hats, Belts)     26      USD      1  7425608968225   \n",
      "4897                  Office Supplies     14      USD      1  3198108504647   \n",
      "497                 Cleaning Supplies    881      USD      1  2404832225255   \n",
      "174                        Automotive    563      USD      1  1743619969434   \n",
      "9252                   Kids' Clothing    981      USD      1  2423852090452   \n",
      "\n",
      "                  Color         Size   Availability  Internal ID   rank  \\\n",
      "8106     CornflowerBlue            S   out_of_stock           86  225.0   \n",
      "4897      DarkGoldenRod        Large      backorder           80  233.0   \n",
      "497   MediumSpringGreen     30x40 cm  limited_stock           60   35.0   \n",
      "174           LightBlue  Extra Large   out_of_stock           23  117.0   \n",
      "9252          RoyalBlue           XS       in_stock           37    5.0   \n",
      "\n",
      "     Description_10cha  name_length  \n",
      "8106         Analysis            25  \n",
      "4897         Travel ho           21  \n",
      "497          Product w           35  \n",
      "174          Hope star           39  \n",
      "9252         Loss maga           15  \n"
     ]
    }
   ],
   "source": [
    "#Show top 5 products with the lowest stock.\n",
    "print(file.sort_values(\"Stock\",ascending = True).head(5))"
   ]
  },
  {
   "cell_type": "code",
   "execution_count": 28,
   "id": "df1afe4e-7c05-47bd-bb8b-feb01a2b663b",
   "metadata": {},
   "outputs": [
    {
     "name": "stdout",
     "output_type": "stream",
     "text": [
      "Category\n",
      "Clothing & Apparel    320\n",
      "Kitchen Appliances    319\n",
      "Home & Kitchen        316\n",
      "Team Sports           316\n",
      "Grooming Tools        311\n",
      "Name: Name, dtype: int64\n"
     ]
    }
   ],
   "source": [
    "#Find the category with the most products.\n",
    "category_count = file.groupby(\"Category\")[\"Name\"].count().sort_values(ascending= False)\n",
    "print(category_count.head())"
   ]
  },
  {
   "cell_type": "code",
   "execution_count": 29,
   "id": "6d14d367-c794-4378-b1d7-7d963afc6c99",
   "metadata": {},
   "outputs": [
    {
     "name": "stdout",
     "output_type": "stream",
     "text": [
      "Category\n",
      "Clothing & Apparel    320\n",
      "Name: Name, dtype: int64\n"
     ]
    }
   ],
   "source": [
    "category_count = file.groupby(\"Category\")[\"Name\"].count().sort_values(ascending= False)\n",
    "print(category_count.head(1))"
   ]
  },
  {
   "cell_type": "code",
   "execution_count": 33,
   "id": "da63fd44-634a-494b-9aa4-c75792adc4d6",
   "metadata": {},
   "outputs": [
    {
     "name": "stdout",
     "output_type": "stream",
     "text": [
      "Brand\n",
      "Kennedy LLC                     3176\n",
      "Robinson Inc                    2705\n",
      "Johnston Ltd                    2534\n",
      "Franco Inc                      2509\n",
      "Delacruz LLC                    2495\n",
      "                                ... \n",
      "Walters-Schmitt                    2\n",
      "Davenport, Moon and Riggs          1\n",
      "Lutz, Richard and Williams         1\n",
      "Ho-Welch                           1\n",
      "Barker, Hartman and Jennings       1\n",
      "Name: Stock, Length: 9241, dtype: int64\n"
     ]
    }
   ],
   "source": [
    "#Find the brand with the highest total stock.\n",
    "highest_total_stock= file.groupby(\"Brand\")[\"Stock\"].sum().sort_values(ascending=False)\n",
    "print(highest_total_stock)"
   ]
  },
  {
   "cell_type": "code",
   "execution_count": 37,
   "id": "0b1c78d5-b800-45cb-a562-f962fdc28747",
   "metadata": {},
   "outputs": [
    {
     "name": "stdout",
     "output_type": "stream",
     "text": [
      "                                            Name  Stock             Category  \\\n",
      "0     Smart Fan Iron Cooker Go Wireless Portable    194       Kids' Clothing   \n",
      "1                                            Fan    724       Grooming Tools   \n",
      "2      Smart Speakerphone Charger Eco Plus Clean    769    Fishing & Hunting   \n",
      "3                 Premium Grill Trimmer Portable     93             Skincare   \n",
      "4                               Keyboard Freezer    614  Laptops & Computers   \n",
      "...                                          ...    ...                  ...   \n",
      "9995                                   Powerbank     27   Books & Stationery   \n",
      "9996            Rechargeable Lamp Scanner Vacuum    177              Cycling   \n",
      "9997                                      Heater    996    Fitness Equipment   \n",
      "9998               Rechargeable Headphones Stove    274   Kitchen Appliances   \n",
      "9999                     Clean Charger Treadmill     46    Sports & Outdoors   \n",
      "\n",
      "      average_stock  abv_averagestock  \n",
      "0        499.790210             False  \n",
      "1        509.434084              True  \n",
      "2        468.286667              True  \n",
      "3        510.413793             False  \n",
      "4        507.647727              True  \n",
      "...             ...               ...  \n",
      "9995     509.365449             False  \n",
      "9996     514.609319             False  \n",
      "9997     465.794964              True  \n",
      "9998     480.633229             False  \n",
      "9999     500.102941             False  \n",
      "\n",
      "[10000 rows x 5 columns]\n"
     ]
    }
   ],
   "source": [
    "#Find all products where stock is above the category average stock.\n",
    "file[\"average_stock\"] = file.groupby(\"Category\")[\"Stock\"].transform(\"mean\")\n",
    "file[\"abv_averagestock\"]= file[\"Stock\"] > file[\"average_stock\"]\n",
    "print(file[[\"Name\" ,\"Stock\" ,\"Category\" ,\"average_stock\",\"abv_averagestock\"]])"
   ]
  },
  {
   "cell_type": "code",
   "execution_count": 40,
   "id": "9b730a59-8b4a-4ecf-969d-145d2f8003b0",
   "metadata": {},
   "outputs": [
    {
     "name": "stdout",
     "output_type": "stream",
     "text": [
      "                                 Total_Products  Total_stock   Avg_Price  \\\n",
      "Category                                                                   \n",
      "Accessories (Bags, Hats, Belts)             266       142221  491.146617   \n",
      "Automotive                                  305       144632  506.744262   \n",
      "Beauty & Personal Care                      306       159161  518.562092   \n",
      "Bedding & Bath                              264       134973  503.348485   \n",
      "Books & Stationery                          301       153319  496.870432   \n",
      "Cameras & Accessories                       310       156588  491.416129   \n",
      "Camping & Hiking                            306       160376  487.117647   \n",
      "Cleaning Supplies                           284       138208  528.669014   \n",
      "Clothing & Apparel                          320       174236  484.987500   \n",
      "Cycling                                     279       143576  536.207885   \n",
      "Fishing & Hunting                           300       140486  526.430000   \n",
      "Fitness Equipment                           278       129491  489.003597   \n",
      "Fragrances                                  287       147291  500.090592   \n",
      "Furniture                                   291       140198  490.697595   \n",
      "Grooming Tools                              311       158434  522.353698   \n",
      "Haircare                                    292       153993  494.102740   \n",
      "Headphones & Earbuds                        311       156226  525.215434   \n",
      "Health & Wellness                           310       160698  480.193548   \n",
      "Home & Kitchen                              316       155687  499.629747   \n",
      "Home Decor                                  303       148472  484.524752   \n",
      "Kids' Clothing                              286       142940  508.143357   \n",
      "Kitchen Appliances                          319       153322  485.956113   \n",
      "Laptops & Computers                         264       134019  537.454545   \n",
      "Makeup                                      286       140400  512.073427   \n",
      "Men's Clothing                              292       132659  480.023973   \n",
      "Office Supplies                             275       138795  515.127273   \n",
      "Shoes & Footwear                            298       145658  498.409396   \n",
      "Skincare                                    290       148020  516.386207   \n",
      "Smartphones                                 292       131367  520.294521   \n",
      "Smartwatches                                310       158401  475.677419   \n",
      "Sports & Outdoors                           272       136028  489.066176   \n",
      "Team Sports                                 316       159781  501.572785   \n",
      "Toys & Games                                283       139690  521.897527   \n",
      "Women's Clothing                            277       133234  504.776173   \n",
      "\n",
      "                                 Min_Price  Max_Price  \n",
      "Category                                               \n",
      "Accessories (Bags, Hats, Belts)          4        992  \n",
      "Automotive                              12        994  \n",
      "Beauty & Personal Care                   2        999  \n",
      "Bedding & Bath                           1        987  \n",
      "Books & Stationery                       4        992  \n",
      "Cameras & Accessories                    4        995  \n",
      "Camping & Hiking                         1        993  \n",
      "Cleaning Supplies                        5        999  \n",
      "Clothing & Apparel                       5        998  \n",
      "Cycling                                  3        998  \n",
      "Fishing & Hunting                        1        992  \n",
      "Fitness Equipment                        4        995  \n",
      "Fragrances                               1        999  \n",
      "Furniture                                2        998  \n",
      "Grooming Tools                           9        999  \n",
      "Haircare                                 8        999  \n",
      "Headphones & Earbuds                     2        999  \n",
      "Health & Wellness                        3        999  \n",
      "Home & Kitchen                           6        998  \n",
      "Home Decor                               1        996  \n",
      "Kids' Clothing                           5        998  \n",
      "Kitchen Appliances                       3        999  \n",
      "Laptops & Computers                      1        992  \n",
      "Makeup                                   2        995  \n",
      "Men's Clothing                           5        999  \n",
      "Office Supplies                          7        999  \n",
      "Shoes & Footwear                         2        999  \n",
      "Skincare                                 2        998  \n",
      "Smartphones                              2        996  \n",
      "Smartwatches                             1        996  \n",
      "Sports & Outdoors                       10        994  \n",
      "Team Sports                              2        998  \n",
      "Toys & Games                            19        999  \n",
      "Women's Clothing                         7        996  \n"
     ]
    }
   ],
   "source": [
    "#Create a summary DataFrame with columns:\n",
    "#Category, Total_Products, Avg_Price, Total_Stock, Min_Price, Max_Price\n",
    "summary = (file.groupby(\"Category\").agg(Total_Products = (\"Name\",\"count\"),\n",
    "                                        Total_stock = (\"Stock\",\"sum\"),\n",
    "                                        Avg_Price = (\"Price\",\"mean\"),\n",
    "                                        Min_Price = (\"Price\",\"min\"),\n",
    "                                        Max_Price = (\"Price\",\"max\")))\n",
    "print(summary)\n",
    "                    \n",
    "    \n"
   ]
  },
  {
   "cell_type": "code",
   "execution_count": 41,
   "id": "21bf1fb4-3038-45ae-b963-a3c78b55316b",
   "metadata": {},
   "outputs": [
    {
     "name": "stdout",
     "output_type": "stream",
     "text": [
      "                           Category  Total_Products  Total_stock   Avg_Price  \\\n",
      "0   Accessories (Bags, Hats, Belts)             266       142221  491.146617   \n",
      "1                        Automotive             305       144632  506.744262   \n",
      "2            Beauty & Personal Care             306       159161  518.562092   \n",
      "3                    Bedding & Bath             264       134973  503.348485   \n",
      "4                Books & Stationery             301       153319  496.870432   \n",
      "5             Cameras & Accessories             310       156588  491.416129   \n",
      "6                  Camping & Hiking             306       160376  487.117647   \n",
      "7                 Cleaning Supplies             284       138208  528.669014   \n",
      "8                Clothing & Apparel             320       174236  484.987500   \n",
      "9                           Cycling             279       143576  536.207885   \n",
      "10                Fishing & Hunting             300       140486  526.430000   \n",
      "11                Fitness Equipment             278       129491  489.003597   \n",
      "12                       Fragrances             287       147291  500.090592   \n",
      "13                        Furniture             291       140198  490.697595   \n",
      "14                   Grooming Tools             311       158434  522.353698   \n",
      "15                         Haircare             292       153993  494.102740   \n",
      "16             Headphones & Earbuds             311       156226  525.215434   \n",
      "17                Health & Wellness             310       160698  480.193548   \n",
      "18                   Home & Kitchen             316       155687  499.629747   \n",
      "19                       Home Decor             303       148472  484.524752   \n",
      "20                   Kids' Clothing             286       142940  508.143357   \n",
      "21               Kitchen Appliances             319       153322  485.956113   \n",
      "22              Laptops & Computers             264       134019  537.454545   \n",
      "23                           Makeup             286       140400  512.073427   \n",
      "24                   Men's Clothing             292       132659  480.023973   \n",
      "25                  Office Supplies             275       138795  515.127273   \n",
      "26                 Shoes & Footwear             298       145658  498.409396   \n",
      "27                         Skincare             290       148020  516.386207   \n",
      "28                      Smartphones             292       131367  520.294521   \n",
      "29                     Smartwatches             310       158401  475.677419   \n",
      "30                Sports & Outdoors             272       136028  489.066176   \n",
      "31                      Team Sports             316       159781  501.572785   \n",
      "32                     Toys & Games             283       139690  521.897527   \n",
      "33                 Women's Clothing             277       133234  504.776173   \n",
      "\n",
      "    Min_Price  Max_Price  \n",
      "0           4        992  \n",
      "1          12        994  \n",
      "2           2        999  \n",
      "3           1        987  \n",
      "4           4        992  \n",
      "5           4        995  \n",
      "6           1        993  \n",
      "7           5        999  \n",
      "8           5        998  \n",
      "9           3        998  \n",
      "10          1        992  \n",
      "11          4        995  \n",
      "12          1        999  \n",
      "13          2        998  \n",
      "14          9        999  \n",
      "15          8        999  \n",
      "16          2        999  \n",
      "17          3        999  \n",
      "18          6        998  \n",
      "19          1        996  \n",
      "20          5        998  \n",
      "21          3        999  \n",
      "22          1        992  \n",
      "23          2        995  \n",
      "24          5        999  \n",
      "25          7        999  \n",
      "26          2        999  \n",
      "27          2        998  \n",
      "28          2        996  \n",
      "29          1        996  \n",
      "30         10        994  \n",
      "31          2        998  \n",
      "32         19        999  \n",
      "33          7        996  \n"
     ]
    }
   ],
   "source": [
    "summary = (file.groupby(\"Category\").agg(Total_Products = (\"Name\",\"count\"),\n",
    "                                        Total_stock = (\"Stock\",\"sum\"),\n",
    "                                        Avg_Price = (\"Price\",\"mean\"),\n",
    "                                        Min_Price = (\"Price\",\"min\"),\n",
    "                                        Max_Price = (\"Price\",\"max\")).reset_index())\n",
    "print(summary)\n",
    "             "
   ]
  },
  {
   "cell_type": "code",
   "execution_count": 3,
   "id": "ae504c53-5102-4938-a2d4-01ef2dcd2c17",
   "metadata": {},
   "outputs": [
    {
     "name": "stdout",
     "output_type": "stream",
     "text": [
      "Category\n",
      "Accessories (Bags, Hats, Belts)    0.818182\n",
      "Automotive                         1.018519\n",
      "Beauty & Personal Care             0.979592\n",
      "Bedding & Bath                     1.102564\n",
      "Books & Stationery                 1.214286\n",
      "Cameras & Accessories              1.333333\n",
      "Camping & Hiking                   1.000000\n",
      "Cleaning Supplies                  0.909091\n",
      "Clothing & Apparel                 0.661290\n",
      "Cycling                            1.277778\n",
      "Fishing & Hunting                  0.880000\n",
      "Fitness Equipment                  1.170732\n",
      "Fragrances                         1.078431\n",
      "Furniture                          1.133333\n",
      "Grooming Tools                     0.844828\n",
      "Haircare                           0.842105\n",
      "Headphones & Earbuds               0.793651\n",
      "Health & Wellness                  0.937500\n",
      "Home & Kitchen                     0.813559\n",
      "Home Decor                         1.232558\n",
      "Kids' Clothing                     1.073171\n",
      "Kitchen Appliances                 0.910714\n",
      "Laptops & Computers                1.142857\n",
      "Makeup                             1.219512\n",
      "Men's Clothing                     1.000000\n",
      "Office Supplies                    1.000000\n",
      "Shoes & Footwear                   1.111111\n",
      "Skincare                           1.020000\n",
      "Smartphones                        0.602941\n",
      "Smartwatches                       1.021739\n",
      "Sports & Outdoors                  1.378378\n",
      "Team Sports                        0.813559\n",
      "Toys & Games                       0.857143\n",
      "Women's Clothing                   1.121951\n",
      "Name: Availability, dtype: float64\n"
     ]
    }
   ],
   "source": [
    "#Find the ratio of in_stock to pre_order products per category\n",
    "status_counts = (file.groupby(\"Category\")[\"Availability\"]\n",
    "                 .value_counts()\n",
    "                 .unstack(fill_value=0)\n",
    "                )\n",
    "status_counts[\"Availability\"] = (status_counts[\"in_stock\"]/status_counts[\"pre_order\"].replace(0,pd.NA))\n",
    "print(status_counts[\"Availability\"] )                                         "
   ]
  },
  {
   "cell_type": "code",
   "execution_count": 4,
   "id": "ddcf74db-ed99-4df2-9589-9873cc1797a2",
   "metadata": {},
   "outputs": [
    {
     "name": "stdout",
     "output_type": "stream",
     "text": [
      "                              number_of_products  total_stock  average_price\n",
      "Brand                                                                       \n",
      "Abbott Ltd                                     1          712           95.0\n",
      "Abbott, Holden and Conrad                      1          563          800.0\n",
      "Abbott, Lynch and Warner                       1          527          521.0\n",
      "Abbott, Pitts and Charles                      1          832          527.0\n",
      "Abbott, Zavala and Patrick                     1          143          611.0\n",
      "...                                          ...          ...            ...\n",
      "Zuniga, Schwartz and Barber                    1          570          664.0\n",
      "Zuniga, Zavala and Contreras                   1           23           71.0\n",
      "Zuniga-Allen                                   1          914          496.0\n",
      "Zuniga-Mcpherson                               1          115          969.0\n",
      "Zuniga-Yates                                   1          809           32.0\n",
      "\n",
      "[9241 rows x 3 columns]\n"
     ]
    }
   ],
   "source": [
    "#For each brand, compute:number of products,total stock,average price.\n",
    "brand_summary = (file.groupby(\"Brand\")\n",
    "                 .agg(\n",
    "                     number_of_products = (\"Name\",\"count\"),\n",
    "                     total_stock = (\"Stock\", \"sum\"),\n",
    "                     average_price = (\"Price\",\"mean\")\n",
    "                 ))\n",
    "print(brand_summary)"
   ]
  },
  {
   "cell_type": "code",
   "execution_count": 48,
   "id": "031ca164-7261-4276-a102-70faf3070986",
   "metadata": {},
   "outputs": [
    {
     "name": "stdout",
     "output_type": "stream",
     "text": [
      "                             Brand  number_of_products  total_stock  \\\n",
      "0                       Abbott Ltd                   1          712   \n",
      "1        Abbott, Holden and Conrad                   1          563   \n",
      "2         Abbott, Lynch and Warner                   1          527   \n",
      "3        Abbott, Pitts and Charles                   1          832   \n",
      "4       Abbott, Zavala and Patrick                   1          143   \n",
      "...                            ...                 ...          ...   \n",
      "9236   Zuniga, Schwartz and Barber                   1          570   \n",
      "9237  Zuniga, Zavala and Contreras                   1           23   \n",
      "9238                  Zuniga-Allen                   1          914   \n",
      "9239              Zuniga-Mcpherson                   1          115   \n",
      "9240                  Zuniga-Yates                   1          809   \n",
      "\n",
      "      average_price  \n",
      "0              95.0  \n",
      "1             800.0  \n",
      "2             521.0  \n",
      "3             527.0  \n",
      "4             611.0  \n",
      "...             ...  \n",
      "9236          664.0  \n",
      "9237           71.0  \n",
      "9238          496.0  \n",
      "9239          969.0  \n",
      "9240           32.0  \n",
      "\n",
      "[9241 rows x 4 columns]\n"
     ]
    }
   ],
   "source": [
    "brand_summary = (file.groupby(\"Brand\")\n",
    "                 .agg(\n",
    "                     number_of_products = (\"Name\",\"count\"),\n",
    "                     total_stock = (\"Stock\", \"sum\"),\n",
    "                     average_price = (\"Price\",\"mean\")\n",
    "                 ).reset_index()\n",
    "                )\n",
    "print(brand_summary)"
   ]
  },
  {
   "cell_type": "code",
   "execution_count": 50,
   "id": "879a1138-e6d3-4567-b59c-ca19112db657",
   "metadata": {},
   "outputs": [
    {
     "name": "stdout",
     "output_type": "stream",
     "text": [
      "[[0        Low Stock\n",
      "1       High Stock\n",
      "2       High Stock\n",
      "3        Low Stock\n",
      "4       High Stock\n",
      "           ...    \n",
      "9995     Low Stock\n",
      "9996     Low Stock\n",
      "9997    High Stock\n",
      "9998     Low Stock\n",
      "9999     Low Stock\n",
      "Name: Stock_level, Length: 10000, dtype: object]]\n"
     ]
    }
   ],
   "source": [
    "#Create a column that says \"High Stock\" if Stock > 500, otherwise \"Low Stock\".\n",
    "file[\"Stock_level\"] = file[\"Stock\"].apply(lambda x:\"High Stock\" if x > 500 else \"Low Stock\")\n",
    "print([[file[\"Stock_level\"]]])"
   ]
  },
  {
   "cell_type": "code",
   "execution_count": null,
   "id": "d6ebae76-7ebb-4d93-a285-0ea03624f92d",
   "metadata": {},
   "outputs": [],
   "source": []
  }
 ],
 "metadata": {
  "kernelspec": {
   "display_name": "Python [conda env:base] *",
   "language": "python",
   "name": "conda-base-py"
  },
  "language_info": {
   "codemirror_mode": {
    "name": "ipython",
    "version": 3
   },
   "file_extension": ".py",
   "mimetype": "text/x-python",
   "name": "python",
   "nbconvert_exporter": "python",
   "pygments_lexer": "ipython3",
   "version": "3.13.5"
  }
 },
 "nbformat": 4,
 "nbformat_minor": 5
}
