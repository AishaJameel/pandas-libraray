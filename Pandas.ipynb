{
 "cells": [
  {
   "cell_type": "code",
   "execution_count": 2,
   "id": "d62336a3-53e6-47f8-826d-a84cda8511dd",
   "metadata": {},
   "outputs": [
    {
     "name": "stdout",
     "output_type": "stream",
     "text": [
      "      Nmae  Age        city\n",
      "0    aisha   25      Lahore\n",
      "1  romaisa   22  gujranwala\n",
      "2  javeria   23   Islamabad\n"
     ]
    }
   ],
   "source": [
    "import pandas as pd\n",
    "data = {\n",
    "    \"Nmae\" :[\"aisha\",\"romaisa\",\"javeria\"],\n",
    "    \"Age\":[25,22,23] ,\n",
    "    \"city\":[\"Lahore\",\"gujranwala\",\"Islamabad\"]\n",
    "}\n",
    "df = pd.DataFrame(data)\n",
    "print(df)"
   ]
  },
  {
   "cell_type": "code",
   "execution_count": null,
   "id": "346ed2ed-7ff4-4142-bf58-347ba145e4f8",
   "metadata": {},
   "outputs": [],
   "source": [
    "Viewing Data\n",
    "\n",
    "df.head() → Shows first 5 rows.\n",
    "\n",
    "df.tail() → Shows last 5 rows.\n",
    "\n",
    "df.shape → Returns (rows, columns).\n",
    "\n",
    "df.info() → Summary of dataset.\n",
    "\n",
    "df.describe() → Summary statistics (mean, std, min, max, etc.).\n",
    "\n",
    "df.columns → List of column names.\n",
    "\n",
    "df.dtypes → Data types of columns"
   ]
  },
  {
   "cell_type": "code",
   "execution_count": 5,
   "id": "916c3f1a-c0b3-4717-827a-efb74d8217da",
   "metadata": {},
   "outputs": [
    {
     "name": "stdout",
     "output_type": "stream",
     "text": [
      "            date  precipitation  temp_max  temp_min  wind  weather\n",
      "0     2012-01-01            0.0      12.8       5.0   4.7  drizzle\n",
      "1     2012-01-02           10.9      10.6       2.8   4.5     rain\n",
      "2     2012-01-03            0.8      11.7       7.2   2.3     rain\n",
      "3     2012-01-04           20.3      12.2       5.6   4.7     rain\n",
      "4     2012-01-05            1.3       8.9       2.8   6.1     rain\n",
      "...          ...            ...       ...       ...   ...      ...\n",
      "1456  2015-12-27            8.6       4.4       1.7   2.9     rain\n",
      "1457  2015-12-28            1.5       5.0       1.7   1.3     rain\n",
      "1458  2015-12-29            0.0       7.2       0.6   2.6      fog\n",
      "1459  2015-12-30            0.0       5.6      -1.0   3.4      sun\n",
      "1460  2015-12-31            0.0       5.6      -2.1   3.5      sun\n",
      "\n",
      "[1461 rows x 6 columns]\n",
      "            date  precipitation  temp_max  temp_min  wind  weather\n",
      "0     2012-01-01            0.0      12.8       5.0   4.7  drizzle\n",
      "1     2012-01-02           10.9      10.6       2.8   4.5     rain\n",
      "2     2012-01-03            0.8      11.7       7.2   2.3     rain\n",
      "3     2012-01-04           20.3      12.2       5.6   4.7     rain\n",
      "4     2012-01-05            1.3       8.9       2.8   6.1     rain\n",
      "...          ...            ...       ...       ...   ...      ...\n",
      "1456  2015-12-27            8.6       4.4       1.7   2.9     rain\n",
      "1457  2015-12-28            1.5       5.0       1.7   1.3     rain\n",
      "1458  2015-12-29            0.0       7.2       0.6   2.6      fog\n",
      "1459  2015-12-30            0.0       5.6      -1.0   3.4      sun\n",
      "1460  2015-12-31            0.0       5.6      -2.1   3.5      sun\n",
      "\n",
      "[1461 rows x 6 columns]\n"
     ]
    }
   ],
   "source": [
    "df = pd.read_csv(r\"C:\\Users\\amnaj\\Downloads\\seattle-weather.csv\")\n",
    "df1 = pd.DataFrame(df)\n",
    "print(df)\n",
    "print(df1)"
   ]
  },
  {
   "cell_type": "code",
   "execution_count": 9,
   "id": "5ad7f22a-ab26-49c7-9d89-991217c40574",
   "metadata": {},
   "outputs": [
    {
     "name": "stdout",
     "output_type": "stream",
     "text": [
      "         date  precipitation  temp_max  temp_min  wind  weather\n",
      "0  2012-01-01            0.0      12.8       5.0   4.7  drizzle\n",
      "1  2012-01-02           10.9      10.6       2.8   4.5     rain\n",
      "2  2012-01-03            0.8      11.7       7.2   2.3     rain\n",
      "3  2012-01-04           20.3      12.2       5.6   4.7     rain\n",
      "4  2012-01-05            1.3       8.9       2.8   6.1     rain\n"
     ]
    }
   ],
   "source": [
    "#viewing data\n",
    "df = pd.read_csv(r\"C:\\Users\\amnaj\\Downloads\\seattle-weather.csv\")\n",
    "df1= df.head() # df(variable ,file name).head() #first 5 rows\n",
    "print(df1)"
   ]
  },
  {
   "cell_type": "code",
   "execution_count": 10,
   "id": "2afe343e-ec70-454e-8a4a-04c9d5cc0bea",
   "metadata": {},
   "outputs": [
    {
     "name": "stdout",
     "output_type": "stream",
     "text": [
      "            date  precipitation  temp_max  temp_min  wind  weather\n",
      "0     2012-01-01            0.0      12.8       5.0   4.7  drizzle\n",
      "1     2012-01-02           10.9      10.6       2.8   4.5     rain\n",
      "2     2012-01-03            0.8      11.7       7.2   2.3     rain\n",
      "3     2012-01-04           20.3      12.2       5.6   4.7     rain\n",
      "4     2012-01-05            1.3       8.9       2.8   6.1     rain\n",
      "...          ...            ...       ...       ...   ...      ...\n",
      "1450  2015-12-21           27.4       5.6       2.8   4.3     rain\n",
      "1451  2015-12-22            4.6       7.8       2.8   5.0     rain\n",
      "1452  2015-12-23            6.1       5.0       2.8   7.6     rain\n",
      "1453  2015-12-24            2.5       5.6       2.2   4.3     rain\n",
      "1454  2015-12-25            5.8       5.0       2.2   1.5     rain\n",
      "\n",
      "[1455 rows x 6 columns]\n"
     ]
    }
   ],
   "source": [
    "df = pd.read_csv(r\"C:\\Users\\amnaj\\Downloads\\seattle-weather.csv\")\n",
    "df1= df.head(-6) #leaving frst 6 columns nd print next\n",
    "print(df1)"
   ]
  },
  {
   "cell_type": "code",
   "execution_count": 11,
   "id": "0148c044-1707-4bff-a708-d87775ceefad",
   "metadata": {},
   "outputs": [
    {
     "name": "stdout",
     "output_type": "stream",
     "text": [
      "            date  precipitation  temp_max  temp_min  wind weather\n",
      "1456  2015-12-27            8.6       4.4       1.7   2.9    rain\n",
      "1457  2015-12-28            1.5       5.0       1.7   1.3    rain\n",
      "1458  2015-12-29            0.0       7.2       0.6   2.6     fog\n",
      "1459  2015-12-30            0.0       5.6      -1.0   3.4     sun\n",
      "1460  2015-12-31            0.0       5.6      -2.1   3.5     sun\n"
     ]
    }
   ],
   "source": [
    "df = pd.read_csv(r\"C:\\Users\\amnaj\\Downloads\\seattle-weather.csv\")\n",
    "df1= df.tail() #print last 5 rows\n",
    "print(df1)"
   ]
  },
  {
   "cell_type": "code",
   "execution_count": 14,
   "id": "51923a8b-f6ce-4358-aea4-ce54da9c5cf6",
   "metadata": {},
   "outputs": [
    {
     "name": "stdout",
     "output_type": "stream",
     "text": [
      "(1461, 6)\n"
     ]
    }
   ],
   "source": [
    "df = pd.read_csv(r\"C:\\Users\\amnaj\\Downloads\\seattle-weather.csv\")\n",
    "df1= df.shape #it does not required () #.shape is a property (an attribute), not a function.\n",
    "print(df1)                                   #That means you should not use () with it."
   ]
  },
  {
   "cell_type": "code",
   "execution_count": 15,
   "id": "2f5ae3ab-6b4e-4cb7-b1c3-02570519f968",
   "metadata": {},
   "outputs": [
    {
     "name": "stdout",
     "output_type": "stream",
     "text": [
      "<class 'pandas.core.frame.DataFrame'>\n",
      "RangeIndex: 1461 entries, 0 to 1460\n",
      "Data columns (total 6 columns):\n",
      " #   Column         Non-Null Count  Dtype  \n",
      "---  ------         --------------  -----  \n",
      " 0   date           1461 non-null   object \n",
      " 1   precipitation  1461 non-null   float64\n",
      " 2   temp_max       1461 non-null   float64\n",
      " 3   temp_min       1461 non-null   float64\n",
      " 4   wind           1461 non-null   float64\n",
      " 5   weather        1461 non-null   object \n",
      "dtypes: float64(4), object(2)\n",
      "memory usage: 68.6+ KB\n",
      "None\n"
     ]
    }
   ],
   "source": [
    "df = pd.read_csv(r\"C:\\Users\\amnaj\\Downloads\\seattle-weather.csv\")\n",
    "df2 = df.info()\n",
    "print(df2)"
   ]
  },
  {
   "cell_type": "code",
   "execution_count": 17,
   "id": "676d4d3b-fa09-483d-8df5-0902133243dc",
   "metadata": {},
   "outputs": [
    {
     "name": "stdout",
     "output_type": "stream",
     "text": [
      "       precipitation     temp_max     temp_min         wind\n",
      "count    1461.000000  1461.000000  1461.000000  1461.000000\n",
      "mean        3.029432    16.439083     8.234771     3.241136\n",
      "std         6.680194     7.349758     5.023004     1.437825\n",
      "min         0.000000    -1.600000    -7.100000     0.400000\n",
      "25%         0.000000    10.600000     4.400000     2.200000\n",
      "50%         0.000000    15.600000     8.300000     3.000000\n",
      "75%         2.800000    22.200000    12.200000     4.000000\n",
      "max        55.900000    35.600000    18.300000     9.500000\n"
     ]
    }
   ],
   "source": [
    "df = pd.read_csv(r\"C:\\Users\\amnaj\\Downloads\\seattle-weather.csv\")\n",
    "df2 = df.describe()\n",
    "print(df2)"
   ]
  },
  {
   "cell_type": "code",
   "execution_count": 18,
   "id": "1d0ab226-0568-43ce-9379-f2c22826f7bf",
   "metadata": {},
   "outputs": [
    {
     "name": "stdout",
     "output_type": "stream",
     "text": [
      "Index(['date', 'precipitation', 'temp_max', 'temp_min', 'wind', 'weather'], dtype='object')\n"
     ]
    }
   ],
   "source": [
    "file = pd.read_csv(r\"C:\\Users\\amnaj\\Downloads\\seattle-weather.csv\")\n",
    "df1 = file.columns\n",
    "print(df1)"
   ]
  },
  {
   "cell_type": "code",
   "execution_count": 19,
   "id": "57e5f86a-09af-4b2a-9c53-a2a3f7cb931d",
   "metadata": {},
   "outputs": [
    {
     "name": "stdout",
     "output_type": "stream",
     "text": [
      "date              object\n",
      "precipitation    float64\n",
      "temp_max         float64\n",
      "temp_min         float64\n",
      "wind             float64\n",
      "weather           object\n",
      "dtype: object\n"
     ]
    }
   ],
   "source": [
    "file = pd.read_csv(r\"C:\\Users\\amnaj\\Downloads\\seattle-weather.csv\")\n",
    "df2 = file.dtypes #datatype of columns\n",
    "print(df2)"
   ]
  },
  {
   "cell_type": "code",
   "execution_count": null,
   "id": "68e60309-54ce-4eab-9671-8b193d1b078c",
   "metadata": {},
   "outputs": [],
   "source": [
    "🔹 Selecting & Indexing\n",
    "\n",
    "df['col'] → Select column.\n",
    "\n",
    "df[['col1','col2']] → Select multiple columns.\n",
    "\n",
    "df.loc[row_label, col_label] → Select by labels.\n",
    "\n",
    "df.iloc[row_index, col_index] → Select by position.\n",
    "\n",
    "df.at[row, col] → Fast access by label.\n",
    "\n",
    "df.iat[row, col] → Fast access by position."
   ]
  },
  {
   "cell_type": "code",
   "execution_count": 21,
   "id": "99bbcb33-0e4b-40ce-a6b5-d493f3d5f439",
   "metadata": {},
   "outputs": [
    {
     "name": "stdout",
     "output_type": "stream",
     "text": [
      "0       5.0\n",
      "1       2.8\n",
      "2       7.2\n",
      "3       5.6\n",
      "4       2.8\n",
      "       ... \n",
      "1456    1.7\n",
      "1457    1.7\n",
      "1458    0.6\n",
      "1459   -1.0\n",
      "1460   -2.1\n",
      "Name: temp_min, Length: 1461, dtype: float64\n"
     ]
    }
   ],
   "source": [
    "file = pd.read_csv(r\"C:\\Users\\amnaj\\Downloads\\seattle-weather.csv\")\n",
    "df1 = file['temp_min'] #file['exact name of column']\n",
    "print(df1)"
   ]
  },
  {
   "cell_type": "code",
   "execution_count": 23,
   "id": "d3fefa7f-d288-4d1a-87ce-6c5fd6673577",
   "metadata": {},
   "outputs": [
    {
     "name": "stdout",
     "output_type": "stream",
     "text": [
      "      precipitation  wind\n",
      "0               0.0   4.7\n",
      "1              10.9   4.5\n",
      "2               0.8   2.3\n",
      "3              20.3   4.7\n",
      "4               1.3   6.1\n",
      "...             ...   ...\n",
      "1456            8.6   2.9\n",
      "1457            1.5   1.3\n",
      "1458            0.0   2.6\n",
      "1459            0.0   3.4\n",
      "1460            0.0   3.5\n",
      "\n",
      "[1461 rows x 2 columns]\n"
     ]
    }
   ],
   "source": [
    "file = pd.read_csv(r\"C:\\Users\\amnaj\\Downloads\\seattle-weather.csv\")\n",
    "df2 = file[['precipitation','wind']]\n",
    "print(df2)"
   ]
  },
  {
   "cell_type": "code",
   "execution_count": 27,
   "id": "492ec227-c573-4815-97dc-e514f14c28ed",
   "metadata": {
    "scrolled": true
   },
   "outputs": [
    {
     "name": "stdout",
     "output_type": "stream",
     "text": [
      "            date  precipitation  wind  temp_max\n",
      "0     2012-01-01            0.0   4.7      12.8\n",
      "1     2012-01-02           10.9   4.5      10.6\n",
      "2     2012-01-03            0.8   2.3      11.7\n",
      "3     2012-01-04           20.3   4.7      12.2\n",
      "4     2012-01-05            1.3   6.1       8.9\n",
      "...          ...            ...   ...       ...\n",
      "1456  2015-12-27            8.6   2.9       4.4\n",
      "1457  2015-12-28            1.5   1.3       5.0\n",
      "1458  2015-12-29            0.0   2.6       7.2\n",
      "1459  2015-12-30            0.0   3.4       5.6\n",
      "1460  2015-12-31            0.0   3.5       5.6\n",
      "\n",
      "[1461 rows x 4 columns]\n"
     ]
    }
   ],
   "source": [
    "file = pd.read_csv(r\"C:\\Users\\amnaj\\Downloads\\seattle-weather.csv\")\n",
    "df2 = file[['date','precipitation','wind','temp_max']]\n",
    "print(df2)"
   ]
  },
  {
   "cell_type": "code",
   "execution_count": 30,
   "id": "50fc0fe5-e82f-4c58-9c6b-df56cf047892",
   "metadata": {},
   "outputs": [
    {
     "name": "stdout",
     "output_type": "stream",
     "text": [
      "4.7\n"
     ]
    }
   ],
   "source": [
    "file = pd.read_csv(r\"C:\\Users\\amnaj\\Downloads\\seattle-weather.csv\")\n",
    "print(file.loc[0,'wind'])"
   ]
  },
  {
   "cell_type": "code",
   "execution_count": 31,
   "id": "73ce902e-3df2-437c-80a5-d2b973d53ed7",
   "metadata": {},
   "outputs": [
    {
     "name": "stdout",
     "output_type": "stream",
     "text": [
      "1     4.5\n",
      "2     2.3\n",
      "3     4.7\n",
      "4     6.1\n",
      "5     2.2\n",
      "6     2.3\n",
      "7     2.0\n",
      "8     3.4\n",
      "9     3.4\n",
      "10    5.1\n",
      "11    1.9\n",
      "12    1.3\n",
      "13    5.3\n",
      "14    3.2\n",
      "15    5.0\n",
      "16    5.6\n",
      "17    5.0\n",
      "18    1.6\n",
      "19    2.3\n",
      "Name: wind, dtype: float64\n"
     ]
    }
   ],
   "source": [
    "file = pd.read_csv(r\"C:\\Users\\amnaj\\Downloads\\seattle-weather.csv\")\n",
    "print(file.loc[1:19 , 'wind']) #for multiple rows of single column\n"
   ]
  },
  {
   "cell_type": "code",
   "execution_count": 34,
   "id": "e5fcfa61-27f1-411f-b2c6-7c246aeca167",
   "metadata": {},
   "outputs": [
    {
     "name": "stdout",
     "output_type": "stream",
     "text": [
      "    wind  temp_min\n",
      "1    4.5       2.8\n",
      "2    2.3       7.2\n",
      "3    4.7       5.6\n",
      "4    6.1       2.8\n",
      "5    2.2       2.2\n",
      "6    2.3       2.8\n",
      "7    2.0       2.8\n",
      "8    3.4       5.0\n",
      "9    3.4       0.6\n",
      "10   5.1      -1.1\n",
      "11   1.9      -1.7\n",
      "12   1.3      -2.8\n",
      "13   5.3       0.6\n",
      "14   3.2      -3.3\n",
      "15   5.0      -2.8\n",
      "16   5.6       0.0\n",
      "17   5.0      -2.8\n",
      "18   1.6      -2.8\n",
      "19   2.3      -1.1\n"
     ]
    }
   ],
   "source": [
    "#for multiple rows nd multiple columns by label\n",
    "file = pd.read_csv(r\"C:\\Users\\amnaj\\Downloads\\seattle-weather.csv\")\n",
    "print(file.loc[1:19 , ['wind','temp_min']])"
   ]
  },
  {
   "cell_type": "code",
   "execution_count": 37,
   "id": "18315087-bcc5-492e-aa8d-411d294ed616",
   "metadata": {},
   "outputs": [
    {
     "name": "stdout",
     "output_type": "stream",
     "text": [
      "2.8\n"
     ]
    }
   ],
   "source": [
    "file = pd.read_csv(r\"C:\\Users\\amnaj\\Downloads\\seattle-weather.csv\")\n",
    "print(file.iloc[4,3])"
   ]
  },
  {
   "cell_type": "code",
   "execution_count": 38,
   "id": "0cdec17a-4d4e-4be1-948a-e6a18029f8c6",
   "metadata": {},
   "outputs": [
    {
     "name": "stdout",
     "output_type": "stream",
     "text": [
      "rain\n"
     ]
    }
   ],
   "source": [
    "file = pd.read_csv(r\"C:\\Users\\amnaj\\Downloads\\seattle-weather.csv\")\n",
    "print(file.iloc[4,5]) #the value at 5th row nd 6th column according to index method"
   ]
  },
  {
   "cell_type": "code",
   "execution_count": 4,
   "id": "b7f08f81-cf6e-425e-82ba-01c014c9980d",
   "metadata": {},
   "outputs": [
    {
     "name": "stdout",
     "output_type": "stream",
     "text": [
      "date             2012-02-26\n",
      "precipitation           1.3\n",
      "temp_max                5.0\n",
      "temp_min               -1.1\n",
      "wind                    3.4\n",
      "weather                snow\n",
      "Name: 56, dtype: object\n"
     ]
    }
   ],
   "source": [
    "import pandas as pd\n",
    "file = pd.read_csv(r\"C:\\Users\\amnaj\\Downloads\\seattle-weather.csv\")\n",
    "print(file.iloc[56])"
   ]
  },
  {
   "cell_type": "code",
   "execution_count": 5,
   "id": "1c9d4ca7-d48c-40c1-a3a2-cd2599f26eda",
   "metadata": {},
   "outputs": [
    {
     "name": "stdout",
     "output_type": "stream",
     "text": [
      "0       drizzle\n",
      "1          rain\n",
      "2          rain\n",
      "3          rain\n",
      "4          rain\n",
      "         ...   \n",
      "1456       rain\n",
      "1457       rain\n",
      "1458        fog\n",
      "1459        sun\n",
      "1460        sun\n",
      "Name: weather, Length: 1461, dtype: object\n"
     ]
    }
   ],
   "source": [
    "file = pd.read_csv(r\"C:\\Users\\amnaj\\Downloads\\seattle-weather.csv\")\n",
    "print(file.iloc[:,5])"
   ]
  },
  {
   "cell_type": "code",
   "execution_count": 8,
   "id": "f0ce6e93-6a4c-4306-8ed0-1ce85776aa60",
   "metadata": {},
   "outputs": [
    {
     "name": "stdout",
     "output_type": "stream",
     "text": [
      "7.2\n"
     ]
    }
   ],
   "source": [
    "#1. .at[row, col] → Fast access by label\n",
    "#Uses the row index label (like 0, 1, 2…) and the column name.\n",
    "#Best for a single value (not slices).\n",
    "\n",
    "file = pd.read_csv(r\"C:\\Users\\amnaj\\Downloads\\seattle-weather.csv\")\n",
    "print(file.at[2,'temp_min'])"
   ]
  },
  {
   "cell_type": "code",
   "execution_count": 10,
   "id": "7446b082-7627-42d3-b38f-7755cfeb3e7b",
   "metadata": {},
   "outputs": [
    {
     "name": "stdout",
     "output_type": "stream",
     "text": [
      "2.3\n"
     ]
    }
   ],
   "source": [
    "#2. .iat[row, col] → Fast access by position\n",
    "#Uses the row number and column number (starting at 0).\n",
    "#Also best for a single value.\n",
    "file = pd.read_csv(r\"C:\\Users\\amnaj\\Downloads\\seattle-weather.csv\")\n",
    "print(file.iat[2,4])"
   ]
  },
  {
   "cell_type": "code",
   "execution_count": null,
   "id": "c6739a7b-e41f-4a84-a91d-709d5dd86147",
   "metadata": {},
   "outputs": [],
   "source": [
    "🔹 Filtering\n",
    "\n",
    "df[df['col'] > 10] → Filter rows by condition.\n",
    "\n",
    "df[(df['col1'] > 10) & (df['col2'] < 50)] → Multiple conditions.\n",
    "\n",
    "df.query(\"col > 10 and col2 < 50\") → SQL-like filtering.\n"
   ]
  },
  {
   "cell_type": "code",
   "execution_count": 11,
   "id": "314975d2-4676-4bc1-b26a-20a5842d806b",
   "metadata": {},
   "outputs": [
    {
     "name": "stdout",
     "output_type": "stream",
     "text": [
      "            date  precipitation  temp_max  temp_min  wind  weather\n",
      "0     2012-01-01            0.0      12.8       5.0   4.7  drizzle\n",
      "1     2012-01-02           10.9      10.6       2.8   4.5     rain\n",
      "3     2012-01-04           20.3      12.2       5.6   4.7     rain\n",
      "4     2012-01-05            1.3       8.9       2.8   6.1     rain\n",
      "8     2012-01-09            4.3       9.4       5.0   3.4     rain\n",
      "...          ...            ...       ...       ...   ...      ...\n",
      "1451  2015-12-22            4.6       7.8       2.8   5.0     rain\n",
      "1452  2015-12-23            6.1       5.0       2.8   7.6     rain\n",
      "1453  2015-12-24            2.5       5.6       2.2   4.3     rain\n",
      "1459  2015-12-30            0.0       5.6      -1.0   3.4      sun\n",
      "1460  2015-12-31            0.0       5.6      -2.1   3.5      sun\n",
      "\n",
      "[673 rows x 6 columns]\n"
     ]
    }
   ],
   "source": [
    "#all rows where wind >3 \n",
    "file = pd.read_csv(r\"C:\\Users\\amnaj\\Downloads\\seattle-weather.csv\")\n",
    "wind = file[file['wind'] > 3]\n",
    "print(wind)"
   ]
  },
  {
   "cell_type": "code",
   "execution_count": 13,
   "id": "f2593301-76bd-4fa3-ad28-ad604536d533",
   "metadata": {},
   "outputs": [
    {
     "name": "stdout",
     "output_type": "stream",
     "text": [
      "            date  precipitation  temp_max  temp_min  wind weather\n",
      "216   2012-08-04            0.0      33.9      16.7   3.7     sun\n",
      "217   2012-08-05            0.0      33.9      17.8   1.9     sun\n",
      "224   2012-08-12            0.0      30.6      15.0   3.0     sun\n",
      "225   2012-08-13            0.0      30.6      15.0   2.8     sun\n",
      "227   2012-08-15            0.0      31.1      16.7   4.7     sun\n",
      "228   2012-08-16            0.0      34.4      18.3   2.8     sun\n",
      "229   2012-08-17            0.0      32.8      16.1   1.8     sun\n",
      "250   2012-09-07            0.0      32.2      13.3   3.1     sun\n",
      "491   2013-05-06            0.0      30.6      12.2   2.0     sun\n",
      "544   2013-06-28            0.0      30.6      16.1   2.2     sun\n",
      "546   2013-06-30            0.0      33.9      17.2   2.5     sun\n",
      "547   2013-07-01            0.0      31.7      18.3   2.3     sun\n",
      "562   2013-07-16            0.0      31.1      18.3   4.1     sun\n",
      "569   2013-07-23            0.0      31.1      13.9   3.0     sun\n",
      "570   2013-07-24            0.0      31.1      14.4   2.5     sun\n",
      "571   2013-07-25            0.0      31.1      12.8   2.3     sun\n",
      "572   2013-07-26            0.0      31.1      14.4   2.9     sun\n",
      "583   2013-08-06            0.0      30.6      13.9   1.4     sun\n",
      "584   2013-08-07            0.0      31.1      13.9   1.9     sun\n",
      "619   2013-09-11            0.0      33.9      16.1   2.4     sun\n",
      "912   2014-07-01            0.0      34.4      15.6   3.5     sun\n",
      "922   2014-07-11            0.0      31.1      15.0   2.2     sun\n",
      "923   2014-07-12            0.0      32.2      16.7   2.2     sun\n",
      "926   2014-07-15            0.0      31.1      13.9   2.3     sun\n",
      "927   2014-07-16            0.0      31.1      14.4   2.4     sun\n",
      "939   2014-07-28            0.0      30.6      15.0   3.7     sun\n",
      "942   2014-07-31            0.0      30.6      17.8   4.1     sun\n",
      "945   2014-08-03            0.0      31.7      14.4   2.6     sun\n",
      "946   2014-08-04            0.0      32.8      16.1   2.6     sun\n",
      "952   2014-08-10            0.0      30.6      13.9   3.4     sun\n",
      "968   2014-08-26            0.0      31.1      15.6   1.8     sun\n",
      "979   2014-09-06            0.0      32.2      15.0   2.9     sun\n",
      "988   2014-09-15            0.0      30.6      12.2   1.2     sun\n",
      "1253  2015-06-07            0.0      31.1      15.6   3.2     sun\n",
      "1254  2015-06-08            0.0      30.6      14.4   3.5     sun\n",
      "1271  2015-06-25            0.0      30.6      15.6   3.0     sun\n",
      "1272  2015-06-26            0.0      31.7      17.8   4.7     sun\n",
      "1273  2015-06-27            0.0      33.3      17.2   3.9     sun\n",
      "1277  2015-07-01            0.0      32.2      17.2   4.3     sun\n",
      "1278  2015-07-02            0.0      33.9      17.8   3.4     sun\n",
      "1279  2015-07-03            0.0      33.3      17.8   2.6     sun\n",
      "1280  2015-07-04            0.0      33.3      15.0   2.9     sun\n",
      "1281  2015-07-05            0.0      32.8      16.7   2.1     sun\n",
      "1294  2015-07-18            0.0      33.3      17.8   3.4     sun\n",
      "1295  2015-07-19            0.0      35.0      17.2   3.3     sun\n",
      "1305  2015-07-29            0.0      32.2      14.4   3.8     sun\n",
      "1306  2015-07-30            0.0      34.4      17.2   3.5     sun\n",
      "1307  2015-07-31            0.0      34.4      17.8   2.6     sun\n",
      "1308  2015-08-01            0.0      33.3      15.6   3.1     sun\n",
      "1309  2015-08-02            0.0      30.6      16.1   2.0     sun\n"
     ]
    }
   ],
   "source": [
    "file = pd.read_csv(r\"C:\\Users\\amnaj\\Downloads\\seattle-weather.csv\")\n",
    "hot_days = file[(file['temp_max'] > 30) & (file['weather'] == 'sun')]\n",
    "print(hot_days)"
   ]
  },
  {
   "cell_type": "code",
   "execution_count": 17,
   "id": "b24ba554-321f-4d75-b264-d08fcaf53b5b",
   "metadata": {},
   "outputs": [
    {
     "name": "stdout",
     "output_type": "stream",
     "text": [
      "            date  precipitation  temp_max  temp_min  wind weather\n",
      "1     2012-01-02           10.9      10.6       2.8   4.5    rain\n",
      "2     2012-01-03            0.8      11.7       7.2   2.3    rain\n",
      "3     2012-01-04           20.3      12.2       5.6   4.7    rain\n",
      "4     2012-01-05            1.3       8.9       2.8   6.1    rain\n",
      "5     2012-01-06            2.5       4.4       2.2   2.2    rain\n",
      "...          ...            ...       ...       ...   ...     ...\n",
      "1452  2015-12-23            6.1       5.0       2.8   7.6    rain\n",
      "1453  2015-12-24            2.5       5.6       2.2   4.3    rain\n",
      "1454  2015-12-25            5.8       5.0       2.2   1.5    rain\n",
      "1456  2015-12-27            8.6       4.4       1.7   2.9    rain\n",
      "1457  2015-12-28            1.5       5.0       1.7   1.3    rain\n",
      "\n",
      "[641 rows x 6 columns]\n"
     ]
    }
   ],
   "source": [
    "#AND OPERATION USE & .(put condition inside parentheses())\n",
    "file = pd.read_csv(r\"C:\\Users\\amnaj\\Downloads\\seattle-weather.csv\")\n",
    "rainy_days = file[(file['temp_min'] <30) & (file['weather']== 'rain')]\n",
    "print(rainy_days)"
   ]
  },
  {
   "cell_type": "code",
   "execution_count": 22,
   "id": "26cf8793-5dae-4786-9171-e20cf40bad1c",
   "metadata": {},
   "outputs": [
    {
     "name": "stdout",
     "output_type": "stream",
     "text": [
      "            date  precipitation  temp_max  temp_min  wind  weather\n",
      "0     2012-01-01            0.0      12.8       5.0   4.7  drizzle\n",
      "1     2012-01-02           10.9      10.6       2.8   4.5     rain\n",
      "2     2012-01-03            0.8      11.7       7.2   2.3     rain\n",
      "3     2012-01-04           20.3      12.2       5.6   4.7     rain\n",
      "4     2012-01-05            1.3       8.9       2.8   6.1     rain\n",
      "...          ...            ...       ...       ...   ...      ...\n",
      "1456  2015-12-27            8.6       4.4       1.7   2.9     rain\n",
      "1457  2015-12-28            1.5       5.0       1.7   1.3     rain\n",
      "1458  2015-12-29            0.0       7.2       0.6   2.6      fog\n",
      "1459  2015-12-30            0.0       5.6      -1.0   3.4      sun\n",
      "1460  2015-12-31            0.0       5.6      -2.1   3.5      sun\n",
      "\n",
      "[1434 rows x 6 columns]\n"
     ]
    }
   ],
   "source": [
    "file = pd.read_csv(r\"C:\\Users\\amnaj\\Downloads\\seattle-weather.csv\")\n",
    "wind = file[(file['wind'] < 3 ) | (file['temp_max'] < 30 )]\n",
    "print(wind)"
   ]
  },
  {
   "cell_type": "code",
   "execution_count": 24,
   "id": "5a729674-6cd7-452d-9853-1a546a5c305f",
   "metadata": {},
   "outputs": [
    {
     "name": "stdout",
     "output_type": "stream",
     "text": [
      "            date  precipitation  temp_max  temp_min  wind  weather\n",
      "0     2012-01-01            0.0      12.8       5.0   4.7  drizzle\n",
      "1     2012-01-02           10.9      10.6       2.8   4.5     rain\n",
      "2     2012-01-03            0.8      11.7       7.2   2.3     rain\n",
      "3     2012-01-04           20.3      12.2       5.6   4.7     rain\n",
      "4     2012-01-05            1.3       8.9       2.8   6.1     rain\n",
      "...          ...            ...       ...       ...   ...      ...\n",
      "1456  2015-12-27            8.6       4.4       1.7   2.9     rain\n",
      "1457  2015-12-28            1.5       5.0       1.7   1.3     rain\n",
      "1458  2015-12-29            0.0       7.2       0.6   2.6      fog\n",
      "1459  2015-12-30            0.0       5.6      -1.0   3.4      sun\n",
      "1460  2015-12-31            0.0       5.6      -2.1   3.5      sun\n",
      "\n",
      "[1461 rows x 6 columns]\n"
     ]
    }
   ],
   "source": [
    "file = pd.read_csv(r\"C:\\Users\\amnaj\\Downloads\\seattle-weather.csv\")\n",
    "weather = file[(file['temp_max'] <30) | (file['temp_min'] > 5)]\n",
    "print (weather)"
   ]
  },
  {
   "cell_type": "code",
   "execution_count": 2,
   "id": "7fc1e8cb-47f7-43a8-a7e9-66705105cd02",
   "metadata": {},
   "outputs": [
    {
     "name": "stdout",
     "output_type": "stream",
     "text": [
      "            date  precipitation  temp_max  temp_min  wind weather\n",
      "1     2012-01-02           10.9      10.6       2.8   4.5    rain\n",
      "2     2012-01-03            0.8      11.7       7.2   2.3    rain\n",
      "3     2012-01-04           20.3      12.2       5.6   4.7    rain\n",
      "4     2012-01-05            1.3       8.9       2.8   6.1    rain\n",
      "5     2012-01-06            2.5       4.4       2.2   2.2    rain\n",
      "...          ...            ...       ...       ...   ...     ...\n",
      "1452  2015-12-23            6.1       5.0       2.8   7.6    rain\n",
      "1453  2015-12-24            2.5       5.6       2.2   4.3    rain\n",
      "1454  2015-12-25            5.8       5.0       2.2   1.5    rain\n",
      "1456  2015-12-27            8.6       4.4       1.7   2.9    rain\n",
      "1457  2015-12-28            1.5       5.0       1.7   1.3    rain\n",
      "\n",
      "[695 rows x 6 columns]\n"
     ]
    }
   ],
   "source": [
    "#🔹 3. SQL-like filtering with query()\n",
    "#This is shorter and cleaner for complex conditions:\n",
    "import pandas as pd\n",
    "file = pd.read_csv(r\"C:\\Users\\amnaj\\Downloads\\seattle-weather.csv\")\n",
    "# Same as first example but with query\n",
    "hot_days = file.query(\"temp_max > 25\")\n",
    "\n",
    "# Multiple conditions\n",
    "hot_sunny = file.query(\"temp_max > 25 and weather == 'sun'\")\n",
    "rainy_or_windy = file.query(\"weather == 'rain' or wind > 5\")\n",
    "print(rainy_or_windy )"
   ]
  },
  {
   "cell_type": "code",
   "execution_count": null,
   "id": "e664e583-ec00-48b2-867f-e9f6f17ed827",
   "metadata": {},
   "outputs": [],
   "source": [
    "✅ Quick Comparison\n",
    "Method\tExample\tNotes\n",
    "Bracket    filtering\t df[df['temp_max'] > 25]\t Most common\n",
    "Multiple    cond.\t       df[(df['temp_max'] > 25) & (df['weather'] == 'sun')]\t Must use & / `\n",
    "query()  \tdf.query(\"temp_max > 25 and weather == 'sun'\")  \tCleaner, SQL-style"
   ]
  },
  {
   "cell_type": "code",
   "execution_count": 5,
   "id": "ff06d9b2-0bcf-45d5-8843-1e3c62f3fca6",
   "metadata": {},
   "outputs": [
    {
     "name": "stdout",
     "output_type": "stream",
     "text": [
      "            date  precipitation  temp_max  temp_min  wind  weather\n",
      "0     2012-01-01            0.0      12.8       5.0   4.7  drizzle\n",
      "1     2012-01-02           10.9      10.6       2.8   4.5     rain\n",
      "2     2012-01-03            0.8      11.7       7.2   2.3     rain\n",
      "3     2012-01-04           20.3      12.2       5.6   4.7     rain\n",
      "4     2012-01-05            1.3       8.9       2.8   6.1     rain\n",
      "...          ...            ...       ...       ...   ...      ...\n",
      "1452  2015-12-23            6.1       5.0       2.8   7.6     rain\n",
      "1453  2015-12-24            2.5       5.6       2.2   4.3     rain\n",
      "1454  2015-12-25            5.8       5.0       2.2   1.5     rain\n",
      "1456  2015-12-27            8.6       4.4       1.7   2.9     rain\n",
      "1457  2015-12-28            1.5       5.0       1.7   1.3     rain\n",
      "\n",
      "[777 rows x 6 columns]\n"
     ]
    }
   ],
   "source": [
    "file = pd.read_csv(r\"C:\\Users\\amnaj\\Downloads\\seattle-weather.csv\")\n",
    "rainy_or_windly = file.query(\"weather=='rain' | wind >4\")\n",
    "print(rainy_or_windly)"
   ]
  },
  {
   "cell_type": "code",
   "execution_count": null,
   "id": "518a74eb-faf7-41b7-b330-cb6d3df32acc",
   "metadata": {},
   "outputs": [],
   "source": [
    "🔹 Modifying Data\n",
    "\n",
    "df['new_col'] = df['col1'] + df['col2'] → Add new column.\n",
    "\n",
    "df.drop('col', axis=1) → Drop a column.\n",
    "\n",
    "df.drop(0, axis=0) → Drop a row.\n",
    "\n",
    "df.rename(columns={'old':'new'}) → Rename columns.\n",
    "\n",
    "df.replace({'old_val': 'new_val'}) → Replace values."
   ]
  },
  {
   "cell_type": "code",
   "execution_count": 3,
   "id": "056c9b2d-e813-43da-8427-447c997da5aa",
   "metadata": {},
   "outputs": [
    {
     "name": "stdout",
     "output_type": "stream",
     "text": [
      "0       17.8\n",
      "1       13.4\n",
      "2       18.9\n",
      "3       17.8\n",
      "4       11.7\n",
      "        ... \n",
      "1456     6.1\n",
      "1457     6.7\n",
      "1458     7.8\n",
      "1459     4.6\n",
      "1460     3.5\n",
      "Name: new_col, Length: 1461, dtype: float64\n"
     ]
    }
   ],
   "source": [
    "#ADDING A NEW COLUMN\n",
    "import pandas as pd\n",
    "file = pd.read_csv(r\"C:\\Users\\amnaj\\Downloads\\seattle-weather.csv\")\n",
    "file['new_col'] = file ['temp_max']+file['temp_min']\n",
    "print(file['new_col'])\n"
   ]
  },
  {
   "cell_type": "code",
   "execution_count": 8,
   "id": "f433a1ac-6e46-4c64-abb9-b6d1ca7951da",
   "metadata": {},
   "outputs": [
    {
     "name": "stdout",
     "output_type": "stream",
     "text": [
      "None\n"
     ]
    }
   ],
   "source": [
    "\n",
    "#df.drop('col', axis=1, inplace=True)\n",
    "file = pd.read_csv(r\"C:\\Users\\amnaj\\Downloads\\seattle-weather.csv\")\n",
    "#👉 Removes the column named col.\n",
    "#axis=1 → column, axis=0 → row.\n",
    "#Use inplace=True to update directly.\n",
    "file1 = file.drop('wind' , axis = 1,inplace = True)\n",
    "print(file1)\n"
   ]
  },
  {
   "cell_type": "code",
   "execution_count": 10,
   "id": "e6bb7691-b7ac-4be0-85bf-609932a012d5",
   "metadata": {},
   "outputs": [
    {
     "name": "stdout",
     "output_type": "stream",
     "text": [
      "0       12.8\n",
      "1       10.6\n",
      "2       11.7\n",
      "3       12.2\n",
      "4        8.9\n",
      "        ... \n",
      "1456     4.4\n",
      "1457     5.0\n",
      "1458     7.2\n",
      "1459     5.6\n",
      "1460     5.6\n",
      "Name: temp_max, Length: 1461, dtype: float64\n"
     ]
    }
   ],
   "source": [
    "file = pd.read_csv(r\"C:\\Users\\amnaj\\Downloads\\seattle-weather.csv\")\n",
    "file1 = file['temp_max']\n",
    "print(file1)"
   ]
  },
  {
   "cell_type": "code",
   "execution_count": 14,
   "id": "dd8d8ae2-2839-4e55-bb2e-8a2eea664777",
   "metadata": {},
   "outputs": [
    {
     "name": "stdout",
     "output_type": "stream",
     "text": [
      "      temp_max  weather\n",
      "0         12.8  drizzle\n",
      "1         10.6     rain\n",
      "2         11.7     rain\n",
      "3         12.2     rain\n",
      "4          8.9     rain\n",
      "...        ...      ...\n",
      "1456       4.4     rain\n",
      "1457       5.0     rain\n",
      "1458       7.2      fog\n",
      "1459       5.6      sun\n",
      "1460       5.6      sun\n",
      "\n",
      "[1461 rows x 2 columns]\n"
     ]
    }
   ],
   "source": [
    "file = pd.read_csv(r\"C:\\Users\\amnaj\\Downloads\\seattle-weather.csv\")\n",
    "file1 = file[['temp_max', 'weather']]\n",
    "print(file1)"
   ]
  },
  {
   "cell_type": "code",
   "execution_count": 20,
   "id": "bfdbde5d-a16e-4f6c-ad01-5cb8ad7d947a",
   "metadata": {},
   "outputs": [
    {
     "name": "stdout",
     "output_type": "stream",
     "text": [
      "      temp_max  temp_min  weather\n",
      "0         12.8       5.0  drizzle\n",
      "1         10.6       2.8     rain\n",
      "2         11.7       7.2     rain\n",
      "3         12.2       5.6     rain\n",
      "4          8.9       2.8     rain\n",
      "...        ...       ...      ...\n",
      "1456       4.4       1.7     rain\n",
      "1457       5.0       1.7     rain\n",
      "1458       7.2       0.6      fog\n",
      "1459       5.6      -1.0      sun\n",
      "1460       5.6      -2.1      sun\n",
      "\n",
      "[1461 rows x 3 columns]\n"
     ]
    }
   ],
   "source": [
    "#drop  a column\n",
    "\n",
    "file1 = file.drop(['date' ,'precipitation','wind'] , axis =1)\n",
    "print(file1)\n",
    "                   \n"
   ]
  },
  {
   "cell_type": "code",
   "execution_count": 26,
   "id": "6bca96fc-d8a8-42d3-b48f-a18f62ea2e59",
   "metadata": {},
   "outputs": [
    {
     "name": "stdout",
     "output_type": "stream",
     "text": [
      "            date  precipitation  temp_max  temp_min  wind  weather\n",
      "0     2012-01-01            0.0      12.8       5.0   4.7  drizzle\n",
      "1     2012-01-02           10.9      10.6       2.8   4.5     rain\n",
      "2     2012-01-03            0.8      11.7       7.2   2.3     rain\n",
      "4     2012-01-05            1.3       8.9       2.8   6.1     rain\n",
      "5     2012-01-06            2.5       4.4       2.2   2.2     rain\n",
      "...          ...            ...       ...       ...   ...      ...\n",
      "1456  2015-12-27            8.6       4.4       1.7   2.9     rain\n",
      "1457  2015-12-28            1.5       5.0       1.7   1.3     rain\n",
      "1458  2015-12-29            0.0       7.2       0.6   2.6      fog\n",
      "1459  2015-12-30            0.0       5.6      -1.0   3.4      sun\n",
      "1460  2015-12-31            0.0       5.6      -2.1   3.5      sun\n",
      "\n",
      "[1460 rows x 6 columns]\n"
     ]
    }
   ],
   "source": [
    "#drop a row\n",
    "#df.drop(2, axis=0) → Drop a row.\n",
    "file1 = file.drop(3,axis = 0) #it drops 3rd row\n",
    "print(file1)"
   ]
  },
  {
   "cell_type": "code",
   "execution_count": 29,
   "id": "9a2333e5-a091-42a5-9b61-af99cde55658",
   "metadata": {},
   "outputs": [
    {
     "name": "stdout",
     "output_type": "stream",
     "text": [
      "            date  precipitation  temp_max  temp_min  air  weather\n",
      "0     2012-01-01            0.0      12.8       5.0  4.7  drizzle\n",
      "1     2012-01-02           10.9      10.6       2.8  4.5     rain\n",
      "2     2012-01-03            0.8      11.7       7.2  2.3     rain\n",
      "3     2012-01-04           20.3      12.2       5.6  4.7     rain\n",
      "4     2012-01-05            1.3       8.9       2.8  6.1     rain\n",
      "...          ...            ...       ...       ...  ...      ...\n",
      "1456  2015-12-27            8.6       4.4       1.7  2.9     rain\n",
      "1457  2015-12-28            1.5       5.0       1.7  1.3     rain\n",
      "1458  2015-12-29            0.0       7.2       0.6  2.6      fog\n",
      "1459  2015-12-30            0.0       5.6      -1.0  3.4      sun\n",
      "1460  2015-12-31            0.0       5.6      -2.1  3.5      sun\n",
      "\n",
      "[1461 rows x 6 columns]\n"
     ]
    }
   ],
   "source": [
    "#df.rename(columns={'old':'new'}) → Rename columns.\n",
    "file1 = file.rename(columns={'wind': 'air'})\n",
    "print(file1)\n"
   ]
  },
  {
   "cell_type": "code",
   "execution_count": 31,
   "id": "1ca7caaf-fa99-48f9-8199-2ed021dfdf41",
   "metadata": {},
   "outputs": [
    {
     "name": "stdout",
     "output_type": "stream",
     "text": [
      "            date  humidity  temp_max  temp_min  air  weather\n",
      "0     2012-01-01       0.0      12.8       5.0  4.7  drizzle\n",
      "1     2012-01-02      10.9      10.6       2.8  4.5     rain\n",
      "2     2012-01-03       0.8      11.7       7.2  2.3     rain\n",
      "3     2012-01-04      20.3      12.2       5.6  4.7     rain\n",
      "4     2012-01-05       1.3       8.9       2.8  6.1     rain\n",
      "...          ...       ...       ...       ...  ...      ...\n",
      "1456  2015-12-27       8.6       4.4       1.7  2.9     rain\n",
      "1457  2015-12-28       1.5       5.0       1.7  1.3     rain\n",
      "1458  2015-12-29       0.0       7.2       0.6  2.6      fog\n",
      "1459  2015-12-30       0.0       5.6      -1.0  3.4      sun\n",
      "1460  2015-12-31       0.0       5.6      -2.1  3.5      sun\n",
      "\n",
      "[1461 rows x 6 columns]\n"
     ]
    }
   ],
   "source": [
    "file1 = file.rename(columns = {'precipitation':'humidity' , 'wind':'air'}) #renaming 2  or more columns at a time\n",
    "print(file1)"
   ]
  },
  {
   "cell_type": "code",
   "execution_count": 33,
   "id": "abf74d41-8fa4-4df8-b1b9-7b63a9ff192e",
   "metadata": {},
   "outputs": [
    {
     "name": "stdout",
     "output_type": "stream",
     "text": [
      "original\n",
      "  weather  temp_max\n",
      "0    rain        12\n",
      "1     sun        39\n",
      "2  cloudy        19\n",
      "3   storm        15\n",
      "replaced\n",
      "  weather  temp_max\n",
      "0    rain        12\n",
      "1   sunny        39\n",
      "2  cloudy        19\n",
      "3   storm        15\n"
     ]
    }
   ],
   "source": [
    "#df.replace({'old_val': 'new_val'}) → Replace values.\n",
    "data = {'weather': ['rain','sun','cloudy','storm'],'temp_max':[12,39,19,15]}\n",
    "df = pd.DataFrame(data)\n",
    "print(\"original\")\n",
    "print(df)\n",
    "df1 = df.replace({'sun': 'sunny'})\n",
    "print(\"replaced\")\n",
    "print(df1)\n"
   ]
  },
  {
   "cell_type": "code",
   "execution_count": null,
   "id": "9c481620-eaaa-4135-b139-d07085cde278",
   "metadata": {},
   "outputs": [],
   "source": [
    "\n",
    "🔹 Sorting\n",
    "\n",
    "df.sort_values('col') → Sort by column.\n",
    "\n",
    "df.sort_values(['col1','col2'], ascending=[True,False]) → Sort by multiple columns.\n",
    "\n",
    "df.sort_index() → Sort by index.\n"
   ]
  },
  {
   "cell_type": "code",
   "execution_count": 35,
   "id": "66db333b-35b7-4858-8643-bc2050d7c331",
   "metadata": {},
   "outputs": [
    {
     "name": "stdout",
     "output_type": "stream",
     "text": [
      "            date  precipitation  temp_max  temp_min  wind weather\n",
      "767   2014-02-06            0.0      -1.6      -6.0   4.5     sun\n",
      "18    2012-01-19           15.2      -1.1      -2.8   1.6    snow\n",
      "766   2014-02-05            0.0      -0.5      -5.5   6.6     sun\n",
      "17    2012-01-18           19.8       0.0      -2.8   5.0    snow\n",
      "706   2013-12-07            0.0       0.0      -7.1   3.1     sun\n",
      "...          ...            ...       ...       ...   ...     ...\n",
      "912   2014-07-01            0.0      34.4      15.6   3.5     sun\n",
      "1306  2015-07-30            0.0      34.4      17.2   3.5     sun\n",
      "1307  2015-07-31            0.0      34.4      17.8   2.6     sun\n",
      "1295  2015-07-19            0.0      35.0      17.2   3.3     sun\n",
      "953   2014-08-11            0.5      35.6      17.8   2.6    rain\n",
      "\n",
      "[1461 rows x 6 columns]\n"
     ]
    }
   ],
   "source": [
    "#df.sort_values('col') → Sort by column.\n",
    "df = file.sort_values('temp_max')\n",
    "print(df)\n"
   ]
  },
  {
   "cell_type": "code",
   "execution_count": 36,
   "id": "d0a4f7dd-d54d-4d82-8c1c-a0d40e157b02",
   "metadata": {},
   "outputs": [
    {
     "name": "stdout",
     "output_type": "stream",
     "text": [
      "            date  precipitation  temp_max  temp_min  wind weather\n",
      "767   2014-02-06            0.0      -1.6      -6.0   4.5     sun\n",
      "18    2012-01-19           15.2      -1.1      -2.8   1.6    snow\n",
      "766   2014-02-05            0.0      -0.5      -5.5   6.6     sun\n",
      "17    2012-01-18           19.8       0.0      -2.8   5.0    snow\n",
      "706   2013-12-07            0.0       0.0      -7.1   3.1     sun\n",
      "...          ...            ...       ...       ...   ...     ...\n",
      "1307  2015-07-31            0.0      34.4      17.8   2.6     sun\n",
      "1306  2015-07-30            0.0      34.4      17.2   3.5     sun\n",
      "912   2014-07-01            0.0      34.4      15.6   3.5     sun\n",
      "1295  2015-07-19            0.0      35.0      17.2   3.3     sun\n",
      "953   2014-08-11            0.5      35.6      17.8   2.6    rain\n",
      "\n",
      "[1461 rows x 6 columns]\n"
     ]
    }
   ],
   "source": [
    "df1= file.sort_values(['temp_max','temp_min'],ascending=[True,False])\n",
    "print(df1)"
   ]
  },
  {
   "cell_type": "code",
   "execution_count": 39,
   "id": "1710193c-c12e-4e71-9be8-fe65b442ee2f",
   "metadata": {},
   "outputs": [
    {
     "name": "stdout",
     "output_type": "stream",
     "text": [
      "original\n",
      "     name  age\n",
      "0     Ali   25\n",
      "1   Aehan   15\n",
      "2   Ashar    9\n",
      "3  Shayan   12\n",
      "\n",
      "Sorted by age\n",
      "     name  age\n",
      "2   Ashar    9\n",
      "3  Shayan   12\n",
      "1   Aehan   15\n",
      "0     Ali   25\n"
     ]
    }
   ],
   "source": [
    "data = {'name' : ['Ali' , 'Aehan', 'Ashar','Shayan'],'age' : [25,15,9,12]}\n",
    "00df = pd.DataFrame(data)\n",
    "print(\"original\")\n",
    "print(df)\n",
    "df1=df.sort_values('age')\n",
    "print(\"\\nSorted by age\")\n",
    "print(df1)"
   ]
  },
  {
   "cell_type": "code",
   "execution_count": 5,
   "id": "544e2085-98f8-445e-ad8a-b3cfd7f7c117",
   "metadata": {},
   "outputs": [
    {
     "name": "stdout",
     "output_type": "stream",
     "text": [
      "            date  precipitation  temp_max  temp_min  wind  weather\n",
      "0     2012-01-01            0.0      12.8       5.0   4.7  drizzle\n",
      "1     2012-01-02           10.9      10.6       2.8   4.5     rain\n",
      "2     2012-01-03            0.8      11.7       7.2   2.3     rain\n",
      "3     2012-01-04           20.3      12.2       5.6   4.7     rain\n",
      "4     2012-01-05            1.3       8.9       2.8   6.1     rain\n",
      "...          ...            ...       ...       ...   ...      ...\n",
      "1456  2015-12-27            8.6       4.4       1.7   2.9     rain\n",
      "1457  2015-12-28            1.5       5.0       1.7   1.3     rain\n",
      "1458  2015-12-29            0.0       7.2       0.6   2.6      fog\n",
      "1459  2015-12-30            0.0       5.6      -1.0   3.4      sun\n",
      "1460  2015-12-31            0.0       5.6      -2.1   3.5      sun\n",
      "\n",
      "[1461 rows x 6 columns]\n"
     ]
    }
   ],
   "source": [
    "#df.sort_index() → Sort by index.\n",
    "import pandas as pd\n",
    "file = pd.read_csv(r\"C:\\Users\\amnaj\\Downloads\\seattle-weather.csv\")\n",
    "print(file.sort_index()) #  # sort rows by index (ascending)"
   ]
  },
  {
   "cell_type": "code",
   "execution_count": 6,
   "id": "67c26f10-ba39-4d51-8c29-b68446a972d6",
   "metadata": {},
   "outputs": [
    {
     "name": "stdout",
     "output_type": "stream",
     "text": [
      "            date  precipitation  temp_max  temp_min  wind  weather\n",
      "1460  2015-12-31            0.0       5.6      -2.1   3.5      sun\n",
      "1459  2015-12-30            0.0       5.6      -1.0   3.4      sun\n",
      "1458  2015-12-29            0.0       7.2       0.6   2.6      fog\n",
      "1457  2015-12-28            1.5       5.0       1.7   1.3     rain\n",
      "1456  2015-12-27            8.6       4.4       1.7   2.9     rain\n",
      "...          ...            ...       ...       ...   ...      ...\n",
      "4     2012-01-05            1.3       8.9       2.8   6.1     rain\n",
      "3     2012-01-04           20.3      12.2       5.6   4.7     rain\n",
      "2     2012-01-03            0.8      11.7       7.2   2.3     rain\n",
      "1     2012-01-02           10.9      10.6       2.8   4.5     rain\n",
      "0     2012-01-01            0.0      12.8       5.0   4.7  drizzle\n",
      "\n",
      "[1461 rows x 6 columns]\n"
     ]
    }
   ],
   "source": [
    "print(file.sort_index(ascending=False))  #sort rows by index (descending)"
   ]
  },
  {
   "cell_type": "code",
   "execution_count": null,
   "id": "8a62c8df-6c21-412b-9793-7f9455b09a40",
   "metadata": {},
   "outputs": [],
   "source": [
    "🔹 Aggregations & Statistics\n",
    "\n",
    "df.mean(), df.median(), df.std(), df.var() → Basic stats.\n",
    "\n",
    "df['col'].value_counts() → Frequency count.\n",
    "\n",
    "df['col'].unique() → Unique values.\n",
    "\n",
    "df['col'].nunique() → Number of unique values.\n",
    "\n",
    "df.groupby('col').mean() → Grouping & aggregation.\n",
    "\n",
    "df.pivot_table(values='col', index='col1', columns='col2') → Pivot table.\n"
   ]
  },
  {
   "cell_type": "code",
   "execution_count": 12,
   "id": "98ec451c-be92-4d76-bc26-fbf005d73392",
   "metadata": {},
   "outputs": [
    {
     "name": "stdout",
     "output_type": "stream",
     "text": [
      "       precipitation     temp_max     temp_min         wind\n",
      "count    1461.000000  1461.000000  1461.000000  1461.000000\n",
      "mean        3.029432    16.439083     8.234771     3.241136\n",
      "std         6.680194     7.349758     5.023004     1.437825\n",
      "min         0.000000    -1.600000    -7.100000     0.400000\n",
      "25%         0.000000    10.600000     4.400000     2.200000\n",
      "50%         0.000000    15.600000     8.300000     3.000000\n",
      "75%         2.800000    22.200000    12.200000     4.000000\n",
      "max        55.900000    35.600000    18.300000     9.500000\n"
     ]
    }
   ],
   "source": [
    "file = pd.read_csv(r\"C:\\Users\\amnaj\\Downloads\\seattle-weather.csv\")\n",
    "print(file.describe())"
   ]
  },
  {
   "cell_type": "code",
   "execution_count": 14,
   "id": "5b671ec5-b044-4314-8e19-1268a2e1cc85",
   "metadata": {},
   "outputs": [
    {
     "name": "stdout",
     "output_type": "stream",
     "text": [
      "temp_max\n",
      " 11.1    58\n",
      " 14.4    49\n",
      " 10.0    47\n",
      " 12.8    46\n",
      " 12.2    44\n",
      "         ..\n",
      "-1.1      1\n",
      "-1.6      1\n",
      "-0.5      1\n",
      " 35.6     1\n",
      " 35.0     1\n",
      "Name: count, Length: 67, dtype: int64\n"
     ]
    }
   ],
   "source": [
    "#df['col'].value_counts() → Frequency count.\n",
    "df1= file['temp_max'].value_counts()\n",
    "print(df1)"
   ]
  },
  {
   "cell_type": "code",
   "execution_count": 15,
   "id": "38c1d63b-adef-4df8-afd1-9a6f9d5a5bb4",
   "metadata": {},
   "outputs": [
    {
     "name": "stdout",
     "output_type": "stream",
     "text": [
      "[ 5.   2.8  7.2  5.6  2.2  0.6 -1.1 -1.7 -2.8 -3.3  0.   3.3  1.1  4.4\n",
      " -2.2  3.9  6.1  1.7  7.8  6.7 -0.6  8.9  8.3 10.   9.4 12.8 11.7 11.1\n",
      " 12.2 10.6 15.  13.3 14.4 13.9 16.7 17.8 15.6 18.3 16.1 -3.9 -4.4 17.2\n",
      " -0.5 -2.1 -4.9 -4.3 -7.1 -6.6 -1.6 -5.5 -6.  -3.2 -2.7 -1.  -3.8]\n"
     ]
    }
   ],
   "source": [
    "#df['col'].unique() → Unique values.\n",
    "df1= file['temp_min'].unique()\n",
    "print(df1)"
   ]
  },
  {
   "cell_type": "code",
   "execution_count": 16,
   "id": "dea8207a-6882-4b93-81ed-f201b82591f1",
   "metadata": {},
   "outputs": [
    {
     "name": "stdout",
     "output_type": "stream",
     "text": [
      "55\n"
     ]
    }
   ],
   "source": [
    "#df['col'].nunique() → Number of unique values.\n",
    "df1= file['temp_min'].nunique()\n",
    "print(df1)"
   ]
  },
  {
   "cell_type": "code",
   "execution_count": 3,
   "id": "5bb4fd40-fa15-4716-b91a-21b66655ab9f",
   "metadata": {},
   "outputs": [
    {
     "name": "stdout",
     "output_type": "stream",
     "text": [
      "temp_min\n",
      "-7.1     3.100000\n",
      "-6.6     2.200000\n",
      "-6.0     4.500000\n",
      "-5.5     6.600000\n",
      "-4.9     3.125000\n",
      "-4.4     1.500000\n",
      "-4.3     5.000000\n",
      "-3.9     1.900000\n",
      "-3.8     1.700000\n",
      "-3.3     3.200000\n",
      "-3.2     3.033333\n",
      "-2.8     2.642857\n",
      "-2.7     2.000000\n",
      "-2.2     1.900000\n",
      "-2.1     3.112500\n",
      "-1.7     1.833333\n",
      "-1.6     2.666667\n",
      "-1.1     2.900000\n",
      "-1.0     3.850000\n",
      "-0.6     2.500000\n",
      "-0.5     2.933333\n",
      " 0.0     3.412500\n",
      " 0.6     3.178571\n",
      " 1.1     3.100000\n",
      " 1.7     3.060000\n",
      " 2.2     3.262500\n",
      " 2.8     3.260000\n",
      " 3.3     3.245455\n",
      " 3.9     3.793182\n",
      " 4.4     3.478182\n",
      " 5.0     3.217073\n",
      " 5.6     3.552000\n",
      " 6.1     3.489394\n",
      " 6.7     3.614894\n",
      " 7.2     3.786667\n",
      " 7.8     3.445652\n",
      " 8.3     3.676923\n",
      " 8.9     3.339216\n",
      " 9.4     3.473585\n",
      " 10.0    3.443750\n",
      " 10.6    3.081081\n",
      " 11.1    3.200000\n",
      " 11.7    3.188333\n",
      " 12.2    2.935556\n",
      " 12.8    3.317778\n",
      " 13.3    2.770690\n",
      " 13.9    2.940741\n",
      " 14.4    2.915217\n",
      " 15.0    2.862745\n",
      " 15.6    2.725926\n",
      " 16.1    2.756522\n",
      " 16.7    2.866667\n",
      " 17.2    2.550000\n",
      " 17.8    3.266667\n",
      " 18.3    2.666667\n",
      "Name: wind, dtype: float64\n"
     ]
    }
   ],
   "source": [
    "#df.groupby('col').mean() → Grouping & aggregation.\n",
    "import pandas as pd\n",
    "file = pd.read_csv(r\"C:\\Users\\amnaj\\Downloads\\seattle-weather.csv\") #file.groupby('col')[colto merge].mean()\n",
    "df1 = file.groupby('temp_min')['wind'].mean()\n",
    "print(df1)"
   ]
  },
  {
   "cell_type": "code",
   "execution_count": 22,
   "id": "49c621a2-0cae-4362-a5cf-97b066bf3b3d",
   "metadata": {},
   "outputs": [
    {
     "name": "stdout",
     "output_type": "stream",
     "text": [
      "date     2012-01-01  2012-01-02  2012-01-03  2012-01-04  2012-01-05  \\\n",
      "weather                                                               \n",
      "drizzle         5.0         NaN         NaN         NaN         NaN   \n",
      "fog             NaN         NaN         NaN         NaN         NaN   \n",
      "rain            NaN         2.8         7.2         5.6         2.8   \n",
      "snow            NaN         NaN         NaN         NaN         NaN   \n",
      "sun             NaN         NaN         NaN         NaN         NaN   \n",
      "\n",
      "date     2012-01-06  2012-01-07  2012-01-08  2012-01-09  2012-01-10  ...  \\\n",
      "weather                                                              ...   \n",
      "drizzle         NaN         NaN         NaN         NaN         NaN  ...   \n",
      "fog             NaN         NaN         NaN         NaN         NaN  ...   \n",
      "rain            2.2         2.8         NaN         5.0         0.6  ...   \n",
      "snow            NaN         NaN         NaN         NaN         NaN  ...   \n",
      "sun             NaN         NaN         2.8         NaN         NaN  ...   \n",
      "\n",
      "date     2015-12-22  2015-12-23  2015-12-24  2015-12-25  2015-12-26  \\\n",
      "weather                                                               \n",
      "drizzle         NaN         NaN         NaN         NaN         NaN   \n",
      "fog             NaN         NaN         NaN         NaN         NaN   \n",
      "rain            2.8         2.8         2.2         2.2         NaN   \n",
      "snow            NaN         NaN         NaN         NaN         NaN   \n",
      "sun             NaN         NaN         NaN         NaN         0.0   \n",
      "\n",
      "date     2015-12-27  2015-12-28  2015-12-29  2015-12-30  2015-12-31  \n",
      "weather                                                              \n",
      "drizzle         NaN         NaN         NaN         NaN         NaN  \n",
      "fog             NaN         NaN         0.6         NaN         NaN  \n",
      "rain            1.7         1.7         NaN         NaN         NaN  \n",
      "snow            NaN         NaN         NaN         NaN         NaN  \n",
      "sun             NaN         NaN         NaN        -1.0        -2.1  \n",
      "\n",
      "[5 rows x 1461 columns]\n"
     ]
    }
   ],
   "source": [
    "#df.pivot_table(values='col', index='col1', columns='col2') → Pivot table.\n",
    "df1 = file.pivot_table(values='temp_min', index='weather', columns='date')\n",
    "print(df1)"
   ]
  },
  {
   "cell_type": "code",
   "execution_count": null,
   "id": "0e0d7b68-1ccf-4244-990d-e3d1d2fc6ad0",
   "metadata": {},
   "outputs": [],
   "source": [
    "🔹 Handling Missing Data\n",
    "\n",
    "df.isnull() → Check missing values.\n",
    "\n",
    "df.notnull() → Check non-missing values.\n",
    "\n",
    "df.dropna() → Drop missing rows.\n",
    "\n",
    "df.fillna(value) → Fill missing values.\n",
    "\n",
    "df.interpolate() → Fill values by interpolation.\n"
   ]
  },
  {
   "cell_type": "code",
   "execution_count": 23,
   "id": "37f943c8-e2fd-4394-811b-caa0fd849f9c",
   "metadata": {},
   "outputs": [
    {
     "name": "stdout",
     "output_type": "stream",
     "text": [
      "       date  precipitation  temp_max  temp_min   wind  weather\n",
      "0     False          False     False     False  False    False\n",
      "1     False          False     False     False  False    False\n",
      "2     False          False     False     False  False    False\n",
      "3     False          False     False     False  False    False\n",
      "4     False          False     False     False  False    False\n",
      "...     ...            ...       ...       ...    ...      ...\n",
      "1456  False          False     False     False  False    False\n",
      "1457  False          False     False     False  False    False\n",
      "1458  False          False     False     False  False    False\n",
      "1459  False          False     False     False  False    False\n",
      "1460  False          False     False     False  False    False\n",
      "\n",
      "[1461 rows x 6 columns]\n"
     ]
    }
   ],
   "source": [
    "#df.isnull() → Check missing values.\n",
    "print(file.isnull())"
   ]
  },
  {
   "cell_type": "code",
   "execution_count": 24,
   "id": "45847634-d058-4f1b-9be8-4b98960a7f0a",
   "metadata": {},
   "outputs": [
    {
     "name": "stdout",
     "output_type": "stream",
     "text": [
      "      date  precipitation  temp_max  temp_min  wind  weather\n",
      "0     True           True      True      True  True     True\n",
      "1     True           True      True      True  True     True\n",
      "2     True           True      True      True  True     True\n",
      "3     True           True      True      True  True     True\n",
      "4     True           True      True      True  True     True\n",
      "...    ...            ...       ...       ...   ...      ...\n",
      "1456  True           True      True      True  True     True\n",
      "1457  True           True      True      True  True     True\n",
      "1458  True           True      True      True  True     True\n",
      "1459  True           True      True      True  True     True\n",
      "1460  True           True      True      True  True     True\n",
      "\n",
      "[1461 rows x 6 columns]\n"
     ]
    }
   ],
   "source": [
    "#df.notnull() → Check non-missing values.\n",
    "print(file.notnull())"
   ]
  },
  {
   "cell_type": "code",
   "execution_count": 25,
   "id": "b85a869c-c9e9-490f-949d-7be1650bfa44",
   "metadata": {},
   "outputs": [
    {
     "name": "stdout",
     "output_type": "stream",
     "text": [
      "            date  precipitation  temp_max  temp_min  wind  weather\n",
      "0     2012-01-01            0.0      12.8       5.0   4.7  drizzle\n",
      "1     2012-01-02           10.9      10.6       2.8   4.5     rain\n",
      "2     2012-01-03            0.8      11.7       7.2   2.3     rain\n",
      "3     2012-01-04           20.3      12.2       5.6   4.7     rain\n",
      "4     2012-01-05            1.3       8.9       2.8   6.1     rain\n",
      "...          ...            ...       ...       ...   ...      ...\n",
      "1456  2015-12-27            8.6       4.4       1.7   2.9     rain\n",
      "1457  2015-12-28            1.5       5.0       1.7   1.3     rain\n",
      "1458  2015-12-29            0.0       7.2       0.6   2.6      fog\n",
      "1459  2015-12-30            0.0       5.6      -1.0   3.4      sun\n",
      "1460  2015-12-31            0.0       5.6      -2.1   3.5      sun\n",
      "\n",
      "[1461 rows x 6 columns]\n"
     ]
    }
   ],
   "source": [
    "#df.dropna() → Drop missing rows.\n",
    "print(file.dropna())"
   ]
  },
  {
   "cell_type": "code",
   "execution_count": 28,
   "id": "1ff109ba-e652-480c-b06d-d3e70e5473da",
   "metadata": {},
   "outputs": [
    {
     "name": "stdout",
     "output_type": "stream",
     "text": [
      "original\n",
      "     A    B\n",
      "0  1.0  5.0\n",
      "1  2.0  7.0\n",
      "2  NaN  NaN\n",
      "3  4.0  NaN\n",
      "\n",
      "Fill with 98:\n",
      "      A     B\n",
      "0   1.0   5.0\n",
      "1   2.0   7.0\n",
      "2  98.0  98.0\n",
      "3   4.0  98.0\n"
     ]
    }
   ],
   "source": [
    "#df.fillna(value) → Fill missing values.\n",
    "import numpy as np\n",
    "df = pd.DataFrame({'A':[1,2,np.nan,4],'B':[5,7,np.nan,np.nan]})\n",
    "print(\"original\")\n",
    "print(df)\n",
    "print(\"\\nFill with 98:\")\n",
    "print(df.fillna(98))\n"
   ]
  },
  {
   "cell_type": "code",
   "execution_count": null,
   "id": "d75ac70c-e3b2-4ebc-b010-ef87b09516cb",
   "metadata": {},
   "outputs": [],
   "source": [
    "#df.interpolate() → Fill values by interpolation.\n"
   ]
  },
  {
   "cell_type": "code",
   "execution_count": null,
   "id": "41fa01a4-09f6-40bd-86dc-071d4ec2c57e",
   "metadata": {},
   "outputs": [],
   "source": [
    "\n",
    "🔹 Merging & Joining\n",
    "\n",
    "pd.concat([df1, df2]) → Concatenate.\n",
    "\n",
    "pd.merge(df1, df2, on='key') → SQL-like join.\n",
    "\n",
    "df.join(df2) → Join by index.\n"
   ]
  },
  {
   "cell_type": "code",
   "execution_count": null,
   "id": "0bdb4ea1-5325-4f38-8bc5-23227f3f71e0",
   "metadata": {},
   "outputs": [],
   "source": []
  }
 ],
 "metadata": {
  "kernelspec": {
   "display_name": "Python [conda env:base] *",
   "language": "python",
   "name": "conda-base-py"
  },
  "language_info": {
   "codemirror_mode": {
    "name": "ipython",
    "version": 3
   },
   "file_extension": ".py",
   "mimetype": "text/x-python",
   "name": "python",
   "nbconvert_exporter": "python",
   "pygments_lexer": "ipython3",
   "version": "3.13.5"
  }
 },
 "nbformat": 4,
 "nbformat_minor": 5
}
