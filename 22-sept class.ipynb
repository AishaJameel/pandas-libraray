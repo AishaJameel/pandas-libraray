{
 "cells": [
  {
   "cell_type": "code",
   "execution_count": 1,
   "id": "8f434f2c-c5cb-48c6-b911-0fc2d563bd6a",
   "metadata": {},
   "outputs": [
    {
     "name": "stdout",
     "output_type": "stream",
     "text": [
      "  Region Sales Rep Product  Quantity  Revenue\n",
      "0  North     Alice  Laptop         5     5000\n",
      "1  South       Bob  Laptop         3     3000\n",
      "2   East   Charlie  Tablet         7     3500\n",
      "3   West     David   Phone         2     2000\n",
      "4  North     Alice  Tablet         4     1600\n",
      "5   East   Charlie  Laptop         6     6000\n",
      "6  South       Bob   Phone         8     4000\n",
      "7   West     David  Tablet         3     2400\n",
      "8  North     Alice   Phone         9     4500\n",
      "9   East   Charlie  Laptop         5     5000\n"
     ]
    }
   ],
   "source": [
    "import pandas as pd\n",
    "\n",
    "data = {\n",
    "    \"Region\": [\"North\", \"South\", \"East\", \"West\", \"North\", \"East\", \"South\", \"West\", \"North\", \"East\"],\n",
    "    \"Sales Rep\": [\"Alice\", \"Bob\", \"Charlie\", \"David\", \"Alice\", \"Charlie\", \"Bob\", \"David\", \"Alice\", \"Charlie\"],\n",
    "    \"Product\": [\"Laptop\", \"Laptop\", \"Tablet\", \"Phone\", \"Tablet\", \"Laptop\", \"Phone\", \"Tablet\", \"Phone\", \"Laptop\"],\n",
    "    \"Quantity\": [5, 3, 7, 2, 4, 6, 8, 3, 9, 5],\n",
    "    \"Revenue\": [5000, 3000, 3500, 2000, 1600, 6000, 4000, 2400, 4500, 5000],\n",
    "}\n",
    "\n",
    "df = pd.DataFrame(data)\n",
    "print(df)\n"
   ]
  },
  {
   "cell_type": "code",
   "execution_count": 2,
   "id": "fbde794a-b8e6-485b-a3bc-e5e9ca2b258a",
   "metadata": {},
   "outputs": [
    {
     "name": "stdout",
     "output_type": "stream",
     "text": [
      "Product  Laptop  Phone  Tablet\n",
      "Region                        \n",
      "East        5.5    NaN     7.0\n",
      "North       5.0    9.0     4.0\n",
      "South       3.0    8.0     NaN\n",
      "West        NaN    2.0     3.0\n"
     ]
    }
   ],
   "source": [
    "pivot = pd.pivot_table(\n",
    "    df,\n",
    "    values= \"Quantity\", #is values is written without[] then quantity is not printed  as header\n",
    "    index= \"Region\",\n",
    "    columns= \"Product\"\n",
    ")\n",
    "print(pivot)"
   ]
  },
  {
   "cell_type": "code",
   "execution_count": 3,
   "id": "a4716d40-6c64-453c-90ab-08aa4e1a17f0",
   "metadata": {},
   "outputs": [
    {
     "name": "stdout",
     "output_type": "stream",
     "text": [
      "        Quantity             \n",
      "Product   Laptop Phone Tablet\n",
      "Region                       \n",
      "East        11.0   NaN    7.0\n",
      "North        5.0   9.0    4.0\n",
      "South        3.0   8.0    NaN\n",
      "West         NaN   2.0    3.0\n"
     ]
    }
   ],
   "source": [
    "pivot = pd.pivot_table(\n",
    "    df,\n",
    "    values= [\"Quantity\"], #now it is printed as headeer\n",
    "    index= \"Region\",\n",
    "    columns= \"Product\",\n",
    "    aggfunc= \"sum\"\n",
    ")\n",
    "print(pivot)"
   ]
  },
  {
   "cell_type": "code",
   "execution_count": 4,
   "id": "cbf083a7-16f6-4a83-8c2a-1ce0231c9ed6",
   "metadata": {},
   "outputs": [
    {
     "data": {
      "text/html": [
       "<div>\n",
       "<style scoped>\n",
       "    .dataframe tbody tr th:only-of-type {\n",
       "        vertical-align: middle;\n",
       "    }\n",
       "\n",
       "    .dataframe tbody tr th {\n",
       "        vertical-align: top;\n",
       "    }\n",
       "\n",
       "    .dataframe thead th {\n",
       "        text-align: right;\n",
       "    }\n",
       "</style>\n",
       "<table border=\"1\" class=\"dataframe\">\n",
       "  <thead>\n",
       "    <tr style=\"text-align: right;\">\n",
       "      <th></th>\n",
       "      <th>variable</th>\n",
       "      <th>value</th>\n",
       "    </tr>\n",
       "  </thead>\n",
       "  <tbody>\n",
       "    <tr>\n",
       "      <th>0</th>\n",
       "      <td>Region</td>\n",
       "      <td>North</td>\n",
       "    </tr>\n",
       "    <tr>\n",
       "      <th>1</th>\n",
       "      <td>Region</td>\n",
       "      <td>South</td>\n",
       "    </tr>\n",
       "    <tr>\n",
       "      <th>2</th>\n",
       "      <td>Region</td>\n",
       "      <td>East</td>\n",
       "    </tr>\n",
       "    <tr>\n",
       "      <th>3</th>\n",
       "      <td>Region</td>\n",
       "      <td>West</td>\n",
       "    </tr>\n",
       "    <tr>\n",
       "      <th>4</th>\n",
       "      <td>Region</td>\n",
       "      <td>North</td>\n",
       "    </tr>\n",
       "    <tr>\n",
       "      <th>5</th>\n",
       "      <td>Region</td>\n",
       "      <td>East</td>\n",
       "    </tr>\n",
       "    <tr>\n",
       "      <th>6</th>\n",
       "      <td>Region</td>\n",
       "      <td>South</td>\n",
       "    </tr>\n",
       "    <tr>\n",
       "      <th>7</th>\n",
       "      <td>Region</td>\n",
       "      <td>West</td>\n",
       "    </tr>\n",
       "    <tr>\n",
       "      <th>8</th>\n",
       "      <td>Region</td>\n",
       "      <td>North</td>\n",
       "    </tr>\n",
       "    <tr>\n",
       "      <th>9</th>\n",
       "      <td>Region</td>\n",
       "      <td>East</td>\n",
       "    </tr>\n",
       "    <tr>\n",
       "      <th>10</th>\n",
       "      <td>Sales Rep</td>\n",
       "      <td>Alice</td>\n",
       "    </tr>\n",
       "    <tr>\n",
       "      <th>11</th>\n",
       "      <td>Sales Rep</td>\n",
       "      <td>Bob</td>\n",
       "    </tr>\n",
       "    <tr>\n",
       "      <th>12</th>\n",
       "      <td>Sales Rep</td>\n",
       "      <td>Charlie</td>\n",
       "    </tr>\n",
       "    <tr>\n",
       "      <th>13</th>\n",
       "      <td>Sales Rep</td>\n",
       "      <td>David</td>\n",
       "    </tr>\n",
       "    <tr>\n",
       "      <th>14</th>\n",
       "      <td>Sales Rep</td>\n",
       "      <td>Alice</td>\n",
       "    </tr>\n",
       "    <tr>\n",
       "      <th>15</th>\n",
       "      <td>Sales Rep</td>\n",
       "      <td>Charlie</td>\n",
       "    </tr>\n",
       "    <tr>\n",
       "      <th>16</th>\n",
       "      <td>Sales Rep</td>\n",
       "      <td>Bob</td>\n",
       "    </tr>\n",
       "    <tr>\n",
       "      <th>17</th>\n",
       "      <td>Sales Rep</td>\n",
       "      <td>David</td>\n",
       "    </tr>\n",
       "    <tr>\n",
       "      <th>18</th>\n",
       "      <td>Sales Rep</td>\n",
       "      <td>Alice</td>\n",
       "    </tr>\n",
       "    <tr>\n",
       "      <th>19</th>\n",
       "      <td>Sales Rep</td>\n",
       "      <td>Charlie</td>\n",
       "    </tr>\n",
       "    <tr>\n",
       "      <th>20</th>\n",
       "      <td>Product</td>\n",
       "      <td>Laptop</td>\n",
       "    </tr>\n",
       "    <tr>\n",
       "      <th>21</th>\n",
       "      <td>Product</td>\n",
       "      <td>Laptop</td>\n",
       "    </tr>\n",
       "    <tr>\n",
       "      <th>22</th>\n",
       "      <td>Product</td>\n",
       "      <td>Tablet</td>\n",
       "    </tr>\n",
       "    <tr>\n",
       "      <th>23</th>\n",
       "      <td>Product</td>\n",
       "      <td>Phone</td>\n",
       "    </tr>\n",
       "    <tr>\n",
       "      <th>24</th>\n",
       "      <td>Product</td>\n",
       "      <td>Tablet</td>\n",
       "    </tr>\n",
       "    <tr>\n",
       "      <th>25</th>\n",
       "      <td>Product</td>\n",
       "      <td>Laptop</td>\n",
       "    </tr>\n",
       "    <tr>\n",
       "      <th>26</th>\n",
       "      <td>Product</td>\n",
       "      <td>Phone</td>\n",
       "    </tr>\n",
       "    <tr>\n",
       "      <th>27</th>\n",
       "      <td>Product</td>\n",
       "      <td>Tablet</td>\n",
       "    </tr>\n",
       "    <tr>\n",
       "      <th>28</th>\n",
       "      <td>Product</td>\n",
       "      <td>Phone</td>\n",
       "    </tr>\n",
       "    <tr>\n",
       "      <th>29</th>\n",
       "      <td>Product</td>\n",
       "      <td>Laptop</td>\n",
       "    </tr>\n",
       "    <tr>\n",
       "      <th>30</th>\n",
       "      <td>Quantity</td>\n",
       "      <td>5</td>\n",
       "    </tr>\n",
       "    <tr>\n",
       "      <th>31</th>\n",
       "      <td>Quantity</td>\n",
       "      <td>3</td>\n",
       "    </tr>\n",
       "    <tr>\n",
       "      <th>32</th>\n",
       "      <td>Quantity</td>\n",
       "      <td>7</td>\n",
       "    </tr>\n",
       "    <tr>\n",
       "      <th>33</th>\n",
       "      <td>Quantity</td>\n",
       "      <td>2</td>\n",
       "    </tr>\n",
       "    <tr>\n",
       "      <th>34</th>\n",
       "      <td>Quantity</td>\n",
       "      <td>4</td>\n",
       "    </tr>\n",
       "    <tr>\n",
       "      <th>35</th>\n",
       "      <td>Quantity</td>\n",
       "      <td>6</td>\n",
       "    </tr>\n",
       "    <tr>\n",
       "      <th>36</th>\n",
       "      <td>Quantity</td>\n",
       "      <td>8</td>\n",
       "    </tr>\n",
       "    <tr>\n",
       "      <th>37</th>\n",
       "      <td>Quantity</td>\n",
       "      <td>3</td>\n",
       "    </tr>\n",
       "    <tr>\n",
       "      <th>38</th>\n",
       "      <td>Quantity</td>\n",
       "      <td>9</td>\n",
       "    </tr>\n",
       "    <tr>\n",
       "      <th>39</th>\n",
       "      <td>Quantity</td>\n",
       "      <td>5</td>\n",
       "    </tr>\n",
       "    <tr>\n",
       "      <th>40</th>\n",
       "      <td>Revenue</td>\n",
       "      <td>5000</td>\n",
       "    </tr>\n",
       "    <tr>\n",
       "      <th>41</th>\n",
       "      <td>Revenue</td>\n",
       "      <td>3000</td>\n",
       "    </tr>\n",
       "    <tr>\n",
       "      <th>42</th>\n",
       "      <td>Revenue</td>\n",
       "      <td>3500</td>\n",
       "    </tr>\n",
       "    <tr>\n",
       "      <th>43</th>\n",
       "      <td>Revenue</td>\n",
       "      <td>2000</td>\n",
       "    </tr>\n",
       "    <tr>\n",
       "      <th>44</th>\n",
       "      <td>Revenue</td>\n",
       "      <td>1600</td>\n",
       "    </tr>\n",
       "    <tr>\n",
       "      <th>45</th>\n",
       "      <td>Revenue</td>\n",
       "      <td>6000</td>\n",
       "    </tr>\n",
       "    <tr>\n",
       "      <th>46</th>\n",
       "      <td>Revenue</td>\n",
       "      <td>4000</td>\n",
       "    </tr>\n",
       "    <tr>\n",
       "      <th>47</th>\n",
       "      <td>Revenue</td>\n",
       "      <td>2400</td>\n",
       "    </tr>\n",
       "    <tr>\n",
       "      <th>48</th>\n",
       "      <td>Revenue</td>\n",
       "      <td>4500</td>\n",
       "    </tr>\n",
       "    <tr>\n",
       "      <th>49</th>\n",
       "      <td>Revenue</td>\n",
       "      <td>5000</td>\n",
       "    </tr>\n",
       "  </tbody>\n",
       "</table>\n",
       "</div>"
      ],
      "text/plain": [
       "     variable    value\n",
       "0      Region    North\n",
       "1      Region    South\n",
       "2      Region     East\n",
       "3      Region     West\n",
       "4      Region    North\n",
       "5      Region     East\n",
       "6      Region    South\n",
       "7      Region     West\n",
       "8      Region    North\n",
       "9      Region     East\n",
       "10  Sales Rep    Alice\n",
       "11  Sales Rep      Bob\n",
       "12  Sales Rep  Charlie\n",
       "13  Sales Rep    David\n",
       "14  Sales Rep    Alice\n",
       "15  Sales Rep  Charlie\n",
       "16  Sales Rep      Bob\n",
       "17  Sales Rep    David\n",
       "18  Sales Rep    Alice\n",
       "19  Sales Rep  Charlie\n",
       "20    Product   Laptop\n",
       "21    Product   Laptop\n",
       "22    Product   Tablet\n",
       "23    Product    Phone\n",
       "24    Product   Tablet\n",
       "25    Product   Laptop\n",
       "26    Product    Phone\n",
       "27    Product   Tablet\n",
       "28    Product    Phone\n",
       "29    Product   Laptop\n",
       "30   Quantity        5\n",
       "31   Quantity        3\n",
       "32   Quantity        7\n",
       "33   Quantity        2\n",
       "34   Quantity        4\n",
       "35   Quantity        6\n",
       "36   Quantity        8\n",
       "37   Quantity        3\n",
       "38   Quantity        9\n",
       "39   Quantity        5\n",
       "40    Revenue     5000\n",
       "41    Revenue     3000\n",
       "42    Revenue     3500\n",
       "43    Revenue     2000\n",
       "44    Revenue     1600\n",
       "45    Revenue     6000\n",
       "46    Revenue     4000\n",
       "47    Revenue     2400\n",
       "48    Revenue     4500\n",
       "49    Revenue     5000"
      ]
     },
     "execution_count": 4,
     "metadata": {},
     "output_type": "execute_result"
    }
   ],
   "source": [
    "pd.melt(df)"
   ]
  },
  {
   "cell_type": "code",
   "execution_count": 5,
   "id": "542f239a-3a7b-4ac1-89af-f96074ebc8de",
   "metadata": {},
   "outputs": [
    {
     "data": {
      "text/html": [
       "<div>\n",
       "<style scoped>\n",
       "    .dataframe tbody tr th:only-of-type {\n",
       "        vertical-align: middle;\n",
       "    }\n",
       "\n",
       "    .dataframe tbody tr th {\n",
       "        vertical-align: top;\n",
       "    }\n",
       "\n",
       "    .dataframe thead th {\n",
       "        text-align: right;\n",
       "    }\n",
       "</style>\n",
       "<table border=\"1\" class=\"dataframe\">\n",
       "  <thead>\n",
       "    <tr style=\"text-align: right;\">\n",
       "      <th></th>\n",
       "      <th>Product</th>\n",
       "      <th>variable</th>\n",
       "      <th>value</th>\n",
       "    </tr>\n",
       "  </thead>\n",
       "  <tbody>\n",
       "    <tr>\n",
       "      <th>0</th>\n",
       "      <td>Laptop</td>\n",
       "      <td>Region</td>\n",
       "      <td>North</td>\n",
       "    </tr>\n",
       "    <tr>\n",
       "      <th>1</th>\n",
       "      <td>Laptop</td>\n",
       "      <td>Region</td>\n",
       "      <td>South</td>\n",
       "    </tr>\n",
       "    <tr>\n",
       "      <th>2</th>\n",
       "      <td>Tablet</td>\n",
       "      <td>Region</td>\n",
       "      <td>East</td>\n",
       "    </tr>\n",
       "    <tr>\n",
       "      <th>3</th>\n",
       "      <td>Phone</td>\n",
       "      <td>Region</td>\n",
       "      <td>West</td>\n",
       "    </tr>\n",
       "    <tr>\n",
       "      <th>4</th>\n",
       "      <td>Tablet</td>\n",
       "      <td>Region</td>\n",
       "      <td>North</td>\n",
       "    </tr>\n",
       "    <tr>\n",
       "      <th>5</th>\n",
       "      <td>Laptop</td>\n",
       "      <td>Region</td>\n",
       "      <td>East</td>\n",
       "    </tr>\n",
       "    <tr>\n",
       "      <th>6</th>\n",
       "      <td>Phone</td>\n",
       "      <td>Region</td>\n",
       "      <td>South</td>\n",
       "    </tr>\n",
       "    <tr>\n",
       "      <th>7</th>\n",
       "      <td>Tablet</td>\n",
       "      <td>Region</td>\n",
       "      <td>West</td>\n",
       "    </tr>\n",
       "    <tr>\n",
       "      <th>8</th>\n",
       "      <td>Phone</td>\n",
       "      <td>Region</td>\n",
       "      <td>North</td>\n",
       "    </tr>\n",
       "    <tr>\n",
       "      <th>9</th>\n",
       "      <td>Laptop</td>\n",
       "      <td>Region</td>\n",
       "      <td>East</td>\n",
       "    </tr>\n",
       "    <tr>\n",
       "      <th>10</th>\n",
       "      <td>Laptop</td>\n",
       "      <td>Sales Rep</td>\n",
       "      <td>Alice</td>\n",
       "    </tr>\n",
       "    <tr>\n",
       "      <th>11</th>\n",
       "      <td>Laptop</td>\n",
       "      <td>Sales Rep</td>\n",
       "      <td>Bob</td>\n",
       "    </tr>\n",
       "    <tr>\n",
       "      <th>12</th>\n",
       "      <td>Tablet</td>\n",
       "      <td>Sales Rep</td>\n",
       "      <td>Charlie</td>\n",
       "    </tr>\n",
       "    <tr>\n",
       "      <th>13</th>\n",
       "      <td>Phone</td>\n",
       "      <td>Sales Rep</td>\n",
       "      <td>David</td>\n",
       "    </tr>\n",
       "    <tr>\n",
       "      <th>14</th>\n",
       "      <td>Tablet</td>\n",
       "      <td>Sales Rep</td>\n",
       "      <td>Alice</td>\n",
       "    </tr>\n",
       "    <tr>\n",
       "      <th>15</th>\n",
       "      <td>Laptop</td>\n",
       "      <td>Sales Rep</td>\n",
       "      <td>Charlie</td>\n",
       "    </tr>\n",
       "    <tr>\n",
       "      <th>16</th>\n",
       "      <td>Phone</td>\n",
       "      <td>Sales Rep</td>\n",
       "      <td>Bob</td>\n",
       "    </tr>\n",
       "    <tr>\n",
       "      <th>17</th>\n",
       "      <td>Tablet</td>\n",
       "      <td>Sales Rep</td>\n",
       "      <td>David</td>\n",
       "    </tr>\n",
       "    <tr>\n",
       "      <th>18</th>\n",
       "      <td>Phone</td>\n",
       "      <td>Sales Rep</td>\n",
       "      <td>Alice</td>\n",
       "    </tr>\n",
       "    <tr>\n",
       "      <th>19</th>\n",
       "      <td>Laptop</td>\n",
       "      <td>Sales Rep</td>\n",
       "      <td>Charlie</td>\n",
       "    </tr>\n",
       "    <tr>\n",
       "      <th>20</th>\n",
       "      <td>Laptop</td>\n",
       "      <td>Quantity</td>\n",
       "      <td>5</td>\n",
       "    </tr>\n",
       "    <tr>\n",
       "      <th>21</th>\n",
       "      <td>Laptop</td>\n",
       "      <td>Quantity</td>\n",
       "      <td>3</td>\n",
       "    </tr>\n",
       "    <tr>\n",
       "      <th>22</th>\n",
       "      <td>Tablet</td>\n",
       "      <td>Quantity</td>\n",
       "      <td>7</td>\n",
       "    </tr>\n",
       "    <tr>\n",
       "      <th>23</th>\n",
       "      <td>Phone</td>\n",
       "      <td>Quantity</td>\n",
       "      <td>2</td>\n",
       "    </tr>\n",
       "    <tr>\n",
       "      <th>24</th>\n",
       "      <td>Tablet</td>\n",
       "      <td>Quantity</td>\n",
       "      <td>4</td>\n",
       "    </tr>\n",
       "    <tr>\n",
       "      <th>25</th>\n",
       "      <td>Laptop</td>\n",
       "      <td>Quantity</td>\n",
       "      <td>6</td>\n",
       "    </tr>\n",
       "    <tr>\n",
       "      <th>26</th>\n",
       "      <td>Phone</td>\n",
       "      <td>Quantity</td>\n",
       "      <td>8</td>\n",
       "    </tr>\n",
       "    <tr>\n",
       "      <th>27</th>\n",
       "      <td>Tablet</td>\n",
       "      <td>Quantity</td>\n",
       "      <td>3</td>\n",
       "    </tr>\n",
       "    <tr>\n",
       "      <th>28</th>\n",
       "      <td>Phone</td>\n",
       "      <td>Quantity</td>\n",
       "      <td>9</td>\n",
       "    </tr>\n",
       "    <tr>\n",
       "      <th>29</th>\n",
       "      <td>Laptop</td>\n",
       "      <td>Quantity</td>\n",
       "      <td>5</td>\n",
       "    </tr>\n",
       "    <tr>\n",
       "      <th>30</th>\n",
       "      <td>Laptop</td>\n",
       "      <td>Revenue</td>\n",
       "      <td>5000</td>\n",
       "    </tr>\n",
       "    <tr>\n",
       "      <th>31</th>\n",
       "      <td>Laptop</td>\n",
       "      <td>Revenue</td>\n",
       "      <td>3000</td>\n",
       "    </tr>\n",
       "    <tr>\n",
       "      <th>32</th>\n",
       "      <td>Tablet</td>\n",
       "      <td>Revenue</td>\n",
       "      <td>3500</td>\n",
       "    </tr>\n",
       "    <tr>\n",
       "      <th>33</th>\n",
       "      <td>Phone</td>\n",
       "      <td>Revenue</td>\n",
       "      <td>2000</td>\n",
       "    </tr>\n",
       "    <tr>\n",
       "      <th>34</th>\n",
       "      <td>Tablet</td>\n",
       "      <td>Revenue</td>\n",
       "      <td>1600</td>\n",
       "    </tr>\n",
       "    <tr>\n",
       "      <th>35</th>\n",
       "      <td>Laptop</td>\n",
       "      <td>Revenue</td>\n",
       "      <td>6000</td>\n",
       "    </tr>\n",
       "    <tr>\n",
       "      <th>36</th>\n",
       "      <td>Phone</td>\n",
       "      <td>Revenue</td>\n",
       "      <td>4000</td>\n",
       "    </tr>\n",
       "    <tr>\n",
       "      <th>37</th>\n",
       "      <td>Tablet</td>\n",
       "      <td>Revenue</td>\n",
       "      <td>2400</td>\n",
       "    </tr>\n",
       "    <tr>\n",
       "      <th>38</th>\n",
       "      <td>Phone</td>\n",
       "      <td>Revenue</td>\n",
       "      <td>4500</td>\n",
       "    </tr>\n",
       "    <tr>\n",
       "      <th>39</th>\n",
       "      <td>Laptop</td>\n",
       "      <td>Revenue</td>\n",
       "      <td>5000</td>\n",
       "    </tr>\n",
       "  </tbody>\n",
       "</table>\n",
       "</div>"
      ],
      "text/plain": [
       "   Product   variable    value\n",
       "0   Laptop     Region    North\n",
       "1   Laptop     Region    South\n",
       "2   Tablet     Region     East\n",
       "3    Phone     Region     West\n",
       "4   Tablet     Region    North\n",
       "5   Laptop     Region     East\n",
       "6    Phone     Region    South\n",
       "7   Tablet     Region     West\n",
       "8    Phone     Region    North\n",
       "9   Laptop     Region     East\n",
       "10  Laptop  Sales Rep    Alice\n",
       "11  Laptop  Sales Rep      Bob\n",
       "12  Tablet  Sales Rep  Charlie\n",
       "13   Phone  Sales Rep    David\n",
       "14  Tablet  Sales Rep    Alice\n",
       "15  Laptop  Sales Rep  Charlie\n",
       "16   Phone  Sales Rep      Bob\n",
       "17  Tablet  Sales Rep    David\n",
       "18   Phone  Sales Rep    Alice\n",
       "19  Laptop  Sales Rep  Charlie\n",
       "20  Laptop   Quantity        5\n",
       "21  Laptop   Quantity        3\n",
       "22  Tablet   Quantity        7\n",
       "23   Phone   Quantity        2\n",
       "24  Tablet   Quantity        4\n",
       "25  Laptop   Quantity        6\n",
       "26   Phone   Quantity        8\n",
       "27  Tablet   Quantity        3\n",
       "28   Phone   Quantity        9\n",
       "29  Laptop   Quantity        5\n",
       "30  Laptop    Revenue     5000\n",
       "31  Laptop    Revenue     3000\n",
       "32  Tablet    Revenue     3500\n",
       "33   Phone    Revenue     2000\n",
       "34  Tablet    Revenue     1600\n",
       "35  Laptop    Revenue     6000\n",
       "36   Phone    Revenue     4000\n",
       "37  Tablet    Revenue     2400\n",
       "38   Phone    Revenue     4500\n",
       "39  Laptop    Revenue     5000"
      ]
     },
     "execution_count": 5,
     "metadata": {},
     "output_type": "execute_result"
    }
   ],
   "source": [
    "pd.melt(df,id_vars= \"Product\")"
   ]
  },
  {
   "cell_type": "code",
   "execution_count": 6,
   "id": "e418809a-47fd-483a-9d6e-bb5bc9724765",
   "metadata": {},
   "outputs": [
    {
     "data": {
      "text/html": [
       "<div>\n",
       "<style scoped>\n",
       "    .dataframe tbody tr th:only-of-type {\n",
       "        vertical-align: middle;\n",
       "    }\n",
       "\n",
       "    .dataframe tbody tr th {\n",
       "        vertical-align: top;\n",
       "    }\n",
       "\n",
       "    .dataframe thead th {\n",
       "        text-align: right;\n",
       "    }\n",
       "</style>\n",
       "<table border=\"1\" class=\"dataframe\">\n",
       "  <thead>\n",
       "    <tr style=\"text-align: right;\">\n",
       "      <th></th>\n",
       "      <th>Product</th>\n",
       "      <th>variable</th>\n",
       "      <th>value</th>\n",
       "    </tr>\n",
       "  </thead>\n",
       "  <tbody>\n",
       "    <tr>\n",
       "      <th>0</th>\n",
       "      <td>Laptop</td>\n",
       "      <td>Sales Rep</td>\n",
       "      <td>Alice</td>\n",
       "    </tr>\n",
       "    <tr>\n",
       "      <th>1</th>\n",
       "      <td>Laptop</td>\n",
       "      <td>Sales Rep</td>\n",
       "      <td>Bob</td>\n",
       "    </tr>\n",
       "    <tr>\n",
       "      <th>2</th>\n",
       "      <td>Tablet</td>\n",
       "      <td>Sales Rep</td>\n",
       "      <td>Charlie</td>\n",
       "    </tr>\n",
       "    <tr>\n",
       "      <th>3</th>\n",
       "      <td>Phone</td>\n",
       "      <td>Sales Rep</td>\n",
       "      <td>David</td>\n",
       "    </tr>\n",
       "    <tr>\n",
       "      <th>4</th>\n",
       "      <td>Tablet</td>\n",
       "      <td>Sales Rep</td>\n",
       "      <td>Alice</td>\n",
       "    </tr>\n",
       "    <tr>\n",
       "      <th>5</th>\n",
       "      <td>Laptop</td>\n",
       "      <td>Sales Rep</td>\n",
       "      <td>Charlie</td>\n",
       "    </tr>\n",
       "    <tr>\n",
       "      <th>6</th>\n",
       "      <td>Phone</td>\n",
       "      <td>Sales Rep</td>\n",
       "      <td>Bob</td>\n",
       "    </tr>\n",
       "    <tr>\n",
       "      <th>7</th>\n",
       "      <td>Tablet</td>\n",
       "      <td>Sales Rep</td>\n",
       "      <td>David</td>\n",
       "    </tr>\n",
       "    <tr>\n",
       "      <th>8</th>\n",
       "      <td>Phone</td>\n",
       "      <td>Sales Rep</td>\n",
       "      <td>Alice</td>\n",
       "    </tr>\n",
       "    <tr>\n",
       "      <th>9</th>\n",
       "      <td>Laptop</td>\n",
       "      <td>Sales Rep</td>\n",
       "      <td>Charlie</td>\n",
       "    </tr>\n",
       "  </tbody>\n",
       "</table>\n",
       "</div>"
      ],
      "text/plain": [
       "  Product   variable    value\n",
       "0  Laptop  Sales Rep    Alice\n",
       "1  Laptop  Sales Rep      Bob\n",
       "2  Tablet  Sales Rep  Charlie\n",
       "3   Phone  Sales Rep    David\n",
       "4  Tablet  Sales Rep    Alice\n",
       "5  Laptop  Sales Rep  Charlie\n",
       "6   Phone  Sales Rep      Bob\n",
       "7  Tablet  Sales Rep    David\n",
       "8   Phone  Sales Rep    Alice\n",
       "9  Laptop  Sales Rep  Charlie"
      ]
     },
     "execution_count": 6,
     "metadata": {},
     "output_type": "execute_result"
    }
   ],
   "source": [
    "pd.melt(df,id_vars= \"Product\",value_vars= \"Sales Rep\")"
   ]
  },
  {
   "cell_type": "code",
   "execution_count": 7,
   "id": "bd295b10-df9b-48b0-a8da-b6367bfcf297",
   "metadata": {},
   "outputs": [
    {
     "data": {
      "text/html": [
       "<div>\n",
       "<style scoped>\n",
       "    .dataframe tbody tr th:only-of-type {\n",
       "        vertical-align: middle;\n",
       "    }\n",
       "\n",
       "    .dataframe tbody tr th {\n",
       "        vertical-align: top;\n",
       "    }\n",
       "\n",
       "    .dataframe thead th {\n",
       "        text-align: right;\n",
       "    }\n",
       "</style>\n",
       "<table border=\"1\" class=\"dataframe\">\n",
       "  <thead>\n",
       "    <tr style=\"text-align: right;\">\n",
       "      <th></th>\n",
       "      <th>Sales Rep</th>\n",
       "      <th>variable</th>\n",
       "      <th>value</th>\n",
       "    </tr>\n",
       "  </thead>\n",
       "  <tbody>\n",
       "    <tr>\n",
       "      <th>0</th>\n",
       "      <td>Alice</td>\n",
       "      <td>Product</td>\n",
       "      <td>Laptop</td>\n",
       "    </tr>\n",
       "    <tr>\n",
       "      <th>1</th>\n",
       "      <td>Bob</td>\n",
       "      <td>Product</td>\n",
       "      <td>Laptop</td>\n",
       "    </tr>\n",
       "    <tr>\n",
       "      <th>2</th>\n",
       "      <td>Charlie</td>\n",
       "      <td>Product</td>\n",
       "      <td>Tablet</td>\n",
       "    </tr>\n",
       "    <tr>\n",
       "      <th>3</th>\n",
       "      <td>David</td>\n",
       "      <td>Product</td>\n",
       "      <td>Phone</td>\n",
       "    </tr>\n",
       "    <tr>\n",
       "      <th>4</th>\n",
       "      <td>Alice</td>\n",
       "      <td>Product</td>\n",
       "      <td>Tablet</td>\n",
       "    </tr>\n",
       "    <tr>\n",
       "      <th>5</th>\n",
       "      <td>Charlie</td>\n",
       "      <td>Product</td>\n",
       "      <td>Laptop</td>\n",
       "    </tr>\n",
       "    <tr>\n",
       "      <th>6</th>\n",
       "      <td>Bob</td>\n",
       "      <td>Product</td>\n",
       "      <td>Phone</td>\n",
       "    </tr>\n",
       "    <tr>\n",
       "      <th>7</th>\n",
       "      <td>David</td>\n",
       "      <td>Product</td>\n",
       "      <td>Tablet</td>\n",
       "    </tr>\n",
       "    <tr>\n",
       "      <th>8</th>\n",
       "      <td>Alice</td>\n",
       "      <td>Product</td>\n",
       "      <td>Phone</td>\n",
       "    </tr>\n",
       "    <tr>\n",
       "      <th>9</th>\n",
       "      <td>Charlie</td>\n",
       "      <td>Product</td>\n",
       "      <td>Laptop</td>\n",
       "    </tr>\n",
       "  </tbody>\n",
       "</table>\n",
       "</div>"
      ],
      "text/plain": [
       "  Sales Rep variable   value\n",
       "0     Alice  Product  Laptop\n",
       "1       Bob  Product  Laptop\n",
       "2   Charlie  Product  Tablet\n",
       "3     David  Product   Phone\n",
       "4     Alice  Product  Tablet\n",
       "5   Charlie  Product  Laptop\n",
       "6       Bob  Product   Phone\n",
       "7     David  Product  Tablet\n",
       "8     Alice  Product   Phone\n",
       "9   Charlie  Product  Laptop"
      ]
     },
     "execution_count": 7,
     "metadata": {},
     "output_type": "execute_result"
    }
   ],
   "source": [
    "pd.melt(df,id_vars=\"Sales Rep\" , value_vars= \"Product\")"
   ]
  },
  {
   "cell_type": "code",
   "execution_count": 8,
   "id": "9f6c3f91-0abf-45ed-b830-22f5a2746199",
   "metadata": {},
   "outputs": [
    {
     "data": {
      "text/html": [
       "<div>\n",
       "<style scoped>\n",
       "    .dataframe tbody tr th:only-of-type {\n",
       "        vertical-align: middle;\n",
       "    }\n",
       "\n",
       "    .dataframe tbody tr th {\n",
       "        vertical-align: top;\n",
       "    }\n",
       "\n",
       "    .dataframe thead th {\n",
       "        text-align: right;\n",
       "    }\n",
       "</style>\n",
       "<table border=\"1\" class=\"dataframe\">\n",
       "  <thead>\n",
       "    <tr style=\"text-align: right;\">\n",
       "      <th></th>\n",
       "      <th>Sales Rep</th>\n",
       "      <th>variable</th>\n",
       "      <th>value</th>\n",
       "    </tr>\n",
       "  </thead>\n",
       "  <tbody>\n",
       "    <tr>\n",
       "      <th>0</th>\n",
       "      <td>Alice</td>\n",
       "      <td>Revenue</td>\n",
       "      <td>5000</td>\n",
       "    </tr>\n",
       "    <tr>\n",
       "      <th>1</th>\n",
       "      <td>Bob</td>\n",
       "      <td>Revenue</td>\n",
       "      <td>3000</td>\n",
       "    </tr>\n",
       "    <tr>\n",
       "      <th>2</th>\n",
       "      <td>Charlie</td>\n",
       "      <td>Revenue</td>\n",
       "      <td>3500</td>\n",
       "    </tr>\n",
       "    <tr>\n",
       "      <th>3</th>\n",
       "      <td>David</td>\n",
       "      <td>Revenue</td>\n",
       "      <td>2000</td>\n",
       "    </tr>\n",
       "    <tr>\n",
       "      <th>4</th>\n",
       "      <td>Alice</td>\n",
       "      <td>Revenue</td>\n",
       "      <td>1600</td>\n",
       "    </tr>\n",
       "    <tr>\n",
       "      <th>5</th>\n",
       "      <td>Charlie</td>\n",
       "      <td>Revenue</td>\n",
       "      <td>6000</td>\n",
       "    </tr>\n",
       "    <tr>\n",
       "      <th>6</th>\n",
       "      <td>Bob</td>\n",
       "      <td>Revenue</td>\n",
       "      <td>4000</td>\n",
       "    </tr>\n",
       "    <tr>\n",
       "      <th>7</th>\n",
       "      <td>David</td>\n",
       "      <td>Revenue</td>\n",
       "      <td>2400</td>\n",
       "    </tr>\n",
       "    <tr>\n",
       "      <th>8</th>\n",
       "      <td>Alice</td>\n",
       "      <td>Revenue</td>\n",
       "      <td>4500</td>\n",
       "    </tr>\n",
       "    <tr>\n",
       "      <th>9</th>\n",
       "      <td>Charlie</td>\n",
       "      <td>Revenue</td>\n",
       "      <td>5000</td>\n",
       "    </tr>\n",
       "  </tbody>\n",
       "</table>\n",
       "</div>"
      ],
      "text/plain": [
       "  Sales Rep variable  value\n",
       "0     Alice  Revenue   5000\n",
       "1       Bob  Revenue   3000\n",
       "2   Charlie  Revenue   3500\n",
       "3     David  Revenue   2000\n",
       "4     Alice  Revenue   1600\n",
       "5   Charlie  Revenue   6000\n",
       "6       Bob  Revenue   4000\n",
       "7     David  Revenue   2400\n",
       "8     Alice  Revenue   4500\n",
       "9   Charlie  Revenue   5000"
      ]
     },
     "execution_count": 8,
     "metadata": {},
     "output_type": "execute_result"
    }
   ],
   "source": [
    "pd.melt(df,id_vars=\"Sales Rep\" , value_vars= \"Revenue\")"
   ]
  },
  {
   "cell_type": "code",
   "execution_count": 9,
   "id": "0e580fbf-6bf5-4601-a5bd-a9cca2b0d725",
   "metadata": {},
   "outputs": [
    {
     "data": {
      "text/html": [
       "<div>\n",
       "<style scoped>\n",
       "    .dataframe tbody tr th:only-of-type {\n",
       "        vertical-align: middle;\n",
       "    }\n",
       "\n",
       "    .dataframe tbody tr th {\n",
       "        vertical-align: top;\n",
       "    }\n",
       "\n",
       "    .dataframe thead th {\n",
       "        text-align: right;\n",
       "    }\n",
       "</style>\n",
       "<table border=\"1\" class=\"dataframe\">\n",
       "  <thead>\n",
       "    <tr style=\"text-align: right;\">\n",
       "      <th></th>\n",
       "      <th>Sales Rep</th>\n",
       "      <th>variable</th>\n",
       "      <th>New_value</th>\n",
       "    </tr>\n",
       "  </thead>\n",
       "  <tbody>\n",
       "    <tr>\n",
       "      <th>0</th>\n",
       "      <td>Alice</td>\n",
       "      <td>Revenue</td>\n",
       "      <td>5000</td>\n",
       "    </tr>\n",
       "    <tr>\n",
       "      <th>1</th>\n",
       "      <td>Bob</td>\n",
       "      <td>Revenue</td>\n",
       "      <td>3000</td>\n",
       "    </tr>\n",
       "    <tr>\n",
       "      <th>2</th>\n",
       "      <td>Charlie</td>\n",
       "      <td>Revenue</td>\n",
       "      <td>3500</td>\n",
       "    </tr>\n",
       "    <tr>\n",
       "      <th>3</th>\n",
       "      <td>David</td>\n",
       "      <td>Revenue</td>\n",
       "      <td>2000</td>\n",
       "    </tr>\n",
       "    <tr>\n",
       "      <th>4</th>\n",
       "      <td>Alice</td>\n",
       "      <td>Revenue</td>\n",
       "      <td>1600</td>\n",
       "    </tr>\n",
       "    <tr>\n",
       "      <th>5</th>\n",
       "      <td>Charlie</td>\n",
       "      <td>Revenue</td>\n",
       "      <td>6000</td>\n",
       "    </tr>\n",
       "    <tr>\n",
       "      <th>6</th>\n",
       "      <td>Bob</td>\n",
       "      <td>Revenue</td>\n",
       "      <td>4000</td>\n",
       "    </tr>\n",
       "    <tr>\n",
       "      <th>7</th>\n",
       "      <td>David</td>\n",
       "      <td>Revenue</td>\n",
       "      <td>2400</td>\n",
       "    </tr>\n",
       "    <tr>\n",
       "      <th>8</th>\n",
       "      <td>Alice</td>\n",
       "      <td>Revenue</td>\n",
       "      <td>4500</td>\n",
       "    </tr>\n",
       "    <tr>\n",
       "      <th>9</th>\n",
       "      <td>Charlie</td>\n",
       "      <td>Revenue</td>\n",
       "      <td>5000</td>\n",
       "    </tr>\n",
       "  </tbody>\n",
       "</table>\n",
       "</div>"
      ],
      "text/plain": [
       "  Sales Rep variable  New_value\n",
       "0     Alice  Revenue       5000\n",
       "1       Bob  Revenue       3000\n",
       "2   Charlie  Revenue       3500\n",
       "3     David  Revenue       2000\n",
       "4     Alice  Revenue       1600\n",
       "5   Charlie  Revenue       6000\n",
       "6       Bob  Revenue       4000\n",
       "7     David  Revenue       2400\n",
       "8     Alice  Revenue       4500\n",
       "9   Charlie  Revenue       5000"
      ]
     },
     "execution_count": 9,
     "metadata": {},
     "output_type": "execute_result"
    }
   ],
   "source": [
    "pd.melt(df,id_vars=\"Sales Rep\" , value_vars= \"Revenue\",value_name= \"New_value\")"
   ]
  },
  {
   "cell_type": "code",
   "execution_count": 10,
   "id": "e007729a-fb43-4d1b-9e9e-e65ee93d7e4f",
   "metadata": {},
   "outputs": [
    {
     "data": {
      "text/html": [
       "<div>\n",
       "<style scoped>\n",
       "    .dataframe tbody tr th:only-of-type {\n",
       "        vertical-align: middle;\n",
       "    }\n",
       "\n",
       "    .dataframe tbody tr th {\n",
       "        vertical-align: top;\n",
       "    }\n",
       "\n",
       "    .dataframe thead th {\n",
       "        text-align: right;\n",
       "    }\n",
       "</style>\n",
       "<table border=\"1\" class=\"dataframe\">\n",
       "  <thead>\n",
       "    <tr style=\"text-align: right;\">\n",
       "      <th></th>\n",
       "      <th>Sales Rep</th>\n",
       "      <th>random</th>\n",
       "      <th>New_value</th>\n",
       "    </tr>\n",
       "  </thead>\n",
       "  <tbody>\n",
       "    <tr>\n",
       "      <th>0</th>\n",
       "      <td>Alice</td>\n",
       "      <td>Revenue</td>\n",
       "      <td>5000</td>\n",
       "    </tr>\n",
       "    <tr>\n",
       "      <th>1</th>\n",
       "      <td>Bob</td>\n",
       "      <td>Revenue</td>\n",
       "      <td>3000</td>\n",
       "    </tr>\n",
       "    <tr>\n",
       "      <th>2</th>\n",
       "      <td>Charlie</td>\n",
       "      <td>Revenue</td>\n",
       "      <td>3500</td>\n",
       "    </tr>\n",
       "    <tr>\n",
       "      <th>3</th>\n",
       "      <td>David</td>\n",
       "      <td>Revenue</td>\n",
       "      <td>2000</td>\n",
       "    </tr>\n",
       "    <tr>\n",
       "      <th>4</th>\n",
       "      <td>Alice</td>\n",
       "      <td>Revenue</td>\n",
       "      <td>1600</td>\n",
       "    </tr>\n",
       "    <tr>\n",
       "      <th>5</th>\n",
       "      <td>Charlie</td>\n",
       "      <td>Revenue</td>\n",
       "      <td>6000</td>\n",
       "    </tr>\n",
       "    <tr>\n",
       "      <th>6</th>\n",
       "      <td>Bob</td>\n",
       "      <td>Revenue</td>\n",
       "      <td>4000</td>\n",
       "    </tr>\n",
       "    <tr>\n",
       "      <th>7</th>\n",
       "      <td>David</td>\n",
       "      <td>Revenue</td>\n",
       "      <td>2400</td>\n",
       "    </tr>\n",
       "    <tr>\n",
       "      <th>8</th>\n",
       "      <td>Alice</td>\n",
       "      <td>Revenue</td>\n",
       "      <td>4500</td>\n",
       "    </tr>\n",
       "    <tr>\n",
       "      <th>9</th>\n",
       "      <td>Charlie</td>\n",
       "      <td>Revenue</td>\n",
       "      <td>5000</td>\n",
       "    </tr>\n",
       "  </tbody>\n",
       "</table>\n",
       "</div>"
      ],
      "text/plain": [
       "  Sales Rep   random  New_value\n",
       "0     Alice  Revenue       5000\n",
       "1       Bob  Revenue       3000\n",
       "2   Charlie  Revenue       3500\n",
       "3     David  Revenue       2000\n",
       "4     Alice  Revenue       1600\n",
       "5   Charlie  Revenue       6000\n",
       "6       Bob  Revenue       4000\n",
       "7     David  Revenue       2400\n",
       "8     Alice  Revenue       4500\n",
       "9   Charlie  Revenue       5000"
      ]
     },
     "execution_count": 10,
     "metadata": {},
     "output_type": "execute_result"
    }
   ],
   "source": [
    "pd.melt(df,id_vars=\"Sales Rep\" , value_vars= \"Revenue\",var_name= \"random\", value_name= \"New_value\")"
   ]
  },
  {
   "cell_type": "code",
   "execution_count": 11,
   "id": "3aab8d0a-a620-4c2a-97b9-696728f7ddc1",
   "metadata": {},
   "outputs": [
    {
     "name": "stdout",
     "output_type": "stream",
     "text": [
      "   Student_ID   Name  Age Department  GPA\n",
      "0         101    Ali   20         CS  3.2\n",
      "1         102   Sara   21       Math  3.8\n",
      "2         103  Ahmed   19    Physics  3.5\n",
      "3         104   Zoya   22         CS  3.9\n",
      "4         105  Bilal   20  Economics  3.0\n"
     ]
    }
   ],
   "source": [
    "import pandas as pd\n",
    "\n",
    "students = pd.DataFrame({\n",
    "    \"Student_ID\": [101, 102, 103, 104, 105],\n",
    "    \"Name\": [\"Ali\", \"Sara\", \"Ahmed\", \"Zoya\", \"Bilal\"],\n",
    "    \"Age\": [20, 21, 19, 22, 20],\n",
    "    \"Department\": [\"CS\", \"Math\", \"Physics\", \"CS\", \"Economics\"],\n",
    "    \"GPA\": [3.2, 3.8, 3.5, 3.9, 3.0]\n",
    "})\n",
    "\n",
    "print(students)"
   ]
  },
  {
   "cell_type": "code",
   "execution_count": 12,
   "id": "8cb24aa3-3aa8-4bbc-afba-008b00c81a84",
   "metadata": {},
   "outputs": [
    {
     "name": "stdout",
     "output_type": "stream",
     "text": [
      "             Age                        \n",
      "Department    CS Economics  Math Physics\n",
      "Name                                    \n",
      "Ahmed        NaN       NaN   NaN    19.0\n",
      "Ali         20.0       NaN   NaN     NaN\n",
      "Bilal        NaN      20.0   NaN     NaN\n",
      "Sara         NaN       NaN  21.0     NaN\n",
      "Zoya        22.0       NaN   NaN     NaN\n"
     ]
    }
   ],
   "source": [
    "pivot= pd.pivot(students,\n",
    "             values= [\"Age\"],\n",
    "             index= \"Name\",\n",
    "             columns= \"Department\"\n",
    "        )\n",
    "print(pivot)"
   ]
  },
  {
   "cell_type": "code",
   "execution_count": 13,
   "id": "600b581c-38a9-4538-b3a9-b5dc19336a54",
   "metadata": {},
   "outputs": [
    {
     "data": {
      "text/html": [
       "<div>\n",
       "<style scoped>\n",
       "    .dataframe tbody tr th:only-of-type {\n",
       "        vertical-align: middle;\n",
       "    }\n",
       "\n",
       "    .dataframe tbody tr th {\n",
       "        vertical-align: top;\n",
       "    }\n",
       "\n",
       "    .dataframe thead th {\n",
       "        text-align: right;\n",
       "    }\n",
       "</style>\n",
       "<table border=\"1\" class=\"dataframe\">\n",
       "  <thead>\n",
       "    <tr style=\"text-align: right;\">\n",
       "      <th></th>\n",
       "      <th>Student_ID</th>\n",
       "      <th>variable</th>\n",
       "      <th>value</th>\n",
       "    </tr>\n",
       "  </thead>\n",
       "  <tbody>\n",
       "    <tr>\n",
       "      <th>0</th>\n",
       "      <td>101</td>\n",
       "      <td>Name</td>\n",
       "      <td>Ali</td>\n",
       "    </tr>\n",
       "    <tr>\n",
       "      <th>1</th>\n",
       "      <td>102</td>\n",
       "      <td>Name</td>\n",
       "      <td>Sara</td>\n",
       "    </tr>\n",
       "    <tr>\n",
       "      <th>2</th>\n",
       "      <td>103</td>\n",
       "      <td>Name</td>\n",
       "      <td>Ahmed</td>\n",
       "    </tr>\n",
       "    <tr>\n",
       "      <th>3</th>\n",
       "      <td>104</td>\n",
       "      <td>Name</td>\n",
       "      <td>Zoya</td>\n",
       "    </tr>\n",
       "    <tr>\n",
       "      <th>4</th>\n",
       "      <td>105</td>\n",
       "      <td>Name</td>\n",
       "      <td>Bilal</td>\n",
       "    </tr>\n",
       "    <tr>\n",
       "      <th>5</th>\n",
       "      <td>101</td>\n",
       "      <td>Age</td>\n",
       "      <td>20</td>\n",
       "    </tr>\n",
       "    <tr>\n",
       "      <th>6</th>\n",
       "      <td>102</td>\n",
       "      <td>Age</td>\n",
       "      <td>21</td>\n",
       "    </tr>\n",
       "    <tr>\n",
       "      <th>7</th>\n",
       "      <td>103</td>\n",
       "      <td>Age</td>\n",
       "      <td>19</td>\n",
       "    </tr>\n",
       "    <tr>\n",
       "      <th>8</th>\n",
       "      <td>104</td>\n",
       "      <td>Age</td>\n",
       "      <td>22</td>\n",
       "    </tr>\n",
       "    <tr>\n",
       "      <th>9</th>\n",
       "      <td>105</td>\n",
       "      <td>Age</td>\n",
       "      <td>20</td>\n",
       "    </tr>\n",
       "    <tr>\n",
       "      <th>10</th>\n",
       "      <td>101</td>\n",
       "      <td>Department</td>\n",
       "      <td>CS</td>\n",
       "    </tr>\n",
       "    <tr>\n",
       "      <th>11</th>\n",
       "      <td>102</td>\n",
       "      <td>Department</td>\n",
       "      <td>Math</td>\n",
       "    </tr>\n",
       "    <tr>\n",
       "      <th>12</th>\n",
       "      <td>103</td>\n",
       "      <td>Department</td>\n",
       "      <td>Physics</td>\n",
       "    </tr>\n",
       "    <tr>\n",
       "      <th>13</th>\n",
       "      <td>104</td>\n",
       "      <td>Department</td>\n",
       "      <td>CS</td>\n",
       "    </tr>\n",
       "    <tr>\n",
       "      <th>14</th>\n",
       "      <td>105</td>\n",
       "      <td>Department</td>\n",
       "      <td>Economics</td>\n",
       "    </tr>\n",
       "    <tr>\n",
       "      <th>15</th>\n",
       "      <td>101</td>\n",
       "      <td>GPA</td>\n",
       "      <td>3.2</td>\n",
       "    </tr>\n",
       "    <tr>\n",
       "      <th>16</th>\n",
       "      <td>102</td>\n",
       "      <td>GPA</td>\n",
       "      <td>3.8</td>\n",
       "    </tr>\n",
       "    <tr>\n",
       "      <th>17</th>\n",
       "      <td>103</td>\n",
       "      <td>GPA</td>\n",
       "      <td>3.5</td>\n",
       "    </tr>\n",
       "    <tr>\n",
       "      <th>18</th>\n",
       "      <td>104</td>\n",
       "      <td>GPA</td>\n",
       "      <td>3.9</td>\n",
       "    </tr>\n",
       "    <tr>\n",
       "      <th>19</th>\n",
       "      <td>105</td>\n",
       "      <td>GPA</td>\n",
       "      <td>3.0</td>\n",
       "    </tr>\n",
       "  </tbody>\n",
       "</table>\n",
       "</div>"
      ],
      "text/plain": [
       "    Student_ID    variable      value\n",
       "0          101        Name        Ali\n",
       "1          102        Name       Sara\n",
       "2          103        Name      Ahmed\n",
       "3          104        Name       Zoya\n",
       "4          105        Name      Bilal\n",
       "5          101         Age         20\n",
       "6          102         Age         21\n",
       "7          103         Age         19\n",
       "8          104         Age         22\n",
       "9          105         Age         20\n",
       "10         101  Department         CS\n",
       "11         102  Department       Math\n",
       "12         103  Department    Physics\n",
       "13         104  Department         CS\n",
       "14         105  Department  Economics\n",
       "15         101         GPA        3.2\n",
       "16         102         GPA        3.8\n",
       "17         103         GPA        3.5\n",
       "18         104         GPA        3.9\n",
       "19         105         GPA        3.0"
      ]
     },
     "execution_count": 13,
     "metadata": {},
     "output_type": "execute_result"
    }
   ],
   "source": [
    "pd.melt(students, id_vars= \"Student_ID\")"
   ]
  },
  {
   "cell_type": "code",
   "execution_count": 14,
   "id": "9ebd1e5a-8b7b-412e-9500-897e6ef70315",
   "metadata": {},
   "outputs": [
    {
     "data": {
      "text/html": [
       "<div>\n",
       "<style scoped>\n",
       "    .dataframe tbody tr th:only-of-type {\n",
       "        vertical-align: middle;\n",
       "    }\n",
       "\n",
       "    .dataframe tbody tr th {\n",
       "        vertical-align: top;\n",
       "    }\n",
       "\n",
       "    .dataframe thead th {\n",
       "        text-align: right;\n",
       "    }\n",
       "</style>\n",
       "<table border=\"1\" class=\"dataframe\">\n",
       "  <thead>\n",
       "    <tr style=\"text-align: right;\">\n",
       "      <th></th>\n",
       "      <th>Student_ID</th>\n",
       "      <th>variable</th>\n",
       "      <th>value</th>\n",
       "    </tr>\n",
       "  </thead>\n",
       "  <tbody>\n",
       "    <tr>\n",
       "      <th>0</th>\n",
       "      <td>101</td>\n",
       "      <td>GPA</td>\n",
       "      <td>3.2</td>\n",
       "    </tr>\n",
       "    <tr>\n",
       "      <th>1</th>\n",
       "      <td>102</td>\n",
       "      <td>GPA</td>\n",
       "      <td>3.8</td>\n",
       "    </tr>\n",
       "    <tr>\n",
       "      <th>2</th>\n",
       "      <td>103</td>\n",
       "      <td>GPA</td>\n",
       "      <td>3.5</td>\n",
       "    </tr>\n",
       "    <tr>\n",
       "      <th>3</th>\n",
       "      <td>104</td>\n",
       "      <td>GPA</td>\n",
       "      <td>3.9</td>\n",
       "    </tr>\n",
       "    <tr>\n",
       "      <th>4</th>\n",
       "      <td>105</td>\n",
       "      <td>GPA</td>\n",
       "      <td>3.0</td>\n",
       "    </tr>\n",
       "  </tbody>\n",
       "</table>\n",
       "</div>"
      ],
      "text/plain": [
       "   Student_ID variable  value\n",
       "0         101      GPA    3.2\n",
       "1         102      GPA    3.8\n",
       "2         103      GPA    3.5\n",
       "3         104      GPA    3.9\n",
       "4         105      GPA    3.0"
      ]
     },
     "execution_count": 14,
     "metadata": {},
     "output_type": "execute_result"
    }
   ],
   "source": [
    "pd.melt(students, id_vars= \"Student_ID\",value_vars= \"GPA\")"
   ]
  },
  {
   "cell_type": "code",
   "execution_count": 15,
   "id": "73ec7887-f8ce-4a66-843b-bafd2fe86b62",
   "metadata": {},
   "outputs": [
    {
     "name": "stdout",
     "output_type": "stream",
     "text": [
      "   ID  Name  Score\n",
      "0   1   Ali     85\n",
      "1   2  Sara     90\n",
      "2   3  Omar     88\n"
     ]
    }
   ],
   "source": [
    "df1 = pd.DataFrame({\n",
    "    \"ID\": [1, 2, 3],\n",
    "    \"Name\": [\"Ali\", \"Sara\", \"Omar\"],\n",
    "    \"Score\": [85, 90, 88]\n",
    "})\n",
    "print(df1)"
   ]
  },
  {
   "cell_type": "code",
   "execution_count": 16,
   "id": "ac80fe78-d2a2-4038-a14e-d6af8bec1430",
   "metadata": {},
   "outputs": [
    {
     "name": "stdout",
     "output_type": "stream",
     "text": [
      "   ID   Name  Score\n",
      "0   4   Nida     92\n",
      "1   5  Bilal     87\n",
      "2   6  Aisha     95\n"
     ]
    }
   ],
   "source": [
    "df2 = pd.DataFrame({\n",
    "    \"ID\": [4, 5, 6],\n",
    "    \"Name\": [\"Nida\", \"Bilal\", \"Aisha\"],\n",
    "    \"Score\": [92, 87, 95]})\n",
    "print(df2)"
   ]
  },
  {
   "cell_type": "code",
   "execution_count": 17,
   "id": "cfe8f85c-a273-4381-9637-c85b02460e75",
   "metadata": {},
   "outputs": [
    {
     "data": {
      "text/html": [
       "<div>\n",
       "<style scoped>\n",
       "    .dataframe tbody tr th:only-of-type {\n",
       "        vertical-align: middle;\n",
       "    }\n",
       "\n",
       "    .dataframe tbody tr th {\n",
       "        vertical-align: top;\n",
       "    }\n",
       "\n",
       "    .dataframe thead th {\n",
       "        text-align: right;\n",
       "    }\n",
       "</style>\n",
       "<table border=\"1\" class=\"dataframe\">\n",
       "  <thead>\n",
       "    <tr style=\"text-align: right;\">\n",
       "      <th></th>\n",
       "      <th>ID</th>\n",
       "      <th>Name</th>\n",
       "      <th>Score</th>\n",
       "    </tr>\n",
       "  </thead>\n",
       "  <tbody>\n",
       "    <tr>\n",
       "      <th>0</th>\n",
       "      <td>1</td>\n",
       "      <td>Ali</td>\n",
       "      <td>85</td>\n",
       "    </tr>\n",
       "    <tr>\n",
       "      <th>1</th>\n",
       "      <td>2</td>\n",
       "      <td>Sara</td>\n",
       "      <td>90</td>\n",
       "    </tr>\n",
       "    <tr>\n",
       "      <th>2</th>\n",
       "      <td>3</td>\n",
       "      <td>Omar</td>\n",
       "      <td>88</td>\n",
       "    </tr>\n",
       "    <tr>\n",
       "      <th>0</th>\n",
       "      <td>4</td>\n",
       "      <td>Nida</td>\n",
       "      <td>92</td>\n",
       "    </tr>\n",
       "    <tr>\n",
       "      <th>1</th>\n",
       "      <td>5</td>\n",
       "      <td>Bilal</td>\n",
       "      <td>87</td>\n",
       "    </tr>\n",
       "    <tr>\n",
       "      <th>2</th>\n",
       "      <td>6</td>\n",
       "      <td>Aisha</td>\n",
       "      <td>95</td>\n",
       "    </tr>\n",
       "  </tbody>\n",
       "</table>\n",
       "</div>"
      ],
      "text/plain": [
       "   ID   Name  Score\n",
       "0   1    Ali     85\n",
       "1   2   Sara     90\n",
       "2   3   Omar     88\n",
       "0   4   Nida     92\n",
       "1   5  Bilal     87\n",
       "2   6  Aisha     95"
      ]
     },
     "execution_count": 17,
     "metadata": {},
     "output_type": "execute_result"
    }
   ],
   "source": [
    "pd.concat([df1,df2])"
   ]
  },
  {
   "cell_type": "code",
   "execution_count": 18,
   "id": "b75d27cf-702f-4768-9c5d-fda926bca95a",
   "metadata": {},
   "outputs": [
    {
     "data": {
      "text/html": [
       "<div>\n",
       "<style scoped>\n",
       "    .dataframe tbody tr th:only-of-type {\n",
       "        vertical-align: middle;\n",
       "    }\n",
       "\n",
       "    .dataframe tbody tr th {\n",
       "        vertical-align: top;\n",
       "    }\n",
       "\n",
       "    .dataframe thead th {\n",
       "        text-align: right;\n",
       "    }\n",
       "</style>\n",
       "<table border=\"1\" class=\"dataframe\">\n",
       "  <thead>\n",
       "    <tr style=\"text-align: right;\">\n",
       "      <th></th>\n",
       "      <th>ID</th>\n",
       "      <th>Name</th>\n",
       "      <th>Score</th>\n",
       "    </tr>\n",
       "  </thead>\n",
       "  <tbody>\n",
       "    <tr>\n",
       "      <th>0</th>\n",
       "      <td>1</td>\n",
       "      <td>Ali</td>\n",
       "      <td>85</td>\n",
       "    </tr>\n",
       "    <tr>\n",
       "      <th>1</th>\n",
       "      <td>2</td>\n",
       "      <td>Sara</td>\n",
       "      <td>90</td>\n",
       "    </tr>\n",
       "    <tr>\n",
       "      <th>2</th>\n",
       "      <td>3</td>\n",
       "      <td>Omar</td>\n",
       "      <td>88</td>\n",
       "    </tr>\n",
       "    <tr>\n",
       "      <th>3</th>\n",
       "      <td>4</td>\n",
       "      <td>Nida</td>\n",
       "      <td>92</td>\n",
       "    </tr>\n",
       "    <tr>\n",
       "      <th>4</th>\n",
       "      <td>5</td>\n",
       "      <td>Bilal</td>\n",
       "      <td>87</td>\n",
       "    </tr>\n",
       "    <tr>\n",
       "      <th>5</th>\n",
       "      <td>6</td>\n",
       "      <td>Aisha</td>\n",
       "      <td>95</td>\n",
       "    </tr>\n",
       "  </tbody>\n",
       "</table>\n",
       "</div>"
      ],
      "text/plain": [
       "   ID   Name  Score\n",
       "0   1    Ali     85\n",
       "1   2   Sara     90\n",
       "2   3   Omar     88\n",
       "3   4   Nida     92\n",
       "4   5  Bilal     87\n",
       "5   6  Aisha     95"
      ]
     },
     "execution_count": 18,
     "metadata": {},
     "output_type": "execute_result"
    }
   ],
   "source": [
    "pd.concat([df1,df2],ignore_index= True)"
   ]
  },
  {
   "cell_type": "code",
   "execution_count": 19,
   "id": "a2bcafab-7327-4a95-99af-60cb69aff261",
   "metadata": {},
   "outputs": [
    {
     "data": {
      "text/html": [
       "<div>\n",
       "<style scoped>\n",
       "    .dataframe tbody tr th:only-of-type {\n",
       "        vertical-align: middle;\n",
       "    }\n",
       "\n",
       "    .dataframe tbody tr th {\n",
       "        vertical-align: top;\n",
       "    }\n",
       "\n",
       "    .dataframe thead tr th {\n",
       "        text-align: left;\n",
       "    }\n",
       "</style>\n",
       "<table border=\"1\" class=\"dataframe\">\n",
       "  <thead>\n",
       "    <tr>\n",
       "      <th></th>\n",
       "      <th colspan=\"3\" halign=\"left\">First</th>\n",
       "      <th colspan=\"3\" halign=\"left\">Second</th>\n",
       "    </tr>\n",
       "    <tr>\n",
       "      <th></th>\n",
       "      <th>ID</th>\n",
       "      <th>Name</th>\n",
       "      <th>Score</th>\n",
       "      <th>ID</th>\n",
       "      <th>Name</th>\n",
       "      <th>Score</th>\n",
       "    </tr>\n",
       "  </thead>\n",
       "  <tbody>\n",
       "    <tr>\n",
       "      <th>0</th>\n",
       "      <td>1</td>\n",
       "      <td>Ali</td>\n",
       "      <td>85</td>\n",
       "      <td>4</td>\n",
       "      <td>Nida</td>\n",
       "      <td>92</td>\n",
       "    </tr>\n",
       "    <tr>\n",
       "      <th>1</th>\n",
       "      <td>2</td>\n",
       "      <td>Sara</td>\n",
       "      <td>90</td>\n",
       "      <td>5</td>\n",
       "      <td>Bilal</td>\n",
       "      <td>87</td>\n",
       "    </tr>\n",
       "    <tr>\n",
       "      <th>2</th>\n",
       "      <td>3</td>\n",
       "      <td>Omar</td>\n",
       "      <td>88</td>\n",
       "      <td>6</td>\n",
       "      <td>Aisha</td>\n",
       "      <td>95</td>\n",
       "    </tr>\n",
       "  </tbody>\n",
       "</table>\n",
       "</div>"
      ],
      "text/plain": [
       "  First             Second             \n",
       "     ID  Name Score     ID   Name Score\n",
       "0     1   Ali    85      4   Nida    92\n",
       "1     2  Sara    90      5  Bilal    87\n",
       "2     3  Omar    88      6  Aisha    95"
      ]
     },
     "execution_count": 19,
     "metadata": {},
     "output_type": "execute_result"
    }
   ],
   "source": [
    "pd.concat([df1,df2],axis= 1,keys=[\"First\",\"Second\"])"
   ]
  },
  {
   "cell_type": "code",
   "execution_count": 20,
   "id": "eb307c92-c034-4852-a586-77fe85a674bf",
   "metadata": {},
   "outputs": [
    {
     "name": "stdout",
     "output_type": "stream",
     "text": [
      "    ID  Name  Score\n",
      "X    1   Ali     85\n",
      "X1   2  Sara     90\n",
      "X2   3  Omar     88\n"
     ]
    }
   ],
   "source": [
    "data=pd.DataFrame({\n",
    "    \"ID\": [1, 2, 3],\n",
    "    \"Name\": [\"Ali\", \"Sara\", \"Omar\"],\n",
    "    \"Score\": [85, 90, 88]\n",
    "},index=['X','X1','X2'])\n",
    "print(data)"
   ]
  },
  {
   "cell_type": "code",
   "execution_count": 21,
   "id": "27003913-c5e0-43b7-82b1-40d609b8d8f6",
   "metadata": {},
   "outputs": [
    {
     "name": "stdout",
     "output_type": "stream",
     "text": [
      "   ID  Name  Score\n",
      "0   1   Ali     85\n",
      "1   2  Sara     90\n",
      "2   3  Omar     88\n"
     ]
    }
   ],
   "source": [
    "df1 = pd.DataFrame({\n",
    "    \"ID\": [1, 2, 3],\n",
    "    \"Name\": [\"Ali\", \"Sara\", \"Omar\"],\n",
    "    \"Score\": [85, 90, 88]\n",
    "})\n",
    "print(df1)"
   ]
  },
  {
   "cell_type": "code",
   "execution_count": 22,
   "id": "611debfc-ac86-4dc4-94a9-34474446f3fe",
   "metadata": {},
   "outputs": [
    {
     "name": "stdout",
     "output_type": "stream",
     "text": [
      "   identity  label  points\n",
      "0         4   Nida      92\n",
      "1         5  Bilal      87\n",
      "2         6  Aisha      95\n"
     ]
    }
   ],
   "source": [
    "df2 = pd.DataFrame({\n",
    "    \"identity\": [4, 5, 6],\n",
    "    \"label\": [\"Nida\", \"Bilal\", \"Aisha\"],\n",
    "    \"points\": [92, 87, 95]})\n",
    "print(df2)\n"
   ]
  },
  {
   "cell_type": "code",
   "execution_count": 26,
   "id": "88bbdd25-c01e-4ca7-8f8d-dd5cc85348a4",
   "metadata": {},
   "outputs": [
    {
     "data": {
      "text/html": [
       "<div>\n",
       "<style scoped>\n",
       "    .dataframe tbody tr th:only-of-type {\n",
       "        vertical-align: middle;\n",
       "    }\n",
       "\n",
       "    .dataframe tbody tr th {\n",
       "        vertical-align: top;\n",
       "    }\n",
       "\n",
       "    .dataframe thead th {\n",
       "        text-align: right;\n",
       "    }\n",
       "</style>\n",
       "<table border=\"1\" class=\"dataframe\">\n",
       "  <thead>\n",
       "    <tr style=\"text-align: right;\">\n",
       "      <th></th>\n",
       "      <th>identity</th>\n",
       "      <th>label</th>\n",
       "      <th>points</th>\n",
       "      <th>ID</th>\n",
       "      <th>Name</th>\n",
       "      <th>Score</th>\n",
       "    </tr>\n",
       "  </thead>\n",
       "  <tbody>\n",
       "    <tr>\n",
       "      <th>0</th>\n",
       "      <td>4</td>\n",
       "      <td>Nida</td>\n",
       "      <td>92</td>\n",
       "      <td>NaN</td>\n",
       "      <td>NaN</td>\n",
       "      <td>NaN</td>\n",
       "    </tr>\n",
       "    <tr>\n",
       "      <th>1</th>\n",
       "      <td>5</td>\n",
       "      <td>Bilal</td>\n",
       "      <td>87</td>\n",
       "      <td>NaN</td>\n",
       "      <td>NaN</td>\n",
       "      <td>NaN</td>\n",
       "    </tr>\n",
       "    <tr>\n",
       "      <th>2</th>\n",
       "      <td>6</td>\n",
       "      <td>Aisha</td>\n",
       "      <td>95</td>\n",
       "      <td>NaN</td>\n",
       "      <td>NaN</td>\n",
       "      <td>NaN</td>\n",
       "    </tr>\n",
       "  </tbody>\n",
       "</table>\n",
       "</div>"
      ],
      "text/plain": [
       "   identity  label  points  ID Name  Score\n",
       "0         4   Nida      92 NaN  NaN    NaN\n",
       "1         5  Bilal      87 NaN  NaN    NaN\n",
       "2         6  Aisha      95 NaN  NaN    NaN"
      ]
     },
     "execution_count": 26,
     "metadata": {},
     "output_type": "execute_result"
    }
   ],
   "source": [
    "df2.join(data)"
   ]
  },
  {
   "cell_type": "code",
   "execution_count": 27,
   "id": "3e1ae112-588a-41d9-b398-b6487f10628a",
   "metadata": {},
   "outputs": [
    {
     "name": "stdout",
     "output_type": "stream",
     "text": [
      "   ID     Name Department\n",
      "0   1    Alice       Math\n",
      "1   2      Bob    Physics\n",
      "2   3  Charlie  Chemistry\n",
      "3   4    David    Biology\n"
     ]
    }
   ],
   "source": [
    "\n",
    "students = pd.DataFrame({\n",
    "    \"ID\": [1, 2, 3, 4],\n",
    "    \"Name\": [\"Alice\", \"Bob\", \"Charlie\", \"David\"],\n",
    "    \"Department\": [\"Math\", \"Physics\", \"Chemistry\", \"Biology\"]\n",
    "})\n",
    "print(students)"
   ]
  },
  {
   "cell_type": "code",
   "execution_count": 28,
   "id": "1b0144c5-e657-4fee-b22f-e12a0796392c",
   "metadata": {},
   "outputs": [
    {
     "name": "stdout",
     "output_type": "stream",
     "text": [
      "   ID  Score Grade\n",
      "0   3     85     B\n",
      "1   4     92     A\n",
      "2   5     78     C\n",
      "3   6     88     B\n"
     ]
    }
   ],
   "source": [
    "scores = pd.DataFrame({\n",
    "    \"ID\": [3, 4, 5, 6],\n",
    "    \"Score\": [85, 92, 78, 88],\n",
    "    \"Grade\": [\"B\", \"A\", \"C\", \"B\"]\n",
    "})\n",
    "print(scores)"
   ]
  },
  {
   "cell_type": "code",
   "execution_count": 33,
   "id": "8d904788-18de-431f-9a51-2f160ece9891",
   "metadata": {},
   "outputs": [
    {
     "name": "stdout",
     "output_type": "stream",
     "text": [
      "   ID     Name Department  Score Grade\n",
      "0   3  Charlie  Chemistry     85     B\n",
      "1   4    David    Biology     92     A\n"
     ]
    }
   ],
   "source": [
    "inner = pd.merge(students, scores, on= \"ID\")\n",
    "print(inner)"
   ]
  },
  {
   "cell_type": "code",
   "execution_count": null,
   "id": "3f4f21c9-7de8-4e6f-be99-3365737ae1fc",
   "metadata": {},
   "outputs": [],
   "source": [
    "# Inner Join (only common IDs)\n",
    "inner = pd.merge(students, scores, on=\"ID\", how=\"inner\")\n",
    "\n",
    "# Left Join (all students, match scores if available)\n",
    "left = pd.merge(students, scores, on=\"ID\", how=\"left\")\n",
    "\n",
    "# Right Join (all scores, match students if available)\n",
    "right = pd.merge(students, scores, on=\"ID\", how=\"right\")\n",
    "\n",
    "# Outer Join (all IDs from both DataFrames)\n",
    "outer = pd.merge(students, scores, on=\"ID\", how=\"outer\")\n"
   ]
  },
  {
   "cell_type": "code",
   "execution_count": 35,
   "id": "1a4a186d-6363-40da-a410-2f491aa19514",
   "metadata": {},
   "outputs": [
    {
     "name": "stdout",
     "output_type": "stream",
     "text": [
      "   ID     Name Department  Score Grade\n",
      "0   1    Alice       Math    NaN   NaN\n",
      "1   2      Bob    Physics    NaN   NaN\n",
      "2   3  Charlie  Chemistry   85.0     B\n",
      "3   4    David    Biology   92.0     A\n"
     ]
    }
   ],
   "source": [
    "left = pd.merge(students, scores, on=\"ID\", how=\"left\")\n",
    "print(left)"
   ]
  },
  {
   "cell_type": "code",
   "execution_count": 36,
   "id": "c0aa2915-74b6-48fd-b7af-068941e78bba",
   "metadata": {},
   "outputs": [
    {
     "name": "stdout",
     "output_type": "stream",
     "text": [
      "   ID     Name Department  Score Grade\n",
      "0   3  Charlie  Chemistry     85     B\n",
      "1   4    David    Biology     92     A\n",
      "2   5      NaN        NaN     78     C\n",
      "3   6      NaN        NaN     88     B\n"
     ]
    }
   ],
   "source": [
    "right = pd.merge(students, scores, on=\"ID\", how=\"right\")\n",
    "print(right)"
   ]
  },
  {
   "cell_type": "code",
   "execution_count": 37,
   "id": "e648fe71-d438-4caf-af56-ed110cd3bc1b",
   "metadata": {},
   "outputs": [
    {
     "name": "stdout",
     "output_type": "stream",
     "text": [
      "   ID     Name Department  Score Grade\n",
      "0   1    Alice       Math    NaN   NaN\n",
      "1   2      Bob    Physics    NaN   NaN\n",
      "2   3  Charlie  Chemistry   85.0     B\n",
      "3   4    David    Biology   92.0     A\n",
      "4   5      NaN        NaN   78.0     C\n",
      "5   6      NaN        NaN   88.0     B\n"
     ]
    }
   ],
   "source": [
    "outer = pd.merge(students, scores, on=\"ID\", how=\"outer\")\n",
    "print(outer)"
   ]
  },
  {
   "cell_type": "code",
   "execution_count": 38,
   "id": "fbc2823c-9726-436b-80da-b7e87eaed0d2",
   "metadata": {},
   "outputs": [
    {
     "name": "stdout",
     "output_type": "stream",
     "text": [
      "   ID     Name Department\n",
      "0   1    Alice       Math\n",
      "1   2      Bob    Physics\n",
      "2   3  Charlie  Chemistry\n",
      "3   4    David    Biology\n"
     ]
    }
   ],
   "source": [
    "students = pd.DataFrame({\n",
    "    \"ID\": [1, 2, 3, 4],\n",
    "    \"Name\": [\"Alice\", \"Bob\", \"Charlie\", \"David\"],\n",
    "    \"Department\": [\"Math\", \"Physics\", \"Chemistry\", \"Biology\"]\n",
    "})\n",
    "print(students)"
   ]
  },
  {
   "cell_type": "code",
   "execution_count": 41,
   "id": "3948aa6e-e15c-4a74-9756-c90f54b3d914",
   "metadata": {},
   "outputs": [
    {
     "name": "stdout",
     "output_type": "stream",
     "text": [
      "   ID1  Score Grade\n",
      "0    7     85     B\n",
      "1    9     92     A\n",
      "2    5     78     C\n",
      "3    6     88     B\n"
     ]
    }
   ],
   "source": [
    "scores = pd.DataFrame({\n",
    "    \"ID1\": [7, 9, 5, 6],\n",
    "    \"Score\": [85, 92, 78, 88],\n",
    "    \"Grade\": [\"B\", \"A\", \"C\", \"B\"]\n",
    "})\n",
    "print(scores)"
   ]
  },
  {
   "cell_type": "code",
   "execution_count": 42,
   "id": "d155ac46-eaa0-4161-bb12-9cf4ed97af70",
   "metadata": {},
   "outputs": [
    {
     "data": {
      "text/html": [
       "<div>\n",
       "<style scoped>\n",
       "    .dataframe tbody tr th:only-of-type {\n",
       "        vertical-align: middle;\n",
       "    }\n",
       "\n",
       "    .dataframe tbody tr th {\n",
       "        vertical-align: top;\n",
       "    }\n",
       "\n",
       "    .dataframe thead th {\n",
       "        text-align: right;\n",
       "    }\n",
       "</style>\n",
       "<table border=\"1\" class=\"dataframe\">\n",
       "  <thead>\n",
       "    <tr style=\"text-align: right;\">\n",
       "      <th></th>\n",
       "      <th>ID</th>\n",
       "      <th>Name</th>\n",
       "      <th>Department</th>\n",
       "      <th>ID1</th>\n",
       "      <th>Score</th>\n",
       "      <th>Grade</th>\n",
       "    </tr>\n",
       "  </thead>\n",
       "  <tbody>\n",
       "    <tr>\n",
       "      <th>0</th>\n",
       "      <td>1</td>\n",
       "      <td>Alice</td>\n",
       "      <td>Math</td>\n",
       "      <td>7</td>\n",
       "      <td>85</td>\n",
       "      <td>B</td>\n",
       "    </tr>\n",
       "    <tr>\n",
       "      <th>1</th>\n",
       "      <td>2</td>\n",
       "      <td>Bob</td>\n",
       "      <td>Physics</td>\n",
       "      <td>9</td>\n",
       "      <td>92</td>\n",
       "      <td>A</td>\n",
       "    </tr>\n",
       "    <tr>\n",
       "      <th>2</th>\n",
       "      <td>3</td>\n",
       "      <td>Charlie</td>\n",
       "      <td>Chemistry</td>\n",
       "      <td>5</td>\n",
       "      <td>78</td>\n",
       "      <td>C</td>\n",
       "    </tr>\n",
       "    <tr>\n",
       "      <th>3</th>\n",
       "      <td>4</td>\n",
       "      <td>David</td>\n",
       "      <td>Biology</td>\n",
       "      <td>6</td>\n",
       "      <td>88</td>\n",
       "      <td>B</td>\n",
       "    </tr>\n",
       "  </tbody>\n",
       "</table>\n",
       "</div>"
      ],
      "text/plain": [
       "   ID     Name Department  ID1  Score Grade\n",
       "0   1    Alice       Math    7     85     B\n",
       "1   2      Bob    Physics    9     92     A\n",
       "2   3  Charlie  Chemistry    5     78     C\n",
       "3   4    David    Biology    6     88     B"
      ]
     },
     "execution_count": 42,
     "metadata": {},
     "output_type": "execute_result"
    }
   ],
   "source": [
    "students.join(scores)"
   ]
  },
  {
   "cell_type": "code",
   "execution_count": 48,
   "id": "b99538ba-59c0-42e9-89c4-629c5ed3eaf6",
   "metadata": {},
   "outputs": [
    {
     "name": "stdout",
     "output_type": "stream",
     "text": [
      "      Score            \n",
      "Grade     A     B     C\n",
      "ID1                    \n",
      "5       NaN   NaN  78.0\n",
      "6       NaN  88.0   NaN\n",
      "7       NaN  85.0   NaN\n",
      "9      92.0   NaN   NaN\n"
     ]
    }
   ],
   "source": [
    "pivot = pd.pivot_table(scores,\n",
    "                 values= [\"Score\"],\n",
    "                 index=\"ID1\",\n",
    "                 columns=\"Grade\"\n",
    "                )\n",
    "print(pivot)"
   ]
  },
  {
   "cell_type": "code",
   "execution_count": null,
   "id": "027278d0-25d4-4f1d-945a-617b677ab2c1",
   "metadata": {},
   "outputs": [],
   "source": [
    "OUTLIERS"
   ]
  },
  {
   "cell_type": "code",
   "execution_count": 62,
   "id": "b3f5ecf7-da20-4918-a67c-31ab65d884df",
   "metadata": {},
   "outputs": [
    {
     "name": "stdout",
     "output_type": "stream",
     "text": [
      "   ID  Age  Salary\n",
      "0   1   22    3000\n",
      "1   2   25    3200\n",
      "2   3   23    3100\n",
      "3   4   24    3050\n",
      "4   5   26    3300\n",
      "5   6  120    2900\n",
      "6   7   23  100000\n",
      "7   8   24    2950\n",
      "8   9  200    3100\n",
      "9  10   25    3150\n"
     ]
    }
   ],
   "source": [
    "import pandas as pd\n",
    "import numpy as np\n",
    "import matplotlib.pyplot as plt\n",
    "\n",
    "# Create sample data with outliers\n",
    "data = {\n",
    "    \"ID\": range(1, 11),\n",
    "    \"Age\": [22, 25, 23, 24, 26, 120, 23, 24, 200, 25],       # 120 and 200 are outliers\n",
    "    \"Salary\": [3000, 3200, 3100, 3050, 3300, 2900, 100000, 2950, 3100, 3150]  # 100000 is an outlier\n",
    "}\n",
    "\n",
    "df = pd.DataFrame(data)\n",
    "\n",
    "print(df)\n"
   ]
  },
  {
   "cell_type": "code",
   "execution_count": 73,
   "id": "1a9d7982-fc0b-485d-abed-621d789371f1",
   "metadata": {},
   "outputs": [],
   "source": [
    "def detect_outlier(data):\n",
    "    Q1 = np.percentile(data,25)\n",
    "    print(\"First Quantifier\",Q1)\n",
    "    Q3 = np.percentile(data,75)\n",
    "    print(\"3rd Quantifier\",Q3)\n",
    "    IQR = Q3-Q1\n",
    "    print(IQR)\n",
    "    lower_bound = Q1 -1.5*IQR\n",
    "    upper_bound = Q3+ 1.5*IQR\n",
    "    print(\"Lower_bound\",lower_bound)\n",
    "    print(\"upper_bound\",upper_bound)\n",
    "    outlier = [x for x in data if x < lower_bound or x> upper_bound]\n",
    "    return outlier,lower_bound,upper_bound"
   ]
  },
  {
   "cell_type": "code",
   "execution_count": 74,
   "id": "3ac03204-9f8f-41f5-8839-9bc9a8be3b27",
   "metadata": {},
   "outputs": [
    {
     "name": "stdout",
     "output_type": "stream",
     "text": [
      "First Quantifier 3012.5\n",
      "3rd Quantifier 3187.5\n",
      "175.0\n",
      "Lower_bound 2750.0\n",
      "upper_bound 3450.0\n"
     ]
    }
   ],
   "source": [
    " Salary = [3000, 3200, 3100, 3050, 3300, 2900, 100000, 2950, 3100, 3150]\n",
    "outlier,lb1,ub1 = detect_outlier(Salary)"
   ]
  },
  {
   "cell_type": "code",
   "execution_count": 75,
   "id": "b89ea397-5f30-4f85-9c83-47d81291a98c",
   "metadata": {},
   "outputs": [
    {
     "name": "stdout",
     "output_type": "stream",
     "text": [
      "Outliers is  [100000]\n"
     ]
    }
   ],
   "source": [
    "print(\"Outliers is \",outlier)"
   ]
  },
  {
   "cell_type": "code",
   "execution_count": 76,
   "id": "58e71a2c-e0e6-4eec-bb61-6a98ecc244e8",
   "metadata": {},
   "outputs": [
    {
     "data": {
      "text/plain": [
       "{'whiskers': [<matplotlib.lines.Line2D at 0x1c6460a8410>,\n",
       "  <matplotlib.lines.Line2D at 0x1c6460a8550>],\n",
       " 'caps': [<matplotlib.lines.Line2D at 0x1c6460a8690>,\n",
       "  <matplotlib.lines.Line2D at 0x1c6460a87d0>],\n",
       " 'boxes': [<matplotlib.lines.Line2D at 0x1c6460a82d0>],\n",
       " 'medians': [<matplotlib.lines.Line2D at 0x1c6460a8910>],\n",
       " 'fliers': [<matplotlib.lines.Line2D at 0x1c6460a8a50>],\n",
       " 'means': []}"
      ]
     },
     "execution_count": 76,
     "metadata": {},
     "output_type": "execute_result"
    },
    {
     "data": {
      "image/png": "[encoded data removed]",
      "text/plain": [
       "<Figure size 640x480 with 1 Axes>"
      ]
     },
     "metadata": {},
     "output_type": "display_data"
    }
   ],
   "source": [
    "plt.boxplot(Salary)"
   ]
  },
  {
   "cell_type": "code",
   "execution_count": 77,
   "id": "aa5184e1-c5ad-4fbf-a2a9-794e6fee2ca3",
   "metadata": {},
   "outputs": [
    {
     "data": {
      "text/plain": [
       "Text(0.5, 1.0, 'Monthly salary with 1 outlier')"
      ]
     },
     "execution_count": 77,
     "metadata": {},
     "output_type": "execute_result"
    },
    {
     "data": {
      "image/png": "[encoded data removed]",
      "text/plain": [
       "<Figure size 640x480 with 1 Axes>"
      ]
     },
     "metadata": {},
     "output_type": "display_data"
    }
   ],
   "source": [
    "plt.title(\"Monthly salary with 1 outlier\")"
   ]
  },
  {
   "cell_type": "code",
   "execution_count": 78,
   "id": "aebfe06f-6a61-4254-bb2b-15daccab87fd",
   "metadata": {},
   "outputs": [
    {
     "data": {
      "text/plain": [
       "Text(0, 0.5, 'Dollars')"
      ]
     },
     "execution_count": 78,
     "metadata": {},
     "output_type": "execute_result"
    },
    {
     "data": {
      "image/png": "[encoded data removed]",
      "text/plain": [
       "<Figure size 640x480 with 1 Axes>"
      ]
     },
     "metadata": {},
     "output_type": "display_data"
    }
   ],
   "source": [
    "plt.ylabel(\"Dollars\")"
   ]
  },
  {
   "cell_type": "code",
   "execution_count": 79,
   "id": "78edbee3-fed7-4565-a410-3fab0f558fe4",
   "metadata": {},
   "outputs": [
    {
     "data": {
      "text/plain": [
       "Text(0, 0.5, 'Dollars')"
      ]
     },
     "execution_count": 79,
     "metadata": {},
     "output_type": "execute_result"
    },
    {
     "data": {
      "image/png": "[encoded data removed]",
      "text/plain": [
       "<Figure size 640x480 with 1 Axes>"
      ]
     },
     "metadata": {},
     "output_type": "display_data"
    }
   ],
   "source": [
    "plt.boxplot(Salary)\n",
    "plt.title(\"Monthly salary with 1 outlier\")\n",
    "plt.ylabel(\"Dollars\")"
   ]
  },
  {
   "cell_type": "code",
   "execution_count": 81,
   "id": "539bc6dd-fb3a-49fc-ab22-f9836520fe0f",
   "metadata": {},
   "outputs": [
    {
     "name": "stdout",
     "output_type": "stream",
     "text": [
      "First Quantifier 23.25\n",
      "3rd Quantifier 25.75\n",
      "2.5\n",
      "Lower_bound 19.5\n",
      "upper_bound 29.5\n",
      "First Quantifier 3012.5\n",
      "3rd Quantifier 3187.5\n",
      "175.0\n",
      "Lower_bound 2750.0\n",
      "upper_bound 3450.0\n",
      "Outlier of Age [120, 200]\n",
      "Outlier of Salary [100000]\n"
     ]
    }
   ],
   "source": [
    "Age = [22, 25, 23, 24, 26, 120, 23, 24, 200, 25]      \n",
    "Salary= [3000, 3200, 3100, 3050, 3300, 2900, 100000, 2950, 3100, 3150]\n",
    "outlier1,lb1,ub1 = detect_outlier(Age)\n",
    "outlier2,lb2,ub2 = detect_outlier(Salary)\n",
    "print(\"Outlier of Age\",outlier1)\n",
    "print(\"Outlier of Salary\",outlier2)"
   ]
  },
  {
   "cell_type": "code",
   "execution_count": 82,
   "id": "056f8a22-c908-468a-adea-3faef9c12784",
   "metadata": {},
   "outputs": [
    {
     "data": {
      "text/plain": [
       "Text(0, 0.5, 'Age')"
      ]
     },
     "execution_count": 82,
     "metadata": {},
     "output_type": "execute_result"
    },
    {
     "data": {
      "image/png": "[encoded data removed]",
      "text/plain": [
       "<Figure size 640x480 with 1 Axes>"
      ]
     },
     "metadata": {},
     "output_type": "display_data"
    }
   ],
   "source": [
    "plt.boxplot(Age)\n",
    "plt.title(\"Age with outlier\")\n",
    "plt.ylabel(\"Age\")"
   ]
  },
  {
   "cell_type": "code",
   "execution_count": null,
   "id": "8aa5f0cb-aa7f-4e34-8176-f8c01fb70241",
   "metadata": {},
   "outputs": [],
   "source": [
    "how to deal with outliers "
   ]
  },
  {
   "cell_type": "code",
   "execution_count": 84,
   "id": "32a3d61b-0825-424a-8f66-cdc5f1cecc9b",
   "metadata": {},
   "outputs": [
    {
     "name": "stdout",
     "output_type": "stream",
     "text": [
      "   ID  Age  Salary\n",
      "0   1   22    3000\n",
      "1   2   25    3200\n",
      "2   3   23    3100\n",
      "3   4   24    3050\n",
      "4   5   26    3300\n",
      "6   7   23  100000\n",
      "7   8   24    2950\n",
      "9  10   25    3150\n"
     ]
    }
   ],
   "source": [
    "#first method remove outliers \n",
    "Q1= df[\"Age\"].quantile(0.25)\n",
    "Q3 = df[\"Age\"].quantile(0.75)\n",
    "IQR = Q3 - Q1\n",
    "lower = Q1-1.5*IQR\n",
    "upper = Q3+1.5* IQR\n",
    "df_no_outliers = df[(df[\"Age\"] >= lower) & (df[\"Age\"]<= upper)]\n",
    "print(df_no_outliers)"
   ]
  },
  {
   "cell_type": "code",
   "execution_count": 85,
   "id": "11b870e7-058d-40ef-bc5c-9f035e8f0032",
   "metadata": {},
   "outputs": [
    {
     "name": "stdout",
     "output_type": "stream",
     "text": [
      "   ID  Age  Salary\n",
      "0   1   22    3000\n",
      "1   2   25    3200\n",
      "2   3   23    3100\n",
      "3   4   24    3050\n",
      "4   5   26    3300\n",
      "5   6  120    2900\n",
      "7   8   24    2950\n",
      "8   9  200    3100\n",
      "9  10   25    3150\n"
     ]
    }
   ],
   "source": [
    "Q1= df[\"Salary\"].quantile(0.25)\n",
    "Q3 = df[\"Salary\"].quantile(0.75)\n",
    "IQR = Q3 - Q1\n",
    "lower = Q1-1.5*IQR\n",
    "upper = Q3+1.5* IQR\n",
    "df_no_outliers = df[(df[\"Salary\"] >= lower) & (df[\"Salary\"]<= upper)]\n",
    "print(df_no_outliers)"
   ]
  },
  {
   "cell_type": "code",
   "execution_count": 86,
   "id": "85110e92-9f2b-4aaf-8d59-9d365671294a",
   "metadata": {},
   "outputs": [
    {
     "name": "stdout",
     "output_type": "stream",
     "text": [
      "    log_Age\n",
      "0  3.135494\n",
      "1  3.258097\n",
      "2  3.178054\n",
      "3  3.218876\n",
      "4  3.295837\n",
      "5  4.795791\n",
      "6  3.178054\n",
      "7  3.218876\n",
      "8  5.303305\n",
      "9  3.258097\n"
     ]
    }
   ],
   "source": [
    "\n",
    "df['log_Age'] = np.log1p(df['Age'])\n",
    "print(df[['log_Age']])"
   ]
  },
  {
   "cell_type": "code",
   "execution_count": 92,
   "id": "ba0abcdc-ad72-43ca-bbc1-558dad10a645",
   "metadata": {},
   "outputs": [
    {
     "name": "stdout",
     "output_type": "stream",
     "text": [
      "   log_Salary\n",
      "0    0.771272\n",
      "1    0.772303\n",
      "2    0.771797\n",
      "3    0.771537\n",
      "4    0.772790\n",
      "5    0.770727\n",
      "6    0.815533\n",
      "7    0.771002\n",
      "8    0.771797\n",
      "9    0.772052\n"
     ]
    }
   ],
   "source": [
    "df[\"log_Salary\"] = np.log1p(df[\"Salary\"])\n",
    "print(df[[\"log_Salary\"]])"
   ]
  },
  {
   "cell_type": "code",
   "execution_count": null,
   "id": "5faeac65-2870-4c10-866d-6349370e0fcd",
   "metadata": {},
   "outputs": [],
   "source": [
    "\n",
    "median = df['col'].median()\n",
    "df.loc[df['col'] > upper, 'col'] = median\n",
    "df.loc[df['col'] < lower, 'col'] = median"
   ]
  },
  {
   "cell_type": "code",
   "execution_count": null,
   "id": "31469311-b46c-44f3-aff6-32b3601fa993",
   "metadata": {},
   "outputs": [],
   "source": [
    "le = LabelEncoder()\n",
    "df[\"Gender_encoded\"] = le.fit_transform(df[\"Gender\"])\n",
    "df[\"Department_encoded\"] = le.fit_transform(df[\"Department\"])\n"
   ]
  },
  {
   "cell_type": "code",
   "execution_count": 100,
   "id": "a86c3a67-8da9-48f6-9848-9687182b37b8",
   "metadata": {},
   "outputs": [
    {
     "name": "stdout",
     "output_type": "stream",
     "text": [
      "      Name  Gender Department\n",
      "0    Alice  Female         HR\n",
      "1      Bob    Male         IT\n",
      "2  Charlie    Male    Finance\n",
      "3    David  Female         IT\n"
     ]
    }
   ],
   "source": [
    "import pandas as pd\n",
    "from sklearn.preprocessing import LabelEncoder\n",
    "\n",
    "# Sample data\n",
    "df = pd.DataFrame({\n",
    "    \"Name\": [\"Alice\", \"Bob\", \"Charlie\", \"David\"],\n",
    "    \"Gender\": [\"Female\", \"Male\", \"Male\", \"Female\"],\n",
    "    \"Department\": [\"HR\", \"IT\", \"Finance\", \"IT\"]\n",
    "})\n",
    "print(df)"
   ]
  },
  {
   "cell_type": "code",
   "execution_count": 104,
   "id": "ae38a948-4621-4432-a45d-77d258e89383",
   "metadata": {},
   "outputs": [
    {
     "name": "stdout",
     "output_type": "stream",
     "text": [
      "   Gender_encoder  Departpemt_encoder\n",
      "0               0                   1\n",
      "1               1                   2\n",
      "2               1                   0\n",
      "3               0                   2\n"
     ]
    }
   ],
   "source": [
    "le = LabelEncoder()\n",
    "df[\"Gender_encoder\"] = le.fit_transform(df[\"Gender\"]) #\n",
    "df[\"Departpemt_encoder\"] = le.fit_transform(df[\"Department\"])\n",
    "print(df[[\"Gender_encoder\",\"Departpemt_encoder\"]])\n"
   ]
  },
  {
   "cell_type": "code",
   "execution_count": 106,
   "id": "10c61be2-70ee-4a23-b106-425859ab8982",
   "metadata": {},
   "outputs": [
    {
     "name": "stdout",
     "output_type": "stream",
     "text": [
      "      Name  Gender_encoder  Departpemt_encoder  Gender_Female  Gender_Male  \\\n",
      "0    Alice               0                   1           True        False   \n",
      "1      Bob               1                   2          False         True   \n",
      "2  Charlie               1                   0          False         True   \n",
      "3    David               0                   2           True        False   \n",
      "\n",
      "   Department_Finance  Department_HR  Department_IT  \n",
      "0               False           True          False  \n",
      "1               False          False           True  \n",
      "2                True          False          False  \n",
      "3               False          False           True  \n"
     ]
    }
   ],
   "source": [
    "# Use pandas get_dummies for one hot encoding\n",
    "df_encoded = pd.get_dummies(df, columns=[\"Gender\", \"Department\"])\n",
    "\n",
    "print(df_encoded)\n"
   ]
  },
  {
   "cell_type": "code",
   "execution_count": 107,
   "id": "69b77821-f3c9-4984-a7c7-e094e4b36bae",
   "metadata": {},
   "outputs": [
    {
     "name": "stdout",
     "output_type": "stream",
     "text": [
      "Original DataFrame:\n",
      "    ID  Age  Salary\n",
      "0   1   18    2000\n",
      "1   2   22    2500\n",
      "2   3   30    4000\n",
      "3   4   45    8000\n",
      "4   5   60   12000\n"
     ]
    }
   ],
   "source": [
    "#normalization\n",
    "import pandas as pd\n",
    "from sklearn.preprocessing import MinMaxScaler\n",
    "\n",
    "# Sample data\n",
    "df = pd.DataFrame({\n",
    "    \"ID\": [1, 2, 3, 4, 5],\n",
    "    \"Age\": [18, 22, 30, 45, 60],\n",
    "    \"Salary\": [2000, 2500, 4000, 8000, 12000]\n",
    "})\n",
    "\n",
    "print(\"Original DataFrame:\\n\", df)\n"
   ]
  },
  {
   "cell_type": "code",
   "execution_count": 109,
   "id": "9190ff6a-0d06-40be-a05f-59c67cd9a7a9",
   "metadata": {},
   "outputs": [
    {
     "name": "stdout",
     "output_type": "stream",
     "text": [
      "   Age_norm  Salary_norm\n",
      "0  0.000000         0.00\n",
      "1  0.095238         0.05\n",
      "2  0.285714         0.20\n",
      "3  0.642857         0.60\n",
      "4  1.000000         1.00\n"
     ]
    }
   ],
   "source": [
    "scaler = MinMaxScaler()\n",
    "df[[\"Age_norm\",\"Salary_norm\"]] = scaler.fit_transform(df[[\"Age\",\"Salary\"]])\n",
    "print(df[[\"Age_norm\",\"Salary_norm\"]])\n"
   ]
  },
  {
   "cell_type": "code",
   "execution_count": 110,
   "id": "e2a45284-bb98-461b-9798-cb8b207537dd",
   "metadata": {},
   "outputs": [
    {
     "name": "stdout",
     "output_type": "stream",
     "text": [
      "   Age_norm  Salary_norm\n",
      "0 -1.093706    -0.976393\n",
      "1 -0.836363    -0.844448\n",
      "2 -0.321678    -0.448613\n",
      "3  0.643356     0.606947\n",
      "4  1.608391     1.662506\n"
     ]
    }
   ],
   "source": [
    "from sklearn.preprocessing import StandardScaler\n",
    "scaler = StandardScaler()\n",
    "df[[\"Age_norm\",\"Salary_norm\"]] = scaler.fit_transform(df[[\"Age\",\"Salary\"]])\n",
    "print(df[[\"Age_norm\",\"Salary_norm\"]])"
   ]
  },
  {
   "cell_type": "code",
   "execution_count": 2,
   "id": "8860698a-d747-4994-8e3b-193462b4e380",
   "metadata": {},
   "outputs": [
    {
     "name": "stdout",
     "output_type": "stream",
     "text": [
      "      Transaction ID Customer ID       Category          Item  Price Per Unit  \\\n",
      "0        TXN_6867343     CUST_09     Patisserie   Item_10_PAT            18.5   \n",
      "1        TXN_3731986     CUST_22  Milk Products  Item_17_MILK            29.0   \n",
      "2        TXN_9303719     CUST_02       Butchers   Item_12_BUT            21.5   \n",
      "3        TXN_9458126     CUST_06      Beverages   Item_16_BEV            27.5   \n",
      "4        TXN_4575373     CUST_05           Food   Item_6_FOOD            12.5   \n",
      "...              ...         ...            ...           ...             ...   \n",
      "12570    TXN_9347481     CUST_18     Patisserie   Item_23_PAT            38.0   \n",
      "12571    TXN_4009414     CUST_03      Beverages    Item_2_BEV             6.5   \n",
      "12572    TXN_5306010     CUST_11       Butchers    Item_7_BUT            14.0   \n",
      "12573    TXN_5167298     CUST_04      Furniture    Item_7_FUR            14.0   \n",
      "12574    TXN_2407494     CUST_23           Food   Item_9_FOOD            17.0   \n",
      "\n",
      "       Quantity  Total Spent  Payment Method  Location Transaction Date  \\\n",
      "0          10.0        185.0  Digital Wallet    Online       2024-04-08   \n",
      "1           9.0        261.0  Digital Wallet    Online       2023-07-23   \n",
      "2           2.0         43.0     Credit Card    Online       2022-10-05   \n",
      "3           9.0        247.5     Credit Card    Online       2022-05-07   \n",
      "4           7.0         87.5  Digital Wallet    Online       2022-10-02   \n",
      "...         ...          ...             ...       ...              ...   \n",
      "12570       4.0        152.0     Credit Card  In-store       2023-09-03   \n",
      "12571       9.0         58.5            Cash    Online       2022-08-12   \n",
      "12572      10.0        140.0            Cash    Online       2024-08-24   \n",
      "12573       6.0         84.0            Cash    Online       2023-12-30   \n",
      "12574       3.0         51.0            Cash    Online       2022-08-06   \n",
      "\n",
      "      Discount Applied  \n",
      "0                 True  \n",
      "1                 True  \n",
      "2                False  \n",
      "3                  NaN  \n",
      "4                False  \n",
      "...                ...  \n",
      "12570              NaN  \n",
      "12571            False  \n",
      "12572              NaN  \n",
      "12573             True  \n",
      "12574              NaN  \n",
      "\n",
      "[12575 rows x 11 columns]\n"
     ]
    }
   ],
   "source": [
    "import pandas as pd\n",
    "import numpy as np\n",
    "df = pd.read_csv(r\"C:\\Users\\amnaj\\OneDrive\\Desktop\\ARTIFICIAL INTELLIGENCE\\retail_store_sales.csv\")\n",
    "print(df)"
   ]
  },
  {
   "cell_type": "code",
   "execution_count": 3,
   "id": "80518f20-363e-4e7a-87e9-e717d9b2dbaa",
   "metadata": {},
   "outputs": [
    {
     "data": {
      "text/plain": [
       "<bound method DataFrame.info of       Transaction ID Customer ID       Category          Item  Price Per Unit  \\\n",
       "0        TXN_6867343     CUST_09     Patisserie   Item_10_PAT            18.5   \n",
       "1        TXN_3731986     CUST_22  Milk Products  Item_17_MILK            29.0   \n",
       "2        TXN_9303719     CUST_02       Butchers   Item_12_BUT            21.5   \n",
       "3        TXN_9458126     CUST_06      Beverages   Item_16_BEV            27.5   \n",
       "4        TXN_4575373     CUST_05           Food   Item_6_FOOD            12.5   \n",
       "...              ...         ...            ...           ...             ...   \n",
       "12570    TXN_9347481     CUST_18     Patisserie   Item_23_PAT            38.0   \n",
       "12571    TXN_4009414     CUST_03      Beverages    Item_2_BEV             6.5   \n",
       "12572    TXN_5306010     CUST_11       Butchers    Item_7_BUT            14.0   \n",
       "12573    TXN_5167298     CUST_04      Furniture    Item_7_FUR            14.0   \n",
       "12574    TXN_2407494     CUST_23           Food   Item_9_FOOD            17.0   \n",
       "\n",
       "       Quantity  Total Spent  Payment Method  Location Transaction Date  \\\n",
       "0          10.0        185.0  Digital Wallet    Online       2024-04-08   \n",
       "1           9.0        261.0  Digital Wallet    Online       2023-07-23   \n",
       "2           2.0         43.0     Credit Card    Online       2022-10-05   \n",
       "3           9.0        247.5     Credit Card    Online       2022-05-07   \n",
       "4           7.0         87.5  Digital Wallet    Online       2022-10-02   \n",
       "...         ...          ...             ...       ...              ...   \n",
       "12570       4.0        152.0     Credit Card  In-store       2023-09-03   \n",
       "12571       9.0         58.5            Cash    Online       2022-08-12   \n",
       "12572      10.0        140.0            Cash    Online       2024-08-24   \n",
       "12573       6.0         84.0            Cash    Online       2023-12-30   \n",
       "12574       3.0         51.0            Cash    Online       2022-08-06   \n",
       "\n",
       "      Discount Applied  \n",
       "0                 True  \n",
       "1                 True  \n",
       "2                False  \n",
       "3                  NaN  \n",
       "4                False  \n",
       "...                ...  \n",
       "12570              NaN  \n",
       "12571            False  \n",
       "12572              NaN  \n",
       "12573             True  \n",
       "12574              NaN  \n",
       "\n",
       "[12575 rows x 11 columns]>"
      ]
     },
     "execution_count": 3,
     "metadata": {},
     "output_type": "execute_result"
    }
   ],
   "source": [
    "df.info"
   ]
  },
  {
   "cell_type": "code",
   "execution_count": 4,
   "id": "c513e056-af98-4eda-bd73-86d9618d715d",
   "metadata": {},
   "outputs": [
    {
     "name": "stdout",
     "output_type": "stream",
     "text": [
      "       Price Per Unit      Quantity   Total Spent\n",
      "count    11966.000000  11971.000000  11971.000000\n",
      "mean        23.365912      5.536380    129.652577\n",
      "std         10.743519      2.857883     94.750697\n",
      "min          5.000000      1.000000      5.000000\n",
      "25%         14.000000      3.000000     51.000000\n",
      "50%         23.000000      6.000000    108.500000\n",
      "75%         33.500000      8.000000    192.000000\n",
      "max         41.000000     10.000000    410.000000\n"
     ]
    }
   ],
   "source": [
    "print(df.describe())"
   ]
  },
  {
   "cell_type": "code",
   "execution_count": 5,
   "id": "3655b03e-24c1-4ca0-b6be-191d8465e642",
   "metadata": {},
   "outputs": [
    {
     "name": "stdout",
     "output_type": "stream",
     "text": [
      "Index(['Transaction ID', 'Customer ID', 'Category', 'Item', 'Price Per Unit',\n",
      "       'Quantity', 'Total Spent', 'Payment Method', 'Location',\n",
      "       'Transaction Date', 'Discount Applied'],\n",
      "      dtype='object')\n"
     ]
    }
   ],
   "source": [
    "print(df.columns)"
   ]
  },
  {
   "cell_type": "code",
   "execution_count": 6,
   "id": "d43611b0-1b89-43c0-96cf-9eff6f0fb08e",
   "metadata": {},
   "outputs": [
    {
     "name": "stdout",
     "output_type": "stream",
     "text": [
      "  Transaction ID Customer ID       Category          Item  Price Per Unit  \\\n",
      "0    TXN_6867343     CUST_09     Patisserie   Item_10_PAT            18.5   \n",
      "1    TXN_3731986     CUST_22  Milk Products  Item_17_MILK            29.0   \n",
      "2    TXN_9303719     CUST_02       Butchers   Item_12_BUT            21.5   \n",
      "3    TXN_9458126     CUST_06      Beverages   Item_16_BEV            27.5   \n",
      "4    TXN_4575373     CUST_05           Food   Item_6_FOOD            12.5   \n",
      "\n",
      "   Quantity  Total Spent  Payment Method Location Transaction Date  \\\n",
      "0      10.0        185.0  Digital Wallet   Online       2024-04-08   \n",
      "1       9.0        261.0  Digital Wallet   Online       2023-07-23   \n",
      "2       2.0         43.0     Credit Card   Online       2022-10-05   \n",
      "3       9.0        247.5     Credit Card   Online       2022-05-07   \n",
      "4       7.0         87.5  Digital Wallet   Online       2022-10-02   \n",
      "\n",
      "  Discount Applied  \n",
      "0             True  \n",
      "1             True  \n",
      "2            False  \n",
      "3              NaN  \n",
      "4            False  \n"
     ]
    }
   ],
   "source": [
    "print(df.head())"
   ]
  },
  {
   "cell_type": "code",
   "execution_count": 7,
   "id": "66bf25a3-caa7-4fd2-b10e-246dc05f0bf3",
   "metadata": {},
   "outputs": [],
   "source": [
    "def detect_outlier(data):\n",
    "    Q1 = np.percentile(data,25)\n",
    "    print(\"First Quantifier\",Q1)\n",
    "    Q3 = np.percentile(data,75)\n",
    "    print(\"3rd Quantifier\",Q3)\n",
    "    IQR = Q3-Q1\n",
    "    print(IQR)\n",
    "    lower_bound = Q1 -1.5*IQR\n",
    "    upper_bound = Q3+ 1.5*IQR\n",
    "    print(\"Lower_bound\",lower_bound)\n",
    "    print(\"upper_bound\",upper_bound)\n",
    "    outlier = [x for x in data if x < lower_bound or x> upper_bound]\n",
    "    return outlier,lower_bound,upper_bound"
   ]
  },
  {
   "cell_type": "code",
   "execution_count": null,
   "id": "8dd21b3f-a44c-4e4e-ab70-deabe332dbbd",
   "metadata": {},
   "outputs": [],
   "source": []
  }
 ],
 "metadata": {
  "kernelspec": {
   "display_name": "Python [conda env:base] *",
   "language": "python",
   "name": "conda-base-py"
  },
  "language_info": {
   "codemirror_mode": {
    "name": "ipython",
    "version": 3
   },
   "file_extension": ".py",
   "mimetype": "text/x-python",
   "name": "python",
   "nbconvert_exporter": "python",
   "pygments_lexer": "ipython3",
   "version": "3.13.5"
  }
 },
 "nbformat": 4,
 "nbformat_minor": 5
}
