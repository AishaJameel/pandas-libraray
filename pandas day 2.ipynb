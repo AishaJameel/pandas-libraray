{
 "cells": [
  {
   "cell_type": "code",
   "execution_count": 4,
   "id": "09a58b10-0f89-4d17-acf4-97c3ace36095",
   "metadata": {},
   "outputs": [
    {
     "name": "stdout",
     "output_type": "stream",
     "text": [
      "  Department Employee  Salary  Bonus\n",
      "2         IT  Charlie   60000   7000\n",
      "3         IT    David   62000   6500\n"
     ]
    }
   ],
   "source": [
    "print(df[2:4])"
   ]
  },
  {
   "cell_type": "code",
   "execution_count": 5,
   "id": "26170d4a-c404-48d9-8dc9-e419fae827ac",
   "metadata": {},
   "outputs": [
    {
     "name": "stdout",
     "output_type": "stream",
     "text": [
      "  Department Employee  Salary  Bonus\n",
      "6         IT   George   64000   7200\n",
      "5    Finance    Frank   60000   6000\n",
      "0         HR    Alice   50000   5000\n",
      "3         IT    David   62000   6500\n",
      "2         IT  Charlie   60000   7000\n"
     ]
    }
   ],
   "source": [
    "print(df.sample(5))"
   ]
  },
  {
   "cell_type": "code",
   "execution_count": 8,
   "id": "7d3329f4-62bb-4d3e-8939-c8abeb9c87fe",
   "metadata": {},
   "outputs": [
    {
     "name": "stdout",
     "output_type": "stream",
     "text": [
      "   id\n",
      "0   2\n",
      "1   3\n",
      "2   4\n",
      "3   5\n",
      "4   6\n",
      "0   5\n",
      "1   6\n",
      "2   7\n",
      "3   8\n",
      "4   9\n"
     ]
    }
   ],
   "source": [
    "data = ({\"id\":[2,3,4,5,6] })\n",
    "data1 = ({\"id\":[5,6,7,8,9]})\n",
    "d1 = pd.DataFrame(data)\n",
    "d2 = pd.DataFrame(data1)\n",
    "print(pd.concat([d1,d2]))"
   ]
  },
  {
   "cell_type": "code",
   "execution_count": 11,
   "id": "7300061c-01d0-40e4-a858-b283461ef5d3",
   "metadata": {},
   "outputs": [
    {
     "name": "stdout",
     "output_type": "stream",
     "text": [
      "   id\n",
      "0   2\n",
      "1   3\n",
      "2   4\n",
      "3   5\n",
      "4   6\n",
      "5   5\n",
      "6   6\n",
      "7   7\n",
      "8   8\n",
      "9   9\n"
     ]
    }
   ],
   "source": [
    "data = ({\"id\":[2,3,4,5,6] })\n",
    "data1 = ({\"id\":[5,6,7,8,9]})\n",
    "d1 = pd.DataFrame(data)  #cancatenate nd removed index\n",
    "\n",
    "d2 = pd.DataFrame(data1)\n",
    "print(pd.concat([d1,d2],ignore_index=True))"
   ]
  },
  {
   "cell_type": "code",
   "execution_count": 2,
   "id": "6fa80876-de33-4f35-9e57-fdbd438b503a",
   "metadata": {
    "scrolled": true
   },
   "outputs": [
    {
     "name": "stdout",
     "output_type": "stream",
     "text": [
      "  Department Employee  Salary  Bonus\n",
      "0         HR    Alice   50000   5000\n",
      "1         HR      Bob   52000   6000\n",
      "2         IT  Charlie   60000   7000\n",
      "3         IT    David   62000   6500\n",
      "4    Finance      Eva   58000   5500\n",
      "5    Finance    Frank   60000   6000\n",
      "6         IT   George   64000   7200\n"
     ]
    }
   ],
   "source": [
    "import pandas as pd\n",
    "\n",
    "# Example dataset\n",
    "data = {\n",
    "    \"Department\": [\"HR\", \"HR\", \"IT\", \"IT\", \"Finance\", \"Finance\", \"IT\"],\n",
    "    \"Employee\": [\"Alice\", \"Bob\", \"Charlie\", \"David\", \"Eva\", \"Frank\", \"George\"],\n",
    "    \"Salary\": [50000, 52000, 60000, 62000, 58000, 60000, 64000],\n",
    "    \"Bonus\": [5000, 6000, 7000, 6500, 5500, 6000, 7200]\n",
    "}\n",
    "\n",
    "df = pd.DataFrame(data)\n",
    "print(df)"
   ]
  },
  {
   "cell_type": "code",
   "execution_count": 3,
   "id": "7ef313c5-b38d-4709-a6fe-6eafbe146301",
   "metadata": {},
   "outputs": [
    {
     "name": "stdout",
     "output_type": "stream",
     "text": [
      "(7, 4)\n"
     ]
    }
   ],
   "source": [
    "print(df.shape)"
   ]
  },
  {
   "cell_type": "code",
   "execution_count": 4,
   "id": "5a129bc1-7a40-45ee-bcb8-f945d74b029a",
   "metadata": {},
   "outputs": [
    {
     "name": "stdout",
     "output_type": "stream",
     "text": [
      "  Department  Salary\n",
      "0         HR   50000\n",
      "1         HR   52000\n",
      "2         IT   60000\n",
      "3         IT   62000\n",
      "4    Finance   58000\n",
      "5    Finance   60000\n",
      "6         IT   64000\n"
     ]
    }
   ],
   "source": [
    "column = df[[\"Department\",\"Salary\"]] #columns more then 1 then[[]] used\n",
    "print(column)"
   ]
  },
  {
   "cell_type": "code",
   "execution_count": 5,
   "id": "2af64765-4b3c-4227-a043-72f7ab804d4d",
   "metadata": {},
   "outputs": [
    {
     "name": "stdout",
     "output_type": "stream",
     "text": [
      "  Department Employee  Salary  Bonus\n",
      "2         IT  Charlie   60000   7000\n",
      "3         IT    David   62000   6500\n",
      "6         IT   George   64000   7200\n"
     ]
    }
   ],
   "source": [
    "filter = df[(df[\"Department\"] ==\"IT\") & (df[\"Salary\"] > 55000)]\n",
    "print(filter)"
   ]
  },
  {
   "cell_type": "code",
   "execution_count": 6,
   "id": "2f5a36d5-2e45-4585-a852-60ee4be27844",
   "metadata": {},
   "outputs": [
    {
     "name": "stdout",
     "output_type": "stream",
     "text": [
      "  Department Employee  Salary  Bonus     Name\n",
      "0         HR    Alice   50000   5000    aisha\n",
      "1         HR      Bob   52000   6000  humaira\n",
      "2         IT  Charlie   60000   7000  javeria\n",
      "3         IT    David   62000   6500   khansa\n",
      "4    Finance      Eva   58000   5500  romaisa\n",
      "5    Finance    Frank   60000   6000   aneela\n",
      "6         IT   George   64000   7200    rahma\n"
     ]
    }
   ],
   "source": [
    "#adding a new column\n",
    "df[\"Name\"] = [ \"aisha\",\"humaira\", \"javeria\",\"khansa\",\"romaisa\",\"aneela\",\"rahma\"] \n",
    "print(df)"
   ]
  },
  {
   "cell_type": "code",
   "execution_count": 7,
   "id": "79d7af49-291f-414e-b523-b3ead1b70d47",
   "metadata": {},
   "outputs": [
    {
     "name": "stdout",
     "output_type": "stream",
     "text": [
      "  Department   a Employee  Salary  Bonus     Name\n",
      "0         HR  35    Alice   50000   5000    aisha\n",
      "1         HR  30      Bob   52000   6000  humaira\n",
      "2         IT  45  Charlie   60000   7000  javeria\n",
      "3         IT  40    David   62000   6500   khansa\n",
      "4    Finance  23      Eva   58000   5500  romaisa\n",
      "5    Finance  35    Frank   60000   6000   aneela\n",
      "6         IT  43   George   64000   7200    rahma\n"
     ]
    }
   ],
   "source": [
    "df.insert(1,\"a\",[35,30,45,40,23,35,43]) #defining position to insert\n",
    "print(df)"
   ]
  },
  {
   "cell_type": "code",
   "execution_count": 8,
   "id": "382d8327-5747-4fb6-a22b-b87992ea23f1",
   "metadata": {},
   "outputs": [
    {
     "name": "stdout",
     "output_type": "stream",
     "text": [
      "Department  a Employee  Salary  Bonus    Name\n",
      "        HR 35    Alice   50000   5000   aisha\n",
      "        HR 30      Bob   52000   6000 humaira\n",
      "        IT 45  Charlie   60000   7000 javeria\n",
      "        IT 40    David   62000   6500  khansa\n",
      "   Finance 23      Eva   58000   5500 romaisa\n",
      "   Finance 35    Frank   60000   6000  aneela\n",
      "        IT 43   George   64000   7200   rahma\n"
     ]
    }
   ],
   "source": [
    "print(df.to_string(index=False)) #remove index"
   ]
  },
  {
   "cell_type": "code",
   "execution_count": 9,
   "id": "de5a4311-fd4d-4949-b322-a20c7c14c3ad",
   "metadata": {},
   "outputs": [
    {
     "name": "stdout",
     "output_type": "stream",
     "text": [
      "  Department   a Employee  Salary  Bonus     Name\n",
      "0         HR  35    Alice   50000   5000    aisha\n",
      "1         HR  30      Bob   52000   6000  humaira\n",
      "2         IT  45  Charlie   60000   7000  javeria\n",
      "3         IT  40    David   62000   6500     aqsa\n",
      "4    Finance  23      Eva   58000   5500  romaisa\n",
      "5    Finance  35    Frank   60000   6000   aneela\n",
      "6         IT  43   George   64000   7200    rahma\n"
     ]
    }
   ],
   "source": [
    "df.loc[3,\"Name\"]=\"aqsa\" #making change at a specific locaion\n",
    "\n",
    "print(df)"
   ]
  },
  {
   "cell_type": "code",
   "execution_count": 10,
   "id": "81839450-37a8-4eec-845a-ce3f7cf104dc",
   "metadata": {},
   "outputs": [
    {
     "name": "stdout",
     "output_type": "stream",
     "text": [
      "  Department   a Employee  Salary  Bonus     Name\n",
      "0         HR  35    Alice   50000   5000    aisha\n",
      "1         HR  30      Bob   52000   6000  humaira\n",
      "2         IT  45  Charlie   60000   7000  javeria\n",
      "3         IT  40    David   62000   6500    Hamna\n",
      "4    Finance  23      Eva   58000   5500  romaisa\n",
      "5    Finance  35    Frank   60000   6000  Zunaira\n",
      "6         IT  43   George   64000   7200    rahma\n"
     ]
    }
   ],
   "source": [
    "df.loc[(3,5),\"Name\"] = [\"Hamna\",\"Zunaira\"] #changing more then one \n",
    "print(df)"
   ]
  },
  {
   "cell_type": "code",
   "execution_count": 15,
   "id": "0a251835-1524-4d64-b258-2d8094da1ec2",
   "metadata": {},
   "outputs": [
    {
     "name": "stdout",
     "output_type": "stream",
     "text": [
      "  Department Employee  Salary  Bonus     Name\n",
      "0         HR    Alice   50000   5000    aisha\n",
      "1         HR      Bob   52000   6000  humaira\n",
      "3         IT    David   62000   6500    Hamna\n",
      "4    Finance      Eva   58000   5500  romaisa\n",
      "5    Finance    Frank   60000   6000  Zunaira\n",
      "6         IT   George   64000   7200    rahma\n"
     ]
    }
   ],
   "source": [
    "df.drop(index = [2],inplace = True)   #removing a row fr this use index\n",
    "print(df)"
   ]
  },
  {
   "cell_type": "code",
   "execution_count": 37,
   "id": "6921972a-832b-4f85-8130-32a356e54dbf",
   "metadata": {},
   "outputs": [
    {
     "name": "stdout",
     "output_type": "stream",
     "text": [
      "Department    1\n",
      "Employee      1\n",
      "Salary        0\n",
      "Bonus         0\n",
      "dtype: int64\n"
     ]
    }
   ],
   "source": [
    "data = {\n",
    "    \"Department\": [\"HR\", \"HR\", \"IT\", None, \"Finance\", \"Finance\", \"IT\"],\n",
    "    \"Employee\": [\"Alice\", \"Bob\", \"Charlie\",None, \"David\", \"Frank\", \"George\"],\n",
    "    \"Salary\": [50000, 52000, 60000,62000, 58000, 60000, 64000],\n",
    "    \"Bonus\": [5000, 6000, 7000, 6500,5500,6000, 7200]\n",
    "}\n",
    "\n",
    "df = pd.DataFrame(data)\n",
    "print(df.isnull().sum())"
   ]
  },
  {
   "cell_type": "code",
   "execution_count": 38,
   "id": "42c02820-1168-4829-b2fa-b7051ffbdd2d",
   "metadata": {},
   "outputs": [
    {
     "name": "stdout",
     "output_type": "stream",
     "text": [
      "  Department Employee  Salary  Bonus\n",
      "0         HR    Alice   50000   5000\n",
      "1         HR      Bob   52000   6000\n",
      "2         IT  Charlie   60000   7000\n",
      "4    Finance    David   58000   5500\n",
      "5    Finance    Frank   60000   6000\n",
      "6         IT   George   64000   7200\n"
     ]
    }
   ],
   "source": [
    "df.dropna(axis=0,inplace = True) #axis=0 drops a row\n",
    "print(df)"
   ]
  },
  {
   "cell_type": "code",
   "execution_count": 39,
   "id": "f30b3966-8aca-4ef3-a318-bcc3b8d6a880",
   "metadata": {},
   "outputs": [
    {
     "name": "stdout",
     "output_type": "stream",
     "text": [
      "  Department Employee  Salary  Bonus\n",
      "0         HR    Alice   50000   5000\n",
      "1         HR      Bob   52000   6000\n",
      "2         IT  Charlie   60000   7000\n",
      "4    Finance    David   58000   5500\n",
      "5    Finance    Frank   60000   6000\n",
      "6         IT   George   64000   7200\n"
     ]
    }
   ],
   "source": [
    "df.dropna(axis=1,inplace = True)   #axis=1 drop a column\n",
    "print(df)"
   ]
  },
  {
   "cell_type": "code",
   "execution_count": 40,
   "id": "474daa33-bd24-4ea8-9b7e-bcc0c88461c7",
   "metadata": {},
   "outputs": [
    {
     "name": "stdout",
     "output_type": "stream",
     "text": [
      "   Department  Employee  Salary  Bonus\n",
      "0       False     False   False  False\n",
      "1       False     False   False  False\n",
      "2       False     False   False  False\n",
      "4       False     False   False  False\n",
      "5       False     False   False  False\n",
      "6       False     False   False  False\n"
     ]
    }
   ],
   "source": [
    "print(df.isnull())"
   ]
  },
  {
   "cell_type": "code",
   "execution_count": 41,
   "id": "c5011727-6d96-4afd-be9c-e27dbc487112",
   "metadata": {},
   "outputs": [
    {
     "name": "stdout",
     "output_type": "stream",
     "text": [
      "   Department  Employee  Salary  Bonus\n",
      "0        True      True    True   True\n",
      "1        True      True    True   True\n",
      "2        True      True    True   True\n",
      "4        True      True    True   True\n",
      "5        True      True    True   True\n",
      "6        True      True    True   True\n"
     ]
    }
   ],
   "source": [
    "print(df.notnull())"
   ]
  },
  {
   "cell_type": "code",
   "execution_count": 42,
   "id": "a6abad78-2a2a-443e-b3ad-1c4e68b54b51",
   "metadata": {},
   "outputs": [
    {
     "name": "stdout",
     "output_type": "stream",
     "text": [
      "  Department Employee  Salary  Bonus\n",
      "0         HR    Alice   50000   5000\n",
      "1         HR      Bob   52000   6000\n",
      "2         IT  Charlie   60000   7000\n",
      "4    Finance    David   58000   5500\n",
      "5    Finance    Frank   60000   6000\n",
      "6         IT   George   64000   7200\n"
     ]
    }
   ],
   "source": [
    "print(df.fillna(23))"
   ]
  },
  {
   "cell_type": "code",
   "execution_count": 43,
   "id": "b5fa15d1-c142-4005-ac92-182cad0765b8",
   "metadata": {},
   "outputs": [
    {
     "name": "stdout",
     "output_type": "stream",
     "text": [
      "Department    1\n",
      "Employee      1\n",
      "Salary        0\n",
      "Bonus         0\n",
      "dtype: int64\n"
     ]
    }
   ],
   "source": [
    "data = {\n",
    "    \"Department\": [\"HR\", \"HR\", \"IT\", None, \"Finance\", \"Finance\", \"IT\"],\n",
    "    \"Employee\": [\"Alice\", \"Bob\", \"Charlie\",None, \"David\", \"Frank\", \"George\"],\n",
    "    \"Salary\": [50000, 52000, 60000,62000, 58000, 60000, 64000],\n",
    "    \"Bonus\": [5000, 6000, 7000, 6500,5500,6000, 7200]\n",
    "}\n",
    "\n",
    "df = pd.DataFrame(data)\n",
    "print(df.isnull().sum())"
   ]
  },
  {
   "cell_type": "code",
   "execution_count": 44,
   "id": "e08ef4db-3222-461b-8e2b-c62bf9bf4d59",
   "metadata": {},
   "outputs": [
    {
     "name": "stdout",
     "output_type": "stream",
     "text": [
      "  Department Employee  Salary  Bonus\n",
      "0         HR    Alice   50000   5000\n",
      "1         HR      Bob   52000   6000\n",
      "2         IT  Charlie   60000   7000\n",
      "3         23       23   62000   6500\n",
      "4    Finance    David   58000   5500\n",
      "5    Finance    Frank   60000   6000\n",
      "6         IT   George   64000   7200\n"
     ]
    }
   ],
   "source": [
    "print(df.fillna(23))"
   ]
  },
  {
   "cell_type": "code",
   "execution_count": 48,
   "id": "b29799d2-f27b-4d0b-bd60-c918722020a3",
   "metadata": {},
   "outputs": [
    {
     "name": "stdout",
     "output_type": "stream",
     "text": [
      "Department    1\n",
      "Employee      1\n",
      "Salary        1\n",
      "Bonus         1\n",
      "dtype: int64\n"
     ]
    }
   ],
   "source": [
    "data = {\n",
    "    \"Department\": [\"HR\", \"HR\", \"IT\", None, \"Finance\", \"Finance\", \"IT\"],\n",
    "    \"Employee\": [\"Alice\", \"Bob\", \"Charlie\",None, \"David\", \"Frank\", \"George\"],\n",
    "    \"Salary\": [50000, None, 60000,62000, 58000, 60000, 64000],\n",
    "    \"Bonus\": [5000, 6000, 7000, None,5500,6000, 7200]\n",
    "}\n",
    "\n",
    "df = pd.DataFrame(data)\n",
    "print(df.isnull().sum())"
   ]
  },
  {
   "cell_type": "code",
   "execution_count": 49,
   "id": "8fd7451a-775b-4663-88d9-4afeea420a00",
   "metadata": {},
   "outputs": [
    {
     "name": "stdout",
     "output_type": "stream",
     "text": [
      "  Department Employee   Salary   Bonus\n",
      "0         HR    Alice  50000.0  5000.0\n",
      "1         HR      Bob  55000.0  6000.0\n",
      "2         IT  Charlie  60000.0  7000.0\n",
      "3       None     None  62000.0  6250.0\n",
      "4    Finance    David  58000.0  5500.0\n",
      "5    Finance    Frank  60000.0  6000.0\n",
      "6         IT   George  64000.0  7200.0\n"
     ]
    }
   ],
   "source": [
    "df[[\"Salary\",\"Bonus\"]]= df[[\"Salary\",\"Bonus\"]].interpolate(method = \"linear\")\n",
    "print(df)"
   ]
  },
  {
   "cell_type": "code",
   "execution_count": 51,
   "id": "ee8e7425-2f62-4394-8a67-37fafa321ef3",
   "metadata": {},
   "outputs": [
    {
     "name": "stdout",
     "output_type": "stream",
     "text": [
      "  Department Employee   Salary   Bonus\n",
      "4    Finance    David  58000.0  5500.0\n",
      "5    Finance    Frank  60000.0  6000.0\n",
      "0         HR    Alice  50000.0  5000.0\n",
      "1         HR      Bob  55000.0  6000.0\n",
      "2         IT  Charlie  60000.0  7000.0\n",
      "6         IT   George  64000.0  7200.0\n",
      "3       None     None  62000.0  6250.0\n"
     ]
    }
   ],
   "source": [
    "df.sort_values(by = \"Department\",ascending = True,inplace = True)\n",
    "print(df)"
   ]
  },
  {
   "cell_type": "code",
   "execution_count": 53,
   "id": "e816729a-0662-458d-8a39-33340703f85e",
   "metadata": {},
   "outputs": [
    {
     "name": "stdout",
     "output_type": "stream",
     "text": [
      "  Department Employee   Salary   Bonus\n",
      "6         IT   George  64000.0  7200.0\n",
      "5    Finance    Frank  60000.0  6000.0\n",
      "4    Finance    David  58000.0  5500.0\n",
      "2         IT  Charlie  60000.0  7000.0\n",
      "1         HR      Bob  55000.0  6000.0\n",
      "0         HR    Alice  50000.0  5000.0\n",
      "3       None     None  62000.0  6250.0\n"
     ]
    }
   ],
   "source": [
    "df.sort_values(by = \"Employee\",ascending = False,inplace = True)\n",
    "print(df)"
   ]
  },
  {
   "cell_type": "code",
   "execution_count": 61,
   "id": "99b636f3-2a4e-47cb-bcfb-67b55cbedc9b",
   "metadata": {},
   "outputs": [
    {
     "name": "stdout",
     "output_type": "stream",
     "text": [
      "Department\n",
      "Finance    11500\n",
      "HR         11000\n",
      "IT         20700\n",
      "Name: Bonus, dtype: int64\n"
     ]
    }
   ],
   "source": [
    "data = {\n",
    "    \"Department\": [\"HR\", \"HR\", \"IT\", \"IT\", \"Finance\", \"Finance\", \"IT\"],\n",
    "    \"Employee\": [\"Alice\", \"Bob\", \"Charlie\", \"David\", \"Eva\", \"Frank\", \"George\"],\n",
    "    \"Salary\": [50000, 52000, 60000, 62000, 58000, 60000, 64000],\n",
    "    \"Bonus\": [5000, 6000, 7000, 6500, 5500, 6000, 7200]\n",
    "}\n",
    "\n",
    "df = pd.DataFrame(data)\n",
    "grouped = df.groupby(\"Department\")[\"Bonus\"].sum()\n",
    "print(grouped)"
   ]
  },
  {
   "cell_type": "code",
   "execution_count": 63,
   "id": "87923591-6074-448e-bfa9-50b2211f43b8",
   "metadata": {},
   "outputs": [
    {
     "name": "stdout",
     "output_type": "stream",
     "text": [
      "Department  Salary\n",
      "Finance     58000     5500\n",
      "            60000     6000\n",
      "HR          50000     5000\n",
      "            52000     6000\n",
      "IT          60000     7000\n",
      "            62000     6500\n",
      "            64000     7200\n",
      "Name: Bonus, dtype: int64\n"
     ]
    }
   ],
   "source": [
    "grouped = df.groupby([\"Department\",\"Salary\"])[\"Bonus\"].sum() #when addding mmultiple columns then ([]) is used\n",
    "print(grouped)"
   ]
  },
  {
   "cell_type": "markdown",
   "id": "5740b063-46dd-4b94-8730-757324a46512",
   "metadata": {},
   "source": [
    "### data = {\n",
    "    \"Department\": [\"HR\", \"HR\", \"IT\", \"IT\", \"Finance\", \"Finance\", \"IT\"],\n",
    "    \"Employee\": [\"Alice\", \"Bob\", \"Charlie\", \"David\", \"Eva\", \"Frank\", \"George\"],\n",
    "    \"Salary\": [50000, 52000, 60000, 62000, 58000, 60000, 64000],\n",
    "    \"Bonus\": [5000, 6000, 7000, 6500, 5500, 6000, 7200]\n",
    "}\n",
    "\n",
    "df = pd.DataFrame(data)\n",
    "filtered = df[df[\"Department\"].isin([\"HR\",\"IT\"])]\n",
    "print(filtered)\n",
    "filtered_salary= df[df[\"Salary\"].isin([52000,60000])]\n",
    "print(filtered_salary)"
   ]
  },
  {
   "cell_type": "code",
   "execution_count": null,
   "id": "91a4c6af-ffab-416f-9d57-2e68b3fd8049",
   "metadata": {},
   "outputs": [],
   "source": []
  },
  {
   "cell_type": "code",
   "execution_count": null,
   "id": "ca6378c2-433b-4b18-b666-f89133555a95",
   "metadata": {},
   "outputs": [],
   "source": []
  }
 ],
 "metadata": {
  "kernelspec": {
   "display_name": "Python [conda env:base] *",
   "language": "python",
   "name": "conda-base-py"
  },
  "language_info": {
   "codemirror_mode": {
    "name": "ipython",
    "version": 3
   },
   "file_extension": ".py",
   "mimetype": "text/x-python",
   "name": "python",
   "nbconvert_exporter": "python",
   "pygments_lexer": "ipython3",
   "version": "3.13.5"
  }
 },
 "nbformat": 4,
 "nbformat_minor": 5
}
