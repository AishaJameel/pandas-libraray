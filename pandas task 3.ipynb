{
 "cells": [
  {
   "cell_type": "code",
   "execution_count": 1,
   "id": "ded7c18e-2e72-4719-92af-a80aad428c5c",
   "metadata": {
    "scrolled": true
   },
   "outputs": [
    {
     "name": "stdout",
     "output_type": "stream",
     "text": [
      "      Transaction ID Customer ID       Category          Item  Price Per Unit  \\\n",
      "0        TXN_6867343     CUST_09     Patisserie   Item_10_PAT            18.5   \n",
      "1        TXN_3731986     CUST_22  Milk Products  Item_17_MILK            29.0   \n",
      "2        TXN_9303719     CUST_02       Butchers   Item_12_BUT            21.5   \n",
      "3        TXN_9458126     CUST_06      Beverages   Item_16_BEV            27.5   \n",
      "4        TXN_4575373     CUST_05           Food   Item_6_FOOD            12.5   \n",
      "...              ...         ...            ...           ...             ...   \n",
      "12570    TXN_9347481     CUST_18     Patisserie   Item_23_PAT            38.0   \n",
      "12571    TXN_4009414     CUST_03      Beverages    Item_2_BEV             6.5   \n",
      "12572    TXN_5306010     CUST_11       Butchers    Item_7_BUT            14.0   \n",
      "12573    TXN_5167298     CUST_04      Furniture    Item_7_FUR            14.0   \n",
      "12574    TXN_2407494     CUST_23           Food   Item_9_FOOD            17.0   \n",
      "\n",
      "       Quantity  Total Spent  Payment Method  Location Transaction Date  \\\n",
      "0          10.0        185.0  Digital Wallet    Online       2024-04-08   \n",
      "1           9.0        261.0  Digital Wallet    Online       2023-07-23   \n",
      "2           2.0         43.0     Credit Card    Online       2022-10-05   \n",
      "3           9.0        247.5     Credit Card    Online       2022-05-07   \n",
      "4           7.0         87.5  Digital Wallet    Online       2022-10-02   \n",
      "...         ...          ...             ...       ...              ...   \n",
      "12570       4.0        152.0     Credit Card  In-store       2023-09-03   \n",
      "12571       9.0         58.5            Cash    Online       2022-08-12   \n",
      "12572      10.0        140.0            Cash    Online       2024-08-24   \n",
      "12573       6.0         84.0            Cash    Online       2023-12-30   \n",
      "12574       3.0         51.0            Cash    Online       2022-08-06   \n",
      "\n",
      "      Discount Applied  \n",
      "0                 True  \n",
      "1                 True  \n",
      "2                False  \n",
      "3                  NaN  \n",
      "4                False  \n",
      "...                ...  \n",
      "12570              NaN  \n",
      "12571            False  \n",
      "12572              NaN  \n",
      "12573             True  \n",
      "12574              NaN  \n",
      "\n",
      "[12575 rows x 11 columns]\n"
     ]
    }
   ],
   "source": [
    "import pandas as pd \n",
    "df = pd.read_csv(r\"C:\\Users\\amnaj\\OneDrive\\Desktop\\ARTIFICIAL INTELLIGENCE\\retail_store_sales.csv\")\n",
    "print(df)"
   ]
  },
  {
   "cell_type": "code",
   "execution_count": 7,
   "id": "e9c13fd9-e01e-4d41-b4fd-6d8ba2602d0e",
   "metadata": {},
   "outputs": [
    {
     "name": "stdout",
     "output_type": "stream",
     "text": [
      "  Transaction ID Customer ID       Category          Item  Price Per Unit  \\\n",
      "0    TXN_6867343     CUST_09     Patisserie   Item_10_PAT            18.5   \n",
      "1    TXN_3731986     CUST_22  Milk Products  Item_17_MILK            29.0   \n",
      "2    TXN_9303719     CUST_02       Butchers   Item_12_BUT            21.5   \n",
      "3    TXN_9458126     CUST_06      Beverages   Item_16_BEV            27.5   \n",
      "4    TXN_4575373     CUST_05           Food   Item_6_FOOD            12.5   \n",
      "\n",
      "   Quantity  Total Spent  Payment Method Location Transaction Date  \\\n",
      "0      10.0        185.0  Digital Wallet   Online       2024-04-08   \n",
      "1       9.0        261.0  Digital Wallet   Online       2023-07-23   \n",
      "2       2.0         43.0     Credit Card   Online       2022-10-05   \n",
      "3       9.0        247.5     Credit Card   Online       2022-05-07   \n",
      "4       7.0         87.5  Digital Wallet   Online       2022-10-02   \n",
      "\n",
      "  Discount Applied  \n",
      "0             True  \n",
      "1             True  \n",
      "2            False  \n",
      "3              NaN  \n",
      "4            False  \n"
     ]
    }
   ],
   "source": [
    "print(df.head())"
   ]
  },
  {
   "cell_type": "code",
   "execution_count": 8,
   "id": "314370ce-ed33-4324-8a90-2e650b42f9fa",
   "metadata": {},
   "outputs": [
    {
     "name": "stdout",
     "output_type": "stream",
     "text": [
      "      Transaction ID Customer ID    Category         Item  Price Per Unit  \\\n",
      "12570    TXN_9347481     CUST_18  Patisserie  Item_23_PAT            38.0   \n",
      "12571    TXN_4009414     CUST_03   Beverages   Item_2_BEV             6.5   \n",
      "12572    TXN_5306010     CUST_11    Butchers   Item_7_BUT            14.0   \n",
      "12573    TXN_5167298     CUST_04   Furniture   Item_7_FUR            14.0   \n",
      "12574    TXN_2407494     CUST_23        Food  Item_9_FOOD            17.0   \n",
      "\n",
      "       Quantity  Total Spent Payment Method  Location Transaction Date  \\\n",
      "12570       4.0        152.0    Credit Card  In-store       2023-09-03   \n",
      "12571       9.0         58.5           Cash    Online       2022-08-12   \n",
      "12572      10.0        140.0           Cash    Online       2024-08-24   \n",
      "12573       6.0         84.0           Cash    Online       2023-12-30   \n",
      "12574       3.0         51.0           Cash    Online       2022-08-06   \n",
      "\n",
      "      Discount Applied  \n",
      "12570              NaN  \n",
      "12571            False  \n",
      "12572              NaN  \n",
      "12573             True  \n",
      "12574              NaN  \n"
     ]
    }
   ],
   "source": [
    "print(df.tail())\n"
   ]
  },
  {
   "cell_type": "code",
   "execution_count": 9,
   "id": "8787e6ea-2fd8-4b38-bfe6-208c44a83787",
   "metadata": {},
   "outputs": [
    {
     "name": "stdout",
     "output_type": "stream",
     "text": [
      "<bound method DataFrame.info of       Transaction ID Customer ID       Category          Item  Price Per Unit  \\\n",
      "0        TXN_6867343     CUST_09     Patisserie   Item_10_PAT            18.5   \n",
      "1        TXN_3731986     CUST_22  Milk Products  Item_17_MILK            29.0   \n",
      "2        TXN_9303719     CUST_02       Butchers   Item_12_BUT            21.5   \n",
      "3        TXN_9458126     CUST_06      Beverages   Item_16_BEV            27.5   \n",
      "4        TXN_4575373     CUST_05           Food   Item_6_FOOD            12.5   \n",
      "...              ...         ...            ...           ...             ...   \n",
      "12570    TXN_9347481     CUST_18     Patisserie   Item_23_PAT            38.0   \n",
      "12571    TXN_4009414     CUST_03      Beverages    Item_2_BEV             6.5   \n",
      "12572    TXN_5306010     CUST_11       Butchers    Item_7_BUT            14.0   \n",
      "12573    TXN_5167298     CUST_04      Furniture    Item_7_FUR            14.0   \n",
      "12574    TXN_2407494     CUST_23           Food   Item_9_FOOD            17.0   \n",
      "\n",
      "       Quantity  Total Spent  Payment Method  Location Transaction Date  \\\n",
      "0          10.0        185.0  Digital Wallet    Online       2024-04-08   \n",
      "1           9.0        261.0  Digital Wallet    Online       2023-07-23   \n",
      "2           2.0         43.0     Credit Card    Online       2022-10-05   \n",
      "3           9.0        247.5     Credit Card    Online       2022-05-07   \n",
      "4           7.0         87.5  Digital Wallet    Online       2022-10-02   \n",
      "...         ...          ...             ...       ...              ...   \n",
      "12570       4.0        152.0     Credit Card  In-store       2023-09-03   \n",
      "12571       9.0         58.5            Cash    Online       2022-08-12   \n",
      "12572      10.0        140.0            Cash    Online       2024-08-24   \n",
      "12573       6.0         84.0            Cash    Online       2023-12-30   \n",
      "12574       3.0         51.0            Cash    Online       2022-08-06   \n",
      "\n",
      "      Discount Applied  \n",
      "0                 True  \n",
      "1                 True  \n",
      "2                False  \n",
      "3                  NaN  \n",
      "4                False  \n",
      "...                ...  \n",
      "12570              NaN  \n",
      "12571            False  \n",
      "12572              NaN  \n",
      "12573             True  \n",
      "12574              NaN  \n",
      "\n",
      "[12575 rows x 11 columns]>\n"
     ]
    }
   ],
   "source": [
    "print(df.info)"
   ]
  },
  {
   "cell_type": "code",
   "execution_count": 6,
   "id": "973681c4-0b5e-401c-82a3-eb938fed2afe",
   "metadata": {},
   "outputs": [
    {
     "name": "stdout",
     "output_type": "stream",
     "text": [
      "       Price Per Unit      Quantity   Total Spent\n",
      "count    11966.000000  11971.000000  11971.000000\n",
      "mean        23.365912      5.536380    129.652577\n",
      "std         10.743519      2.857883     94.750697\n",
      "min          5.000000      1.000000      5.000000\n",
      "25%         14.000000      3.000000     51.000000\n",
      "50%         23.000000      6.000000    108.500000\n",
      "75%         33.500000      8.000000    192.000000\n",
      "max         41.000000     10.000000    410.000000\n"
     ]
    }
   ],
   "source": [
    "print(df.describe())"
   ]
  },
  {
   "cell_type": "code",
   "execution_count": 9,
   "id": "571b80a7-1429-4e50-a2a2-b996d0acafee",
   "metadata": {},
   "outputs": [
    {
     "name": "stdout",
     "output_type": "stream",
     "text": [
      "Item                1213\n",
      "Price Per Unit       609\n",
      "Quantity             604\n",
      "Total Spent          604\n",
      "Discount Applied    4199\n",
      "dtype: int64\n"
     ]
    }
   ],
   "source": [
    "#⦁\tMissing values\n",
    "#⦁\tWhich columns have missing values?\n",
    "missing_counts = df.isna().sum()\n",
    "\n",
    "# Filter only columns that actually have missing values\n",
    "missing_cols = missing_counts[missing_counts > 0]\n",
    "\n",
    "print(missing_cols)\n",
    "\n"
   ]
  },
  {
   "cell_type": "code",
   "execution_count": 2,
   "id": "6502bf2d-8fc1-47e8-a867-35ced21723a7",
   "metadata": {},
   "outputs": [
    {
     "data": {
      "text/plain": [
       "array([False, False, False, False, False, False, False, False, False,\n",
       "       False, False])"
      ]
     },
     "execution_count": 2,
     "metadata": {},
     "output_type": "execute_result"
    }
   ],
   "source": [
    "df.columns.isnull()\n"
   ]
  },
  {
   "cell_type": "code",
   "execution_count": 8,
   "id": "3fde893b-e577-41ce-8a6b-98e9a66749da",
   "metadata": {},
   "outputs": [
    {
     "name": "stdout",
     "output_type": "stream",
     "text": [
      "Transaction ID       0.000000\n",
      "Customer ID          0.000000\n",
      "Category             0.000000\n",
      "Item                 9.646123\n",
      "Price Per Unit       4.842942\n",
      "Quantity             4.803181\n",
      "Total Spent          4.803181\n",
      "Payment Method       0.000000\n",
      "Location             0.000000\n",
      "Transaction Date     0.000000\n",
      "Discount Applied    33.391650\n",
      "dtype: float64\n"
     ]
    }
   ],
   "source": [
    "#⦁\tWhat percentage of the dataset is missing in each column?\n",
    "missing_prcntage = df.isna().mean()*100\n",
    "print(missing_prcntage)"
   ]
  },
  {
   "cell_type": "code",
   "execution_count": 12,
   "id": "d7a31949-0a25-4baf-a8cd-948fc7de4aa1",
   "metadata": {},
   "outputs": [
    {
     "name": "stdout",
     "output_type": "stream",
     "text": [
      "0         Item_10_PAT\n",
      "1        Item_17_MILK\n",
      "2         Item_12_BUT\n",
      "3         Item_16_BEV\n",
      "4         Item_6_FOOD\n",
      "             ...     \n",
      "12570     Item_23_PAT\n",
      "12571      Item_2_BEV\n",
      "12572      Item_7_BUT\n",
      "12573      Item_7_FUR\n",
      "12574     Item_9_FOOD\n",
      "Name: Item, Length: 12575, dtype: object\n",
      "0        10.0\n",
      "1         9.0\n",
      "2         2.0\n",
      "3         9.0\n",
      "4         7.0\n",
      "         ... \n",
      "12570     4.0\n",
      "12571     9.0\n",
      "12572    10.0\n",
      "12573     6.0\n",
      "12574     3.0\n",
      "Name: Quantity, Length: 12575, dtype: float64\n",
      "0        185.0\n",
      "1        261.0\n",
      "2         43.0\n",
      "3        247.5\n",
      "4         87.5\n",
      "         ...  \n",
      "12570    152.0\n",
      "12571     58.5\n",
      "12572    140.0\n",
      "12573     84.0\n",
      "12574     51.0\n",
      "Name: Total Spent, Length: 12575, dtype: float64\n",
      "0         True\n",
      "1         True\n",
      "2        False\n",
      "3            0\n",
      "4        False\n",
      "         ...  \n",
      "12570        0\n",
      "12571    False\n",
      "12572        0\n",
      "12573     True\n",
      "12574        0\n",
      "Name: Discount Applied, Length: 12575, dtype: object\n"
     ]
    }
   ],
   "source": [
    "#⦁Suggest and apply strategies to fill/fix missing values for:⦁\tItem⦁Quantity⦁Total Spent⦁Discount Applied\n",
    "df[\"Item\"] = df[\"Item\"].fillna(\"unknown item\")\n",
    "df[\"Quantity\"] = df[\"Quantity\"].fillna(0)\n",
    "if \"Price\" in df.columns:\n",
    "    df[\"Total Spent\"] = df[\"Total Spent\"],fillna(df[\"Quantity\"]*df[\"Price\"])\n",
    "df[\"Total Spent\"] = df[\"Total Spent\"].fillna(df[\"Total Spent\"].median())\n",
    "df[\"Discount Applied\"] = df[\"Discount Applied\"].fillna(0)\n",
    "print(df[\"Item\"])\n",
    "print(df[\"Quantity\"])\n",
    "print(df[\"Total Spent\"])\n",
    "print(df[\"Discount Applied\"])"
   ]
  },
  {
   "cell_type": "code",
   "execution_count": null,
   "id": "c30b3e05-344a-4d38-8238-d34a0a3b5aee",
   "metadata": {},
   "outputs": [],
   "source": [
    "Data consistency\n",
    "Are all Transaction IDs unique? If not, identify duplicates.\n",
    "Are there duplicate rows in the dataset?\n",
    "Verify whether Price Per Unit × Quantity = Total Spent. Flag mismatches.\n"
   ]
  },
  {
   "cell_type": "code",
   "execution_count": 16,
   "id": "2b5cfced-6eae-4e38-be30-f71ead2854c1",
   "metadata": {},
   "outputs": [
    {
     "name": "stdout",
     "output_type": "stream",
     "text": [
      "True\n"
     ]
    }
   ],
   "source": [
    "#Are all Transaction IDs unique? If not, identify duplicates.\n",
    "print(df[\"Transaction ID\"].is_unique)  #True → if all Transaction IDs are unique\n",
    "                                        #False → if there are duplicates"
   ]
  },
  {
   "cell_type": "code",
   "execution_count": 17,
   "id": "7930de6d-b39b-4f7e-a7ba-12a649fbb7c9",
   "metadata": {},
   "outputs": [
    {
     "name": "stdout",
     "output_type": "stream",
     "text": [
      "0        False\n",
      "1        False\n",
      "2        False\n",
      "3        False\n",
      "4        False\n",
      "         ...  \n",
      "12570    False\n",
      "12571    False\n",
      "12572    False\n",
      "12573    False\n",
      "12574    False\n",
      "Length: 12575, dtype: bool\n"
     ]
    }
   ],
   "source": [
    "#Are there duplicate rows in the dataset?\n",
    "print(df.duplicated())"
   ]
  },
  {
   "cell_type": "code",
   "execution_count": 18,
   "id": "2adf337c-d4cf-4043-a083-6e69ac52af7b",
   "metadata": {},
   "outputs": [
    {
     "name": "stdout",
     "output_type": "stream",
     "text": [
      "False\n"
     ]
    }
   ],
   "source": [
    "print(df.duplicated().any())"
   ]
  },
  {
   "cell_type": "code",
   "execution_count": 21,
   "id": "2fc4e207-69e0-4bab-9dd9-bcfc4d25d45e",
   "metadata": {},
   "outputs": [
    {
     "name": "stdout",
     "output_type": "stream",
     "text": [
      "      Transaction ID Customer ID                       Category          Item  \\\n",
      "5        TXN_7482416     CUST_09                     Patisserie  unknown item   \n",
      "7        TXN_1372952     CUST_21                      Furniture  unknown item   \n",
      "11       TXN_5422631     CUST_09                  Milk Products  unknown item   \n",
      "15       TXN_1809665     CUST_14                      Beverages  unknown item   \n",
      "17       TXN_9634894     CUST_15                  Milk Products  unknown item   \n",
      "...              ...         ...                            ...           ...   \n",
      "12527    TXN_1069238     CUST_23                           Food  unknown item   \n",
      "12552    TXN_4823896     CUST_05                  Milk Products  unknown item   \n",
      "12556    TXN_4397672     CUST_04                      Beverages  unknown item   \n",
      "12562    TXN_7422454     CUST_07                       Butchers  unknown item   \n",
      "12564    TXN_2153066     CUST_17  Electric household essentials  unknown item   \n",
      "\n",
      "       Price Per Unit  Quantity  Total Spent  Payment Method  Location  \\\n",
      "5                 NaN      10.0        200.0     Credit Card    Online   \n",
      "7                33.5       0.0        108.5  Digital Wallet  In-store   \n",
      "11                NaN       8.0         52.0  Digital Wallet  In-store   \n",
      "15               24.5       0.0        108.5     Credit Card  In-store   \n",
      "17                NaN      10.0        275.0  Digital Wallet    Online   \n",
      "...               ...       ...          ...             ...       ...   \n",
      "12527             5.0       0.0        108.5  Digital Wallet  In-store   \n",
      "12552             8.0       0.0        108.5            Cash  In-store   \n",
      "12556            41.0       0.0        108.5     Credit Card    Online   \n",
      "12562            33.5       0.0        108.5            Cash    Online   \n",
      "12564            29.0       0.0        108.5  Digital Wallet  In-store   \n",
      "\n",
      "      Transaction Date Discount Applied  Expected_spent  mismatched  \n",
      "5           2023-11-30                0             NaN        True  \n",
      "7           2024-04-02             True             0.0        True  \n",
      "11          2025-01-12             True             NaN        True  \n",
      "15          2022-05-11                0             0.0        True  \n",
      "17          2022-04-17                0             NaN        True  \n",
      "...                ...              ...             ...         ...  \n",
      "12527       2022-08-13            False             0.0        True  \n",
      "12552       2022-07-21            False             0.0        True  \n",
      "12556       2024-11-28             True             0.0        True  \n",
      "12562       2023-04-15                0             0.0        True  \n",
      "12564       2024-03-28            False             0.0        True  \n",
      "\n",
      "[1213 rows x 13 columns]\n"
     ]
    }
   ],
   "source": [
    "#Verify whether Price Per Unit × Quantity = Total Spent. Flag mismatches\n",
    "df[\"Expected_spent\"] =df[\"Price Per Unit\"]* df[\"Quantity\"]\n",
    "df[\"mismatched\"] = df[\"Expected_spent\"]!= df[\"Total Spent\"]\n",
    "Mismatched = df[df[\"mismatched\"]]\n",
    "print(Mismatched)\n"
   ]
  },
  {
   "cell_type": "code",
   "execution_count": null,
   "id": "b29e0010-883d-4e8e-805c-e0b51f4a1458",
   "metadata": {},
   "outputs": [],
   "source": [
    "Data types\n",
    "Convert Transaction Date into a proper datetime object.\n",
    "Ensure Price Per Unit, Quantity, and Total Spent are numeric.\n",
    "Convert Discount Applied into a Boolean (True/False).\n"
   ]
  },
  {
   "cell_type": "code",
   "execution_count": 22,
   "id": "15b09c90-1fae-4be4-b2ac-b32373785499",
   "metadata": {},
   "outputs": [
    {
     "name": "stdout",
     "output_type": "stream",
     "text": [
      "0       2024-04-08\n",
      "1       2023-07-23\n",
      "2       2022-10-05\n",
      "3       2022-05-07\n",
      "4       2022-10-02\n",
      "           ...    \n",
      "12570   2023-09-03\n",
      "12571   2022-08-12\n",
      "12572   2024-08-24\n",
      "12573   2023-12-30\n",
      "12574   2022-08-06\n",
      "Name: Transaction Date, Length: 12575, dtype: datetime64[ns]\n"
     ]
    }
   ],
   "source": [
    "#Convert Transaction Date into a proper datetime object.\n",
    "df[\"Transaction Date\"] = pd.to_datetime(df[\"Transaction Date\"],errors = \"coerce\")\n",
    "print(df[\"Transaction Date\"])\n",
    "    "
   ]
  },
  {
   "cell_type": "code",
   "execution_count": 4,
   "id": "14768846-f9ec-4d3d-9e55-f5f168c56a4f",
   "metadata": {},
   "outputs": [
    {
     "name": "stdout",
     "output_type": "stream",
     "text": [
      "0         True\n",
      "1         True\n",
      "2        False\n",
      "3         True\n",
      "4        False\n",
      "         ...  \n",
      "12570     True\n",
      "12571    False\n",
      "12572     True\n",
      "12573     True\n",
      "12574     True\n",
      "Name: Discount Applied, Length: 12575, dtype: bool\n"
     ]
    }
   ],
   "source": [
    "#Convert Discount Applied into a Boolean (True/False)\n",
    "print(df[\"Discount Applied\"].astype(bool))"
   ]
  },
  {
   "cell_type": "code",
   "execution_count": null,
   "id": "e4d8cbb7-2a92-4bb1-849c-a70b6ed49b43",
   "metadata": {},
   "outputs": [],
   "source": [
    "Standardization\n",
    "Standardize values in Payment Method (e.g., fix casing differences).\n",
    "Standardize Location (“Online” vs “In-store”).\n",
    "Ensure Category values follow one naming convention.\n"
   ]
  },
  {
   "cell_type": "code",
   "execution_count": 5,
   "id": "c9898118-a656-4ee2-833d-02149e8922c9",
   "metadata": {},
   "outputs": [
    {
     "name": "stdout",
     "output_type": "stream",
     "text": [
      "0        digital wallet\n",
      "1        digital wallet\n",
      "2           credit card\n",
      "3           credit card\n",
      "4        digital wallet\n",
      "              ...      \n",
      "12570       credit card\n",
      "12571              cash\n",
      "12572              cash\n",
      "12573              cash\n",
      "12574              cash\n",
      "Name: Payment Method, Length: 12575, dtype: object\n"
     ]
    }
   ],
   "source": [
    "#Standardize values in Payment Method (e.g., fix casing differences).\n",
    "df[\"Payment Method\"] = (df[\"Payment Method\"].astype(str).str.lower().str.strip())\n",
    "print(df[\"Payment Method\"])"
   ]
  },
  {
   "cell_type": "code",
   "execution_count": 7,
   "id": "264faade-f7e7-4005-802d-bb0b22047191",
   "metadata": {},
   "outputs": [
    {
     "name": "stdout",
     "output_type": "stream",
     "text": [
      "0          Online\n",
      "1          Online\n",
      "2          Online\n",
      "3          Online\n",
      "4          Online\n",
      "           ...   \n",
      "12570    In-store\n",
      "12571      Online\n",
      "12572      Online\n",
      "12573      Online\n",
      "12574      Online\n",
      "Name: Location, Length: 12575, dtype: object\n"
     ]
    }
   ],
   "source": [
    "#Standardize Location (“Online” vs “In-store”).\n",
    "df[\"Location\"] = (df[\"Location\"].astype(str).str.strip().str.lower())\n",
    "df[\"Location\"] = (df[\"Location\"].replace({\"online\" :\"Online\",\n",
    "                                          \"ONLINE\" :\"Online\",\n",
    "                                          \"in-store\" : \"In-store\",\n",
    "                                          \"In_Store\" : \"In-store\"}))\n",
    "                                          \n",
    "print(df[\"Location\"])"
   ]
  },
  {
   "cell_type": "code",
   "execution_count": 8,
   "id": "53a820dc-80d5-4b25-a33c-e60fb902703b",
   "metadata": {},
   "outputs": [
    {
     "name": "stdout",
     "output_type": "stream",
     "text": [
      "0           patisserie\n",
      "1        milk products\n",
      "2             butchers\n",
      "3            beverages\n",
      "4                 food\n",
      "             ...      \n",
      "12570       patisserie\n",
      "12571        beverages\n",
      "12572         butchers\n",
      "12573        furniture\n",
      "12574             food\n",
      "Name: Category, Length: 12575, dtype: object\n"
     ]
    }
   ],
   "source": [
    "#Ensure Category values follow one naming convention.\n",
    "df[\"Category\"] = (df[\"Category\"].astype(str).str.strip().str.lower())\n",
    "print(df[\"Category\"])\n"
   ]
  },
  {
   "cell_type": "code",
   "execution_count": null,
   "id": "778860c7-41ad-4484-805d-c56bc1969f14",
   "metadata": {},
   "outputs": [],
   "source": [
    "\n",
    "📊 Part 2: Basic Exploration (Univariate Analysis)\n",
    "How many total transactions are in the dataset?\n",
    "How many unique customers are there?\n",
    "What is the distribution of transactions by Category?\n",
    "What is the distribution of Payment Method?\n",
    "What is the distribution of transactions by Location (Online vs In-store)?\n",
    "What is the overall average Total Spent per transaction?\n",
    "What is the overall median Quantity purchased per transaction?\n",
    "\n"
   ]
  },
  {
   "cell_type": "code",
   "execution_count": 41,
   "id": "26e06c97-5d88-4645-b99d-0dd77d138905",
   "metadata": {},
   "outputs": [
    {
     "name": "stdout",
     "output_type": "stream",
     "text": [
      "Total transactions: 12575\n"
     ]
    }
   ],
   "source": [
    "#How many total transactions are in the dataset?\n",
    "total_transactions = len(df)\n",
    "print(\"Total transactions:\", total_transactions)\n"
   ]
  },
  {
   "cell_type": "code",
   "execution_count": 42,
   "id": "4e4c52c2-6dbe-4c5d-a866-a5919520e2d0",
   "metadata": {},
   "outputs": [
    {
     "name": "stdout",
     "output_type": "stream",
     "text": [
      "Total transactions: 12575\n"
     ]
    }
   ],
   "source": [
    "print(\"Total transactions:\", df.shape[0])\n"
   ]
  },
  {
   "cell_type": "code",
   "execution_count": 43,
   "id": "3f4851cf-ed6b-477f-88c3-6b16a0822dcd",
   "metadata": {},
   "outputs": [
    {
     "name": "stdout",
     "output_type": "stream",
     "text": [
      "25\n"
     ]
    }
   ],
   "source": [
    "#How many unique customers are there?\n",
    "print(df[\"Customer ID\"].nunique())"
   ]
  },
  {
   "cell_type": "code",
   "execution_count": 44,
   "id": "6ab78889-25eb-4d23-91cf-56581e319220",
   "metadata": {},
   "outputs": [
    {
     "name": "stdout",
     "output_type": "stream",
     "text": [
      "['CUST_09' 'CUST_22' 'CUST_02' 'CUST_06' 'CUST_05' 'CUST_07' 'CUST_21'\n",
      " 'CUST_23' 'CUST_25' 'CUST_14' 'CUST_15' 'CUST_17' 'CUST_01' 'CUST_10'\n",
      " 'CUST_04' 'CUST_13' 'CUST_18' 'CUST_08' 'CUST_20' 'CUST_12' 'CUST_11'\n",
      " 'CUST_19' 'CUST_16' 'CUST_24' 'CUST_03']\n"
     ]
    }
   ],
   "source": [
    "print(df[\"Customer ID\"].unique())"
   ]
  },
  {
   "cell_type": "code",
   "execution_count": 45,
   "id": "e93bdf11-f0b9-42b1-82b9-9800e05befa6",
   "metadata": {},
   "outputs": [
    {
     "name": "stdout",
     "output_type": "stream",
     "text": [
      "Category\n",
      "Electric Household Essentials         1591\n",
      "Furniture                             1591\n",
      "Food                                  1588\n",
      "Milk Products                         1584\n",
      "Butchers                              1568\n",
      "Beverages                             1567\n",
      "Computers And Electric Accessories    1558\n",
      "Patisserie                            1528\n",
      "Name: count, dtype: int64\n"
     ]
    }
   ],
   "source": [
    "#What is the distribution of transactions by Category?\n",
    "print(df[\"Category\"].value_counts())"
   ]
  },
  {
   "cell_type": "code",
   "execution_count": 46,
   "id": "d945db7c-acf2-4310-a75e-950c8e03de16",
   "metadata": {},
   "outputs": [
    {
     "name": "stdout",
     "output_type": "stream",
     "text": [
      "Payment Method\n",
      "Cash              4310\n",
      "Digital Wallet    4144\n",
      "Credit Card       4121\n",
      "Name: count, dtype: int64\n"
     ]
    }
   ],
   "source": [
    "#What is the distribution of Payment Method?\n",
    "print(df[\"Payment Method\"].value_counts())"
   ]
  },
  {
   "cell_type": "code",
   "execution_count": 47,
   "id": "e3d95064-1cfe-4520-b822-9f9f21af99b8",
   "metadata": {},
   "outputs": [
    {
     "name": "stdout",
     "output_type": "stream",
     "text": [
      "Location\n",
      "Online      6354\n",
      "in-store    6221\n",
      "Name: count, dtype: int64\n"
     ]
    }
   ],
   "source": [
    "#What is the distribution of transactions by Location (Online vs In-store)?\n",
    "print(df[\"Location\"].value_counts())"
   ]
  },
  {
   "cell_type": "code",
   "execution_count": 3,
   "id": "c38b71d8-6682-46da-b948-a6c5c357451a",
   "metadata": {},
   "outputs": [
    {
     "name": "stdout",
     "output_type": "stream",
     "text": [
      "129.6525770612313\n"
     ]
    }
   ],
   "source": [
    "#What is the overall average Total Spent per transaction?\n",
    "df[\"Total Spent\"] = pd.to_numeric(df[\"Total Spent\"],errors = \"coerce\")\n",
    "overall_average = df[\"Total Spent\"].mean()\n",
    "print(overall_average )"
   ]
  },
  {
   "cell_type": "code",
   "execution_count": 4,
   "id": "7b01741d-55c0-4d4b-a6e9-526d89e1e877",
   "metadata": {},
   "outputs": [
    {
     "name": "stdout",
     "output_type": "stream",
     "text": [
      "5.536379583994654\n"
     ]
    }
   ],
   "source": [
    "#What is the overall median Quantity purchased per transaction?\n",
    "df[\"Quantity\"] = pd.to_numeric(df[\"Quantity\"],errors = \"coerce\")\n",
    "overall_average = df[\"Quantity\"].mean()\n",
    "print(overall_average )\n"
   ]
  },
  {
   "cell_type": "code",
   "execution_count": null,
   "id": "455a5865-5937-410d-a7ac-40a0f8ad99e2",
   "metadata": {},
   "outputs": [],
   "source": [
    "Part 3: Customer Analysis\n",
    "Which customers spent the most overall?\n",
    "Which customers made the highest number of transactions?\n",
    "Which customers purchased from the most categories?\n",
    "Do customers show a preference for Online or In-store shopping?\n",
    "Which customer has the largest average spend per transaction?\n"
   ]
  },
  {
   "cell_type": "code",
   "execution_count": 3,
   "id": "2ccb7d62-5a36-4993-80d0-b0cced61303c",
   "metadata": {},
   "outputs": [
    {
     "name": "stdout",
     "output_type": "stream",
     "text": [
      "Customer ID\n",
      "CUST_24    68452.0\n",
      "CUST_08    67351.5\n",
      "CUST_05    66974.5\n",
      "CUST_16    65570.5\n",
      "CUST_13    65037.0\n",
      "Name: Total Spent, dtype: float64\n"
     ]
    }
   ],
   "source": [
    "#Which customers spent the most overall?\n",
    "df[\"Total Spent\"] = pd.to_numeric(df[\"Total Spent\"],errors = \"coerce\")\n",
    "Customer_total = df.groupby(\"Customer ID\")[\"Total Spent\"].sum()\n",
    "top_customer = Customer_total.sort_values(ascending= False)\n",
    "print(top_customer.head())"
   ]
  },
  {
   "cell_type": "code",
   "execution_count": 8,
   "id": "fa0bee45-8817-4054-ae1f-cc19dd492f32",
   "metadata": {},
   "outputs": [
    {
     "name": "stdout",
     "output_type": "stream",
     "text": [
      "Customer ID\n",
      "CUST_24    68452.0\n",
      "Name: Total Spent, dtype: float64\n"
     ]
    }
   ],
   "source": [
    "df[\"Total Spent\"] = pd.to_numeric(df[\"Total Spent\"],errors = \"coerce\")\n",
    "Customer_total = df.groupby(\"Customer ID\")[\"Total Spent\"].sum()\n",
    "top_customer = Customer_total.sort_values(ascending= False)\n",
    "print(top_customer.head(1))"
   ]
  },
  {
   "cell_type": "code",
   "execution_count": 20,
   "id": "1fe8b7d8-7e73-40ce-af5e-814f0726234c",
   "metadata": {},
   "outputs": [
    {
     "name": "stdout",
     "output_type": "stream",
     "text": [
      "Customer ID\n",
      "CUST_01    0.0\n",
      "Name: Transaction ID, dtype: float64\n"
     ]
    }
   ],
   "source": [
    "#Which customers made the highest number of transactions?\n",
    "df[\"Transaction ID\"] = pd.to_numeric(df[\"Transaction ID\"], errors=\"coerce\")\n",
    "Customer_total = df.groupby(\"Customer ID\")[\"Transaction ID\"].sum()\n",
    "top_customer = Customer_total.sort_values(ascending= False)\n",
    "print(top_customer.head(1))"
   ]
  },
  {
   "cell_type": "code",
   "execution_count": 21,
   "id": "f6a6b339-460a-4e83-9dad-21c2d70b7010",
   "metadata": {},
   "outputs": [
    {
     "name": "stdout",
     "output_type": "stream",
     "text": [
      "Customer ID\n",
      "CUST_01    0\n",
      "CUST_02    0\n",
      "CUST_03    0\n",
      "CUST_04    0\n",
      "CUST_05    0\n",
      "Name: Transaction ID, dtype: int64\n"
     ]
    }
   ],
   "source": [
    "df[\"Transaction ID\"] = pd.to_numeric(df[\"Transaction ID\"], errors=\"coerce\")\n",
    "Transaction_count = df.groupby(\"Customer ID\")[\"Transaction ID\"].count()\n",
    "top_customer = Transaction_count.sort_values(ascending= False)\n",
    "print(top_customer.head())"
   ]
  },
  {
   "cell_type": "code",
   "execution_count": 24,
   "id": "c791b95f-96ca-4d03-9036-053e3da7457a",
   "metadata": {},
   "outputs": [
    {
     "name": "stdout",
     "output_type": "stream",
     "text": [
      "Customer ID\n",
      "CUST_01    8\n",
      "CUST_02    8\n",
      "CUST_03    8\n",
      "CUST_04    8\n",
      "CUST_05    8\n",
      "Name: Category, dtype: int64\n"
     ]
    }
   ],
   "source": [
    "#Which customers purchased from the most categories?\n",
    "customer_purchased_percategory = df.groupby(\"Customer ID\")[\"Category\"].nunique()\n",
    "top_customer = customer_purchased_percategory.sort_values(ascending= False)\n",
    "print(top_customer.head())"
   ]
  },
  {
   "cell_type": "code",
   "execution_count": 28,
   "id": "7e7ff7f1-0ced-4c0c-9a0a-34b9ad1a53c7",
   "metadata": {},
   "outputs": [
    {
     "name": "stdout",
     "output_type": "stream",
     "text": [
      "Customer ID  Location\n",
      "CUST_01      In-store    256\n",
      "             Online      251\n",
      "CUST_02      In-store    259\n",
      "             Online      229\n",
      "CUST_03      In-store    230\n",
      "             Online      235\n",
      "CUST_04      In-store    245\n",
      "             Online      229\n",
      "CUST_05      In-store    266\n",
      "             Online      278\n",
      "CUST_06      In-store    261\n",
      "             Online      220\n",
      "CUST_07      In-store    227\n",
      "             Online      264\n",
      "CUST_08      In-store    250\n",
      "             Online      283\n",
      "CUST_09      In-store    250\n",
      "             Online      269\n",
      "CUST_10      In-store    252\n",
      "             Online      249\n",
      "CUST_11      In-store    242\n",
      "             Online      261\n",
      "CUST_12      In-store    243\n",
      "             Online      255\n",
      "CUST_13      In-store    269\n",
      "             Online      265\n",
      "CUST_14      In-store    235\n",
      "             Online      249\n",
      "CUST_15      In-store    255\n",
      "             Online      264\n",
      "CUST_16      In-store    259\n",
      "             Online      256\n",
      "CUST_17      In-store    241\n",
      "             Online      246\n",
      "CUST_18      In-store    271\n",
      "             Online      236\n",
      "CUST_19      In-store    228\n",
      "             Online      259\n",
      "CUST_20      In-store    251\n",
      "             Online      256\n",
      "CUST_21      In-store    245\n",
      "             Online      253\n",
      "CUST_22      In-store    241\n",
      "             Online      260\n",
      "CUST_23      In-store    255\n",
      "             Online      258\n",
      "CUST_24      In-store    262\n",
      "             Online      281\n",
      "CUST_25      In-store    228\n",
      "             Online      248\n",
      "Name: Transaction ID, dtype: int64\n"
     ]
    }
   ],
   "source": [
    "#Do customers show a preference for Online or In-store shopping?\n",
    "df[\"Transaction ID\"] = df[\"Transaction ID\"].astype(str)\n",
    "shopping_pref = df.groupby([\"Customer ID\",\"Location\"])[\"Transaction ID\"].count()\n",
    "print(shopping_pref)"
   ]
  },
  {
   "cell_type": "code",
   "execution_count": 30,
   "id": "57accf12-edf8-425d-ab0f-ea3c5ac6598c",
   "metadata": {},
   "outputs": [
    {
     "name": "stdout",
     "output_type": "stream",
     "text": [
      "Customer ID\n",
      "CUST_03    136.347534\n",
      "CUST_04    135.752747\n",
      "CUST_23    134.110187\n",
      "CUST_19    133.035011\n",
      "CUST_02    132.861884\n",
      "Name: Total Spent, dtype: float64\n"
     ]
    }
   ],
   "source": [
    "#Which customer has the largest average spend per transaction?\n",
    "df[\"Total Spent\"] = pd.to_numeric(df[\"Total Spent\"],errors = \"coerce\")\n",
    "Customer_total = df.groupby(\"Customer ID\")[\"Total Spent\"].mean()\n",
    "top_customer = Customer_total.sort_values(ascending= False)\n",
    "print(top_customer.head())"
   ]
  },
  {
   "cell_type": "code",
   "execution_count": null,
   "id": "726a301f-9846-452d-ad41-ff40123d3a0f",
   "metadata": {},
   "outputs": [],
   "source": [
    "#Part 4: Category & Item Analysis\n",
    "\n",
    "Which category generated the most total revenue?\n",
    "\n",
    "Which category has the highest average Total Spent per transaction?\n",
    "Which items are the top sellers by total quantity sold?\n",
    "Are discounts applied more frequently in certain categories?\n",
    "Which category has the highest number of unique customers buying from it?\n"
   ]
  },
  {
   "cell_type": "code",
   "execution_count": 32,
   "id": "428d0edd-8c3d-472e-80d3-6ba7f7780ad2",
   "metadata": {},
   "outputs": [
    {
     "name": "stdout",
     "output_type": "stream",
     "text": [
      "Category\n",
      "Butchers                         208118.0\n",
      "Electric household essentials    203813.5\n",
      "Beverages                        197047.5\n",
      "Furniture                        195310.0\n",
      "Food                             194812.0\n",
      "Name: Total Spent, dtype: float64\n"
     ]
    }
   ],
   "source": [
    "#Which category generated the most total revenue?\n",
    "df[\"Total Spent\"] = pd.to_numeric(df[\"Total Spent\"],errors = \"coerce\")\n",
    "Category_revenue = df.groupby(\"Category\")[\"Total Spent\"].sum()\n",
    "top_category = Category_revenue.sort_values(ascending= False)\n",
    "print(top_category.head())"
   ]
  },
  {
   "cell_type": "code",
   "execution_count": 33,
   "id": "b13af7e8-0802-4d31-b4cd-859b19213366",
   "metadata": {},
   "outputs": [
    {
     "name": "stdout",
     "output_type": "stream",
     "text": [
      "Category\n",
      "Butchers                              139.116310\n",
      "Electric household essentials         134.441623\n",
      "Beverages                             131.716243\n",
      "Food                                  129.271400\n",
      "Computers and electric accessories    129.107989\n",
      "Name: Total Spent, dtype: float64\n"
     ]
    }
   ],
   "source": [
    "#Which category has the highest average Total Spent per transaction?\n",
    "df[\"Total Spent\"] = pd.to_numeric(df[\"Total Spent\"],errors = \"coerce\")\n",
    "avg_spent_percategory = df.groupby(\"Category\")[\"Total Spent\"].mean()\n",
    "top_category = avg_spent_percategory.sort_values(ascending= False)\n",
    "print(top_category.head())"
   ]
  },
  {
   "cell_type": "code",
   "execution_count": 35,
   "id": "27cf8598-94d9-4a46-b93e-f89aeb07bb5a",
   "metadata": {},
   "outputs": [
    {
     "name": "stdout",
     "output_type": "stream",
     "text": [
      "Item\n",
      "Item_10_BEV     156.0\n",
      "Item_10_BUT      94.0\n",
      "Item_10_CEA     392.0\n",
      "Item_10_EHE     206.0\n",
      "Item_10_FOOD    286.0\n",
      "                ...  \n",
      "Item_9_EHE      349.0\n",
      "Item_9_FOOD     416.0\n",
      "Item_9_FUR       80.0\n",
      "Item_9_MILK      49.0\n",
      "Item_9_PAT      309.0\n",
      "Name: Quantity, Length: 200, dtype: float64\n",
      "Item\n",
      "Item_2_BEV      676.0\n",
      "Item_16_MILK    627.0\n",
      "Item_25_FUR     616.0\n",
      "Item_19_MILK    589.0\n",
      "Item_5_FUR      581.0\n",
      "                ...  \n",
      "Item_13_FUR      40.0\n",
      "Item_22_FUR      39.0\n",
      "Item_13_BEV      36.0\n",
      "Item_3_EHE       28.0\n",
      "Item_21_PAT      23.0\n",
      "Name: Quantity, Length: 200, dtype: float64\n"
     ]
    }
   ],
   "source": [
    "#Which items are the top sellers by total quantity sold?\n",
    "df[\"Quantity\"] = pd.to_numeric(df[\"Quantity\"],errors = \"coerce\")\n",
    "top_seller = df.groupby(\"Item\")[\"Quantity\"].sum()\n",
    "print(top_seller)\n",
    "top_items = top_seller.sort_values(ascending = False)\n",
    "print(top_items)\n"
   ]
  },
  {
   "cell_type": "code",
   "execution_count": 40,
   "id": "4365886c-6453-4515-85e0-9fd96c82a644",
   "metadata": {},
   "outputs": [
    {
     "name": "stdout",
     "output_type": "stream",
     "text": [
      "                                    count   sum  Discount %\n",
      "Category                                                   \n",
      "Furniture                            1591  1105    0.694532\n",
      "Beverages                            1567  1072    0.684110\n",
      "Patisserie                           1528  1036    0.678010\n",
      "Butchers                             1568  1054    0.672194\n",
      "Electric household essentials        1591  1063    0.668133\n",
      "Food                                 1588  1041    0.655542\n",
      "Milk Products                        1584  1035    0.653409\n",
      "Computers and electric accessories   1558  1012    0.649551\n"
     ]
    }
   ],
   "source": [
    "#Are discounts applied more frequently in certain categories?\n",
    "df[\"Discount Applied\"] = df[\"Discount Applied\"].astype(bool)\n",
    "Discount_stats = df.groupby(\"Category\")[\"Discount Applied\"].agg(['count', 'sum'])\n",
    "Discount_stats[\"Discount %\"] = (Discount_stats['sum'] / Discount_stats['count'])\n",
    "Discount_stats_sorted = Discount_stats.sort_values(by=\"Discount %\", ascending=False)\n",
    "print(Discount_stats_sorted)"
   ]
  },
  {
   "cell_type": "code",
   "execution_count": 41,
   "id": "77997787-6847-4167-88b2-dca46e65bd8c",
   "metadata": {},
   "outputs": [
    {
     "name": "stdout",
     "output_type": "stream",
     "text": [
      "Category\n",
      "Beverages    25\n",
      "Name: Customer ID, dtype: int64\n",
      "Category\n",
      "Beverages                             25\n",
      "Butchers                              25\n",
      "Computers and electric accessories    25\n",
      "Electric household essentials         25\n",
      "Food                                  25\n",
      "Furniture                             25\n",
      "Milk Products                         25\n",
      "Patisserie                            25\n",
      "Name: Customer ID, dtype: int64\n"
     ]
    }
   ],
   "source": [
    "#Which category has the highest number of unique customers buying from it?\n",
    "category_customers = df.groupby(\"Category\")[\"Customer ID\"].nunique()\n",
    "top_category = category_customers.sort_values(ascending=False)\n",
    "\n",
    "print(top_category.head(1))   \n",
    "print(top_category)           \n"
   ]
  },
  {
   "cell_type": "code",
   "execution_count": null,
   "id": "95222a07-0bde-4bc9-81d1-4387705c79a0",
   "metadata": {},
   "outputs": [],
   "source": [
    "#📅 Part 5: Time-based Analysis\n",
    "What is the date range of the dataset?\n",
    "How do transactions trend over time (monthly / yearly)?\n",
    "In which month(s) did the most transactions occur?\n",
    "Which month had the highest total revenue?\n",
    "Is there a difference in average transaction value between 2022, 2023, and 2024?\n",
    "Do discount transactions cluster in certain months/seasons?\n"
   ]
  },
  {
   "cell_type": "code",
   "execution_count": 43,
   "id": "9fd1b184-ded9-42ad-aa25-852bc951ae0f",
   "metadata": {},
   "outputs": [
    {
     "name": "stdout",
     "output_type": "stream",
     "text": [
      "Date range of the dataset:\n",
      "Earliest transaction: 2022-01-01 00:00:00\n",
      "Latest transaction: 2025-01-18 00:00:00\n"
     ]
    }
   ],
   "source": [
    "#What is the date range of the dataset?\n",
    "df[\"Transaction Date\"] = pd.to_datetime(df[\"Transaction Date\"],errors =\"coerce\")\n",
    "min_date = df[\"Transaction Date\"].min()\n",
    "max_date = df[\"Transaction Date\"].max()\n",
    "print(\"Date range of the dataset:\")\n",
    "print(\"Earliest transaction:\", min_date)\n",
    "print(\"Latest transaction:\", max_date)"
   ]
  },
  {
   "cell_type": "code",
   "execution_count": 4,
   "id": "b0b22c76-e67b-400d-8707-fb50d937b0db",
   "metadata": {},
   "outputs": [
    {
     "name": "stdout",
     "output_type": "stream",
     "text": [
      "Year_month\n",
      "2022-01    390\n",
      "2022-02    331\n",
      "2022-03    353\n",
      "2022-04    346\n",
      "2022-05    330\n",
      "Freq: M, Name: Transaction ID, dtype: int64\n"
     ]
    }
   ],
   "source": [
    "#How do transactions trend over time (monthly / yearly)?\n",
    "df[\"Transaction Date\"] = pd.to_datetime(df[\"Transaction Date\"],errors =\"coerce\")\n",
    "df[\"Year_month\"] = df[\"Transaction Date\"].dt.to_period(\"M\")\n",
    "Monthly_trend = df.groupby(\"Year_month\")[\"Transaction ID\"].count()\n",
    "print(Monthly_trend.head())"
   ]
  },
  {
   "cell_type": "code",
   "execution_count": 50,
   "id": "3ff1445d-f9bd-4654-968c-008515807f7d",
   "metadata": {},
   "outputs": [
    {
     "name": "stdout",
     "output_type": "stream",
     "text": [
      "Month\n",
      "January    1361\n",
      "Name: Transaction ID, dtype: int64\n"
     ]
    }
   ],
   "source": [
    "#In which month(s) did the most transactions occur?\n",
    "df[\"Transaction Date\"] = pd.to_datetime(df[\"Transaction Date\"],errors =\"coerce\")\n",
    "df[\"Month\"] = df[\"Transaction Date\"].dt.month_name()\n",
    "Monthly_transactions = df.groupby(\"Month\")[\"Transaction ID\"].count()\n",
    "max_transactions = Monthly_transactions.max()\n",
    "\n",
    "Top_Months = Monthly_transactions[Monthly_transactions == max_transactions]\n",
    "print(Top_Months)\n"
   ]
  },
  {
   "cell_type": "code",
   "execution_count": 51,
   "id": "4c81cb71-e9ab-4eda-be1a-b4add7e05bf1",
   "metadata": {},
   "outputs": [
    {
     "name": "stdout",
     "output_type": "stream",
     "text": [
      "Month(s) with the highest total revenue:\n",
      "YearMonth\n",
      "2022-01    52911.5\n",
      "Freq: M, Name: Total Spent, dtype: float64\n"
     ]
    }
   ],
   "source": [
    "#Which month had the highest total revenue?\n",
    "# Ensure Transaction Date is datetime\n",
    "df[\"Transaction Date\"] = pd.to_datetime(df[\"Transaction Date\"], errors=\"coerce\")\n",
    "df[\"Total Spent\"] = pd.to_numeric(df[\"Total Spent\"], errors=\"coerce\")\n",
    "df['YearMonth'] = df['Transaction Date'].dt.to_period('M')\n",
    "monthly_revenue = df.groupby('YearMonth')[\"Total Spent\"].sum()\n",
    "max_revenue = monthly_revenue.max()\n",
    "top_month = monthly_revenue[monthly_revenue == max_revenue]\n",
    "\n",
    "print(\"Month(s) with the highest total revenue:\")\n",
    "print(top_month)\n"
   ]
  },
  {
   "cell_type": "code",
   "execution_count": null,
   "id": "516e3e2c-e705-4aaf-bf0d-b3725bbc1bff",
   "metadata": {},
   "outputs": [],
   "source": [
    "#Is there a difference in average transaction value between 2022, 2023, and 2024?\n"
   ]
  },
  {
   "cell_type": "code",
   "execution_count": 15,
   "id": "7208830c-351c-4967-b951-0889d7364717",
   "metadata": {},
   "outputs": [
    {
     "name": "stdout",
     "output_type": "stream",
     "text": [
      "Series([], Name: Discount Applied, dtype: object)\n"
     ]
    }
   ],
   "source": [
    "#Do discount transactions cluster in certain months/seasons?\n",
    "df[\"Transaction Date\"] = pd.to_datetime(df[\"Transaction Date\"],errors = \"coerce\")\n",
    "df[\"Month\"] = df[\"Transaction Date\"].dt.month_name()\n",
    "discount_by_month = (\n",
    "    df.groupby(\"Month\")[\"Discount Applied\"]\n",
    "      .mean()   # ensures calendar order\n",
    ")\n",
    "print(discount_by_month)"
   ]
  },
  {
   "cell_type": "code",
   "execution_count": null,
   "id": "cfcb11b9-1709-4c55-962f-4511ac5e8fa9",
   "metadata": {},
   "outputs": [],
   "source": [
    "Part 6: Payment & Discount Insights\n",
    "Which payment method is used most often?\n",
    "Which payment method generates the highest revenue?\n",
    "Does average Total Spent differ between Credit Card and Digital Wallet?\n",
    "What percentage of all transactions had discounts applied?\n",
    "Do transactions with discounts have a higher average Quantity than those without?\n",
    "Do discount transactions generate more total revenue compared to non-discount ones?\n"
   ]
  },
  {
   "cell_type": "code",
   "execution_count": 52,
   "id": "8d5b6e36-cc21-401b-bd69-2963143d2c73",
   "metadata": {},
   "outputs": [
    {
     "name": "stdout",
     "output_type": "stream",
     "text": [
      "Number of transactions per payment method:\n",
      "Payment Method\n",
      "Cash              4310\n",
      "Digital Wallet    4144\n",
      "Credit Card       4121\n",
      "Name: count, dtype: int64\n",
      "\n",
      "Most frequently used payment method: Cash\n"
     ]
    }
   ],
   "source": [
    "#Which payment method is used most often?\n",
    "payment_counts = df[\"Payment Method\"].value_counts()\n",
    "\n",
    "print(\"Number of transactions per payment method:\")\n",
    "print(payment_counts)\n",
    "most_used = payment_counts.idxmax()\n",
    "print(\"\\nMost frequently used payment method:\", most_used)\n"
   ]
  },
  {
   "cell_type": "code",
   "execution_count": 53,
   "id": "cc3368d0-d325-4bd7-b30d-edcd80f6dcaa",
   "metadata": {},
   "outputs": [
    {
     "name": "stdout",
     "output_type": "stream",
     "text": [
      "Payment Method\n",
      "Cash              537710.0\n",
      "Digital Wallet    507279.0\n",
      "Credit Card       507082.0\n",
      "Name: Total Spent, dtype: float64\n",
      "\n",
      "Payment method generating the highest revenue: Cash\n"
     ]
    }
   ],
   "source": [
    "#Which payment method generates the highest revenue?\n",
    "\n",
    "df[\"Total Spent\"] = pd.to_numeric(df[\"Total Spent\"], errors=\"coerce\")\n",
    "revenue_per_payment = df.groupby(\"Payment Method\")[\"Total Spent\"].sum()\n",
    "top_payment_method = revenue_per_payment.sort_values(ascending=False)\n",
    "\n",
    "print(top_payment_method)\n",
    "print(\"\\nPayment method generating the highest revenue:\", top_payment_method.idxmax())\n"
   ]
  },
  {
   "cell_type": "code",
   "execution_count": 54,
   "id": "574cc7af-1f43-4a59-942e-f6fa28619523",
   "metadata": {},
   "outputs": [
    {
     "name": "stdout",
     "output_type": "stream",
     "text": [
      "Average Total Spent by payment method:\n",
      "Payment Method\n",
      "Credit Card       129.127069\n",
      "Digital Wallet    128.718346\n",
      "Name: Total Spent, dtype: float64\n"
     ]
    }
   ],
   "source": [
    "#Does average Total Spent differ between Credit Card and Digital Wallet?\n",
    "# Ensure Total Spent is numeric\n",
    "df[\"Total Spent\"] = pd.to_numeric(df[\"Total Spent\"], errors=\"coerce\")\n",
    "avg_spent_by_payment = df.groupby(\"Payment Method\")[\"Total Spent\"].mean()\n",
    "comparison = avg_spent_by_payment.loc[[\"Credit Card\", \"Digital Wallet\"]]\n",
    "\n",
    "print(\"Average Total Spent by payment method:\")\n",
    "print(comparison)\n",
    "\n"
   ]
  },
  {
   "cell_type": "code",
   "execution_count": 55,
   "id": "a25d8b29-2c24-4069-9f66-436540b24ff5",
   "metadata": {},
   "outputs": [
    {
     "name": "stdout",
     "output_type": "stream",
     "text": [
      "Percentage of transactions with discounts applied: 66.94%\n"
     ]
    }
   ],
   "source": [
    "#What percentage of all transactions had discounts applied?\n",
    "df[\"Discount Applied\"] = df[\"Discount Applied\"].astype(bool)\n",
    "total_transactions = len(df)\n",
    "discount_transactions = df[\"Discount Applied\"].sum()  # True counts as 1\n",
    "\n",
    "# Calculate percentage\n",
    "discount_percentage = (discount_transactions / total_transactions) * 100\n",
    "\n",
    "print(f\"Percentage of transactions with discounts applied: {discount_percentage:.2f}%\")\n"
   ]
  },
  {
   "cell_type": "code",
   "execution_count": 56,
   "id": "37affe54-8b96-4642-b34e-f250b6c4ac68",
   "metadata": {},
   "outputs": [
    {
     "name": "stdout",
     "output_type": "stream",
     "text": [
      "Discount Applied\n",
      "False    5.580979\n",
      "True     5.514300\n",
      "Name: Quantity, dtype: float64\n"
     ]
    }
   ],
   "source": [
    "#Do transactions with discounts have a higher average Quantity than those without?\n",
    "\n",
    "df[\"Discount Applied\"] = df[\"Discount Applied\"].astype(bool)\n",
    "df[\"Quantity\"] = pd.to_numeric(df[\"Quantity\"], errors=\"coerce\")\n",
    "avg_quantity = df.groupby(\"Discount Applied\")[\"Quantity\"].mean()\n",
    "print(avg_quantity)\n"
   ]
  },
  {
   "cell_type": "code",
   "execution_count": 57,
   "id": "36d26376-42b9-4d66-93d1-7aedb426ec99",
   "metadata": {},
   "outputs": [
    {
     "name": "stdout",
     "output_type": "stream",
     "text": [
      "Total revenue by discount status:\n",
      "Discount Applied\n",
      "False     515135.0\n",
      "True     1036936.0\n",
      "Name: Total Spent, dtype: float64\n"
     ]
    }
   ],
   "source": [
    "#Do discount transactions generate more total revenue compared to non-discount ones?\n",
    "df[\"Discount Applied\"] = df[\"Discount Applied\"].astype(bool)\n",
    "df[\"Total Spent\"] = pd.to_numeric(df[\"Total Spent\"], errors=\"coerce\")\n",
    "revenue_by_discount = df.groupby(\"Discount Applied\")[\"Total Spent\"].sum()\n",
    "\n",
    "print(\"Total revenue by discount status:\")\n",
    "print(revenue_by_discount)\n"
   ]
  },
  {
   "cell_type": "code",
   "execution_count": 5,
   "id": "06ed56d5-01b2-4215-830b-af63127f428a",
   "metadata": {},
   "outputs": [],
   "source": [
    "df5=pd.DataFrame({'ID':[1,2,3,4], 'Name':['A','B','C','D'],  'Class':['w','x','y','z']})"
   ]
  },
  {
   "cell_type": "code",
   "execution_count": 6,
   "id": "352c364f-1f5c-42dd-995e-d8425156d4ca",
   "metadata": {},
   "outputs": [
    {
     "data": {
      "text/html": [
       "<div>\n",
       "<style scoped>\n",
       "    .dataframe tbody tr th:only-of-type {\n",
       "        vertical-align: middle;\n",
       "    }\n",
       "\n",
       "    .dataframe tbody tr th {\n",
       "        vertical-align: top;\n",
       "    }\n",
       "\n",
       "    .dataframe thead th {\n",
       "        text-align: right;\n",
       "    }\n",
       "</style>\n",
       "<table border=\"1\" class=\"dataframe\">\n",
       "  <thead>\n",
       "    <tr style=\"text-align: right;\">\n",
       "      <th></th>\n",
       "      <th>ID</th>\n",
       "      <th>Name</th>\n",
       "      <th>Class</th>\n",
       "    </tr>\n",
       "  </thead>\n",
       "  <tbody>\n",
       "    <tr>\n",
       "      <th>0</th>\n",
       "      <td>1</td>\n",
       "      <td>A</td>\n",
       "      <td>w</td>\n",
       "    </tr>\n",
       "    <tr>\n",
       "      <th>1</th>\n",
       "      <td>2</td>\n",
       "      <td>B</td>\n",
       "      <td>x</td>\n",
       "    </tr>\n",
       "    <tr>\n",
       "      <th>2</th>\n",
       "      <td>3</td>\n",
       "      <td>C</td>\n",
       "      <td>y</td>\n",
       "    </tr>\n",
       "    <tr>\n",
       "      <th>3</th>\n",
       "      <td>4</td>\n",
       "      <td>D</td>\n",
       "      <td>z</td>\n",
       "    </tr>\n",
       "  </tbody>\n",
       "</table>\n",
       "</div>"
      ],
      "text/plain": [
       "   ID Name Class\n",
       "0   1    A     w\n",
       "1   2    B     x\n",
       "2   3    C     y\n",
       "3   4    D     z"
      ]
     },
     "execution_count": 6,
     "metadata": {},
     "output_type": "execute_result"
    }
   ],
   "source": [
    "df5"
   ]
  },
  {
   "cell_type": "code",
   "execution_count": 7,
   "id": "0bc215f2-627b-4735-8c0d-14aea0002f83",
   "metadata": {},
   "outputs": [],
   "source": [
    "df6=pd.DataFrame({'ID':[5,6,7,8],  \n",
    "                'Name':['D','E','F','G']  \n",
    "                ,  \n",
    "                'Class':['W','X','Y','Z']})  "
   ]
  },
  {
   "cell_type": "code",
   "execution_count": 8,
   "id": "3314b2a3-b065-42e4-bc97-c61d07d7a880",
   "metadata": {},
   "outputs": [
    {
     "data": {
      "text/html": [
       "<div>\n",
       "<style scoped>\n",
       "    .dataframe tbody tr th:only-of-type {\n",
       "        vertical-align: middle;\n",
       "    }\n",
       "\n",
       "    .dataframe tbody tr th {\n",
       "        vertical-align: top;\n",
       "    }\n",
       "\n",
       "    .dataframe thead th {\n",
       "        text-align: right;\n",
       "    }\n",
       "</style>\n",
       "<table border=\"1\" class=\"dataframe\">\n",
       "  <thead>\n",
       "    <tr style=\"text-align: right;\">\n",
       "      <th></th>\n",
       "      <th>ID</th>\n",
       "      <th>Name</th>\n",
       "      <th>Class</th>\n",
       "    </tr>\n",
       "  </thead>\n",
       "  <tbody>\n",
       "    <tr>\n",
       "      <th>0</th>\n",
       "      <td>5</td>\n",
       "      <td>D</td>\n",
       "      <td>W</td>\n",
       "    </tr>\n",
       "    <tr>\n",
       "      <th>1</th>\n",
       "      <td>6</td>\n",
       "      <td>E</td>\n",
       "      <td>X</td>\n",
       "    </tr>\n",
       "    <tr>\n",
       "      <th>2</th>\n",
       "      <td>7</td>\n",
       "      <td>F</td>\n",
       "      <td>Y</td>\n",
       "    </tr>\n",
       "    <tr>\n",
       "      <th>3</th>\n",
       "      <td>8</td>\n",
       "      <td>G</td>\n",
       "      <td>Z</td>\n",
       "    </tr>\n",
       "  </tbody>\n",
       "</table>\n",
       "</div>"
      ],
      "text/plain": [
       "   ID Name Class\n",
       "0   5    D     W\n",
       "1   6    E     X\n",
       "2   7    F     Y\n",
       "3   8    G     Z"
      ]
     },
     "execution_count": 8,
     "metadata": {},
     "output_type": "execute_result"
    }
   ],
   "source": [
    "df6"
   ]
  },
  {
   "cell_type": "code",
   "execution_count": 9,
   "id": "89422032-30fc-48c0-8c32-d50c68118e21",
   "metadata": {},
   "outputs": [
    {
     "data": {
      "text/html": [
       "<div>\n",
       "<style scoped>\n",
       "    .dataframe tbody tr th:only-of-type {\n",
       "        vertical-align: middle;\n",
       "    }\n",
       "\n",
       "    .dataframe tbody tr th {\n",
       "        vertical-align: top;\n",
       "    }\n",
       "\n",
       "    .dataframe thead th {\n",
       "        text-align: right;\n",
       "    }\n",
       "</style>\n",
       "<table border=\"1\" class=\"dataframe\">\n",
       "  <thead>\n",
       "    <tr style=\"text-align: right;\">\n",
       "      <th></th>\n",
       "      <th>ID</th>\n",
       "      <th>Name</th>\n",
       "      <th>Class</th>\n",
       "    </tr>\n",
       "  </thead>\n",
       "  <tbody>\n",
       "    <tr>\n",
       "      <th>0</th>\n",
       "      <td>1</td>\n",
       "      <td>A</td>\n",
       "      <td>w</td>\n",
       "    </tr>\n",
       "    <tr>\n",
       "      <th>1</th>\n",
       "      <td>2</td>\n",
       "      <td>B</td>\n",
       "      <td>x</td>\n",
       "    </tr>\n",
       "    <tr>\n",
       "      <th>2</th>\n",
       "      <td>3</td>\n",
       "      <td>C</td>\n",
       "      <td>y</td>\n",
       "    </tr>\n",
       "    <tr>\n",
       "      <th>3</th>\n",
       "      <td>4</td>\n",
       "      <td>D</td>\n",
       "      <td>z</td>\n",
       "    </tr>\n",
       "  </tbody>\n",
       "</table>\n",
       "</div>"
      ],
      "text/plain": [
       "   ID Name Class\n",
       "0   1    A     w\n",
       "1   2    B     x\n",
       "2   3    C     y\n",
       "3   4    D     z"
      ]
     },
     "execution_count": 9,
     "metadata": {},
     "output_type": "execute_result"
    }
   ],
   "source": [
    "df5"
   ]
  },
  {
   "cell_type": "code",
   "execution_count": 12,
   "id": "3e8212d4-c36d-4ab5-99db-ad6d842bcfd1",
   "metadata": {},
   "outputs": [
    {
     "data": {
      "text/html": [
       "<div>\n",
       "<style scoped>\n",
       "    .dataframe tbody tr th:only-of-type {\n",
       "        vertical-align: middle;\n",
       "    }\n",
       "\n",
       "    .dataframe tbody tr th {\n",
       "        vertical-align: top;\n",
       "    }\n",
       "\n",
       "    .dataframe thead th {\n",
       "        text-align: right;\n",
       "    }\n",
       "</style>\n",
       "<table border=\"1\" class=\"dataframe\">\n",
       "  <thead>\n",
       "    <tr style=\"text-align: right;\">\n",
       "      <th></th>\n",
       "      <th>ID</th>\n",
       "      <th>Name</th>\n",
       "      <th>Class</th>\n",
       "    </tr>\n",
       "  </thead>\n",
       "  <tbody>\n",
       "    <tr>\n",
       "      <th>0</th>\n",
       "      <td>1</td>\n",
       "      <td>A</td>\n",
       "      <td>w</td>\n",
       "    </tr>\n",
       "    <tr>\n",
       "      <th>1</th>\n",
       "      <td>2</td>\n",
       "      <td>B</td>\n",
       "      <td>x</td>\n",
       "    </tr>\n",
       "    <tr>\n",
       "      <th>2</th>\n",
       "      <td>3</td>\n",
       "      <td>C</td>\n",
       "      <td>y</td>\n",
       "    </tr>\n",
       "    <tr>\n",
       "      <th>3</th>\n",
       "      <td>4</td>\n",
       "      <td>D</td>\n",
       "      <td>z</td>\n",
       "    </tr>\n",
       "    <tr>\n",
       "      <th>4</th>\n",
       "      <td>5</td>\n",
       "      <td>D</td>\n",
       "      <td>W</td>\n",
       "    </tr>\n",
       "    <tr>\n",
       "      <th>5</th>\n",
       "      <td>6</td>\n",
       "      <td>E</td>\n",
       "      <td>X</td>\n",
       "    </tr>\n",
       "    <tr>\n",
       "      <th>6</th>\n",
       "      <td>7</td>\n",
       "      <td>F</td>\n",
       "      <td>Y</td>\n",
       "    </tr>\n",
       "    <tr>\n",
       "      <th>7</th>\n",
       "      <td>8</td>\n",
       "      <td>G</td>\n",
       "      <td>Z</td>\n",
       "    </tr>\n",
       "  </tbody>\n",
       "</table>\n",
       "</div>"
      ],
      "text/plain": [
       "   ID Name Class\n",
       "0   1    A     w\n",
       "1   2    B     x\n",
       "2   3    C     y\n",
       "3   4    D     z\n",
       "4   5    D     W\n",
       "5   6    E     X\n",
       "6   7    F     Y\n",
       "7   8    G     Z"
      ]
     },
     "execution_count": 12,
     "metadata": {},
     "output_type": "execute_result"
    }
   ],
   "source": [
    "pd.concat([df5,df6],ignore_index=True)"
   ]
  },
  {
   "cell_type": "code",
   "execution_count": 14,
   "id": "53f576cd-f21d-468a-a524-37524b85dd3f",
   "metadata": {},
   "outputs": [
    {
     "data": {
      "text/html": [
       "<div>\n",
       "<style scoped>\n",
       "    .dataframe tbody tr th:only-of-type {\n",
       "        vertical-align: middle;\n",
       "    }\n",
       "\n",
       "    .dataframe tbody tr th {\n",
       "        vertical-align: top;\n",
       "    }\n",
       "\n",
       "    .dataframe thead tr th {\n",
       "        text-align: left;\n",
       "    }\n",
       "</style>\n",
       "<table border=\"1\" class=\"dataframe\">\n",
       "  <thead>\n",
       "    <tr>\n",
       "      <th></th>\n",
       "      <th colspan=\"3\" halign=\"left\">First</th>\n",
       "      <th colspan=\"3\" halign=\"left\">Second</th>\n",
       "    </tr>\n",
       "    <tr>\n",
       "      <th></th>\n",
       "      <th>ID</th>\n",
       "      <th>Name</th>\n",
       "      <th>Class</th>\n",
       "      <th>ID</th>\n",
       "      <th>Name</th>\n",
       "      <th>Class</th>\n",
       "    </tr>\n",
       "  </thead>\n",
       "  <tbody>\n",
       "    <tr>\n",
       "      <th>0</th>\n",
       "      <td>1</td>\n",
       "      <td>A</td>\n",
       "      <td>w</td>\n",
       "      <td>5</td>\n",
       "      <td>D</td>\n",
       "      <td>W</td>\n",
       "    </tr>\n",
       "    <tr>\n",
       "      <th>1</th>\n",
       "      <td>2</td>\n",
       "      <td>B</td>\n",
       "      <td>x</td>\n",
       "      <td>6</td>\n",
       "      <td>E</td>\n",
       "      <td>X</td>\n",
       "    </tr>\n",
       "    <tr>\n",
       "      <th>2</th>\n",
       "      <td>3</td>\n",
       "      <td>C</td>\n",
       "      <td>y</td>\n",
       "      <td>7</td>\n",
       "      <td>F</td>\n",
       "      <td>Y</td>\n",
       "    </tr>\n",
       "    <tr>\n",
       "      <th>3</th>\n",
       "      <td>4</td>\n",
       "      <td>D</td>\n",
       "      <td>z</td>\n",
       "      <td>8</td>\n",
       "      <td>G</td>\n",
       "      <td>Z</td>\n",
       "    </tr>\n",
       "  </tbody>\n",
       "</table>\n",
       "</div>"
      ],
      "text/plain": [
       "  First            Second           \n",
       "     ID Name Class     ID Name Class\n",
       "0     1    A     w      5    D     W\n",
       "1     2    B     x      6    E     X\n",
       "2     3    C     y      7    F     Y\n",
       "3     4    D     z      8    G     Z"
      ]
     },
     "execution_count": 14,
     "metadata": {},
     "output_type": "execute_result"
    }
   ],
   "source": [
    "pd.concat([df5,df6],axis=1,keys=[\"First\",\"Second\"])"
   ]
  },
  {
   "cell_type": "code",
   "execution_count": 20,
   "id": "fff4e74e-0d33-4806-9e76-2c454b20907b",
   "metadata": {},
   "outputs": [],
   "source": [
    "df10=pd.DataFrame({ 'A':[1,2,3,4],'B':[11,12,13,14]},index=['X','X1','X2','Y'])"
   ]
  },
  {
   "cell_type": "code",
   "execution_count": null,
   "id": "1675c006-035b-4028-aea7-135c7aa496d0",
   "metadata": {},
   "outputs": [],
   "source": [
    "df10"
   ]
  },
  {
   "cell_type": "code",
   "execution_count": 22,
   "id": "7d1f32ba-010a-4562-a4a2-cb96f4036dc0",
   "metadata": {},
   "outputs": [],
   "source": [
    "df11=pd.DataFrame({ 'C':[5,6],'D':[11,12]},index=['X','X1']) "
   ]
  },
  {
   "cell_type": "code",
   "execution_count": 23,
   "id": "15a374cd-765b-4bf6-bef3-874b5da34bb5",
   "metadata": {},
   "outputs": [
    {
     "data": {
      "text/html": [
       "<div>\n",
       "<style scoped>\n",
       "    .dataframe tbody tr th:only-of-type {\n",
       "        vertical-align: middle;\n",
       "    }\n",
       "\n",
       "    .dataframe tbody tr th {\n",
       "        vertical-align: top;\n",
       "    }\n",
       "\n",
       "    .dataframe thead th {\n",
       "        text-align: right;\n",
       "    }\n",
       "</style>\n",
       "<table border=\"1\" class=\"dataframe\">\n",
       "  <thead>\n",
       "    <tr style=\"text-align: right;\">\n",
       "      <th></th>\n",
       "      <th>C</th>\n",
       "      <th>D</th>\n",
       "    </tr>\n",
       "  </thead>\n",
       "  <tbody>\n",
       "    <tr>\n",
       "      <th>X</th>\n",
       "      <td>5</td>\n",
       "      <td>11</td>\n",
       "    </tr>\n",
       "    <tr>\n",
       "      <th>X1</th>\n",
       "      <td>6</td>\n",
       "      <td>12</td>\n",
       "    </tr>\n",
       "  </tbody>\n",
       "</table>\n",
       "</div>"
      ],
      "text/plain": [
       "    C   D\n",
       "X   5  11\n",
       "X1  6  12"
      ]
     },
     "execution_count": 23,
     "metadata": {},
     "output_type": "execute_result"
    }
   ],
   "source": [
    "df11"
   ]
  },
  {
   "cell_type": "code",
   "execution_count": 24,
   "id": "6ffea15b-f62f-46a0-8718-ecec1f36d86e",
   "metadata": {},
   "outputs": [
    {
     "data": {
      "text/html": [
       "<div>\n",
       "<style scoped>\n",
       "    .dataframe tbody tr th:only-of-type {\n",
       "        vertical-align: middle;\n",
       "    }\n",
       "\n",
       "    .dataframe tbody tr th {\n",
       "        vertical-align: top;\n",
       "    }\n",
       "\n",
       "    .dataframe thead th {\n",
       "        text-align: right;\n",
       "    }\n",
       "</style>\n",
       "<table border=\"1\" class=\"dataframe\">\n",
       "  <thead>\n",
       "    <tr style=\"text-align: right;\">\n",
       "      <th></th>\n",
       "      <th>A</th>\n",
       "      <th>B</th>\n",
       "      <th>C</th>\n",
       "      <th>D</th>\n",
       "    </tr>\n",
       "  </thead>\n",
       "  <tbody>\n",
       "    <tr>\n",
       "      <th>X</th>\n",
       "      <td>1.0</td>\n",
       "      <td>11.0</td>\n",
       "      <td>NaN</td>\n",
       "      <td>NaN</td>\n",
       "    </tr>\n",
       "    <tr>\n",
       "      <th>X1</th>\n",
       "      <td>2.0</td>\n",
       "      <td>12.0</td>\n",
       "      <td>NaN</td>\n",
       "      <td>NaN</td>\n",
       "    </tr>\n",
       "    <tr>\n",
       "      <th>X2</th>\n",
       "      <td>3.0</td>\n",
       "      <td>13.0</td>\n",
       "      <td>NaN</td>\n",
       "      <td>NaN</td>\n",
       "    </tr>\n",
       "    <tr>\n",
       "      <th>Y</th>\n",
       "      <td>4.0</td>\n",
       "      <td>14.0</td>\n",
       "      <td>NaN</td>\n",
       "      <td>NaN</td>\n",
       "    </tr>\n",
       "    <tr>\n",
       "      <th>X</th>\n",
       "      <td>NaN</td>\n",
       "      <td>NaN</td>\n",
       "      <td>5.0</td>\n",
       "      <td>11.0</td>\n",
       "    </tr>\n",
       "    <tr>\n",
       "      <th>X1</th>\n",
       "      <td>NaN</td>\n",
       "      <td>NaN</td>\n",
       "      <td>6.0</td>\n",
       "      <td>12.0</td>\n",
       "    </tr>\n",
       "  </tbody>\n",
       "</table>\n",
       "</div>"
      ],
      "text/plain": [
       "      A     B    C     D\n",
       "X   1.0  11.0  NaN   NaN\n",
       "X1  2.0  12.0  NaN   NaN\n",
       "X2  3.0  13.0  NaN   NaN\n",
       "Y   4.0  14.0  NaN   NaN\n",
       "X   NaN   NaN  5.0  11.0\n",
       "X1  NaN   NaN  6.0  12.0"
      ]
     },
     "execution_count": 24,
     "metadata": {},
     "output_type": "execute_result"
    }
   ],
   "source": [
    "pd.concat([df10,df11])"
   ]
  },
  {
   "cell_type": "code",
   "execution_count": 25,
   "id": "fbd0bb30-f24f-4d1e-afe1-035d77c59356",
   "metadata": {},
   "outputs": [
    {
     "data": {
      "text/html": [
       "<div>\n",
       "<style scoped>\n",
       "    .dataframe tbody tr th:only-of-type {\n",
       "        vertical-align: middle;\n",
       "    }\n",
       "\n",
       "    .dataframe tbody tr th {\n",
       "        vertical-align: top;\n",
       "    }\n",
       "\n",
       "    .dataframe thead th {\n",
       "        text-align: right;\n",
       "    }\n",
       "</style>\n",
       "<table border=\"1\" class=\"dataframe\">\n",
       "  <thead>\n",
       "    <tr style=\"text-align: right;\">\n",
       "      <th></th>\n",
       "      <th>A</th>\n",
       "      <th>B</th>\n",
       "      <th>C</th>\n",
       "      <th>D</th>\n",
       "    </tr>\n",
       "  </thead>\n",
       "  <tbody>\n",
       "    <tr>\n",
       "      <th>X</th>\n",
       "      <td>1</td>\n",
       "      <td>11</td>\n",
       "      <td>5.0</td>\n",
       "      <td>11.0</td>\n",
       "    </tr>\n",
       "    <tr>\n",
       "      <th>X1</th>\n",
       "      <td>2</td>\n",
       "      <td>12</td>\n",
       "      <td>6.0</td>\n",
       "      <td>12.0</td>\n",
       "    </tr>\n",
       "    <tr>\n",
       "      <th>X2</th>\n",
       "      <td>3</td>\n",
       "      <td>13</td>\n",
       "      <td>NaN</td>\n",
       "      <td>NaN</td>\n",
       "    </tr>\n",
       "    <tr>\n",
       "      <th>Y</th>\n",
       "      <td>4</td>\n",
       "      <td>14</td>\n",
       "      <td>NaN</td>\n",
       "      <td>NaN</td>\n",
       "    </tr>\n",
       "  </tbody>\n",
       "</table>\n",
       "</div>"
      ],
      "text/plain": [
       "    A   B    C     D\n",
       "X   1  11  5.0  11.0\n",
       "X1  2  12  6.0  12.0\n",
       "X2  3  13  NaN   NaN\n",
       "Y   4  14  NaN   NaN"
      ]
     },
     "execution_count": 25,
     "metadata": {},
     "output_type": "execute_result"
    }
   ],
   "source": [
    "df10.join(df11)"
   ]
  },
  {
   "cell_type": "code",
   "execution_count": 27,
   "id": "fdbc247a-e7f3-476a-8825-3718a5555115",
   "metadata": {},
   "outputs": [],
   "source": [
    "import numpy as n\n",
    "a=n.array([[1,2],[5,6]]) "
   ]
  },
  {
   "cell_type": "code",
   "execution_count": 28,
   "id": "9d9ff960-0f33-4e50-bc07-fd5c54f7d450",
   "metadata": {},
   "outputs": [
    {
     "data": {
      "text/plain": [
       "array([[1, 2],\n",
       "       [5, 6]])"
      ]
     },
     "execution_count": 28,
     "metadata": {},
     "output_type": "execute_result"
    }
   ],
   "source": [
    "a"
   ]
  },
  {
   "cell_type": "code",
   "execution_count": 32,
   "id": "6516e598-5bb9-4dec-b212-ad26ee4a7a4b",
   "metadata": {},
   "outputs": [],
   "source": [
    "import numpy as np\n",
    "from numpy.linalg import inv\n",
    "an=inv(a)"
   ]
  },
  {
   "cell_type": "code",
   "execution_count": 33,
   "id": "aeae3029-291c-4704-a822-e7be041132f3",
   "metadata": {},
   "outputs": [
    {
     "data": {
      "text/plain": [
       "array([[-1.5 ,  0.5 ],\n",
       "       [ 1.25, -0.25]])"
      ]
     },
     "execution_count": 33,
     "metadata": {},
     "output_type": "execute_result"
    }
   ],
   "source": [
    "an"
   ]
  },
  {
   "cell_type": "code",
   "execution_count": 34,
   "id": "e916ef67-b299-46de-8eb2-8f6d69edf9a9",
   "metadata": {},
   "outputs": [],
   "source": [
    "data = {\n",
    "    'Category': ['Fruit', 'Fruit', 'Veg', 'Veg', 'Fruit'],\n",
    "    'Item': ['Apple', 'Banana', 'Carrot', 'Broccoli', 'Apple'],\n",
    "    'Quantity': [10, 5, 8, 3, 7],\n",
    "    'Price': [2, 1, 3, 4, 2]\n",
    "}"
   ]
  },
  {
   "cell_type": "code",
   "execution_count": 35,
   "id": "1295c28e-dae4-429b-bc5b-b412e6bf2839",
   "metadata": {},
   "outputs": [],
   "source": [
    "df=pd.DataFrame(data)"
   ]
  },
  {
   "cell_type": "code",
   "execution_count": 36,
   "id": "4473aefd-67a6-4c55-822d-62a890752ae3",
   "metadata": {},
   "outputs": [
    {
     "data": {
      "text/html": [
       "<div>\n",
       "<style scoped>\n",
       "    .dataframe tbody tr th:only-of-type {\n",
       "        vertical-align: middle;\n",
       "    }\n",
       "\n",
       "    .dataframe tbody tr th {\n",
       "        vertical-align: top;\n",
       "    }\n",
       "\n",
       "    .dataframe thead th {\n",
       "        text-align: right;\n",
       "    }\n",
       "</style>\n",
       "<table border=\"1\" class=\"dataframe\">\n",
       "  <thead>\n",
       "    <tr style=\"text-align: right;\">\n",
       "      <th></th>\n",
       "      <th>Category</th>\n",
       "      <th>Item</th>\n",
       "      <th>Quantity</th>\n",
       "      <th>Price</th>\n",
       "    </tr>\n",
       "  </thead>\n",
       "  <tbody>\n",
       "    <tr>\n",
       "      <th>0</th>\n",
       "      <td>Fruit</td>\n",
       "      <td>Apple</td>\n",
       "      <td>10</td>\n",
       "      <td>2</td>\n",
       "    </tr>\n",
       "    <tr>\n",
       "      <th>1</th>\n",
       "      <td>Fruit</td>\n",
       "      <td>Banana</td>\n",
       "      <td>5</td>\n",
       "      <td>1</td>\n",
       "    </tr>\n",
       "    <tr>\n",
       "      <th>2</th>\n",
       "      <td>Veg</td>\n",
       "      <td>Carrot</td>\n",
       "      <td>8</td>\n",
       "      <td>3</td>\n",
       "    </tr>\n",
       "    <tr>\n",
       "      <th>3</th>\n",
       "      <td>Veg</td>\n",
       "      <td>Broccoli</td>\n",
       "      <td>3</td>\n",
       "      <td>4</td>\n",
       "    </tr>\n",
       "    <tr>\n",
       "      <th>4</th>\n",
       "      <td>Fruit</td>\n",
       "      <td>Apple</td>\n",
       "      <td>7</td>\n",
       "      <td>2</td>\n",
       "    </tr>\n",
       "  </tbody>\n",
       "</table>\n",
       "</div>"
      ],
      "text/plain": [
       "  Category      Item  Quantity  Price\n",
       "0    Fruit     Apple        10      2\n",
       "1    Fruit    Banana         5      1\n",
       "2      Veg    Carrot         8      3\n",
       "3      Veg  Broccoli         3      4\n",
       "4    Fruit     Apple         7      2"
      ]
     },
     "execution_count": 36,
     "metadata": {},
     "output_type": "execute_result"
    }
   ],
   "source": [
    "df"
   ]
  },
  {
   "cell_type": "code",
   "execution_count": 43,
   "id": "32b61d16-8539-42f9-8249-4f2815b2c8bf",
   "metadata": {},
   "outputs": [],
   "source": [
    "pivot = pd.pivot_table(\n",
    "    df,\n",
    "    values=[\"Quantity\"],\n",
    "    columns=\"Item\",\n",
    "    index=\"Category\"\n",
    ")"
   ]
  },
  {
   "cell_type": "code",
   "execution_count": 44,
   "id": "351cc8a0-f16e-4a11-a5a3-613659bcbfba",
   "metadata": {},
   "outputs": [
    {
     "data": {
      "text/html": [
       "<div>\n",
       "<style scoped>\n",
       "    .dataframe tbody tr th:only-of-type {\n",
       "        vertical-align: middle;\n",
       "    }\n",
       "\n",
       "    .dataframe tbody tr th {\n",
       "        vertical-align: top;\n",
       "    }\n",
       "\n",
       "    .dataframe thead tr th {\n",
       "        text-align: left;\n",
       "    }\n",
       "\n",
       "    .dataframe thead tr:last-of-type th {\n",
       "        text-align: right;\n",
       "    }\n",
       "</style>\n",
       "<table border=\"1\" class=\"dataframe\">\n",
       "  <thead>\n",
       "    <tr>\n",
       "      <th></th>\n",
       "      <th colspan=\"4\" halign=\"left\">Quantity</th>\n",
       "    </tr>\n",
       "    <tr>\n",
       "      <th>Item</th>\n",
       "      <th>Apple</th>\n",
       "      <th>Banana</th>\n",
       "      <th>Broccoli</th>\n",
       "      <th>Carrot</th>\n",
       "    </tr>\n",
       "    <tr>\n",
       "      <th>Category</th>\n",
       "      <th></th>\n",
       "      <th></th>\n",
       "      <th></th>\n",
       "      <th></th>\n",
       "    </tr>\n",
       "  </thead>\n",
       "  <tbody>\n",
       "    <tr>\n",
       "      <th>Fruit</th>\n",
       "      <td>8.5</td>\n",
       "      <td>5.0</td>\n",
       "      <td>NaN</td>\n",
       "      <td>NaN</td>\n",
       "    </tr>\n",
       "    <tr>\n",
       "      <th>Veg</th>\n",
       "      <td>NaN</td>\n",
       "      <td>NaN</td>\n",
       "      <td>3.0</td>\n",
       "      <td>8.0</td>\n",
       "    </tr>\n",
       "  </tbody>\n",
       "</table>\n",
       "</div>"
      ],
      "text/plain": [
       "         Quantity                       \n",
       "Item        Apple Banana Broccoli Carrot\n",
       "Category                                \n",
       "Fruit         8.5    5.0      NaN    NaN\n",
       "Veg           NaN    NaN      3.0    8.0"
      ]
     },
     "execution_count": 44,
     "metadata": {},
     "output_type": "execute_result"
    }
   ],
   "source": [
    "pivot"
   ]
  },
  {
   "cell_type": "code",
   "execution_count": 45,
   "id": "2d315485-2860-4d27-9dc5-1ffb4fcecc21",
   "metadata": {},
   "outputs": [
    {
     "data": {
      "text/html": [
       "<div>\n",
       "<style scoped>\n",
       "    .dataframe tbody tr th:only-of-type {\n",
       "        vertical-align: middle;\n",
       "    }\n",
       "\n",
       "    .dataframe tbody tr th {\n",
       "        vertical-align: top;\n",
       "    }\n",
       "\n",
       "    .dataframe thead th {\n",
       "        text-align: right;\n",
       "    }\n",
       "</style>\n",
       "<table border=\"1\" class=\"dataframe\">\n",
       "  <thead>\n",
       "    <tr style=\"text-align: right;\">\n",
       "      <th></th>\n",
       "      <th>variable</th>\n",
       "      <th>value</th>\n",
       "    </tr>\n",
       "  </thead>\n",
       "  <tbody>\n",
       "    <tr>\n",
       "      <th>0</th>\n",
       "      <td>Category</td>\n",
       "      <td>Fruit</td>\n",
       "    </tr>\n",
       "    <tr>\n",
       "      <th>1</th>\n",
       "      <td>Category</td>\n",
       "      <td>Fruit</td>\n",
       "    </tr>\n",
       "    <tr>\n",
       "      <th>2</th>\n",
       "      <td>Category</td>\n",
       "      <td>Veg</td>\n",
       "    </tr>\n",
       "    <tr>\n",
       "      <th>3</th>\n",
       "      <td>Category</td>\n",
       "      <td>Veg</td>\n",
       "    </tr>\n",
       "    <tr>\n",
       "      <th>4</th>\n",
       "      <td>Category</td>\n",
       "      <td>Fruit</td>\n",
       "    </tr>\n",
       "    <tr>\n",
       "      <th>5</th>\n",
       "      <td>Item</td>\n",
       "      <td>Apple</td>\n",
       "    </tr>\n",
       "    <tr>\n",
       "      <th>6</th>\n",
       "      <td>Item</td>\n",
       "      <td>Banana</td>\n",
       "    </tr>\n",
       "    <tr>\n",
       "      <th>7</th>\n",
       "      <td>Item</td>\n",
       "      <td>Carrot</td>\n",
       "    </tr>\n",
       "    <tr>\n",
       "      <th>8</th>\n",
       "      <td>Item</td>\n",
       "      <td>Broccoli</td>\n",
       "    </tr>\n",
       "    <tr>\n",
       "      <th>9</th>\n",
       "      <td>Item</td>\n",
       "      <td>Apple</td>\n",
       "    </tr>\n",
       "    <tr>\n",
       "      <th>10</th>\n",
       "      <td>Quantity</td>\n",
       "      <td>10</td>\n",
       "    </tr>\n",
       "    <tr>\n",
       "      <th>11</th>\n",
       "      <td>Quantity</td>\n",
       "      <td>5</td>\n",
       "    </tr>\n",
       "    <tr>\n",
       "      <th>12</th>\n",
       "      <td>Quantity</td>\n",
       "      <td>8</td>\n",
       "    </tr>\n",
       "    <tr>\n",
       "      <th>13</th>\n",
       "      <td>Quantity</td>\n",
       "      <td>3</td>\n",
       "    </tr>\n",
       "    <tr>\n",
       "      <th>14</th>\n",
       "      <td>Quantity</td>\n",
       "      <td>7</td>\n",
       "    </tr>\n",
       "    <tr>\n",
       "      <th>15</th>\n",
       "      <td>Price</td>\n",
       "      <td>2</td>\n",
       "    </tr>\n",
       "    <tr>\n",
       "      <th>16</th>\n",
       "      <td>Price</td>\n",
       "      <td>1</td>\n",
       "    </tr>\n",
       "    <tr>\n",
       "      <th>17</th>\n",
       "      <td>Price</td>\n",
       "      <td>3</td>\n",
       "    </tr>\n",
       "    <tr>\n",
       "      <th>18</th>\n",
       "      <td>Price</td>\n",
       "      <td>4</td>\n",
       "    </tr>\n",
       "    <tr>\n",
       "      <th>19</th>\n",
       "      <td>Price</td>\n",
       "      <td>2</td>\n",
       "    </tr>\n",
       "  </tbody>\n",
       "</table>\n",
       "</div>"
      ],
      "text/plain": [
       "    variable     value\n",
       "0   Category     Fruit\n",
       "1   Category     Fruit\n",
       "2   Category       Veg\n",
       "3   Category       Veg\n",
       "4   Category     Fruit\n",
       "5       Item     Apple\n",
       "6       Item    Banana\n",
       "7       Item    Carrot\n",
       "8       Item  Broccoli\n",
       "9       Item     Apple\n",
       "10  Quantity        10\n",
       "11  Quantity         5\n",
       "12  Quantity         8\n",
       "13  Quantity         3\n",
       "14  Quantity         7\n",
       "15     Price         2\n",
       "16     Price         1\n",
       "17     Price         3\n",
       "18     Price         4\n",
       "19     Price         2"
      ]
     },
     "execution_count": 45,
     "metadata": {},
     "output_type": "execute_result"
    }
   ],
   "source": [
    "pd.melt(df)"
   ]
  },
  {
   "cell_type": "code",
   "execution_count": 46,
   "id": "2375a07c-a9af-46a3-bd4a-ff1826714dd0",
   "metadata": {},
   "outputs": [],
   "source": [
    "data = {\n",
    "    'Category': ['Fruit', 'Fruit', 'Veg', 'Veg', 'Fruit'],\n",
    "    'Item': ['Apple', 'Banana', 'Carrot', 'Broccoli', 'Apple'],\n",
    "    'Quantity': [10, 5, 8, 3, 7],\n",
    "    'Price': [2, 1, 3, 4, 2]\n",
    "}"
   ]
  },
  {
   "cell_type": "code",
   "execution_count": 47,
   "id": "7b688d54-b5d2-4d7a-afed-4752cc14e5bf",
   "metadata": {},
   "outputs": [],
   "source": [
    "df=pd.DataFrame(data)"
   ]
  },
  {
   "cell_type": "code",
   "execution_count": 48,
   "id": "6164ac3b-3302-48f7-b777-28a9a39707c5",
   "metadata": {},
   "outputs": [
    {
     "data": {
      "text/html": [
       "<div>\n",
       "<style scoped>\n",
       "    .dataframe tbody tr th:only-of-type {\n",
       "        vertical-align: middle;\n",
       "    }\n",
       "\n",
       "    .dataframe tbody tr th {\n",
       "        vertical-align: top;\n",
       "    }\n",
       "\n",
       "    .dataframe thead th {\n",
       "        text-align: right;\n",
       "    }\n",
       "</style>\n",
       "<table border=\"1\" class=\"dataframe\">\n",
       "  <thead>\n",
       "    <tr style=\"text-align: right;\">\n",
       "      <th></th>\n",
       "      <th>Category</th>\n",
       "      <th>Item</th>\n",
       "      <th>Quantity</th>\n",
       "      <th>Price</th>\n",
       "    </tr>\n",
       "  </thead>\n",
       "  <tbody>\n",
       "    <tr>\n",
       "      <th>0</th>\n",
       "      <td>Fruit</td>\n",
       "      <td>Apple</td>\n",
       "      <td>10</td>\n",
       "      <td>2</td>\n",
       "    </tr>\n",
       "    <tr>\n",
       "      <th>1</th>\n",
       "      <td>Fruit</td>\n",
       "      <td>Banana</td>\n",
       "      <td>5</td>\n",
       "      <td>1</td>\n",
       "    </tr>\n",
       "    <tr>\n",
       "      <th>2</th>\n",
       "      <td>Veg</td>\n",
       "      <td>Carrot</td>\n",
       "      <td>8</td>\n",
       "      <td>3</td>\n",
       "    </tr>\n",
       "    <tr>\n",
       "      <th>3</th>\n",
       "      <td>Veg</td>\n",
       "      <td>Broccoli</td>\n",
       "      <td>3</td>\n",
       "      <td>4</td>\n",
       "    </tr>\n",
       "    <tr>\n",
       "      <th>4</th>\n",
       "      <td>Fruit</td>\n",
       "      <td>Apple</td>\n",
       "      <td>7</td>\n",
       "      <td>2</td>\n",
       "    </tr>\n",
       "  </tbody>\n",
       "</table>\n",
       "</div>"
      ],
      "text/plain": [
       "  Category      Item  Quantity  Price\n",
       "0    Fruit     Apple        10      2\n",
       "1    Fruit    Banana         5      1\n",
       "2      Veg    Carrot         8      3\n",
       "3      Veg  Broccoli         3      4\n",
       "4    Fruit     Apple         7      2"
      ]
     },
     "execution_count": 48,
     "metadata": {},
     "output_type": "execute_result"
    }
   ],
   "source": [
    "df"
   ]
  },
  {
   "cell_type": "code",
   "execution_count": 57,
   "id": "805f2baf-f557-40d2-9983-02a057604ce5",
   "metadata": {},
   "outputs": [
    {
     "data": {
      "text/html": [
       "<div>\n",
       "<style scoped>\n",
       "    .dataframe tbody tr th:only-of-type {\n",
       "        vertical-align: middle;\n",
       "    }\n",
       "\n",
       "    .dataframe tbody tr th {\n",
       "        vertical-align: top;\n",
       "    }\n",
       "\n",
       "    .dataframe thead th {\n",
       "        text-align: right;\n",
       "    }\n",
       "</style>\n",
       "<table border=\"1\" class=\"dataframe\">\n",
       "  <thead>\n",
       "    <tr style=\"text-align: right;\">\n",
       "      <th></th>\n",
       "      <th>Item</th>\n",
       "      <th>variable</th>\n",
       "      <th>value</th>\n",
       "    </tr>\n",
       "  </thead>\n",
       "  <tbody>\n",
       "    <tr>\n",
       "      <th>0</th>\n",
       "      <td>Apple</td>\n",
       "      <td>Category</td>\n",
       "      <td>Fruit</td>\n",
       "    </tr>\n",
       "    <tr>\n",
       "      <th>1</th>\n",
       "      <td>Banana</td>\n",
       "      <td>Category</td>\n",
       "      <td>Fruit</td>\n",
       "    </tr>\n",
       "    <tr>\n",
       "      <th>2</th>\n",
       "      <td>Carrot</td>\n",
       "      <td>Category</td>\n",
       "      <td>Veg</td>\n",
       "    </tr>\n",
       "    <tr>\n",
       "      <th>3</th>\n",
       "      <td>Broccoli</td>\n",
       "      <td>Category</td>\n",
       "      <td>Veg</td>\n",
       "    </tr>\n",
       "    <tr>\n",
       "      <th>4</th>\n",
       "      <td>Apple</td>\n",
       "      <td>Category</td>\n",
       "      <td>Fruit</td>\n",
       "    </tr>\n",
       "  </tbody>\n",
       "</table>\n",
       "</div>"
      ],
      "text/plain": [
       "       Item  variable  value\n",
       "0     Apple  Category  Fruit\n",
       "1    Banana  Category  Fruit\n",
       "2    Carrot  Category    Veg\n",
       "3  Broccoli  Category    Veg\n",
       "4     Apple  Category  Fruit"
      ]
     },
     "execution_count": 57,
     "metadata": {},
     "output_type": "execute_result"
    }
   ],
   "source": [
    "pd.melt(df,id_vars=\"Item\", value_vars=\"Category\")"
   ]
  },
  {
   "cell_type": "code",
   "execution_count": 58,
   "id": "b5082535-3008-451a-a007-d3ef8e8cb084",
   "metadata": {},
   "outputs": [
    {
     "data": {
      "text/html": [
       "<div>\n",
       "<style scoped>\n",
       "    .dataframe tbody tr th:only-of-type {\n",
       "        vertical-align: middle;\n",
       "    }\n",
       "\n",
       "    .dataframe tbody tr th {\n",
       "        vertical-align: top;\n",
       "    }\n",
       "\n",
       "    .dataframe thead th {\n",
       "        text-align: right;\n",
       "    }\n",
       "</style>\n",
       "<table border=\"1\" class=\"dataframe\">\n",
       "  <thead>\n",
       "    <tr style=\"text-align: right;\">\n",
       "      <th></th>\n",
       "      <th>Category</th>\n",
       "      <th>Item</th>\n",
       "      <th>Quantity</th>\n",
       "      <th>Price</th>\n",
       "    </tr>\n",
       "  </thead>\n",
       "  <tbody>\n",
       "    <tr>\n",
       "      <th>0</th>\n",
       "      <td>Fruit</td>\n",
       "      <td>Apple</td>\n",
       "      <td>10</td>\n",
       "      <td>2</td>\n",
       "    </tr>\n",
       "    <tr>\n",
       "      <th>1</th>\n",
       "      <td>Fruit</td>\n",
       "      <td>Banana</td>\n",
       "      <td>5</td>\n",
       "      <td>1</td>\n",
       "    </tr>\n",
       "    <tr>\n",
       "      <th>2</th>\n",
       "      <td>Veg</td>\n",
       "      <td>Carrot</td>\n",
       "      <td>8</td>\n",
       "      <td>3</td>\n",
       "    </tr>\n",
       "    <tr>\n",
       "      <th>3</th>\n",
       "      <td>Veg</td>\n",
       "      <td>Broccoli</td>\n",
       "      <td>3</td>\n",
       "      <td>4</td>\n",
       "    </tr>\n",
       "    <tr>\n",
       "      <th>4</th>\n",
       "      <td>Fruit</td>\n",
       "      <td>Apple</td>\n",
       "      <td>7</td>\n",
       "      <td>2</td>\n",
       "    </tr>\n",
       "  </tbody>\n",
       "</table>\n",
       "</div>"
      ],
      "text/plain": [
       "  Category      Item  Quantity  Price\n",
       "0    Fruit     Apple        10      2\n",
       "1    Fruit    Banana         5      1\n",
       "2      Veg    Carrot         8      3\n",
       "3      Veg  Broccoli         3      4\n",
       "4    Fruit     Apple         7      2"
      ]
     },
     "execution_count": 58,
     "metadata": {},
     "output_type": "execute_result"
    }
   ],
   "source": [
    "df"
   ]
  },
  {
   "cell_type": "code",
   "execution_count": 59,
   "id": "dfd3bb2f-17b5-4c8d-b076-8b0870e9ed78",
   "metadata": {},
   "outputs": [
    {
     "data": {
      "text/html": [
       "<div>\n",
       "<style scoped>\n",
       "    .dataframe tbody tr th:only-of-type {\n",
       "        vertical-align: middle;\n",
       "    }\n",
       "\n",
       "    .dataframe tbody tr th {\n",
       "        vertical-align: top;\n",
       "    }\n",
       "\n",
       "    .dataframe thead th {\n",
       "        text-align: right;\n",
       "    }\n",
       "</style>\n",
       "<table border=\"1\" class=\"dataframe\">\n",
       "  <thead>\n",
       "    <tr style=\"text-align: right;\">\n",
       "      <th></th>\n",
       "      <th>Quantity</th>\n",
       "      <th>Price</th>\n",
       "    </tr>\n",
       "  </thead>\n",
       "  <tbody>\n",
       "    <tr>\n",
       "      <th>count</th>\n",
       "      <td>5.000000</td>\n",
       "      <td>5.000000</td>\n",
       "    </tr>\n",
       "    <tr>\n",
       "      <th>mean</th>\n",
       "      <td>6.600000</td>\n",
       "      <td>2.400000</td>\n",
       "    </tr>\n",
       "    <tr>\n",
       "      <th>std</th>\n",
       "      <td>2.701851</td>\n",
       "      <td>1.140175</td>\n",
       "    </tr>\n",
       "    <tr>\n",
       "      <th>min</th>\n",
       "      <td>3.000000</td>\n",
       "      <td>1.000000</td>\n",
       "    </tr>\n",
       "    <tr>\n",
       "      <th>25%</th>\n",
       "      <td>5.000000</td>\n",
       "      <td>2.000000</td>\n",
       "    </tr>\n",
       "    <tr>\n",
       "      <th>50%</th>\n",
       "      <td>7.000000</td>\n",
       "      <td>2.000000</td>\n",
       "    </tr>\n",
       "    <tr>\n",
       "      <th>75%</th>\n",
       "      <td>8.000000</td>\n",
       "      <td>3.000000</td>\n",
       "    </tr>\n",
       "    <tr>\n",
       "      <th>max</th>\n",
       "      <td>10.000000</td>\n",
       "      <td>4.000000</td>\n",
       "    </tr>\n",
       "  </tbody>\n",
       "</table>\n",
       "</div>"
      ],
      "text/plain": [
       "        Quantity     Price\n",
       "count   5.000000  5.000000\n",
       "mean    6.600000  2.400000\n",
       "std     2.701851  1.140175\n",
       "min     3.000000  1.000000\n",
       "25%     5.000000  2.000000\n",
       "50%     7.000000  2.000000\n",
       "75%     8.000000  3.000000\n",
       "max    10.000000  4.000000"
      ]
     },
     "execution_count": 59,
     "metadata": {},
     "output_type": "execute_result"
    }
   ],
   "source": [
    "df.describe()"
   ]
  },
  {
   "cell_type": "code",
   "execution_count": null,
   "id": "b9406fc3-f49a-4caf-b79e-5a0d0b3a24d4",
   "metadata": {},
   "outputs": [],
   "source": []
  }
 ],
 "metadata": {
  "kernelspec": {
   "display_name": "Python [conda env:base] *",
   "language": "python",
   "name": "conda-base-py"
  },
  "language_info": {
   "codemirror_mode": {
    "name": "ipython",
    "version": 3
   },
   "file_extension": ".py",
   "mimetype": "text/x-python",
   "name": "python",
   "nbconvert_exporter": "python",
   "pygments_lexer": "ipython3",
   "version": "3.13.5"
  }
 },
 "nbformat": 4,
 "nbformat_minor": 5
}
