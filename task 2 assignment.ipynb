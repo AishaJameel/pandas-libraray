{
 "cells": [
  {
   "cell_type": "code",
   "execution_count": 1,
   "id": "10e6d8c3-aaef-4a81-8508-4762da7c5ed0",
   "metadata": {},
   "outputs": [
    {
     "name": "stdin",
     "output_type": "stream",
     "text": [
      "Enter the basic sallery :  15000\n"
     ]
    },
    {
     "name": "stdout",
     "output_type": "stream",
     "text": [
      "Gross Salary: 32250.0\n"
     ]
    }
   ],
   "source": [
    "# assignment 2\n",
    "#task 1:\n",
    "# Write a program to input basic salary of an employee and calculate its Gross salary according to following:\n",
    "#• Basic Salary <= 10000 : HRA = 20%, DA = 80%\n",
    "#• Basic Salary <= 20000 : HRA = 25%, DA = 90%\n",
    "#• Basic Salary > 20000 : HRA = 30%, DA = 95%\n",
    "basic_sallery = float(input(\"Enter the basic sallery : \"))\n",
    "if basic_sallery <= 10000:\n",
    "    HRA = basic_sallery * 0.20\n",
    "    DA =  basic_sallery * 0.80\n",
    "    \n",
    "elif basic_sallery <= 20000:\n",
    "    HRA = basic_sallery * 0.25\n",
    "    DA =  basic_sallery * 0.90\n",
    "else:\n",
    "    HRA = basic_sallery * 0.30\n",
    "    DA =  basic_sallery * 0.95\n",
    "gross = basic_sallery + HRA + DA\n",
    "print(\"Gross Salary:\", gross)"
   ]
  },
  {
   "cell_type": "code",
   "execution_count": 4,
   "id": "405d8999-ec45-408a-b421-cd98883eb31e",
   "metadata": {},
   "outputs": [
    {
     "name": "stdin",
     "output_type": "stream",
     "text": [
      "Enter the quantity of items :  102\n",
      "Enter the price per item :  320\n"
     ]
    },
    {
     "name": "stdout",
     "output_type": "stream",
     "text": [
      "total expenses 29376.0\n"
     ]
    }
   ],
   "source": [
    "# task 2\n",
    "#2. while purchasing certain items, a discount of 10% is offered if the quantity purchased is more than 100. If quantity and price per item are input through the keyboard, write a program to calculate the total expenses\n",
    "items_quantity = int(input(\"Enter the quantity of items : \"))\n",
    "price_per_item = float(input(\"Enter the price per item : \"))\n",
    "total = items_quantity * price_per_item\n",
    "if items_quantity > 100 :\n",
    "    total = total - (total * 0.10)\n",
    "print(\"total expenses\",total )"
   ]
  },
  {
   "cell_type": "code",
   "execution_count": 8,
   "id": "76d90937-f256-45c1-a49d-a9113e508afe",
   "metadata": {},
   "outputs": [
    {
     "name": "stdin",
     "output_type": "stream",
     "text": [
      " Enter the current year :  5\n",
      "Enter the year employed :  6\n"
     ]
    },
    {
     "name": "stdout",
     "output_type": "stream",
     "text": [
      "no bonus\n"
     ]
    }
   ],
   "source": [
    "#task3 \n",
    "#\"The current year and the year in which the employee joined the organization are entered\n",
    "#through the keyboard. If the number of years for which the employee has served the\n",
    "#organization is greater than 3 then a bonus of Rs. 2500/- is given to the employee. If the years\n",
    "#of service are not greater than 3, then the program should do nothing\"\n",
    "current_year = int(input(\" Enter the current year : \"))\n",
    "year_employed = int (input(\"Enter the year employed : \"))\n",
    "year_served= current_year - year_employed\n",
    "if year_served > 3 :\n",
    "    print(\"bonus = 2500 RS\",bonus)\n",
    "else:\n",
    "    print(\"no bonus\")\n",
    "    \n"
   ]
  },
  {
   "cell_type": "code",
   "execution_count": 18,
   "id": "26c58303-f9cc-426f-9179-de7a4e5c7399",
   "metadata": {},
   "outputs": [
    {
     "name": "stdin",
     "output_type": "stream",
     "text": [
      " Enter the basic sallery :  600\n"
     ]
    },
    {
     "name": "stdout",
     "output_type": "stream",
     "text": [
      "gross_salary in RS.  1200.0\n"
     ]
    }
   ],
   "source": [
    "# task 4\n",
    "#If his basic salary is less than Rs. 1500, then HRA = 10% of basic salary and DA = 90% of\n",
    "#basic salary. If his salary is either equal to or above Rs. 1500, then HRA = Rs. 500 and DA =\n",
    "#98% of basic salary. If the employee's salary is input through the keyboard write a program to\n",
    "#find his gross salary\n",
    "basic_salary = float(input(\" Enter the basic sallery : \"))\n",
    "if basic_salary < 1500 :\n",
    "    HRA = basic_salary * 0.10\n",
    "    DA = basic_salary * 0.90\n",
    "else:\n",
    "    HRA = 500\n",
    "    DA = basic_salary * 0.98\n",
    "gross_salary = basic_salary + HRA + DA\n",
    "\n",
    "print(\"gross_salary in RS. \" , gross_salary)"
   ]
  },
  {
   "cell_type": "code",
   "execution_count": null,
   "id": "59454311-1473-4259-8e02-c98f93a1f36c",
   "metadata": {},
   "outputs": [],
   "source": [
    "#task5\n",
    "#The marks obtained by a student in 5 different subjects are input through the keyboard. The\n",
    "#student gets a division as per the following rules: Write a program to calculate the division\n",
    "#obtained by the student\n",
    "#• Percentage above or equal to 60 - First division\n",
    "#• Percentage between 50 and 59 - Second division\n",
    "#• Percentage between 40 and 49 - Third division\n",
    "#• Percentage less than 40 – Fail\n"
   ]
  }
 ],
 "metadata": {
  "kernelspec": {
   "display_name": "Python [conda env:base] *",
   "language": "python",
   "name": "conda-base-py"
  },
  "language_info": {
   "codemirror_mode": {
    "name": "ipython",
    "version": 3
   },
   "file_extension": ".py",
   "mimetype": "text/x-python",
   "name": "python",
   "nbconvert_exporter": "python",
   "pygments_lexer": "ipython3",
   "version": "3.13.5"
  }
 },
 "nbformat": 4,
 "nbformat_minor": 5
}
