{
 "cells": [
  {
   "cell_type": "code",
   "execution_count": 1,
   "id": "f2695b23-9b3f-4ce0-838e-fb8b78d769c2",
   "metadata": {},
   "outputs": [
    {
     "name": "stdout",
     "output_type": "stream",
     "text": [
      "[ 0  1  2  3  4  5  6  7  8  9 10 11 12 13 14 15 16 17 18 19]\n"
     ]
    }
   ],
   "source": [
    "import numpy as np\n",
    "marks = np.arange(20)\n",
    "print(marks)\n",
    "\n"
   ]
  },
  {
   "cell_type": "code",
   "execution_count": 2,
   "id": "c0b87c19-2962-4bf7-9a16-3bbf6f0f619c",
   "metadata": {},
   "outputs": [
    {
     "name": "stdout",
     "output_type": "stream",
     "text": [
      "[0. 0. 0. 0. 0. 0.]\n",
      "[1. 1. 1. 1. 1. 1. 1.]\n"
     ]
    }
   ],
   "source": [
    "import numpy as np\n",
    "zero = np.zeros(6)  #when need zero\n",
    "print(zero)\n",
    "one = np.ones(7)\n",
    "print(one)"
   ]
  },
  {
   "cell_type": "code",
   "execution_count": 5,
   "id": "6aeb9fb6-ccce-4ec6-95f2-dd7f8703d2b6",
   "metadata": {},
   "outputs": [
    {
     "name": "stdout",
     "output_type": "stream",
     "text": [
      "30.714285714285715\n",
      "30.0\n",
      "11.157499537009505\n"
     ]
    }
   ],
   "source": [
    "import numpy as np\n",
    "arr = [20,15,25,30,35,40,50]\n",
    "mean = np.mean(arr)\n",
    "median=np.median(arr)\n",
    "standard_deviation = np.std(arr)\n",
    "print(mean)\n",
    "print(median)\n",
    "print(standard_deviation)"
   ]
  },
  {
   "cell_type": "code",
   "execution_count": 8,
   "id": "f3639864-882b-4cc1-8d7a-0cf6107e1781",
   "metadata": {},
   "outputs": [
    {
     "name": "stdout",
     "output_type": "stream",
     "text": [
      "[0 2 4]\n"
     ]
    }
   ],
   "source": [
    "import numpy as np\n",
    "a = np.arange(0,5,2)\n",
    "print(a)"
   ]
  },
  {
   "cell_type": "code",
   "execution_count": 9,
   "id": "8f5672ae-65a7-4c63-89b0-7fdea7a25b94",
   "metadata": {},
   "outputs": [
    {
     "name": "stdout",
     "output_type": "stream",
     "text": [
      "2.1.3\n"
     ]
    }
   ],
   "source": [
    "print(np.__version__)"
   ]
  },
  {
   "cell_type": "code",
   "execution_count": 10,
   "id": "9722ef11-d0e3-449b-acd3-2c7600da2dd6",
   "metadata": {},
   "outputs": [
    {
     "name": "stdout",
     "output_type": "stream",
     "text": [
      "[0 0 0 0 0 0]\n"
     ]
    }
   ],
   "source": [
    "#to get ans in integer\n",
    "import numpy as np\n",
    "zero = np.zeros(6,dtype= \"int\")\n",
    "print (zero)\n"
   ]
  },
  {
   "cell_type": "code",
   "execution_count": 11,
   "id": "53fecc0d-34f6-42ad-99c6-ae2e71da36e3",
   "metadata": {},
   "outputs": [
    {
     "name": "stdout",
     "output_type": "stream",
     "text": [
      "[[0. 0. 0. 0. 0.]\n",
      " [0. 0. 0. 0. 0.]\n",
      " [0. 0. 0. 0. 0.]\n",
      " [0. 0. 0. 0. 0.]]\n"
     ]
    }
   ],
   "source": [
    "#to get in matrix form(rows,coulmns)\n",
    "zar = np.zeros((4,5))\n",
    "print(zar)"
   ]
  },
  {
   "cell_type": "code",
   "execution_count": 13,
   "id": "ad4affeb-40d4-4fa0-9369-c468ee5e1083",
   "metadata": {},
   "outputs": [
    {
     "name": "stdout",
     "output_type": "stream",
     "text": [
      "[1, 23, 45, 67, 78]\n"
     ]
    }
   ],
   "source": [
    "#covering list to array \n",
    "\n",
    "A= [1,23,45,67,78]\n",
    "Aa= np.array(1)\n",
    "print(l)"
   ]
  },
  {
   "cell_type": "code",
   "execution_count": 2,
   "id": "061b69a8-c4f0-43bf-a638-9b51ddc6b740",
   "metadata": {},
   "outputs": [
    {
     "name": "stdout",
     "output_type": "stream",
     "text": [
      "[[0 0 0 0 0]\n",
      " [0 0 0 0 0]\n",
      " [0 0 0 0 0]\n",
      " [0 0 0 0 0]]\n"
     ]
    }
   ],
   "source": [
    "import numpy as np\n",
    "zar = np.zeros((4,5),dtype = \"int\")\n",
    "print(zar)"
   ]
  },
  {
   "cell_type": "code",
   "execution_count": null,
   "id": "39fe3181-5f70-4105-8d24-795392301f10",
   "metadata": {},
   "outputs": [],
   "source": [
    "1. Array Creation\n",
    "\n",
    "np.array() – create array from list/tuple\n",
    "\n",
    "np.zeros(shape) – array of zeros\n",
    "\n",
    "np.ones(shape) – array of ones\n",
    "\n",
    "np.full(shape, value) – fill with a given value\n",
    "\n",
    "np.arange(start, stop, step) – like Python range\n",
    "\n",
    "np.linspace(start, stop, num) – evenly spaced numbers\n",
    "\n",
    "np.eye(n) – identity matrix\n",
    "\n",
    "np.random.randint(low, high, size) – random integers\n",
    "\n",
    "np.random.rand(size) – random floats [0,1)\n",
    "\n",
    "np.random.randn(size) – random numbers from normal distribution"
   ]
  },
  {
   "cell_type": "code",
   "execution_count": 5,
   "id": "0d09bb15-d826-4ad8-9b74-a752e169d239",
   "metadata": {},
   "outputs": [
    {
     "name": "stdout",
     "output_type": "stream",
     "text": [
      "[2 5]\n"
     ]
    }
   ],
   "source": [
    "  #array creation\n",
    "import numpy as np\n",
    "arr = np.arange(2,6,3) #np.arange(start,stop,step)\n",
    "\n",
    "print (arr)"
   ]
  },
  {
   "cell_type": "code",
   "execution_count": 6,
   "id": "67f0a908-2ab5-4ab4-8ffa-42d9b15b946a",
   "metadata": {},
   "outputs": [
    {
     "name": "stdout",
     "output_type": "stream",
     "text": [
      "[5 6]\n"
     ]
    }
   ],
   "source": [
    "import numpy as np\n",
    "arr = np.arange(5,7)\n",
    "print(arr)"
   ]
  },
  {
   "cell_type": "code",
   "execution_count": 7,
   "id": "c4ed2448-0cae-4c09-a248-5423b304cc09",
   "metadata": {},
   "outputs": [
    {
     "name": "stdout",
     "output_type": "stream",
     "text": [
      "[7 7 7 7]\n"
     ]
    }
   ],
   "source": [
    "import numpy as np\n",
    "arr = np.full(4,7)    #np.full(shape,value) This function creates an array of a given shape (rows × cols) and fills it with a specific value.\n",
    "print(arr)"
   ]
  },
  {
   "cell_type": "code",
   "execution_count": 9,
   "id": "c766eba5-3636-46f0-acff-12e068ef165b",
   "metadata": {},
   "outputs": [
    {
     "name": "stdout",
     "output_type": "stream",
     "text": [
      "[ 2.  6. 10.]\n"
     ]
    }
   ],
   "source": [
    "#line space returns evenly spaced numbers between start and end\n",
    "#arr=np.linspace(start, stop, num)\n",
    "import numpy as np\n",
    "arr = np.linspace(2,10,3)\n",
    "print(arr)"
   ]
  },
  {
   "cell_type": "code",
   "execution_count": 16,
   "id": "a4b772c7-ec56-463b-8470-15972afdd3ea",
   "metadata": {},
   "outputs": [
    {
     "name": "stdout",
     "output_type": "stream",
     "text": [
      "[8 6 4 7 4]\n"
     ]
    }
   ],
   "source": [
    "import numpy as np\n",
    "arr= np.random.randint(2,10,5) #1D array of 5 numbers\n",
    "print(arr)"
   ]
  },
  {
   "cell_type": "code",
   "execution_count": 14,
   "id": "51d8b324-9753-4803-b654-4d3ffb2dfe30",
   "metadata": {},
   "outputs": [
    {
     "name": "stdout",
     "output_type": "stream",
     "text": [
      "[[ 9 11 40  9]\n",
      " [42 11 42  5]\n",
      " [43 25  8 22]]\n"
     ]
    }
   ],
   "source": [
    "#2Darray of randon numbers\n",
    "import numpy as np\n",
    "matrix =np.random.randint(5,50,size=(3,4)) #size=(rows,columns)\n",
    "print(matrix)"
   ]
  },
  {
   "cell_type": "code",
   "execution_count": 15,
   "id": "0f3d61cd-b47c-49ef-891e-2d5b11af5008",
   "metadata": {},
   "outputs": [
    {
     "name": "stdout",
     "output_type": "stream",
     "text": [
      "[4 5 6 2 4 3 2 1 4 1]\n"
     ]
    }
   ],
   "source": [
    "#dice simulation\n",
    "import numpy as np\n",
    "dice = np.random.randint(1,7,10)\n",
    "print(dice)"
   ]
  },
  {
   "cell_type": "code",
   "execution_count": 17,
   "id": "a84a37d2-65db-48b4-8425-022f6719280a",
   "metadata": {},
   "outputs": [
    {
     "name": "stdout",
     "output_type": "stream",
     "text": [
      "[[1. 0. 0. 0.]\n",
      " [0. 1. 0. 0.]\n",
      " [0. 0. 1. 0.]\n",
      " [0. 0. 0. 1.]]\n"
     ]
    }
   ],
   "source": [
    "#identity matrix \n",
    "import numpy as np\n",
    "arr = np.eye(4) #(4 by 4 identity matrix)\n",
    "print(arr)"
   ]
  },
  {
   "cell_type": "code",
   "execution_count": 18,
   "id": "385beeda-dc22-4d73-a83d-e7f464c05065",
   "metadata": {},
   "outputs": [
    {
     "name": "stdout",
     "output_type": "stream",
     "text": [
      "[0.8493206  0.75301852 0.39301296 0.70361477 0.95196121]\n"
     ]
    }
   ],
   "source": [
    "import numpy as np\n",
    "arr = np.random.rand(5) #random floats [0,1) jtna size utni values\n",
    "print(arr)"
   ]
  },
  {
   "cell_type": "code",
   "execution_count": 19,
   "id": "4a8268db-54e7-41bd-9d53-6f1ae71a7500",
   "metadata": {},
   "outputs": [
    {
     "name": "stdout",
     "output_type": "stream",
     "text": [
      "[ 1.16262574 -0.12603318  0.16349549 -0.27838685 -1.52455617 -0.51727393]\n"
     ]
    }
   ],
   "source": [
    "import numpy as np\n",
    "arr = np.random.randn(6)\n",
    "print(arr)"
   ]
  },
  {
   "cell_type": "code",
   "execution_count": null,
   "id": "14b1368e-b1f1-4d15-8f22-a9f83e76f4e3",
   "metadata": {},
   "outputs": [],
   "source": [
    "Key Difference from rand and randint\n",
    "np.random.rand() → uniform distribution [0,1)\n",
    "\n",
    "np.random.randint() → random integers in range\n",
    "\n",
    "np.random.randn() → normal distribution (bell curve), mean=0, std=1"
   ]
  },
  {
   "cell_type": "code",
   "execution_count": null,
   "id": "b9c32a18-8675-421f-873a-85bf599108dd",
   "metadata": {},
   "outputs": [],
   "source": [
    "2. Array Inspection\n",
    "arr.shape – dimensions (rows, cols)\n",
    "\n",
    "arr.ndim – number of dimensions\n",
    "\n",
    "arr.size – total elements\n",
    "\n",
    "arr.dtype – data type\n",
    "\n",
    "arr.itemsize – size of one element in bytes"
   ]
  },
  {
   "cell_type": "code",
   "execution_count": 1,
   "id": "323c3bb4-7e1b-4913-a81b-9e28efc97ede",
   "metadata": {},
   "outputs": [
    {
     "name": "stdout",
     "output_type": "stream",
     "text": [
      "[[2 3 4]\n",
      " [5 6 7]]\n"
     ]
    }
   ],
   "source": [
    "import numpy as np\n",
    "matrix = np.array([[2,3,4],[5,6,7]])\n",
    "print(matrix)\n",
    "\n",
    "\n"
   ]
  },
  {
   "cell_type": "code",
   "execution_count": 4,
   "id": "0715fc31-2515-4568-99b7-997c86ad359d",
   "metadata": {},
   "outputs": [
    {
     "name": "stdout",
     "output_type": "stream",
     "text": [
      "(2, 3)\n"
     ]
    }
   ],
   "source": [
    "import numpy as np\n",
    "Mat= np.shape([[1,2,3,],[3,4,5]])\n",
    "print(Mat)"
   ]
  },
  {
   "cell_type": "code",
   "execution_count": 6,
   "id": "c896fa85-55cb-489f-b24c-e6792237666f",
   "metadata": {},
   "outputs": [
    {
     "name": "stdout",
     "output_type": "stream",
     "text": [
      "3\n"
     ]
    }
   ],
   "source": [
    "import numpy as np\n",
    "mat = np.ndim([[[1,2,3],[3,4,5],[5,6,7]]])\n",
    "print(mat)"
   ]
  },
  {
   "cell_type": "code",
   "execution_count": 9,
   "id": "e459e90c-d6bb-4f7b-833a-b0c32fe4c35e",
   "metadata": {},
   "outputs": [
    {
     "name": "stdout",
     "output_type": "stream",
     "text": [
      "9\n"
     ]
    }
   ],
   "source": [
    "import numpy as np\n",
    "mat = np.size([[[1,2,3],[3,4,5],[5,6,7]]])\n",
    "print(mat)"
   ]
  },
  {
   "cell_type": "code",
   "execution_count": null,
   "id": "df5e86ae-e6fb-46e1-af01-7c6a94341db7",
   "metadata": {},
   "outputs": [],
   "source": [
    "3. Indexing & Slicing\n",
    "\n",
    "arr[2], arr[1:4], arr[:, 0] – slicing like lists\n",
    "\n",
    "arr.flatten() – convert 2D to 1D\n",
    "\n",
    "arr.reshape(rows, cols) – reshape array\n",
    "\n",
    "arr.T – transpose matrix"
   ]
  },
  {
   "cell_type": "code",
   "execution_count": 13,
   "id": "ef9bc8b2-073f-44d3-9b2c-b33e751e9e77",
   "metadata": {},
   "outputs": [
    {
     "name": "stdout",
     "output_type": "stream",
     "text": [
      "[[10, 20, 30, 40], [50, 60, 70, 80], [90, 100, 110, 120]]\n"
     ]
    }
   ],
   "source": [
    "import numpy as np\n",
    "mat = ([\n",
    "    [10, 20, 30, 40],\n",
    "    [50, 60, 70, 80],\n",
    "    [90, 100, 110, 120]\n",
    "])\n",
    "\n",
    "print(mat)"
   ]
  },
  {
   "cell_type": "code",
   "execution_count": 16,
   "id": "85e4ff1e-4e00-4cf2-a5bd-df2fe8aef52a",
   "metadata": {},
   "outputs": [
    {
     "name": "stdout",
     "output_type": "stream",
     "text": [
      "original array:\n",
      " [[ 10  20  30  40]\n",
      " [ 50  60  70  80]\n",
      " [ 90 100 110 120]]\n"
     ]
    }
   ],
   "source": [
    "import numpy as np\n",
    "mat = ([\n",
    "    [10, 20, 30, 40],\n",
    "    [50, 60, 70, 80],\n",
    "    [90, 100, 110, 120]\n",
    "])\n",
    "mat = np.array([\n",
    "    [10, 20, 30, 40],\n",
    "    [50, 60, 70, 80],\n",
    "    [90, 100, 110, 120]\n",
    "])\n",
    "print(\"original array:\\n\",mat)"
   ]
  },
  {
   "cell_type": "code",
   "execution_count": 15,
   "id": "1f355f61-3ac8-40f9-b560-bf88743de76c",
   "metadata": {},
   "outputs": [
    {
     "name": "stdout",
     "output_type": "stream",
     "text": [
      "120\n",
      "80\n",
      "[10 50 90]\n",
      "[ 20  60 100]\n",
      "[50 60 70 80]\n"
     ]
    }
   ],
   "source": [
    "#slicing\n",
    "import numpy as np\n",
    "mat = ([\n",
    "    [10, 20, 30, 40],\n",
    "    [50, 60, 70, 80],\n",
    "    [90, 100, 110, 120]\n",
    "])\n",
    "mat3d = np.array([\n",
    "    [10, 20, 30, 40],\n",
    "    [50, 60, 70, 80],\n",
    "    [90, 100, 110, 120]\n",
    "])\n",
    "print(mat3d[2,3])\n",
    "print(mat3d[1,3])\n",
    "print(mat3d[:,0]) #frst col\n",
    "\n",
    "print(mat3d[:,1]) #2nd col\n",
    "print(mat3d[1,:]) #Now, mat3d[1, :]1 → choose layer 1 (the 2nd layer).: → take all rows from that layer."
   ]
  },
  {
   "cell_type": "code",
   "execution_count": 2,
   "id": "3415414c-cd0f-41e0-8524-d701739245aa",
   "metadata": {},
   "outputs": [
    {
     "name": "stdout",
     "output_type": "stream",
     "text": [
      "[ 10  20  30  40  50  60  70  80  90 100 110 120]\n"
     ]
    }
   ],
   "source": [
    "#flatten\n",
    "\n",
    "mat = ([\n",
    "    [10, 20, 30, 40],\n",
    "    [50, 60, 70, 80],\n",
    "    [90, 100, 110, 120]\n",
    "])\n",
    "mat = np.array([\n",
    "    [10, 20, 30, 40],\n",
    "    [50, 60, 70, 80],\n",
    "    [90, 100, 110, 120]\n",
    "])\n",
    "flat = mat.flatten()\n",
    "print(flat)"
   ]
  },
  {
   "cell_type": "code",
   "execution_count": 27,
   "id": "ff3b90a4-947a-4474-bb34-3425d7defea3",
   "metadata": {},
   "outputs": [
    {
     "name": "stdout",
     "output_type": "stream",
     "text": [
      "[[ 10  20  30]\n",
      " [ 40  50  60]\n",
      " [ 70  80  90]\n",
      " [100 110 120]]\n"
     ]
    }
   ],
   "source": [
    "#reshape\n",
    "import numpy as np\n",
    "mat = ([\n",
    "    [10, 20, 30, 40],\n",
    "    [50, 60, 70, 80],\n",
    "    [90, 100, 110, 120]   #3*4=12\n",
    "])\n",
    "mat = np.array([\n",
    "    [10, 20, 30, 40],\n",
    "    [50, 60, 70, 80],\n",
    "    [90, 100, 110, 120]\n",
    "])\n",
    "reshaped = mat.reshape(4,3) # it can be reshaped only if total elts before and after reshape is same 4*3=12\n",
    "print(reshaped)\n"
   ]
  },
  {
   "cell_type": "code",
   "execution_count": 29,
   "id": "91e419ed-3697-4f43-9993-9793418e08f5",
   "metadata": {},
   "outputs": [
    {
     "name": "stdout",
     "output_type": "stream",
     "text": [
      "[[ 10  50  90]\n",
      " [ 20  60 100]\n",
      " [ 30  70 110]\n",
      " [ 40  80 120]]\n"
     ]
    }
   ],
   "source": [
    "import numpy as np\n",
    "mat = ([\n",
    "    [10, 20, 30, 40],\n",
    "    [50, 60, 70, 80],\n",
    "    [90, 100, 110, 120]   \n",
    "])\n",
    "mat = np.array([\n",
    "    [10, 20, 30, 40],\n",
    "    [50, 60, 70, 80],\n",
    "    [90, 100, 110, 120]   \n",
    "])\n",
    "\n",
    "transposed = mat.T\n",
    "print(transposed)"
   ]
  },
  {
   "cell_type": "code",
   "execution_count": null,
   "id": "7eacfadd-3609-4007-bce7-184620a658d6",
   "metadata": {},
   "outputs": [],
   "source": [
    "🔹 4. Mathematical Operations\n",
    "\n",
    "np.add(arr1, arr2) / arr1 + arr2\n",
    "\n",
    "np.subtract(arr1, arr2) / arr1 - arr2\n",
    "\n",
    "np.multiply(arr1, arr2) / arr1 * arr2\n",
    "\n",
    "np.divide(arr1, arr2) / arr1 / arr2\n",
    "\n",
    "np.power(arr, 2) / arr**2\n",
    "\n",
    "np.sqrt(arr) – square root\n",
    "\n",
    "np.exp(arr) – exponent\n",
    "\n",
    "np.log(arr) – natural log\n",
    "\n",
    "np.abs(arr) – absolute values"
   ]
  },
  {
   "cell_type": "code",
   "execution_count": 30,
   "id": "344897f7-b885-4057-9faf-3928cf9305aa",
   "metadata": {},
   "outputs": [
    {
     "name": "stdout",
     "output_type": "stream",
     "text": [
      "[4 6 8]\n",
      "[-2 -2 -2]\n",
      "[ 3  8 15]\n",
      "[0.33333333 0.5        0.6       ]\n"
     ]
    }
   ],
   "source": [
    "import numpy as np\n",
    "arr1 = ([1,2,3])\n",
    "arr2 = ([3,4,5])\n",
    "sum = np.add(arr1,arr2)\n",
    "diff = np.subtract(arr1,arr2)\n",
    "mul = np.multiply(arr1,arr2)\n",
    "div = np.divide(arr1,arr2)\n",
    "print(sum)\n",
    "print(diff)\n",
    "print(mul)\n",
    "print(div)\n",
    "\n"
   ]
  },
  {
   "cell_type": "code",
   "execution_count": 34,
   "id": "fd8122ea-cf5c-4d08-835e-77b07a8f2f0e",
   "metadata": {},
   "outputs": [
    {
     "name": "stdout",
     "output_type": "stream",
     "text": [
      "[1 4 9]\n",
      "[2. 3. 4.]\n"
     ]
    }
   ],
   "source": [
    "import numpy as np\n",
    "arr1 = ([1,2,3])\n",
    "power = np.power(arr1,2)\n",
    "sqroot = np.sqrt([4,9,16])\n",
    "print(power)\n",
    "print(sqroot)"
   ]
  },
  {
   "cell_type": "code",
   "execution_count": 39,
   "id": "99e6134f-21ba-4f30-a14c-620438db383c",
   "metadata": {},
   "outputs": [
    {
     "name": "stdout",
     "output_type": "stream",
     "text": [
      "[5.45981500e+01 8.10308393e+03 8.88611052e+06]\n",
      "[2 3 4]\n"
     ]
    }
   ],
   "source": [
    "import numpy as np\n",
    "arr = np.array([4,9,16])\n",
    "result = np.sqrt(arr)\n",
    "result_int = result.astype(int)\n",
    "arr = np.exp(arr)\n",
    "print(arr)\n",
    "print(result_int)"
   ]
  },
  {
   "cell_type": "code",
   "execution_count": 40,
   "id": "71b752b5-00e8-4500-8ff0-309e4550447c",
   "metadata": {},
   "outputs": [
    {
     "name": "stdout",
     "output_type": "stream",
     "text": [
      "[1 2 3 4 5]\n"
     ]
    }
   ],
   "source": [
    "import numpy as np\n",
    "arr = np.array([-1,2,-3,-4,-5])\n",
    "arr = np.abs(arr)\n",
    "print(arr)"
   ]
  },
  {
   "cell_type": "code",
   "execution_count": null,
   "id": "99f9b9d8-1bb0-4789-a860-2396e22fa148",
   "metadata": {},
   "outputs": [],
   "source": [
    "🔹 5. Statistical Functions\n",
    "\n",
    "np.min(arr) – minimum\n",
    "\n",
    "np.max(arr) – maximum\n",
    "\n",
    "np.mean(arr) – mean\n",
    "\n",
    "np.median(arr) – median\n",
    "\n",
    "np.std(arr) – standard deviation\n",
    "\n",
    "np.var(arr) – variance\n",
    "\n",
    "np.percentile(arr, q) – percentile\n",
    "\n",
    "np.sum(arr) – sum of elements\n",
    "\n",
    "np.cumsum(arr) – cumulative sum\n"
   ]
  },
  {
   "cell_type": "code",
   "execution_count": null,
   "id": "891ed550-0f20-4369-a7db-6b28116740a2",
   "metadata": {},
   "outputs": [],
   "source": []
  },
  {
   "cell_type": "code",
   "execution_count": 41,
   "id": "ccb63458-d5d2-4de4-bb28-d169aba28c66",
   "metadata": {},
   "outputs": [
    {
     "name": "stdout",
     "output_type": "stream",
     "text": [
      "2\n",
      "7\n",
      "4.5\n",
      "4.5\n",
      "1.707825127659933\n"
     ]
    }
   ],
   "source": [
    "import numpy as np\n",
    "arr = [2,3,4,5,6,7]\n",
    "arr = np.array([2,3,4,5,6,7])\n",
    "arr_m1 = np.min(arr)\n",
    "arr_m2 = np.max(arr)\n",
    "arr_m3 = np.mean(arr)\n",
    "arr_m4 = np.median(arr)\n",
    "arr_m5 = np.std(arr)\n",
    "print(arr_m1)\n",
    "print(arr_m2)\n",
    "print(arr_m3)\n",
    "print(arr_m4)\n",
    "print(arr_m5)\n",
    "\n"
   ]
  },
  {
   "cell_type": "code",
   "execution_count": 42,
   "id": "c1515fd8-d1fa-449a-9fd9-94fbd3b692f8",
   "metadata": {},
   "outputs": [
    {
     "name": "stdout",
     "output_type": "stream",
     "text": [
      "2.9166666666666665\n",
      "27\n",
      "[ 2  5  9 14 20 27]\n"
     ]
    }
   ],
   "source": [
    "import numpy as np\n",
    "a2 = [2,3,4,5,6,7]\n",
    "a2 = np.array([2,3,4,5,6,7])\n",
    "a3 = np.var(a2)\n",
    "a4 = np.sum(a2)\n",
    "a5 = np.cumsum(a2)\n",
    "print(a3)\n",
    "print(a4)\n",
    "print(a5)\n"
   ]
  },
  {
   "cell_type": "code",
   "execution_count": null,
   "id": "088338ac-5883-46e1-9fe7-22ee98f938fb",
   "metadata": {},
   "outputs": [],
   "source": [
    "🔹 6. Conditional & Boolean\n",
    "\n",
    "np.where(condition, x, y) – conditional selection\n",
    "\n",
    "np.any(arr > value) – check if any element matches\n",
    "\n",
    "np.all(arr > value) – check if all match\n",
    "\n",
    "np.unique(arr) – unique elements\n",
    "\n",
    "np.in1d(arr1, arr2) – check membership"
   ]
  },
  {
   "cell_type": "code",
   "execution_count": 5,
   "id": "8345746c-f72b-4841-957c-835fdb4a5e13",
   "metadata": {},
   "outputs": [
    {
     "name": "stdout",
     "output_type": "stream",
     "text": [
      "['no' 'no' 'yes' 'yes' 'yes' 'yes']\n"
     ]
    }
   ],
   "source": [
    "arr = [20,35,40,45,50,60]\n",
    "result = np.where( arr>35 ,\"yes\",\"no\")\n",
    "print(result)"
   ]
  },
  {
   "cell_type": "code",
   "execution_count": null,
   "id": "55127b7c-7472-4581-929d-299a8a8f14bd",
   "metadata": {},
   "outputs": [],
   "source": [
    "🔹 Common NumPy String Methods (np.char)\n",
    "\n",
    "Here are the most useful ones:\n",
    "\n",
    "np.char.add() → Concatenate strings\n",
    "\n",
    "np.char.multiply() → Repeat strings\n",
    "\n",
    "np.char.lower() → Convert to lowercase\n",
    "\n",
    "np.char.upper() → Convert to uppercase\n",
    "\n",
    "np.char.title() → Capitalize each word\n",
    "\n",
    "np.char.capitalize() → Capitalize first letter\n",
    "\n",
    "np.char.strip() → Remove leading/trailing spaces (or characters)\n",
    "\n",
    "np.char.split() → Split string into list\n",
    "\n",
    "np.char.join() → Join characters with a separator\n",
    "\n",
    "np.char.replace() → Replace substrings\n",
    "\n",
    "np.char.equal() → Element-wise string comparison\n",
    "\n",
    "np.char.count() → Count occurrences of substring\n",
    "\n",
    "np.char.find() → Find position of substring"
   ]
  },
  {
   "cell_type": "code",
   "execution_count": 16,
   "id": "6452b238-29bf-4ccf-9093-2f60a5b6dc16",
   "metadata": {},
   "outputs": [
    {
     "name": "stdout",
     "output_type": "stream",
     "text": [
      "[1 2 3 3 4 5 6 7 8]\n"
     ]
    }
   ],
   "source": [
    "arr = [[[1,2,3],[3,4,5],[6,7,8]]]\n",
    "arr = np.array([[[1,2,3],[3,4,5],[6,7,8]]])\n",
    "fla = arr.flatten()\n",
    "print(fla)"
   ]
  },
  {
   "cell_type": "code",
   "execution_count": 22,
   "id": "20429496-3d59-4b5f-bcde-d0c3984a814c",
   "metadata": {},
   "outputs": [
    {
     "name": "stdout",
     "output_type": "stream",
     "text": [
      "[[ 2  4  5]\n",
      " [ 6  7  4]\n",
      " [ 5  6  7]\n",
      " [ 9  7  8]\n",
      " [ 9 10 11]]\n"
     ]
    }
   ],
   "source": [
    "arr = np.array([[2,4,5,6,7],\n",
    "                [4,5,6,7,9],\n",
    "                [7,8,9,10,11]])\n",
    "re = arr.reshape(5,3)\n",
    "print(re)"
   ]
  },
  {
   "cell_type": "code",
   "execution_count": 24,
   "id": "21033df1-78fd-40e3-a9cc-ad7393eda83e",
   "metadata": {},
   "outputs": [
    {
     "name": "stdout",
     "output_type": "stream",
     "text": [
      "[[[ 2  4  5  6  7]]\n",
      "\n",
      " [[ 4  5  6  7  9]]\n",
      "\n",
      " [[ 7  8  9 10 11]]]\n"
     ]
    }
   ],
   "source": [
    "arr = np.array([[2,4,5,6,7],\n",
    "                [4,5,6,7,9],\n",
    "                [7,8,9,10,11]])\n",
    "re = arr.reshape(3,1,5) # (no  of matrices required,rows,columns)\n",
    "print(re)"
   ]
  },
  {
   "cell_type": "raw",
   "id": "b58cd403-7e00-4251-a742-7ddb279d9584",
   "metadata": {},
   "source": [
    "arr = np.array([2,3,4,5,6,7,8,9,10,22,34,56,56,,67])\n",
    "ar1 = arr.reshape(7,2,1)\n",
    "print(ar1)"
   ]
  },
  {
   "cell_type": "code",
   "execution_count": 4,
   "id": "4dd0fbd3-e240-4c50-b01f-ca7a8fcc0cc1",
   "metadata": {},
   "outputs": [
    {
     "name": "stdout",
     "output_type": "stream",
     "text": [
      "[[[ 2]\n",
      "  [ 3]]\n",
      "\n",
      " [[ 4]\n",
      "  [ 5]]\n",
      "\n",
      " [[ 6]\n",
      "  [ 7]]\n",
      "\n",
      " [[ 8]\n",
      "  [ 9]]\n",
      "\n",
      " [[10]\n",
      "  [22]]\n",
      "\n",
      " [[34]\n",
      "  [56]]\n",
      "\n",
      " [[56]\n",
      "  [67]]]\n"
     ]
    }
   ],
   "source": [
    "import numpy as np\n",
    "arr = np.array([2,3,4,5,6,7,8,9,10,22,34,56,56,67])\n",
    "ar1 = arr.reshape(7,2,1)\n",
    "print(ar1)"
   ]
  },
  {
   "cell_type": "code",
   "execution_count": 8,
   "id": "3bb18713-85c8-42a9-9389-1ac79fc4942a",
   "metadata": {},
   "outputs": [
    {
     "name": "stdout",
     "output_type": "stream",
     "text": [
      "[[[2 3]\n",
      "  [4 5]]\n",
      "\n",
      " [[3 4]\n",
      "  [5 6]]\n",
      "\n",
      " [[4 5]\n",
      "  [6 7]]]\n"
     ]
    }
   ],
   "source": [
    "import numpy as np\n",
    "arr = np.array([[2,3,4,5],[3,4,5,6],[4,5,6,7]])\n",
    "fla = arr.reshape(3,2,2)\n",
    "print(fla)"
   ]
  },
  {
   "cell_type": "code",
   "execution_count": 3,
   "id": "75a7ced7-039e-449f-b3d6-14226873126d",
   "metadata": {},
   "outputs": [
    {
     "name": "stdout",
     "output_type": "stream",
     "text": [
      "['Numpy!!' 'is!!' 'The!!' 'Library!!' 'of!!' 'Python!!']\n",
      "['Numpy' 'is' 'The' 'Library' 'of' 'Python']\n"
     ]
    }
   ],
   "source": [
    "arr = [\"Numpy\", \"is\" , \"The\" , \"Library\" , \"of\" , \"Python\"]\n",
    "arr = np.array([\"Numpy\", \"is\" , \"The\" , \"Library\" , \"of\" , \"Python\"])\n",
    "arr1 = np.char.add(arr , \"\")\n",
    "a1 = np.char.add(arr , \"!!\")\n",
    "print(a1)\n",
    "print(arr1)"
   ]
  },
  {
   "cell_type": "code",
   "execution_count": 7,
   "id": "be80934a-d514-4de4-a780-7644eb891edd",
   "metadata": {},
   "outputs": [
    {
     "name": "stdout",
     "output_type": "stream",
     "text": [
      "['NUMPY' 'IS' 'THE' 'LIBRARY' 'OF' 'PYTHON']\n",
      "['numpy' 'is' 'the' 'library' 'of' 'python']\n"
     ]
    }
   ],
   "source": [
    "arr = [\"Numpy\", \"is\" , \"The\" , \"Library\" , \"of\" , \"Python\"]\n",
    "arr = np.array([\"Numpy\", \"is\" , \"The\" , \"Library\" , \"of\" , \"Python\"])\n",
    "arr1 = np.char.lower(arr)\n",
    "print(np.char.upper(arr))\n",
    "print(arr1)"
   ]
  },
  {
   "cell_type": "code",
   "execution_count": 2,
   "id": "b35f6672-03ea-40f8-ada1-4cdf6cd73450",
   "metadata": {},
   "outputs": [
    {
     "name": "stdout",
     "output_type": "stream",
     "text": [
      "hahahahahaha\n"
     ]
    }
   ],
   "source": [
    "import numpy as np\n",
    "print(np.char.multiply(\"ha\" ,6 ))"
   ]
  },
  {
   "cell_type": "code",
   "execution_count": 9,
   "id": "d3fc99e4-0e68-4788-8897-8babc57f733e",
   "metadata": {},
   "outputs": [
    {
     "name": "stdout",
     "output_type": "stream",
     "text": [
      "Welcome To The World Of Technology\n"
     ]
    }
   ],
   "source": [
    "print(np.char.title(\"welcome to the world of technology\"))"
   ]
  },
  {
   "cell_type": "code",
   "execution_count": 13,
   "id": "f36fc2c4-cfbe-4b09-9428-c3d18e7b8c44",
   "metadata": {},
   "outputs": [
    {
     "name": "stdout",
     "output_type": "stream",
     "text": [
      "Welcome to the world of technology\n",
      "[list(['Numpy']) list(['is']) list(['The']) list(['Library']) list(['of'])\n",
      " list(['Python'])]\n"
     ]
    }
   ],
   "source": [
    "arr = [\"Numpy\", \"is\" , \"The\" , \"Library\" , \"of\" , \"Python\"]\n",
    "print(np.char.capitalize(\"Welcome To The World Of Technology\"))\n",
    "print (np.char.split(arr , sep =\",\"))"
   ]
  },
  {
   "cell_type": "code",
   "execution_count": 16,
   "id": "c22662d6-c19d-48bd-822f-d2b31576e902",
   "metadata": {},
   "outputs": [
    {
     "name": "stdout",
     "output_type": "stream",
     "text": [
      "[list(['Numpy']) list(['is']) list(['The']) list(['Library']) list(['of'])\n",
      " list(['Python'])]\n"
     ]
    }
   ],
   "source": [
    "arr = [\"Numpy\", \"is\" , \"The\" , \"Library\" , \"of\" , \"Python\"]\n",
    "arr1 = np.array([\"Numpy\", \"is\" , \"The\" , \"Library\" , \"of\" , \"Python\"])\n",
    "arr2 = np.char.split(arr1,\",\")\n",
    "print(arr2)"
   ]
  },
  {
   "cell_type": "code",
   "execution_count": 1,
   "id": "76882cb6-c88a-40b7-9800-6ed126b41f56",
   "metadata": {},
   "outputs": [
    {
     "name": "stdin",
     "output_type": "stream",
     "text": [
      "enter a number: 23\n"
     ]
    },
    {
     "name": "stdout",
     "output_type": "stream",
     "text": [
      "23 * 1 = 23\n",
      "23 * 2 = 46\n",
      "23 * 3 = 69\n",
      "23 * 4 = 92\n",
      "23 * 5 = 115\n",
      "23 * 6 = 138\n",
      "23 * 7 = 161\n",
      "23 * 8 = 184\n",
      "23 * 9 = 207\n",
      "23 * 10 = 230\n"
     ]
    }
   ],
   "source": [
    "n = int(input(\"enter a number:\"))\n",
    "for i in range(1,11):\n",
    "    print(n ,\"*\",i,\"=\",n*i)"
   ]
  },
  {
   "cell_type": "code",
   "execution_count": 4,
   "id": "76fa637b-5808-4080-9fb2-d319c5a5af68",
   "metadata": {},
   "outputs": [
    {
     "name": "stdout",
     "output_type": "stream",
     "text": [
      "      Nmae  Age        city\n",
      "0    aisha   25      Lahore\n",
      "1  romaisa   30  gujranwala\n",
      "2  javeria   32   Islamabad\n"
     ]
    }
   ],
   "source": [
    "import pandas as pd\n",
    "data = {\n",
    "    \"Nmae\" :[\"aisha\",\"romaisa\",\"javeria\"],\n",
    "    \"Age\":[25,30,32] ,\n",
    "    \"city\":[\"Lahore\",\"gujranwala\",\"Islamabad\"]\n",
    "}\n",
    "df = pd.DataFrame(data)\n",
    "print(df)"
   ]
  },
  {
   "cell_type": "code",
   "execution_count": null,
   "id": "d89e16e7-fa3c-42b1-b90f-f49bbe3460eb",
   "metadata": {},
   "outputs": [],
   "source": []
  }
 ],
 "metadata": {
  "kernelspec": {
   "display_name": "Python [conda env:base] *",
   "language": "python",
   "name": "conda-base-py"
  },
  "language_info": {
   "codemirror_mode": {
    "name": "ipython",
    "version": 3
   },
   "file_extension": ".py",
   "mimetype": "text/x-python",
   "name": "python",
   "nbconvert_exporter": "python",
   "pygments_lexer": "ipython3",
   "version": "3.13.5"
  }
 },
 "nbformat": 4,
 "nbformat_minor": 5
}
