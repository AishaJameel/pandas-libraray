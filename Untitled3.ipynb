{
 "cells": [
  {
   "cell_type": "code",
   "execution_count": null,
   "id": "fd8ea2c6-4334-455b-9b25-7da4a68e3061",
   "metadata": {},
   "outputs": [],
   "source": [
    "i=1\n",
    "while i<=100:\n",
    "   if i % 3 == 0 and i % 5 == 0:\n",
    "        print(i, \"multiple of both 3 and 5\")\n",
    "   elif i % 3 == 0:\n",
    "       print(i, \"miltiple of 3\")\n",
    "   elif i % 5 == 0:\n",
    "      print(i, \"multiple of 5\")\n",
    "      i+=1"
   ]
  },
  {
   "cell_type": "code",
   "execution_count": null,
   "id": "618bf0cf-50cc-4952-8c2d-f8924f229a4e",
   "metadata": {},
   "outputs": [],
   "source": [
    "i=1\n",
    "while i<=100:\n",
    "if i % 3 == 0 and i % 5 == 0:\n",
    "      print(i, \"multiple of both 3 and 5\")\n",
    "elif i % 3 == 0:\n",
    "     print(i, \"miltiple of 3\")\n",
    " elif i % 5 == 0:\n",
    "     print(i, \"multiple of 5\")\n",
    " i+=1"
   ]
  },
  {
   "cell_type": "code",
   "execution_count": 1,
   "id": "40188843-ee56-4f25-b339-723a9c91782c",
   "metadata": {},
   "outputs": [
    {
     "name": "stdout",
     "output_type": "stream",
     "text": [
      "5 * 1 = 5\n",
      "5 * 2 = 10\n",
      "5 * 3 = 15\n",
      "5 * 4 = 20\n",
      "5 * 5 = 25\n",
      "5 * 6 = 30\n",
      "5 * 7 = 35\n",
      "5 * 8 = 40\n",
      "5 * 9 = 45\n",
      "5 * 10 = 50\n"
     ]
    }
   ],
   "source": [
    "n = 5\n",
    "i = 1\n",
    "for i in range (1,11):\n",
    "    table = n*i\n",
    "    print(n,\"*\",i,\"=\",table)\n"
   ]
  },
  {
   "cell_type": "code",
   "execution_count": 1,
   "id": "0ab978e2-b079-40bc-aedd-a869b9be5a10",
   "metadata": {},
   "outputs": [
    {
     "name": "stdout",
     "output_type": "stream",
     "text": [
      "4 * 1 = 4\n",
      "4 * 2 = 8\n",
      "4 * 3 = 12\n",
      "4 * 4 = 16\n",
      "4 * 5 = 20\n",
      "4 * 6 = 24\n",
      "4 * 7 = 28\n",
      "4 * 8 = 32\n",
      "4 * 9 = 36\n",
      "4 * 10 = 40\n"
     ]
    }
   ],
   "source": [
    "n = 4\n",
    "i = 1\n",
    "while i <= 10:\n",
    "    table = n*i\n",
    "    print(n,\"*\",i,\"=\",table)\n",
    "    i+=1"
   ]
  },
  {
   "cell_type": "code",
   "execution_count": null,
   "id": "ef9f6bec-2cfc-4a87-bac4-89391c5dbfc7",
   "metadata": {},
   "outputs": [],
   "source": [
    "num = 4 \n",
    "fac = 1\n",
    "i = 1\n",
    "while i <= 10:\n",
    "    fac = fac*i\n",
    "    print(\"fac\",fac)\n",
    "    i+=1\n",
    "    "
   ]
  },
  {
   "cell_type": "code",
   "execution_count": null,
   "id": "c97e3d57-b98f-4376-8b3d-66c7e0acc4bd",
   "metadata": {},
   "outputs": [],
   "source": [
    "n = input(\"enter number:\")\n",
    "i=1\n",
    "while i <= 10:\n",
    "    table = n * i\n",
    "    print(n,\"*\",i,\"=\",table)\n",
    "    i += 1\n",
    "    "
   ]
  },
  {
   "cell_type": "code",
   "execution_count": 4,
   "id": "3c6af945-3922-4f13-a705-c9cf3b24591b",
   "metadata": {},
   "outputs": [],
   "source": [
    "#Write a function which checks wether we have vowels in a string\n",
    "def has_vowels(text):\n",
    "    vomels = \"aaeiouAEIOU\"\n",
    "    for ch in text:\n",
    "        if ch in vowels:\n",
    "            return True\n",
    "        else:\n",
    "            return False\n"
   ]
  },
  {
   "cell_type": "code",
   "execution_count": 3,
   "id": "c7bc5954-a782-4311-9312-9f37186bf1b2",
   "metadata": {},
   "outputs": [
    {
     "name": "stdout",
     "output_type": "stream",
     "text": [
      "A\n",
      "A\n",
      "A\n",
      "A\n",
      "A\n",
      "A\n",
      "A\n",
      "A\n",
      "A\n",
      "A\n"
     ]
    }
   ],
   "source": [
    "i=1\n",
    "while i<=10:\n",
    "    print(\"A\")\n",
    "    i+=1"
   ]
  },
  {
   "cell_type": "code",
   "execution_count": null,
   "id": "abbdb650-f93c-48c9-8e3c-2c132b10cc22",
   "metadata": {},
   "outputs": [],
   "source": [
    "i=1\n",
    "while i<=100:\n",
    "if i % 3 == 0 and i % 5 == 0:\n",
    "      print(i, \"multiple of both 3 and 5\")\n",
    "elif i % 3 == 0:\n",
    "     print(i, \"miltiple of 3\")\n",
    " elif i % 5 == 0:\n",
    "     print(i, \"multiple of 5\")\n",
    " i+=1"
   ]
  },
  {
   "cell_type": "code",
   "execution_count": null,
   "id": "4377a09b-0037-4fd7-9bf3-9fa055e82cef",
   "metadata": {},
   "outputs": [],
   "source": [
    "i=1\n",
    "while i<=100:\n",
    "    if i % 3 == 0 and i % 5 == 0:\n",
    "          print(i, \"multiple of both 3 and 5\")\n",
    "    elif i % 3 == 0:\n",
    "         print(i, \"miltiple of 3\")\n",
    "    elif i % 5 == 0:\n",
    "         print(i, \"multiple of 5\")\n",
    "    i+=1"
   ]
  },
  {
   "cell_type": "code",
   "execution_count": null,
   "id": "4d3a5ee8-237d-4ddf-a185-071bcf629706",
   "metadata": {},
   "outputs": [],
   "source": [
    "num = 4\n",
    "fac = 1\n",
    "i = 1\n",
    "\n",
    "while i<= num:\n",
    "    fac*=i\n",
    "    i+=1\n",
    "    \n",
    "print(\"fac is \",fac)\n",
    "    "
   ]
  },
  {
   "cell_type": "code",
   "execution_count": 6,
   "id": "e52bf496-8a91-41a8-b832-1aba8bd491eb",
   "metadata": {},
   "outputs": [
    {
     "name": "stdout",
     "output_type": "stream",
     "text": [
      "fac 120\n"
     ]
    }
   ],
   "source": [
    "num = 5\n",
    "fac = 1\n",
    "i = 1\n",
    "while i<= num:\n",
    "    fac*=i\n",
    "    i+=1\n",
    "print(\"fac\",fac)"
   ]
  },
  {
   "cell_type": "code",
   "execution_count": null,
   "id": "ae830cec-4be3-441a-b2cc-5bd52091eff4",
   "metadata": {},
   "outputs": [],
   "source": [
    "n = input(\"enter number:\")\n",
    "i=1\n",
    "while i <= 10:\n",
    "    table = n * i\n",
    "    print(n,\"*\",i,\"=\",table)\n",
    "    i += 1"
   ]
  },
  {
   "cell_type": "code",
   "execution_count": null,
   "id": "531670ec-5270-432b-b39e-e68d6c7c02b4",
   "metadata": {},
   "outputs": [],
   "source": [
    "i = 1\n",
    "while i<= 100:\n",
    "    \n",
    "    if i % 2 == 0 and i % 10 == 0 :\n",
    "        print(i,\"multiple of 2 and 10\")\n",
    "    elif i % 2 ==0:\n",
    "        print(i,\"multiple of 2\")\n",
    "    elif i % 10 == 0:\n",
    "         print(i,\"multiple of 10\")\n",
    "i+=1"
   ]
  },
  {
   "cell_type": "code",
   "execution_count": 8,
   "id": "0229bdb5-a0fd-4b3f-adb8-a4a70e415459",
   "metadata": {},
   "outputs": [
    {
     "name": "stdout",
     "output_type": "stream",
     "text": [
      "fac is  6\n"
     ]
    }
   ],
   "source": [
    "num = 3\n",
    "fac = 1\n",
    "i = 1\n",
    "while i<= num:\n",
    "    fac*=i\n",
    "    i+=1\n",
    "print(\"fac is \",fac)\n",
    "    "
   ]
  },
  {
   "cell_type": "code",
   "execution_count": 2,
   "id": "6c123047-f447-4982-b00a-1c521df625a2",
   "metadata": {},
   "outputs": [
    {
     "name": "stdin",
     "output_type": "stream",
     "text": [
      "enter number : 32\n"
     ]
    },
    {
     "name": "stdout",
     "output_type": "stream",
     "text": [
      "32 * 1 = 32\n",
      "32 * 2 = 64\n",
      "32 * 3 = 96\n",
      "32 * 4 = 128\n",
      "32 * 5 = 160\n",
      "32 * 6 = 192\n",
      "32 * 7 = 224\n",
      "32 * 8 = 256\n",
      "32 * 9 = 288\n",
      "32 * 10 = 320\n"
     ]
    }
   ],
   "source": [
    "n =int(input(\"enter number :\"))\n",
    "i=1\n",
    "while i<=10:\n",
    "    table = n*i\n",
    "    print(n ,\"*\" ,i ,\"=\",table)\n",
    "    i+=1\n",
    "    "
   ]
  },
  {
   "cell_type": "markdown",
   "id": "f4830f04-95cf-4072-8d9a-748f51c8276b",
   "metadata": {},
   "source": [
    "total = 0\n",
    "\n",
    "while True:\n",
    "    num = int(input(\"Enter a number (-1 to stop): \"))\n",
    "    if num == -1:\n",
    "        break\n",
    "    total += num\n",
    "\n",
    "print(\"Sum of all numbers:\", total)\n",
    "        "
   ]
  },
  {
   "cell_type": "code",
   "execution_count": 20,
   "id": "77e2f1ac-6fe1-4aa7-b63c-b0b15af4dac4",
   "metadata": {},
   "outputs": [
    {
     "name": "stdin",
     "output_type": "stream",
     "text": [
      "entr the unit: 245\n"
     ]
    },
    {
     "name": "stdout",
     "output_type": "stream",
     "text": [
      " Total comsumed units are 245 total bill is 19850\n",
      "total consumed unit are 245 total bill is 22827.5\n"
     ]
    }
   ],
   "source": [
    "unit = int(input(\"entr the unit:\"))\n",
    "bill = 0\n",
    "if unit <= 100:\n",
    "    bill = unit * 30\n",
    "elif unit <= 200:\n",
    "    bill = unit*30 + (unit - 100)* 40\n",
    "elif unit <= 300:\n",
    "    bill = unit * 30 + unit * 40 +(unit - 200)* 60\n",
    "else:\n",
    "     bill = unit * 30 + unit * 40 + unit * 60 + (unit - 300)*80\n",
    "print(\" Total comsumed units are\",unit,\"total bill is\",bill)\n",
    "\n",
    "if bill > 10000:\n",
    "    tax = bill*0.15\n",
    "    bill = bill+tax\n",
    "print(\"total consumed unit are\",unit,\"total bill is\" ,bill)\n",
    "    \n",
    "    "
   ]
  },
  {
   "cell_type": "code",
   "execution_count": 5,
   "id": "d70cf3fe-a126-4900-a0e8-9676420597fc",
   "metadata": {},
   "outputs": [
    {
     "name": "stdin",
     "output_type": "stream",
     "text": [
      "enter the number : 4567\n"
     ]
    },
    {
     "name": "stdout",
     "output_type": "stream",
     "text": [
      "reversed 7654\n"
     ]
    }
   ],
   "source": [
    "num = int(input(\"enter the number :\"))\n",
    "rev = 0\n",
    "while num > 0:\n",
    "    digit = num % 10\n",
    "    rev = rev *10 + digit\n",
    "    num //= 10\n",
    "print(\"reversed\" , rev)"
   ]
  },
  {
   "cell_type": "code",
   "execution_count": null,
   "id": "55b7b3b7-64c5-4d9e-a90f-6e493ae43962",
   "metadata": {},
   "outputs": [],
   "source": [
    "total = 0\n",
    "\n",
    "while True:\n",
    "    num = int(input(\"Enter a number (-1 to stop): \"))\n",
    "    if num == -1:\n",
    "        break\n",
    "    total += num\n",
    "\n",
    "print(\"Sum of all numbers:\", total)\n",
    "        "
   ]
  },
  {
   "cell_type": "code",
   "execution_count": null,
   "id": "9a5f0e84-a7d3-42f8-946a-e30e95096c0b",
   "metadata": {},
   "outputs": [],
   "source": [
    "n = int(input(\"Enter the number of terms: \"))\n",
    "\n",
    "a, b = 0, 1   \n",
    "count = 0\n",
    "\n",
    "print(\"Fibonacci series:\")\n",
    "\n",
    "while count < n:\n",
    "    print(a, end=\" \")\n",
    "    a, b = b, a + b   \n",
    "    count += 1"
   ]
  },
  {
   "cell_type": "code",
   "execution_count": 2,
   "id": "7bb1875a-fc44-483a-80d1-cbd81e872609",
   "metadata": {},
   "outputs": [
    {
     "name": "stdin",
     "output_type": "stream",
     "text": [
      " enter the number : 8\n"
     ]
    },
    {
     "name": "stdout",
     "output_type": "stream",
     "text": [
      "0 1 1 2 3 5 8 13 "
     ]
    }
   ],
   "source": [
    "num = int(input(\" enter the number :\"))\n",
    "a , b = 0 , 1\n",
    "count = 0\n",
    "print (\" Fibonacci series \")\n",
    "while count < num :\n",
    "    print(a ,end=\" \")\n",
    "    a , b = b , a+b\n",
    "    count += 1"
   ]
  },
  {
   "cell_type": "code",
   "execution_count": 3,
   "id": "f924950b-ea86-4c88-a5f2-d372f445b75f",
   "metadata": {},
   "outputs": [
    {
     "name": "stdin",
     "output_type": "stream",
     "text": [
      "enter the number :  6\n"
     ]
    },
    {
     "name": "stdout",
     "output_type": "stream",
     "text": [
      "2 3 5 8 13 21 "
     ]
    }
   ],
   "source": [
    "num = int(input(\"enter the number : \"))\n",
    "a , b = 2 , 3\n",
    "count = 0 \n",
    "while count < num:\n",
    "    print (a , end = \" \")\n",
    "    a , b = b, a+b\n",
    "    count += 1"
   ]
  },
  {
   "cell_type": "code",
   "execution_count": 2,
   "id": "113ea309-1292-43a7-8dc8-0d61460aa255",
   "metadata": {},
   "outputs": [
    {
     "name": "stdin",
     "output_type": "stream",
     "text": [
      "Enter the basic sallery :  35000\n"
     ]
    },
    {
     "name": "stdout",
     "output_type": "stream",
     "text": [
      "Gross Salary: 78750.0\n"
     ]
    }
   ],
   "source": [
    "basic_sallery = float(input(\"Enter the basic sallery : \"))\n",
    "if basic_sallery <= 10000:\n",
    "    HRA = basic_sallery * 0.20\n",
    "    DA =  basic_sallery * 0.80\n",
    "    \n",
    "elif basic_sallery <= 20000:\n",
    "    HRA = basic_sallery * 0.25\n",
    "    DA =  basic_sallery * 0.90\n",
    "else:\n",
    "    HRA = basic_sallery * 0.30\n",
    "    DA =  basic_sallery * 0.95\n",
    "gross = basic_sallery + HRA + DA\n",
    "print(\"Gross Salary:\", gross)\n"
   ]
  },
  {
   "cell_type": "code",
   "execution_count": null,
   "id": "cd019ac4-7701-4f82-a1ba-6e70ad16c584",
   "metadata": {},
   "outputs": [],
   "source": [
    "num = int(input(\"enter the number: \"))\n",
    "a , b = 2 , 3\n",
    "count = 0 \n",
    "while count < num:\n",
    "    print (a , end = \" \")\n",
    "    a , b = b, a+b\n",
    "    count += 1"
   ]
  },
  {
   "cell_type": "code",
   "execution_count": null,
   "id": "929baad3-5fd2-48f5-97f5-d87916171484",
   "metadata": {},
   "outputs": [],
   "source": [
    "num = int (input(\"enterr the number: \"))\n",
    "a , b = 3 , 4\n",
    "count =0\n",
    "while count <= num :\n",
    "    print (a , end= \" \")\n",
    "    a , b = b , a+b\n",
    "    count += 1\n",
    "        "
   ]
  },
  {
   "cell_type": "code",
   "execution_count": 1,
   "id": "b0205cce-cfcc-4e81-804d-1233b237fc61",
   "metadata": {},
   "outputs": [
    {
     "name": "stdout",
     "output_type": "stream",
     "text": [
      "25\n"
     ]
    }
   ],
   "source": [
    "#square of a num\n",
    "square = lambda x : x*x\n",
    "print(square(5))"
   ]
  },
  {
   "cell_type": "code",
   "execution_count": 4,
   "id": "fc47fd89-9693-46fa-9bcb-114f7741a2ea",
   "metadata": {},
   "outputs": [
    {
     "name": "stdout",
     "output_type": "stream",
     "text": [
      "9\n"
     ]
    }
   ],
   "source": [
    "#add numbers \n",
    "add = lambda x,y,z : x+y+z\n",
    "print(add(2,3,4))"
   ]
  },
  {
   "cell_type": "code",
   "execution_count": 6,
   "id": "7f71a84f-71de-40f1-a739-80c84efa2129",
   "metadata": {},
   "outputs": [
    {
     "name": "stdout",
     "output_type": "stream",
     "text": [
      "even\n"
     ]
    }
   ],
   "source": [
    "even = lambda x :\"even\" if x % 2 == 0  else \"odd\"\n",
    "print(even(20))"
   ]
  },
  {
   "cell_type": "code",
   "execution_count": 12,
   "id": "6fc1bbc1-c235-464d-9814-ba858c3e8a8d",
   "metadata": {},
   "outputs": [
    {
     "name": "stdout",
     "output_type": "stream",
     "text": [
      "r\n"
     ]
    }
   ],
   "source": [
    "last = lambda x : x[2] #to get index \n",
    "print(last(\"aarib\"))\n"
   ]
  },
  {
   "cell_type": "code",
   "execution_count": 16,
   "id": "0fc5d548-a075-4c25-8277-5716f17b0753",
   "metadata": {},
   "outputs": [
    {
     "name": "stdout",
     "output_type": "stream",
     "text": [
      "6\n"
     ]
    }
   ],
   "source": [
    "divide =  lambda x: int( x/4) # type conversion/type casting\n",
    "print(divide(24))"
   ]
  },
  {
   "cell_type": "code",
   "execution_count": 18,
   "id": "676df79b-4a1f-49c3-aa97-f0b5697963b5",
   "metadata": {},
   "outputs": [
    {
     "name": "stdout",
     "output_type": "stream",
     "text": [
      "odd\n"
     ]
    }
   ],
   "source": [
    "odd = lambda x : \"odd\" if x % 2!=0  else \"even\"\n",
    "print(odd(45))"
   ]
  },
  {
   "cell_type": "code",
   "execution_count": 20,
   "id": "0822381a-9a69-4b28-9a31-985b3bfd4942",
   "metadata": {},
   "outputs": [
    {
     "name": "stdout",
     "output_type": "stream",
     "text": [
      "15\n"
     ]
    }
   ],
   "source": [
    "multiply = lambda x , y : x*y\n",
    "print(multiply(3,5))"
   ]
  },
  {
   "cell_type": "code",
   "execution_count": 21,
   "id": "a5938fc4-7ddd-42ff-b8e1-7017f20af7af",
   "metadata": {},
   "outputs": [
    {
     "name": "stdout",
     "output_type": "stream",
     "text": [
      "125\n"
     ]
    }
   ],
   "source": [
    "power = lambda x : x**3 # for taking power of any value\n",
    "print(power(5))"
   ]
  },
  {
   "cell_type": "code",
   "execution_count": 25,
   "id": "fe9e3247-09d4-40e2-a58f-131c25a64393",
   "metadata": {},
   "outputs": [],
   "source": [
    "#examples of functions\n",
    "def add(x,y):\n",
    "    result = x+y\n",
    "    return result"
   ]
  },
  {
   "cell_type": "code",
   "execution_count": 26,
   "id": "44dee0a7-1ff3-439c-8d35-43a4618458a4",
   "metadata": {},
   "outputs": [
    {
     "data": {
      "text/plain": [
       "7"
      ]
     },
     "execution_count": 26,
     "metadata": {},
     "output_type": "execute_result"
    }
   ],
   "source": [
    "add(3,4)"
   ]
  },
  {
   "cell_type": "code",
   "execution_count": 35,
   "id": "680f0d2e-ce64-4199-a6d8-c714efc88b76",
   "metadata": {},
   "outputs": [],
   "source": [
    "def fun(name):\n",
    "    name = name [1]\n",
    "    return name\n"
   ]
  },
  {
   "cell_type": "code",
   "execution_count": 37,
   "id": "3304a12c-ce75-454d-ae1f-530844e7ae76",
   "metadata": {},
   "outputs": [
    {
     "data": {
      "text/plain": [
       "'i'"
      ]
     },
     "execution_count": 37,
     "metadata": {},
     "output_type": "execute_result"
    }
   ],
   "source": [
    "fun(\"aisha\")"
   ]
  },
  {
   "cell_type": "code",
   "execution_count": 40,
   "id": "bd3555a3-faec-47e6-ad00-94181a8b5e91",
   "metadata": {},
   "outputs": [],
   "source": [
    "def module(x,y):\n",
    "    result = x%y\n",
    "    return result\n",
    "    "
   ]
  },
  {
   "cell_type": "code",
   "execution_count": 41,
   "id": "d6a2b028-3791-40f5-abff-90ad029b3f25",
   "metadata": {},
   "outputs": [
    {
     "data": {
      "text/plain": [
       "5"
      ]
     },
     "execution_count": 41,
     "metadata": {},
     "output_type": "execute_result"
    }
   ],
   "source": [
    "module(5,10)"
   ]
  },
  {
   "cell_type": "code",
   "execution_count": 45,
   "id": "074fdda7-748f-4019-8fe6-df113fe6fcf6",
   "metadata": {},
   "outputs": [
    {
     "name": "stdout",
     "output_type": "stream",
     "text": [
      "5\n"
     ]
    }
   ],
   "source": [
    "module = lambda x,y : x % y\n",
    "print(module(5,10))"
   ]
  },
  {
   "cell_type": "code",
   "execution_count": 50,
   "id": "3a0a4d98-00b4-4f03-bf31-7c9e3cb8b962",
   "metadata": {},
   "outputs": [
    {
     "name": "stdout",
     "output_type": "stream",
     "text": [
      "('hello,', 'ali')\n"
     ]
    }
   ],
   "source": [
    "greeting = lambda name : ('hello,',name)\n",
    "print(greeting(\"ali\"))"
   ]
  },
  {
   "cell_type": "code",
   "execution_count": 52,
   "id": "54714bc6-baff-44f8-83fc-2b10d2a5560e",
   "metadata": {},
   "outputs": [
    {
     "name": "stdout",
     "output_type": "stream",
     "text": [
      "('hello', 'aisha', 'and', 'romaisa')\n"
     ]
    }
   ],
   "source": [
    "list = lambda x, y : ('hello',x,\"and\",y)\n",
    "print(list(\"aisha\",\"romaisa\"))"
   ]
  },
  {
   "cell_type": "code",
   "execution_count": 2,
   "id": "8324abe0-f603-4e84-94d5-983277b48c87",
   "metadata": {},
   "outputs": [
    {
     "name": "stdout",
     "output_type": "stream",
     "text": [
      "20\n"
     ]
    }
   ],
   "source": [
    "max = lambda x,y : x if x>y else b\n",
    "print(max(20,15))"
   ]
  },
  {
   "cell_type": "code",
   "execution_count": 3,
   "id": "b701da4f-4565-4b5b-9504-16b4ea93986e",
   "metadata": {},
   "outputs": [
    {
     "name": "stdout",
     "output_type": "stream",
     "text": [
      "20\n"
     ]
    }
   ],
   "source": [
    "min = lambda x,y : x if x<y else y\n",
    "print(min(20,24))"
   ]
  },
  {
   "cell_type": "code",
   "execution_count": 5,
   "id": "c1cff210-a0ef-461a-b9bc-d1c0ca5e1d56",
   "metadata": {},
   "outputs": [
    {
     "name": "stdout",
     "output_type": "stream",
     "text": [
      "120\n"
     ]
    }
   ],
   "source": [
    "fact = lambda x : 1 if x==0 else x*fact(x-1)\n",
    "print(fact(5))"
   ]
  },
  {
   "cell_type": "code",
   "execution_count": 7,
   "id": "8b893d6d-a04c-4f62-b8dd-6f71ddce914b",
   "metadata": {},
   "outputs": [
    {
     "name": "stdout",
     "output_type": "stream",
     "text": [
      "[2, 4, 6, 8]\n"
     ]
    }
   ],
   "source": [
    "#filtering number from a list\n",
    "num = [1,2,3,4,5,6,7,8]\n",
    "even = list(filter(lambda x : x % 2 == 0 ,num))\n",
    "print(even)"
   ]
  },
  {
   "cell_type": "code",
   "execution_count": 8,
   "id": "72e0f529-66c2-4a7b-97ba-270555733c64",
   "metadata": {},
   "outputs": [
    {
     "name": "stdout",
     "output_type": "stream",
     "text": [
      "AISHA\n"
     ]
    }
   ],
   "source": [
    "name = lambda name : name.upper()\n",
    "print(name(\"aisha\"))"
   ]
  },
  {
   "cell_type": "code",
   "execution_count": 9,
   "id": "16803632-f50a-437a-85a6-2a2c8f3f0fb4",
   "metadata": {},
   "outputs": [
    {
     "name": "stdout",
     "output_type": "stream",
     "text": [
      "aisha\n"
     ]
    }
   ],
   "source": [
    "name = lambda name : name.lower()\n",
    "print(name(\"AISHA\"))"
   ]
  },
  {
   "cell_type": "code",
   "execution_count": 12,
   "id": "1e84a462-9b63-4275-811f-7934a79c0125",
   "metadata": {},
   "outputs": [
    {
     "name": "stdout",
     "output_type": "stream",
     "text": [
      "v val\n",
      "yellav veD\n",
      "v v\n"
     ]
    }
   ],
   "source": [
    "s = \"Dev valley\"\n",
    "print ( s[2:7]) \n",
    "print ( s[: : -1])\n",
    "print ( s[2:5])\n",
    "\n"
   ]
  },
  {
   "cell_type": "code",
   "execution_count": 14,
   "id": "65ab40fa-ab96-49bd-a187-adff2ad1f7c1",
   "metadata": {},
   "outputs": [
    {
     "name": "stdout",
     "output_type": "stream",
     "text": [
      "ahsia\n"
     ]
    }
   ],
   "source": [
    "s = \"aisha\" \n",
    "print( s[: :-1])"
   ]
  },
  {
   "cell_type": "code",
   "execution_count": 19,
   "id": "bf03568c-7c47-4775-ad55-7c947638ba72",
   "metadata": {},
   "outputs": [
    {
     "name": "stdout",
     "output_type": "stream",
     "text": [
      "learning ai from dev valley . In the morning section.\n"
     ]
    }
   ],
   "source": [
    "#removing extra spaces from start and end\n",
    "s = \"    learning ai from dev valley . In the morning section.  \"\n",
    "print(s.strip())"
   ]
  },
  {
   "cell_type": "code",
   "execution_count": 2,
   "id": "fa3c65d1-7c0d-4aff-ba44-e6ba5d0e556e",
   "metadata": {},
   "outputs": [
    {
     "name": "stdout",
     "output_type": "stream",
     "text": [
      "aisha\n"
     ]
    }
   ],
   "source": [
    "#to remove lettrs from start and end\n",
    "s = \"ppaishapp\"\n",
    "print(s.strip(\"p\"))"
   ]
  },
  {
   "cell_type": "code",
   "execution_count": 4,
   "id": "3d3b01f0-b7b1-49d8-b2c7-fafa90acde36",
   "metadata": {},
   "outputs": [
    {
     "name": "stdout",
     "output_type": "stream",
     "text": [
      "dev valley\n"
     ]
    }
   ],
   "source": [
    "#to replace any digit(no to be change,from no )\n",
    "s = \"dov valley\"\n",
    "print(s.replace(\"o\",\"e\"))"
   ]
  },
  {
   "cell_type": "code",
   "execution_count": 5,
   "id": "efcd8230-b190-499b-a66f-48caa6422741",
   "metadata": {},
   "outputs": [
    {
     "name": "stdout",
     "output_type": "stream",
     "text": [
      "learning ai from dev valley . In the morning section\n",
      "  leArning Ai from dev vAlley . In the morning section  \n"
     ]
    }
   ],
   "source": [
    "list = \"  learning ai from dev valley . In the morning section  \"\n",
    "print(list.strip())\n",
    "print( list.replace(\"a\",\"A\"))"
   ]
  },
  {
   "cell_type": "code",
   "execution_count": 6,
   "id": "df2d359d-16e2-444a-a82b-0a051894b75f",
   "metadata": {},
   "outputs": [
    {
     "name": "stdout",
     "output_type": "stream",
     "text": [
      "['I', 'am', 'a', 'student']\n"
     ]
    }
   ],
   "source": [
    "list = \" I am a student\"\n",
    "print(list.split())"
   ]
  },
  {
   "cell_type": "code",
   "execution_count": 8,
   "id": "b61b485a-1363-4d0d-9622-78735605fef1",
   "metadata": {},
   "outputs": [
    {
     "name": "stdout",
     "output_type": "stream",
     "text": [
      "['apple', 'banana', 'cherry', 'guave']\n"
     ]
    }
   ],
   "source": [
    "#to split regarding any specific character\n",
    "fruits = \"apple,banana,cherry,guave\"\n",
    "print(fruits.split(\",\"))"
   ]
  },
  {
   "cell_type": "code",
   "execution_count": 10,
   "id": "ee577243-0800-4489-bd7a-19b8295306f1",
   "metadata": {},
   "outputs": [
    {
     "name": "stdout",
     "output_type": "stream",
     "text": [
      "['dev', 'valley']\n"
     ]
    }
   ],
   "source": [
    "s = \"devovalley\"\n",
    "print(s.split(\"o\"))"
   ]
  },
  {
   "cell_type": "code",
   "execution_count": 11,
   "id": "409124dc-5be2-4cef-99bc-46464b00a941",
   "metadata": {},
   "outputs": [
    {
     "name": "stdout",
     "output_type": "stream",
     "text": [
      "[' one ', 'four', 'five', 'six']\n"
     ]
    }
   ],
   "source": [
    "num = \" one -four-five-six\"\n",
    "print(num.split(\"-\"))"
   ]
  },
  {
   "cell_type": "code",
   "execution_count": 14,
   "id": "80aa8eac-1004-4490-8e5d-86c51c528808",
   "metadata": {},
   "outputs": [
    {
     "name": "stdout",
     "output_type": "stream",
     "text": [
      "I am a student.   \n"
     ]
    }
   ],
   "source": [
    "list = \" I am a student.   \"\n",
    "print(list.lstrip())"
   ]
  },
  {
   "cell_type": "code",
   "execution_count": 15,
   "id": "0051996f-2d36-462f-ba40-97d23b0e3ef6",
   "metadata": {},
   "outputs": [
    {
     "name": "stdout",
     "output_type": "stream",
     "text": [
      "I am a student.\n"
     ]
    }
   ],
   "source": [
    "list = \" I am a student.   \"\n",
    "print(list.strip())"
   ]
  },
  {
   "cell_type": "code",
   "execution_count": 20,
   "id": "b88854ad-cb88-4ba6-a440-abd43e269ed4",
   "metadata": {},
   "outputs": [
    {
     "name": "stdout",
     "output_type": "stream",
     "text": [
      "['aisha', 'romaisa', 'javeria,saba']\n"
     ]
    }
   ],
   "source": [
    "text = \"aisha,romaisa,javeria,saba\"\n",
    "print(text.split(\",\",2))"
   ]
  },
  {
   "cell_type": "code",
   "execution_count": 21,
   "id": "91e1bb82-058a-41ae-b3df-30eaac61d155",
   "metadata": {},
   "outputs": [
    {
     "name": "stdout",
     "output_type": "stream",
     "text": [
      "[' my name is aisha ', '']\n"
     ]
    }
   ],
   "source": [
    "list = \" my name is aisha jameel\"\n",
    "print(list.split(\"jameel\"))"
   ]
  },
  {
   "cell_type": "code",
   "execution_count": 23,
   "id": "69e7243f-b1a3-42e7-898e-da4883037236",
   "metadata": {},
   "outputs": [
    {
     "name": "stdout",
     "output_type": "stream",
     "text": [
      " my name is aisha \n"
     ]
    }
   ],
   "source": [
    "list = \" my name is aisha jameel\"\n",
    "print(list.rstrip(\"jameel\"))"
   ]
  },
  {
   "cell_type": "code",
   "execution_count": 24,
   "id": "a9d6219e-b58e-4192-8784-8644679287a3",
   "metadata": {},
   "outputs": [
    {
     "name": "stdout",
     "output_type": "stream",
     "text": [
      " Learning AI is a fun\n"
     ]
    }
   ],
   "source": [
    "list = \"if Learning AI is a fun\"\n",
    "print(list.lstrip(\"if\"))"
   ]
  },
  {
   "cell_type": "code",
   "execution_count": 33,
   "id": "9bf98901-d237-4d42-b6b6-b39c82336bc1",
   "metadata": {},
   "outputs": [
    {
     "name": "stdin",
     "output_type": "stream",
     "text": [
      "Enter a number:  78\n"
     ]
    },
    {
     "name": "stdout",
     "output_type": "stream",
     "text": [
      "78 num is even\n"
     ]
    }
   ],
   "source": [
    "try:\n",
    "    num = int(input(\"Enter a number: \"))\n",
    "    if num %2 == 0:\n",
    "        print(num,\"num is even\")\n",
    "    else:\n",
    "        print(num, \"num is odd\")\n",
    "    \n",
    "except :\n",
    " print(\"invalid number\")\n"
   ]
  },
  {
   "cell_type": "code",
   "execution_count": 13,
   "id": "f8a52e8c-acfe-4ed8-bf13-ce84d848cc24",
   "metadata": {},
   "outputs": [
    {
     "name": "stdin",
     "output_type": "stream",
     "text": [
      "enter a number 250\n"
     ]
    },
    {
     "name": "stdout",
     "output_type": "stream",
     "text": [
      "result: 0.08\n"
     ]
    }
   ],
   "source": [
    "try:\n",
    "    x= int(input(\"enter a number\"))\n",
    "    result = 20/x\n",
    "    print(\"result:\",result)\n",
    "except ZeroDivisionError:\n",
    "    print(\"can not be divided by zero\")\n",
    "except ValueEroor:\n",
    "    print(\"please enter a valid number\")"
   ]
  },
  {
   "cell_type": "code",
   "execution_count": 23,
   "id": "0d9cface-b952-4373-b7c9-ea1b58840117",
   "metadata": {},
   "outputs": [
    {
     "name": "stdin",
     "output_type": "stream",
     "text": [
      "enter a number : 34\n"
     ]
    },
    {
     "name": "stdout",
     "output_type": "stream",
     "text": [
      "Number +5= 39\n",
      "conversion finished\n"
     ]
    }
   ],
   "source": [
    "try:\n",
    "    s = input(\"enter a number :\")\n",
    "    num = int(s)\n",
    "    print(\"Number +5=\", num+5)\n",
    "except valueerror:\n",
    "    print(\"error:value must be a number\")\n",
    "finally:\n",
    "    print(\"conversion finished\")"
   ]
  },
  {
   "cell_type": "code",
   "execution_count": 25,
   "id": "d4fe1de5-dd68-450b-954f-538bd47f417c",
   "metadata": {},
   "outputs": [
    {
     "name": "stdin",
     "output_type": "stream",
     "text": [
      "enter the amout to withdraw:  6000\n"
     ]
    },
    {
     "name": "stdout",
     "output_type": "stream",
     "text": [
      "withdrawal successful!remaining balance: 4000\n",
      "transaction closed\n"
     ]
    }
   ],
   "source": [
    "try:\n",
    "    balance = 10000\n",
    "    withdraw = int(input(\"enter the amout to withdraw: \"))\n",
    "    if withdraw < balance:\n",
    "        balance -= withdraw\n",
    "        print(\"withdrawal successful!remaining balance:\",balance)\n",
    "    else :\n",
    "        print(\"insufficient balance\")\n",
    "except valueerror as e:\n",
    "    print(\"transaction error: \",e)\n",
    "finally:\n",
    "    print(\"transaction closed\")"
   ]
  },
  {
   "cell_type": "code",
   "execution_count": 38,
   "id": "46a48c75-b5f2-4609-b59d-0ea17ee941cb",
   "metadata": {},
   "outputs": [
    {
     "name": "stdin",
     "output_type": "stream",
     "text": [
      "enter student name :  ali\n"
     ]
    },
    {
     "name": "stdout",
     "output_type": "stream",
     "text": [
      "Marks: 80\n"
     ]
    }
   ],
   "source": [
    "\n",
    "#keyerror\n",
    "students = {\"ali\": 80, \"sara\":75 ,\"madiha\":30}\n",
    "name = input(\"enter student name : \")\n",
    "try:\n",
    "     print(\"Marks:\", students[name])\n",
    "except KeyError:\n",
    "    print(\"no record found for \", name)\n",
    "            "
   ]
  },
  {
   "cell_type": "code",
   "execution_count": 4,
   "id": "e07bc41b-7360-4e8e-983c-438cf6f437a4",
   "metadata": {},
   "outputs": [
    {
     "name": "stdout",
     "output_type": "stream",
     "text": [
      "hello\n"
     ]
    }
   ],
   "source": [
    "class Greeting:\n",
    "    def say_hello(self):\n",
    "        return\"hello\"\n",
    "obj = Greeting()\n",
    "print(obj.say_hello())"
   ]
  },
  {
   "cell_type": "code",
   "execution_count": 15,
   "id": "79bada6f-38f6-4350-9928-b73363f69008",
   "metadata": {},
   "outputs": [
    {
     "name": "stdout",
     "output_type": "stream",
     "text": [
      "name: Ali\n",
      "age: 18\n",
      "height: 5.8 ft\n",
      "status: selected for football match\n",
      "______________________________\n",
      "name: Aisha\n",
      "age: 17\n",
      "height: 5.4 ft\n",
      "status: not selected\n",
      "______________________________\n",
      "name: Omar\n",
      "age: 22\n",
      "height: 6.0 ft\n",
      "status: selected for football match\n",
      "______________________________\n",
      "name: ashar\n",
      "age: 24\n",
      "height: 5.9 ft\n",
      "status: selected for football match\n",
      "______________________________\n"
     ]
    }
   ],
   "source": [
    "class Student:\n",
    "    def __init__(self,name ,age,height):\n",
    "        self.name = name\n",
    "        self.age = age\n",
    "        self.height = height\n",
    "    def check_selection(self):\n",
    "        if   16 <= self.age <= 25 and self.height >= 5.6:\n",
    "            return \"selected for football match\"\n",
    "        else:\n",
    "            return \"not selected\"\n",
    "    def show(self):\n",
    "        print(\"name:\" , self.name)\n",
    "        print(\"age:\" , self.age)\n",
    "        print(\"height:\", self.height, \"ft\")\n",
    "        print(\"status:\" , self.check_selection())\n",
    "        print(\"_\" * 30)\n",
    "s1 = Student(\"Ali\", 18, 5.8)\n",
    "s2 = Student(\"Aisha\", 17, 5.4)\n",
    "s3 = Student(\"Omar\", 22, 6.0)\n",
    "s4 = Student(\"ashar\", 24, 5.9)\n",
    "\n",
    "s1.show()\n",
    "s2.show()\n",
    "s3.show()\n",
    "s4.show()\n",
    "\n",
    "    "
   ]
  },
  {
   "cell_type": "code",
   "execution_count": 6,
   "id": "759f193d-d1df-49bd-a18c-d11205b608db",
   "metadata": {
    "scrolled": true
   },
   "outputs": [
    {
     "name": "stdout",
     "output_type": "stream",
     "text": [
      "items: oil\n",
      "price: 2500\n",
      "quantity: 5\n",
      "discount: no discount\n",
      "____________________\n",
      "items: soap\n",
      "price: 250\n",
      "quantity: 10\n",
      "discount: no discount\n",
      "____________________\n",
      "items: shampoo\n",
      "price: 2000\n",
      "quantity: 6\n",
      "discount: no discount\n",
      "____________________\n"
     ]
    }
   ],
   "source": [
    "class Discount:\n",
    "    def __init__(self,items,price,quantity):\n",
    "        self.items = items\n",
    "        self.price = price\n",
    "        self.quantity = quantity\n",
    "    def check_discount(self):\n",
    "        if self.quantity > 5 and  self.price >= 4000:\n",
    "            return \" 40% discount on selected items\"\n",
    "        else:\n",
    "            return\"no discount\"\n",
    "    def show(self):\n",
    "        print (\"items:\", self.items)\n",
    "        print(\"price:\" , self.price)\n",
    "        print(\"quantity:\" ,self.quantity)\n",
    "        print(\"discount:\" , self.check_discount())\n",
    "        print(\"_\" * 20)\n",
    "a1 = Discount(\"oil\",2500,5)\n",
    "a2 = Discount(\"soap\",250 ,10)\n",
    "a3 = Discount(\"shampoo\", 2000,6)\n",
    "a1.show()\n",
    "a2.show()\n",
    "a3.show()\n",
    "             \n",
    "    \n"
   ]
  },
  {
   "cell_type": "code",
   "execution_count": 4,
   "id": "db1d360f-e589-4366-8944-0228b6e7679e",
   "metadata": {},
   "outputs": [
    {
     "name": "stdout",
     "output_type": "stream",
     "text": [
      "Items: oil\n",
      "Price per item: 450\n",
      "Quantity: 7\n",
      "Discount: 40% discount applied! final price=1890.0\n",
      "Items: shampoo\n",
      "Price per item: 2500\n",
      "Quantity: 4\n",
      "Discount: 40% discount applied! final price=6000.0\n",
      "Items: handbag:\n",
      "Price per item: 3000\n",
      "Quantity: 3\n",
      "Discount: 40% discount applied! final price=5400.0\n"
     ]
    }
   ],
   "source": [
    "class Discount:\n",
    "    def __init__(self,items,price,quantity):\n",
    "        self.items = items\n",
    "        self.price = price\n",
    "        self.quantity = quantity\n",
    "    def check_discount(self):\n",
    "        total_price = self.price *self.quantity\n",
    "        if self.quantity > 5 or total_price >= 5000:\n",
    "            discount_amount = total_price * 0.40\n",
    "            final_price = total_price - discount_amount\n",
    "            return f\"40% discount applied! final price={final_price}\"\n",
    "        else:\n",
    "            return f\"no discount.total price = {total_price}\"\n",
    "    def show(self):\n",
    "        print(\"Items:\",self.items)\n",
    "        print(\"Price per item:\", self.price)\n",
    "        print(\"Quantity:\",self.quantity)\n",
    "        print(\"Discount:\", self.check_discount())\n",
    "\n",
    "a1 = Discount(\"oil\",450 ,7)\n",
    "a2 = Discount(\"shampoo\",2500,4)\n",
    "a3 = Discount(\"handbag:\",3000,3)\n",
    "a1.show()\n",
    "a2.show()\n",
    "a3.show()\n",
    "\n",
    "        "
   ]
  },
  {
   "cell_type": "code",
   "execution_count": 7,
   "id": "630b4cb7-64f0-45b4-b4bf-1bd15f72169c",
   "metadata": {},
   "outputs": [
    {
     "name": "stdout",
     "output_type": "stream",
     "text": [
      "name: Ali\n",
      "age: 18\n",
      "height: 5.8 ft\n",
      "status: selected for football match\n",
      "______________________________\n",
      "name: Aisha\n",
      "age: 17\n",
      "height: 5.4 ft\n",
      "status: not selected\n",
      "______________________________\n",
      "name: Omar\n",
      "age: 22\n",
      "height: 6.0 ft\n",
      "status: selected for football match\n",
      "______________________________\n",
      "name: ashar\n",
      "age: 24\n",
      "height: 5.9 ft\n",
      "status: selected for football match\n",
      "______________________________\n"
     ]
    }
   ],
   "source": [
    "class Student:\n",
    "    def __init__(self,name ,age,height):\n",
    "        self.name = name\n",
    "        self.__age = age\n",
    "        self.height = height\n",
    "    def check_selection(self):\n",
    "        if   16 <= self.__age <= 25 and self.height >= 5.6:\n",
    "            return \"selected for football match\"\n",
    "        else:\n",
    "            return \"not selected\"\n",
    "    def show(self):\n",
    "        print(\"name:\" , self.name)\n",
    "        print(\"age:\" , self.__age)\n",
    "        print(\"height:\", self.height, \"ft\")\n",
    "        print(\"status:\" , self.check_selection())\n",
    "        print(\"_\" * 30)\n",
    "s1 = Student(\"Ali\", 18, 5.8)\n",
    "s2 = Student(\"Aisha\", 17, 5.4)\n",
    "s3 = Student(\"Omar\", 22, 6.0)\n",
    "s4 = Student(\"ashar\", 24, 5.9)\n",
    "\n",
    "s1.show()\n",
    "s2.show()\n",
    "s3.show()\n",
    "s4.show()\n"
   ]
  },
  {
   "cell_type": "code",
   "execution_count": 8,
   "id": "c498a133-72e0-40db-bfbf-d41a11251a4e",
   "metadata": {},
   "outputs": [
    {
     "name": "stdout",
     "output_type": "stream",
     "text": [
      "Items: oil\n",
      "Price per item: 450\n",
      "Quantity: 7\n",
      "Discount: 40% discount applied! final price=1890.0\n",
      "Items: shampoo\n",
      "Price per item: 2500\n",
      "Quantity: 4\n",
      "Discount: 40% discount applied! final price=6000.0\n",
      "Items: handbag:\n",
      "Price per item: 3000\n",
      "Quantity: 3\n",
      "Discount: 40% discount applied! final price=5400.0\n"
     ]
    }
   ],
   "source": [
    "\n",
    "#with capitalisation(private)\n",
    "class Discount:\n",
    "    def __init__(self,items,price,quantity):\n",
    "        self.items = items\n",
    "        self.price = price\n",
    "#to privatise any variable use (self.__variable name)\n",
    "        self.__quantity = quantity\n",
    "    def check_discount(self):\n",
    "        total_price = self.price *self.__quantity\n",
    "        if self.__quantity > 5 or total_price >= 5000:\n",
    "            discount_amount = total_price * 0.40\n",
    "            final_price = total_price - discount_amount\n",
    "            return f\"40% discount applied! final price={final_price}\"\n",
    "        else:\n",
    "            return f\"no discount.total price = {total_price}\"\n",
    "    def show(self):\n",
    "        print(\"Items:\",self.items)\n",
    "        print(\"Price per item:\", self.price)\n",
    "        print(\"Quantity:\",self.__quantity)\n",
    "        print(\"Discount:\", self.check_discount())\n",
    "\n",
    "a1 = Discount(\"oil\",450 ,7)\n",
    "a2 = Discount(\"shampoo\",2500,4)\n",
    "a3 = Discount(\"handbag:\",3000,3)\n",
    "a1.show()\n",
    "a2.show()\n",
    "a3.show()\n"
   ]
  },
  {
   "cell_type": "code",
   "execution_count": 10,
   "id": "877f4cd5-6b48-45b1-981e-ed59e30bd416",
   "metadata": {},
   "outputs": [
    {
     "name": "stdout",
     "output_type": "stream",
     "text": [
      "7\n",
      "Items: shampoo\n",
      "Price per item: 2500\n",
      "Quantity: 4\n",
      "Discount: 40% discount applied! final price=6000.0\n",
      "Items: handbag:\n",
      "Price per item: 3000\n",
      "Quantity: 3\n",
      "Discount: 40% discount applied! final price=5400.0\n"
     ]
    }
   ],
   "source": [
    "# to access a single atribute\n",
    "class Discount:\n",
    "    def __init__(self,items,price,quantity):\n",
    "        self.items = items\n",
    "        self.price = price\n",
    "        self.__quantity = quantity\n",
    "    def check_discount(self):\n",
    "        total_price = self.price *self.__quantity\n",
    "        if self.__quantity > 5 or total_price >= 5000:\n",
    "            discount_amount = total_price * 0.40\n",
    "            final_price = total_price - discount_amount\n",
    "            return f\"40% discount applied! final price={final_price}\"\n",
    "        else:\n",
    "            return f\"no discount.total price = {total_price}\"\n",
    "    def show(self):\n",
    "        print(\"Items:\",self.items)\n",
    "        print(\"Price per item:\", self.price)\n",
    "        print(\"Quantity:\",self.__quantity)\n",
    "        print(\"Discount:\", self.check_discount())\n",
    "\n",
    "a1 = Discount(\"oil\",450 ,7)\n",
    "a2 = Discount(\"shampoo\",2500,4)\n",
    "a3 = Discount(\"handbag:\",3000,3)\n",
    "#to access single atribute print(a1._classname__variablename)\n",
    "print(a1._Discount__quantity) \n",
    "a2.show()\n",
    "a3.show()\n"
   ]
  },
  {
   "cell_type": "code",
   "execution_count": 24,
   "id": "6e6744bf-815a-4e68-aa86-276f43a536ce",
   "metadata": {},
   "outputs": [
    {
     "name": "stdout",
     "output_type": "stream",
     "text": [
      "name: BMW\n",
      "color: BLACK\n"
     ]
    }
   ],
   "source": [
    "class Vehicle:\n",
    "    def __init__(self,name,color):\n",
    "      self.name=name\n",
    "      self.color=color\n",
    "    def show(self):\n",
    "     print(\"name:\",self.name)\n",
    "     print(\"color:\",self.color)\n",
    "class Car(Vehicle):\n",
    "    pass\n",
    "\n",
    "car=Car(\"BMW\",\"BLACK\")\n",
    "car.show()\n",
    "    "
   ]
  },
  {
   "cell_type": "code",
   "execution_count": 26,
   "id": "5d7d8192-b7d7-437c-bc4e-1a491a1e51f7",
   "metadata": {},
   "outputs": [
    {
     "name": "stdout",
     "output_type": "stream",
     "text": [
      "name: BMW\n",
      "color: black\n"
     ]
    },
    {
     "data": {
      "text/plain": [
       "'Raja'"
      ]
     },
     "execution_count": 26,
     "metadata": {},
     "output_type": "execute_result"
    }
   ],
   "source": [
    "#inheritance\n",
    "class Vehicle:\n",
    "    def __init__(self,name,color):\n",
    "      self.__name=name\n",
    "      self.color=color\n",
    "    def __show(self):\n",
    "     print(\"name:\",self.__name)\n",
    "     print(\"color:\",self.color)\n",
    "car=Vehicle(\"BMW\",\"black\")\n",
    "bus=Vehicle(\"Raja\",\"red\")\n",
    "#same as variable access\n",
    "car._Vehicle__show()\n",
    "bus._Vehicle__name"
   ]
  },
  {
   "cell_type": "code",
   "execution_count": 36,
   "id": "5329e269-3383-474a-a64e-908158584008",
   "metadata": {},
   "outputs": [
    {
     "name": "stdout",
     "output_type": "stream",
     "text": [
      "name: rose\n",
      "color: red\n"
     ]
    },
    {
     "data": {
      "text/plain": [
       "'sunflower'"
      ]
     },
     "execution_count": 36,
     "metadata": {},
     "output_type": "execute_result"
    }
   ],
   "source": [
    "class Flower:\n",
    "    def __init__(self,name,color):\n",
    "        self.__name = name\n",
    "        self.color = color\n",
    "    def __show(self):\n",
    "        print(\"name:\" , self.__name)\n",
    "        print(\"color:\" , self.color)\n",
    "f1 = Flower(\"rose\" ,\"red\")\n",
    "f2 = Flower(\"sunflower\" ,\" yellow\")\n",
    "f1._Flower__show()\n",
    "f2._Flower__name"
   ]
  },
  {
   "cell_type": "code",
   "execution_count": 35,
   "id": "c0015d68-d84f-4752-b834-3078ae639544",
   "metadata": {},
   "outputs": [
    {
     "name": "stdout",
     "output_type": "stream",
     "text": [
      "smell: sweet\n",
      "color: red\n"
     ]
    }
   ],
   "source": [
    "#inheritance\n",
    "class Flower:\n",
    "    def __init__(self,smell,color):\n",
    "        self.__smell = smell\n",
    "        self.color = color\n",
    "    def __show(self):\n",
    "        print(\"smell:\" , self.__smell)\n",
    "        print(\"color:\" , self.color)\n",
    "class rose(Flower):\n",
    "    pass\n",
    "r1 = rose(\"sweet\" , \"red\")\n",
    "r1._Flower__show()"
   ]
  },
  {
   "cell_type": "code",
   "execution_count": 42,
   "id": "1b2fd11c-75ac-4ea9-bb97-6960c6382496",
   "metadata": {},
   "outputs": [
    {
     "name": "stdout",
     "output_type": "stream",
     "text": [
      "smell:  sweet\n",
      "color: red\n",
      "smell: bad\n",
      "color: white\n"
     ]
    }
   ],
   "source": [
    "#without constructor\n",
    "class Flower:\n",
    "    def show(self):\n",
    "        print(\"smell:\" ,self.smell)\n",
    "        print(\"color:\" , self.color)\n",
    "class Rose(Flower):\n",
    "    pass\n",
    "r = Rose()\n",
    "r1 = Rose()\n",
    "r.smell =\" sweet\"\n",
    "r.color = \"red\"\n",
    "r.show()\n",
    "r1.smell = \"bad\"\n",
    "r1.color = \"white\"\n",
    "r1.show()"
   ]
  },
  {
   "cell_type": "code",
   "execution_count": 39,
   "id": "8894df66-2a41-4f79-8c4e-42a287a0d658",
   "metadata": {},
   "outputs": [
    {
     "name": "stdout",
     "output_type": "stream",
     "text": [
      "balance: 150000\n",
      "account_type: premium\n",
      "balance: 10000\n",
      "account_type: gold\n"
     ]
    }
   ],
   "source": [
    "class Bank:\n",
    "    def __init__(self,balance,account_type):\n",
    "        self.__balance = balance\n",
    "        self.__account_type = account_type\n",
    "    def __show(self):\n",
    "        print(\"balance:\" ,self.__balance)\n",
    "        print(\"account_type:\" , self.__account_type)\n",
    "A1 = Bank(150000 , \"premium\")\n",
    "A2 = Bank(10000 , \"gold\")\n",
    "A1._Bank__show()\n",
    "A2._Bank__show()\n"
   ]
  },
  {
   "cell_type": "code",
   "execution_count": 41,
   "id": "698845d3-2e3e-4e6b-855d-e1ec2559eb55",
   "metadata": {},
   "outputs": [
    {
     "name": "stdout",
     "output_type": "stream",
     "text": [
      "balance: 100000\n",
      "account_type: premiun\n"
     ]
    }
   ],
   "source": [
    "#inheritance\n",
    "class Bank:\n",
    "    def __init__(self,balance,account_type):\n",
    "        self.__balance = balance\n",
    "        self.__account_type = account_type\n",
    "    def __show(self):\n",
    "        print(\"balance:\" ,self.__balance)\n",
    "        print(\"account_type:\" , self.__account_type)\n",
    "    #subclass (mainclass):\n",
    "    #pass\n",
    "    #atributes =subclass()\n",
    "    #_class__show()\n",
    "class Loan(Bank):\n",
    "    pass\n",
    "A1= Loan(100000 , \"premiun\")\n",
    "A1._Bank__show()"
   ]
  },
  {
   "cell_type": "code",
   "execution_count": 6,
   "id": "d7b76913-086f-4944-9c5f-c95999c6ca4a",
   "metadata": {},
   "outputs": [],
   "source": [
    "#Write a function which checks wether we have vowels in a string\n",
    "def has_vowels(text):\n",
    "    vowels = \"aeiouAEIOU\"\n",
    "    for ch in text:\n",
    "        if ch in vowels:\n",
    "            return True\n",
    "        else:\n",
    "            return False\n"
   ]
  },
  {
   "cell_type": "code",
   "execution_count": 7,
   "id": "565db090-a080-4fef-92fe-e198ed231f54",
   "metadata": {},
   "outputs": [
    {
     "data": {
      "text/plain": [
       "True"
      ]
     },
     "execution_count": 7,
     "metadata": {},
     "output_type": "execute_result"
    }
   ],
   "source": [
    "#to call function\n",
    "has_vowels(\"aisha\")\n"
   ]
  },
  {
   "cell_type": "code",
   "execution_count": 8,
   "id": "a654ead8-9c99-43c3-a3a8-ce9a0c38f6f7",
   "metadata": {},
   "outputs": [
    {
     "data": {
      "text/plain": [
       "False"
      ]
     },
     "execution_count": 8,
     "metadata": {},
     "output_type": "execute_result"
    }
   ],
   "source": [
    "has_vowels(\"lptp\")"
   ]
  },
  {
   "cell_type": "code",
   "execution_count": 11,
   "id": "af49b8ff-7510-4b9d-ba84-dcccd852ca23",
   "metadata": {},
   "outputs": [
    {
     "name": "stdout",
     "output_type": "stream",
     "text": [
      "sh\n"
     ]
    }
   ],
   "source": [
    "#\"\".join(...) Joins all kept characters together into a single string.\n",
    "remove_vowels = lambda name:\"\".join(ch for ch in name if ch.lower() not in \"aeiou\") \n",
    "print(remove_vowels(\"aisha\"))"
   ]
  },
  {
   "cell_type": "code",
   "execution_count": 20,
   "id": "70e00b99-4b1e-4bcd-a6b5-7fee8bb4fda9",
   "metadata": {},
   "outputs": [
    {
     "name": "stdout",
     "output_type": "stream",
     "text": [
      "name: ali,age: 20\n",
      "Grade: 10th grade\n",
      "name: ahsan,age: 35\n",
      "Subject :mathematics, salary: 18000\n",
      "----\n"
     ]
    }
   ],
   "source": [
    "#inheritance example\n",
    "#parent class \n",
    "class Person:\n",
    "    def __init__(self,name,age):\n",
    "        self.name = name\n",
    "        self.age = age\n",
    "    def display_info(self):\n",
    "        print(f\"name: {self.name},age: {self.age}\")\n",
    "    #child class 1(inherit from parents\n",
    "class Student(Person):\n",
    "    def __init__(self,name ,age,grade):\n",
    "#call parent constructor \n",
    " #super().__init__(...) is used to call the parent constructor, so we don’t rewrite code.\n",
    "        super().__init__(name,age)\n",
    "        self.grade = grade\n",
    "    def display_info(self):\n",
    "        super().display_info()\n",
    "        print(f\"Grade: {self.grade}\")\n",
    "#child class 2\n",
    "class Teacher(Person):\n",
    "    def __init__(self,name,age,subject,salary):\n",
    "        super().__init__(name,age)\n",
    "        self.subject = subject\n",
    "        self.salary = salary\n",
    "    def display_info(self):\n",
    "        super().display_info()\n",
    "        print(f\"Subject :{self.subject}, salary: {self.salary}\")\n",
    "        \n",
    "\n",
    "#usage\n",
    "s1 = Student(\"ali\" , 20, \"10th grade\")\n",
    "s2 = Student(\"ahsan\" ,10 , \"9th grade\")\n",
    "t1 = Teacher (\"ahsan\", 35 , \"mathematics\",18000)\n",
    "s1.display_info()\n",
    "t1.display_info()\n",
    "print(\"----\")\n",
    "\n",
    "    \n",
    "        \n",
    "    "
   ]
  },
  {
   "cell_type": "code",
   "execution_count": null,
   "id": "e0e2d12e-0328-4450-9baf-9bea5638353b",
   "metadata": {},
   "outputs": [],
   "source": []
  }
 ],
 "metadata": {
  "kernelspec": {
   "display_name": "Python [conda env:base] *",
   "language": "python",
   "name": "conda-base-py"
  },
  "language_info": {
   "codemirror_mode": {
    "name": "ipython",
    "version": 3
   },
   "file_extension": ".py",
   "mimetype": "text/x-python",
   "name": "python",
   "nbconvert_exporter": "python",
   "pygments_lexer": "ipython3",
   "version": "3.13.5"
  }
 },
 "nbformat": 4,
 "nbformat_minor": 5
}
