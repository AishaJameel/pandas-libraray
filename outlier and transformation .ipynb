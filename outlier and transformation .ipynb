{
 "cells": [
  {
   "cell_type": "code",
   "execution_count": 1,
   "id": "45c2bcdf-7904-4acd-8bd6-c1dc37925435",
   "metadata": {},
   "outputs": [
    {
     "name": "stdout",
     "output_type": "stream",
     "text": [
      "      Transaction ID Customer ID       Category          Item  Price Per Unit  \\\n",
      "0        TXN_6867343     CUST_09     Patisserie   Item_10_PAT            18.5   \n",
      "1        TXN_3731986     CUST_22  Milk Products  Item_17_MILK            29.0   \n",
      "2        TXN_9303719     CUST_02       Butchers   Item_12_BUT            21.5   \n",
      "3        TXN_9458126     CUST_06      Beverages   Item_16_BEV            27.5   \n",
      "4        TXN_4575373     CUST_05           Food   Item_6_FOOD            12.5   \n",
      "...              ...         ...            ...           ...             ...   \n",
      "12570    TXN_9347481     CUST_18     Patisserie   Item_23_PAT            38.0   \n",
      "12571    TXN_4009414     CUST_03      Beverages    Item_2_BEV             6.5   \n",
      "12572    TXN_5306010     CUST_11       Butchers    Item_7_BUT            14.0   \n",
      "12573    TXN_5167298     CUST_04      Furniture    Item_7_FUR            14.0   \n",
      "12574    TXN_2407494     CUST_23           Food   Item_9_FOOD            17.0   \n",
      "\n",
      "       Quantity  Total Spent  Payment Method  Location Transaction Date  \\\n",
      "0          10.0        185.0  Digital Wallet    Online       2024-04-08   \n",
      "1           9.0        261.0  Digital Wallet    Online       2023-07-23   \n",
      "2           2.0         43.0     Credit Card    Online       2022-10-05   \n",
      "3           9.0        247.5     Credit Card    Online       2022-05-07   \n",
      "4           7.0         87.5  Digital Wallet    Online       2022-10-02   \n",
      "...         ...          ...             ...       ...              ...   \n",
      "12570       4.0        152.0     Credit Card  In-store       2023-09-03   \n",
      "12571       9.0         58.5            Cash    Online       2022-08-12   \n",
      "12572      10.0        140.0            Cash    Online       2024-08-24   \n",
      "12573       6.0         84.0            Cash    Online       2023-12-30   \n",
      "12574       3.0         51.0            Cash    Online       2022-08-06   \n",
      "\n",
      "      Discount Applied  \n",
      "0                 True  \n",
      "1                 True  \n",
      "2                False  \n",
      "3                  NaN  \n",
      "4                False  \n",
      "...                ...  \n",
      "12570              NaN  \n",
      "12571            False  \n",
      "12572              NaN  \n",
      "12573             True  \n",
      "12574              NaN  \n",
      "\n",
      "[12575 rows x 11 columns]\n"
     ]
    }
   ],
   "source": [
    "import pandas as pd\n",
    "import numpy as np\n",
    "import matplotlib.pyplot as plt\n",
    "df = pd.read_csv(r\"C:\\Users\\amnaj\\OneDrive\\Desktop\\ARTIFICIAL INTELLIGENCE\\retail_store_sales.csv\")\n",
    "print(df)"
   ]
  },
  {
   "cell_type": "code",
   "execution_count": 17,
   "id": "bcb2632c-0b9b-42fd-ad21-b403d4c7a7c0",
   "metadata": {},
   "outputs": [
    {
     "data": {
      "text/html": [
       "<div>\n",
       "<style scoped>\n",
       "    .dataframe tbody tr th:only-of-type {\n",
       "        vertical-align: middle;\n",
       "    }\n",
       "\n",
       "    .dataframe tbody tr th {\n",
       "        vertical-align: top;\n",
       "    }\n",
       "\n",
       "    .dataframe thead th {\n",
       "        text-align: right;\n",
       "    }\n",
       "</style>\n",
       "<table border=\"1\" class=\"dataframe\">\n",
       "  <thead>\n",
       "    <tr style=\"text-align: right;\">\n",
       "      <th></th>\n",
       "      <th>Transaction ID</th>\n",
       "      <th>Customer ID</th>\n",
       "      <th>Category</th>\n",
       "      <th>Item</th>\n",
       "      <th>Price Per Unit</th>\n",
       "      <th>Quantity</th>\n",
       "      <th>Total Spent</th>\n",
       "      <th>Payment Method</th>\n",
       "      <th>Location</th>\n",
       "      <th>Transaction Date</th>\n",
       "      <th>Discount Applied</th>\n",
       "    </tr>\n",
       "  </thead>\n",
       "  <tbody>\n",
       "    <tr>\n",
       "      <th>0</th>\n",
       "      <td>TXN_6867343</td>\n",
       "      <td>CUST_09</td>\n",
       "      <td>Patisserie</td>\n",
       "      <td>Item_10_PAT</td>\n",
       "      <td>18.5</td>\n",
       "      <td>10.0</td>\n",
       "      <td>185.0</td>\n",
       "      <td>Digital Wallet</td>\n",
       "      <td>Online</td>\n",
       "      <td>2024-04-08</td>\n",
       "      <td>True</td>\n",
       "    </tr>\n",
       "    <tr>\n",
       "      <th>1</th>\n",
       "      <td>TXN_3731986</td>\n",
       "      <td>CUST_22</td>\n",
       "      <td>Milk Products</td>\n",
       "      <td>Item_17_MILK</td>\n",
       "      <td>29.0</td>\n",
       "      <td>9.0</td>\n",
       "      <td>261.0</td>\n",
       "      <td>Digital Wallet</td>\n",
       "      <td>Online</td>\n",
       "      <td>2023-07-23</td>\n",
       "      <td>True</td>\n",
       "    </tr>\n",
       "    <tr>\n",
       "      <th>2</th>\n",
       "      <td>TXN_9303719</td>\n",
       "      <td>CUST_02</td>\n",
       "      <td>Butchers</td>\n",
       "      <td>Item_12_BUT</td>\n",
       "      <td>21.5</td>\n",
       "      <td>2.0</td>\n",
       "      <td>43.0</td>\n",
       "      <td>Credit Card</td>\n",
       "      <td>Online</td>\n",
       "      <td>2022-10-05</td>\n",
       "      <td>False</td>\n",
       "    </tr>\n",
       "    <tr>\n",
       "      <th>3</th>\n",
       "      <td>TXN_9458126</td>\n",
       "      <td>CUST_06</td>\n",
       "      <td>Beverages</td>\n",
       "      <td>Item_16_BEV</td>\n",
       "      <td>27.5</td>\n",
       "      <td>9.0</td>\n",
       "      <td>247.5</td>\n",
       "      <td>Credit Card</td>\n",
       "      <td>Online</td>\n",
       "      <td>2022-05-07</td>\n",
       "      <td>NaN</td>\n",
       "    </tr>\n",
       "    <tr>\n",
       "      <th>4</th>\n",
       "      <td>TXN_4575373</td>\n",
       "      <td>CUST_05</td>\n",
       "      <td>Food</td>\n",
       "      <td>Item_6_FOOD</td>\n",
       "      <td>12.5</td>\n",
       "      <td>7.0</td>\n",
       "      <td>87.5</td>\n",
       "      <td>Digital Wallet</td>\n",
       "      <td>Online</td>\n",
       "      <td>2022-10-02</td>\n",
       "      <td>False</td>\n",
       "    </tr>\n",
       "  </tbody>\n",
       "</table>\n",
       "</div>"
      ],
      "text/plain": [
       "  Transaction ID Customer ID       Category          Item  Price Per Unit  \\\n",
       "0    TXN_6867343     CUST_09     Patisserie   Item_10_PAT            18.5   \n",
       "1    TXN_3731986     CUST_22  Milk Products  Item_17_MILK            29.0   \n",
       "2    TXN_9303719     CUST_02       Butchers   Item_12_BUT            21.5   \n",
       "3    TXN_9458126     CUST_06      Beverages   Item_16_BEV            27.5   \n",
       "4    TXN_4575373     CUST_05           Food   Item_6_FOOD            12.5   \n",
       "\n",
       "   Quantity  Total Spent  Payment Method Location Transaction Date  \\\n",
       "0      10.0        185.0  Digital Wallet   Online       2024-04-08   \n",
       "1       9.0        261.0  Digital Wallet   Online       2023-07-23   \n",
       "2       2.0         43.0     Credit Card   Online       2022-10-05   \n",
       "3       9.0        247.5     Credit Card   Online       2022-05-07   \n",
       "4       7.0         87.5  Digital Wallet   Online       2022-10-02   \n",
       "\n",
       "  Discount Applied  \n",
       "0             True  \n",
       "1             True  \n",
       "2            False  \n",
       "3              NaN  \n",
       "4            False  "
      ]
     },
     "execution_count": 17,
     "metadata": {},
     "output_type": "execute_result"
    }
   ],
   "source": [
    "df.head()"
   ]
  },
  {
   "cell_type": "code",
   "execution_count": 18,
   "id": "e5bf5745-5031-4899-b55c-df840d2e5634",
   "metadata": {},
   "outputs": [
    {
     "data": {
      "text/plain": [
       "Index(['Transaction ID', 'Customer ID', 'Category', 'Item', 'Price Per Unit',\n",
       "       'Quantity', 'Total Spent', 'Payment Method', 'Location',\n",
       "       'Transaction Date', 'Discount Applied'],\n",
       "      dtype='object')"
      ]
     },
     "execution_count": 18,
     "metadata": {},
     "output_type": "execute_result"
    }
   ],
   "source": [
    "df.columns"
   ]
  },
  {
   "cell_type": "code",
   "execution_count": 4,
   "id": "d16cba10-9169-4664-ac3d-3ad30963a3e6",
   "metadata": {},
   "outputs": [
    {
     "data": {
      "text/plain": [
       "(12575, 11)"
      ]
     },
     "execution_count": 4,
     "metadata": {},
     "output_type": "execute_result"
    }
   ],
   "source": [
    "df.shape"
   ]
  },
  {
   "cell_type": "code",
   "execution_count": 5,
   "id": "2bd4246b-e674-48e3-9f35-d519ca190e5a",
   "metadata": {},
   "outputs": [],
   "source": [
    "def detect_outlier(data):\n",
    "    Q1 = np.percentile(data,25)\n",
    "    print(\"First Quantifier\",Q1)\n",
    "    Q3 = np.percentile(data,75)\n",
    "    print(\"3rd Quantifier\",Q3)\n",
    "    IQR = Q3-Q1\n",
    "    print(IQR)\n",
    "    lower_bound = Q1 -1.5*IQR\n",
    "    upper_bound = Q3+ 1.5*IQR\n",
    "    print(\"Lower_bound\",lower_bound)\n",
    "    print(\"upper_bound\",upper_bound)\n",
    "    outlier = [x for x in data if x < lower_bound or x> upper_bound]\n",
    "    return outlier,lower_bound,upper_bound"
   ]
  },
  {
   "cell_type": "code",
   "execution_count": 6,
   "id": "26743c8a-c1c8-47bf-a423-38438711dda1",
   "metadata": {},
   "outputs": [
    {
     "name": "stdout",
     "output_type": "stream",
     "text": [
      "First Quantifier nan\n",
      "3rd Quantifier nan\n",
      "nan\n",
      "Lower_bound nan\n",
      "upper_bound nan\n",
      "Outliers: []\n",
      "Number of outliers: 0\n"
     ]
    }
   ],
   "source": [
    "outliers, lower, upper = detect_outlier(df[\"Total Spent\"])\n",
    "\n",
    "print(\"Outliers:\", outliers[:10])   # show first 10 outliers\n",
    "print(\"Number of outliers:\", len(outliers))\n"
   ]
  },
  {
   "cell_type": "code",
   "execution_count": null,
   "id": "102d77fb-8e25-42c7-b5ef-4a9e3cff734c",
   "metadata": {},
   "outputs": [],
   "source": []
  },
  {
   "cell_type": "code",
   "execution_count": 26,
   "id": "ee3c513c-d353-4181-aa62-47b8a31b4c26",
   "metadata": {},
   "outputs": [
    {
     "name": "stdout",
     "output_type": "stream",
     "text": [
      "First Quantifier nan\n",
      "3rd Quantifier nan\n",
      "nan\n",
      "Lower_bound nan\n",
      "upper_bound nan\n"
     ]
    }
   ],
   "source": [
    "df[\"Total Spent\"] = df[\"Total Spent\"]\n",
    "outlier,lb1,ub1= detect_outlier(df[\"Total Spent\"])"
   ]
  },
  {
   "cell_type": "code",
   "execution_count": 30,
   "id": "464d15fc-d72d-4bb3-b431-89b317ae6abd",
   "metadata": {},
   "outputs": [
    {
     "ename": "KeyError",
     "evalue": "'Total Spent'",
     "output_type": "error",
     "traceback": [
      "\u001b[1;31m---------------------------------------------------------------------------\u001b[0m",
      "\u001b[1;31mKeyError\u001b[0m                                  Traceback (most recent call last)",
      "File \u001b[1;32m~\\anaconda3\\Lib\\site-packages\\pandas\\core\\indexes\\base.py:3805\u001b[0m, in \u001b[0;36mIndex.get_loc\u001b[1;34m(self, key)\u001b[0m\n\u001b[0;32m   3804\u001b[0m \u001b[38;5;28;01mtry\u001b[39;00m:\n\u001b[1;32m-> 3805\u001b[0m     \u001b[38;5;28;01mreturn\u001b[39;00m \u001b[38;5;28mself\u001b[39m\u001b[38;5;241m.\u001b[39m_engine\u001b[38;5;241m.\u001b[39mget_loc(casted_key)\n\u001b[0;32m   3806\u001b[0m \u001b[38;5;28;01mexcept\u001b[39;00m \u001b[38;5;167;01mKeyError\u001b[39;00m \u001b[38;5;28;01mas\u001b[39;00m err:\n",
      "File \u001b[1;32mindex.pyx:167\u001b[0m, in \u001b[0;36mpandas._libs.index.IndexEngine.get_loc\u001b[1;34m()\u001b[0m\n",
      "File \u001b[1;32mindex.pyx:196\u001b[0m, in \u001b[0;36mpandas._libs.index.IndexEngine.get_loc\u001b[1;34m()\u001b[0m\n",
      "File \u001b[1;32mpandas\\\\_libs\\\\hashtable_class_helper.pxi:7081\u001b[0m, in \u001b[0;36mpandas._libs.hashtable.PyObjectHashTable.get_item\u001b[1;34m()\u001b[0m\n",
      "File \u001b[1;32mpandas\\\\_libs\\\\hashtable_class_helper.pxi:7089\u001b[0m, in \u001b[0;36mpandas._libs.hashtable.PyObjectHashTable.get_item\u001b[1;34m()\u001b[0m\n",
      "\u001b[1;31mKeyError\u001b[0m: 'Total Spent'",
      "\nThe above exception was the direct cause of the following exception:\n",
      "\u001b[1;31mKeyError\u001b[0m                                  Traceback (most recent call last)",
      "Cell \u001b[1;32mIn[30], line 1\u001b[0m\n\u001b[1;32m----> 1\u001b[0m Q1\u001b[38;5;241m=\u001b[39m df[\u001b[38;5;124m\"\u001b[39m\u001b[38;5;124mTotal Spent\u001b[39m\u001b[38;5;124m\"\u001b[39m]\u001b[38;5;241m.\u001b[39mquantile(\u001b[38;5;241m0.25\u001b[39m)\n\u001b[0;32m      2\u001b[0m Q3 \u001b[38;5;241m=\u001b[39m df[\u001b[38;5;124m\"\u001b[39m\u001b[38;5;124mTotal Spent\u001b[39m\u001b[38;5;124m\"\u001b[39m]\u001b[38;5;241m.\u001b[39mquantile(\u001b[38;5;241m0.75\u001b[39m)\n\u001b[0;32m      3\u001b[0m IQR \u001b[38;5;241m=\u001b[39m Q3 \u001b[38;5;241m-\u001b[39m Q1\n",
      "File \u001b[1;32m~\\anaconda3\\Lib\\site-packages\\pandas\\core\\frame.py:4102\u001b[0m, in \u001b[0;36mDataFrame.__getitem__\u001b[1;34m(self, key)\u001b[0m\n\u001b[0;32m   4100\u001b[0m \u001b[38;5;28;01mif\u001b[39;00m \u001b[38;5;28mself\u001b[39m\u001b[38;5;241m.\u001b[39mcolumns\u001b[38;5;241m.\u001b[39mnlevels \u001b[38;5;241m>\u001b[39m \u001b[38;5;241m1\u001b[39m:\n\u001b[0;32m   4101\u001b[0m     \u001b[38;5;28;01mreturn\u001b[39;00m \u001b[38;5;28mself\u001b[39m\u001b[38;5;241m.\u001b[39m_getitem_multilevel(key)\n\u001b[1;32m-> 4102\u001b[0m indexer \u001b[38;5;241m=\u001b[39m \u001b[38;5;28mself\u001b[39m\u001b[38;5;241m.\u001b[39mcolumns\u001b[38;5;241m.\u001b[39mget_loc(key)\n\u001b[0;32m   4103\u001b[0m \u001b[38;5;28;01mif\u001b[39;00m is_integer(indexer):\n\u001b[0;32m   4104\u001b[0m     indexer \u001b[38;5;241m=\u001b[39m [indexer]\n",
      "File \u001b[1;32m~\\anaconda3\\Lib\\site-packages\\pandas\\core\\indexes\\base.py:3812\u001b[0m, in \u001b[0;36mIndex.get_loc\u001b[1;34m(self, key)\u001b[0m\n\u001b[0;32m   3807\u001b[0m     \u001b[38;5;28;01mif\u001b[39;00m \u001b[38;5;28misinstance\u001b[39m(casted_key, \u001b[38;5;28mslice\u001b[39m) \u001b[38;5;129;01mor\u001b[39;00m (\n\u001b[0;32m   3808\u001b[0m         \u001b[38;5;28misinstance\u001b[39m(casted_key, abc\u001b[38;5;241m.\u001b[39mIterable)\n\u001b[0;32m   3809\u001b[0m         \u001b[38;5;129;01mand\u001b[39;00m \u001b[38;5;28many\u001b[39m(\u001b[38;5;28misinstance\u001b[39m(x, \u001b[38;5;28mslice\u001b[39m) \u001b[38;5;28;01mfor\u001b[39;00m x \u001b[38;5;129;01min\u001b[39;00m casted_key)\n\u001b[0;32m   3810\u001b[0m     ):\n\u001b[0;32m   3811\u001b[0m         \u001b[38;5;28;01mraise\u001b[39;00m InvalidIndexError(key)\n\u001b[1;32m-> 3812\u001b[0m     \u001b[38;5;28;01mraise\u001b[39;00m \u001b[38;5;167;01mKeyError\u001b[39;00m(key) \u001b[38;5;28;01mfrom\u001b[39;00m\u001b[38;5;250m \u001b[39m\u001b[38;5;21;01merr\u001b[39;00m\n\u001b[0;32m   3813\u001b[0m \u001b[38;5;28;01mexcept\u001b[39;00m \u001b[38;5;167;01mTypeError\u001b[39;00m:\n\u001b[0;32m   3814\u001b[0m     \u001b[38;5;66;03m# If we have a listlike key, _check_indexing_error will raise\u001b[39;00m\n\u001b[0;32m   3815\u001b[0m     \u001b[38;5;66;03m#  InvalidIndexError. Otherwise we fall through and re-raise\u001b[39;00m\n\u001b[0;32m   3816\u001b[0m     \u001b[38;5;66;03m#  the TypeError.\u001b[39;00m\n\u001b[0;32m   3817\u001b[0m     \u001b[38;5;28mself\u001b[39m\u001b[38;5;241m.\u001b[39m_check_indexing_error(key)\n",
      "\u001b[1;31mKeyError\u001b[0m: 'Total Spent'"
     ]
    }
   ],
   "source": [
    "Q1= df[\"Total Spent\"].quantile(0.25)\n",
    "Q3 = df[\"Total Spent\"].quantile(0.75)\n",
    "IQR = Q3 - Q1\n",
    "lower = Q1-1.5*IQR\n",
    "upper = Q3+1.5* IQR\n",
    "df_no_outliers = df[(df[\"Total Spent\"] >= lower) & (df[\"Total Spent\"]<= upper)]\n",
    "print(df_no_outliers)"
   ]
  },
  {
   "cell_type": "code",
   "execution_count": 31,
   "id": "a6f025a4-1995-42b4-b290-fc32b2358881",
   "metadata": {},
   "outputs": [
    {
     "name": "stdout",
     "output_type": "stream",
     "text": [
      "Original shape: (87489, 8)\n"
     ]
    },
    {
     "ename": "NameError",
     "evalue": "name 'df_no_outliers' is not defined",
     "output_type": "error",
     "traceback": [
      "\u001b[1;31m---------------------------------------------------------------------------\u001b[0m",
      "\u001b[1;31mNameError\u001b[0m                                 Traceback (most recent call last)",
      "Cell \u001b[1;32mIn[31], line 2\u001b[0m\n\u001b[0;32m      1\u001b[0m \u001b[38;5;28mprint\u001b[39m(\u001b[38;5;124m\"\u001b[39m\u001b[38;5;124mOriginal shape:\u001b[39m\u001b[38;5;124m\"\u001b[39m, df\u001b[38;5;241m.\u001b[39mshape)\n\u001b[1;32m----> 2\u001b[0m \u001b[38;5;28mprint\u001b[39m(\u001b[38;5;124m\"\u001b[39m\u001b[38;5;124mAfter removing outliers:\u001b[39m\u001b[38;5;124m\"\u001b[39m, df_no_outliers\u001b[38;5;241m.\u001b[39mshape)\n\u001b[0;32m      3\u001b[0m \u001b[38;5;28mprint\u001b[39m(\u001b[38;5;124m\"\u001b[39m\u001b[38;5;124mOutliers removed:\u001b[39m\u001b[38;5;124m\"\u001b[39m, df\u001b[38;5;241m.\u001b[39mshape[\u001b[38;5;241m0\u001b[39m] \u001b[38;5;241m-\u001b[39m df_no_outliers\u001b[38;5;241m.\u001b[39mshape[\u001b[38;5;241m0\u001b[39m])\n",
      "\u001b[1;31mNameError\u001b[0m: name 'df_no_outliers' is not defined"
     ]
    }
   ],
   "source": [
    "print(\"Original shape:\", df.shape)\n",
    "print(\"After removing outliers:\", df_no_outliers.shape)\n",
    "print(\"Outliers removed:\", df.shape[0] - df_no_outliers.shape[0])\n"
   ]
  },
  {
   "cell_type": "code",
   "execution_count": 21,
   "id": "62b0ee50-5998-425b-b90a-d2d4eacde5a7",
   "metadata": {},
   "outputs": [
    {
     "data": {
      "image/png": "[encoded data removed]",
      "text/plain": [
       "<Figure size 640x480 with 1 Axes>"
      ]
     },
     "metadata": {},
     "output_type": "display_data"
    }
   ],
   "source": [
    "import matplotlib.pyplot as plt\n",
    "\n",
    "plt.boxplot(df[\"Total Spent\"])\n",
    "plt.title(\"Boxplot of Total Spent\")\n",
    "plt.ylabel(\"Amount\")\n",
    "plt.show()"
   ]
  },
  {
   "cell_type": "code",
   "execution_count": null,
   "id": "7eeea13f-9c3b-4d59-bf5b-c180ebdbe00e",
   "metadata": {},
   "outputs": [],
   "source": []
  },
  {
   "cell_type": "code",
   "execution_count": 24,
   "id": "0fa32a50-e71a-4a41-bf8f-22f1d70d9ccb",
   "metadata": {},
   "outputs": [
    {
     "name": "stdout",
     "output_type": "stream",
     "text": [
      "       log_Total_spent\n",
      "0             5.225747\n",
      "1             5.568345\n",
      "2             3.784190\n",
      "3             5.515443\n",
      "4             4.483003\n",
      "...                ...\n",
      "12570         5.030438\n",
      "12571         4.085976\n",
      "12572         4.948760\n",
      "12573         4.442651\n",
      "12574         3.951244\n",
      "\n",
      "[12575 rows x 1 columns]\n"
     ]
    }
   ],
   "source": [
    "\n",
    "df['log_Total_spent'] = np.log1p(df['Total Spent'])\n",
    "print(df[['log_Total_spent']])"
   ]
  },
  {
   "cell_type": "code",
   "execution_count": 33,
   "id": "99e6ab21-672c-4c37-8c17-7396d84aec3c",
   "metadata": {},
   "outputs": [
    {
     "data": {
      "text/plain": [
       "name           object\n",
       "author         object\n",
       "narrator       object\n",
       "time           object\n",
       "releasedate    object\n",
       "language       object\n",
       "stars          object\n",
       "price          object\n",
       "dtype: object"
      ]
     },
     "execution_count": 33,
     "metadata": {},
     "output_type": "execute_result"
    }
   ],
   "source": [
    "df.dtypes"
   ]
  },
  {
   "cell_type": "code",
   "execution_count": 34,
   "id": "3e40a7d6-3c15-4038-a637-60e5e05f9d22",
   "metadata": {},
   "outputs": [
    {
     "name": "stdout",
     "output_type": "stream",
     "text": [
      "      Transaction ID Customer ID       Category          Item  Price Per Unit  \\\n",
      "0        TXN_6867343     CUST_09     Patisserie   Item_10_PAT            18.5   \n",
      "1        TXN_3731986     CUST_22  Milk Products  Item_17_MILK            29.0   \n",
      "2        TXN_9303719     CUST_02       Butchers   Item_12_BUT            21.5   \n",
      "3        TXN_9458126     CUST_06      Beverages   Item_16_BEV            27.5   \n",
      "4        TXN_4575373     CUST_05           Food   Item_6_FOOD            12.5   \n",
      "...              ...         ...            ...           ...             ...   \n",
      "12570    TXN_9347481     CUST_18     Patisserie   Item_23_PAT            38.0   \n",
      "12571    TXN_4009414     CUST_03      Beverages    Item_2_BEV             6.5   \n",
      "12572    TXN_5306010     CUST_11       Butchers    Item_7_BUT            14.0   \n",
      "12573    TXN_5167298     CUST_04      Furniture    Item_7_FUR            14.0   \n",
      "12574    TXN_2407494     CUST_23           Food   Item_9_FOOD            17.0   \n",
      "\n",
      "       Quantity  Total Spent  Payment Method  Location Transaction Date  \\\n",
      "0          10.0        185.0  Digital Wallet    Online       2024-04-08   \n",
      "1           9.0        261.0  Digital Wallet    Online       2023-07-23   \n",
      "2           2.0         43.0     Credit Card    Online       2022-10-05   \n",
      "3           9.0        247.5     Credit Card    Online       2022-05-07   \n",
      "4           7.0         87.5  Digital Wallet    Online       2022-10-02   \n",
      "...         ...          ...             ...       ...              ...   \n",
      "12570       4.0        152.0     Credit Card  In-store       2023-09-03   \n",
      "12571       9.0         58.5            Cash    Online       2022-08-12   \n",
      "12572      10.0        140.0            Cash    Online       2024-08-24   \n",
      "12573       6.0         84.0            Cash    Online       2023-12-30   \n",
      "12574       3.0         51.0            Cash    Online       2022-08-06   \n",
      "\n",
      "      Discount Applied  \n",
      "0                 True  \n",
      "1                 True  \n",
      "2                False  \n",
      "3                  NaN  \n",
      "4                False  \n",
      "...                ...  \n",
      "12570              NaN  \n",
      "12571            False  \n",
      "12572              NaN  \n",
      "12573             True  \n",
      "12574              NaN  \n",
      "\n",
      "[12575 rows x 11 columns]\n"
     ]
    }
   ],
   "source": [
    "import pandas as pd\n",
    "import numpy as np\n",
    "import matplotlib.pyplot as plt\n",
    "df = pd.read_csv(r\"C:\\Users\\amnaj\\OneDrive\\Desktop\\ARTIFICIAL INTELLIGENCE\\retail_store_sales.csv\")\n",
    "print(df)"
   ]
  },
  {
   "cell_type": "code",
   "execution_count": 35,
   "id": "091537bf-4329-4f43-aa17-e611bb706731",
   "metadata": {},
   "outputs": [
    {
     "data": {
      "text/plain": [
       "Transaction ID       object\n",
       "Customer ID          object\n",
       "Category             object\n",
       "Item                 object\n",
       "Price Per Unit      float64\n",
       "Quantity            float64\n",
       "Total Spent         float64\n",
       "Payment Method       object\n",
       "Location             object\n",
       "Transaction Date     object\n",
       "Discount Applied     object\n",
       "dtype: object"
      ]
     },
     "execution_count": 35,
     "metadata": {},
     "output_type": "execute_result"
    }
   ],
   "source": [
    "df.dtypes"
   ]
  },
  {
   "cell_type": "code",
   "execution_count": 36,
   "id": "17932c5c-04e6-4043-a886-8152d56f44b9",
   "metadata": {},
   "outputs": [
    {
     "data": {
      "text/plain": [
       "Payment Method\n",
       "Cash              4310\n",
       "Digital Wallet    4144\n",
       "Credit Card       4121\n",
       "Name: count, dtype: int64"
      ]
     },
     "execution_count": 36,
     "metadata": {},
     "output_type": "execute_result"
    }
   ],
   "source": [
    "df[\"Payment Method\"].value_counts()"
   ]
  },
  {
   "cell_type": "code",
   "execution_count": 38,
   "id": "17124a89-d101-4627-823f-efdd4209b95a",
   "metadata": {},
   "outputs": [
    {
     "data": {
      "text/html": [
       "<div>\n",
       "<style scoped>\n",
       "    .dataframe tbody tr th:only-of-type {\n",
       "        vertical-align: middle;\n",
       "    }\n",
       "\n",
       "    .dataframe tbody tr th {\n",
       "        vertical-align: top;\n",
       "    }\n",
       "\n",
       "    .dataframe thead th {\n",
       "        text-align: right;\n",
       "    }\n",
       "</style>\n",
       "<table border=\"1\" class=\"dataframe\">\n",
       "  <thead>\n",
       "    <tr style=\"text-align: right;\">\n",
       "      <th></th>\n",
       "      <th>Cash</th>\n",
       "      <th>Credit Card</th>\n",
       "      <th>Digital Wallet</th>\n",
       "    </tr>\n",
       "  </thead>\n",
       "  <tbody>\n",
       "    <tr>\n",
       "      <th>0</th>\n",
       "      <td>False</td>\n",
       "      <td>False</td>\n",
       "      <td>True</td>\n",
       "    </tr>\n",
       "    <tr>\n",
       "      <th>1</th>\n",
       "      <td>False</td>\n",
       "      <td>False</td>\n",
       "      <td>True</td>\n",
       "    </tr>\n",
       "    <tr>\n",
       "      <th>2</th>\n",
       "      <td>False</td>\n",
       "      <td>True</td>\n",
       "      <td>False</td>\n",
       "    </tr>\n",
       "    <tr>\n",
       "      <th>3</th>\n",
       "      <td>False</td>\n",
       "      <td>True</td>\n",
       "      <td>False</td>\n",
       "    </tr>\n",
       "    <tr>\n",
       "      <th>4</th>\n",
       "      <td>False</td>\n",
       "      <td>False</td>\n",
       "      <td>True</td>\n",
       "    </tr>\n",
       "  </tbody>\n",
       "</table>\n",
       "</div>"
      ],
      "text/plain": [
       "    Cash  Credit Card  Digital Wallet\n",
       "0  False        False            True\n",
       "1  False        False            True\n",
       "2  False         True           False\n",
       "3  False         True           False\n",
       "4  False        False            True"
      ]
     },
     "execution_count": 38,
     "metadata": {},
     "output_type": "execute_result"
    }
   ],
   "source": [
    "pd.get_dummies(df[\"Payment Method\"]).head()"
   ]
  },
  {
   "cell_type": "code",
   "execution_count": 40,
   "id": "2005f711-13d3-41e1-bfe2-c6835425aef2",
   "metadata": {},
   "outputs": [
    {
     "name": "stdout",
     "output_type": "stream",
     "text": [
      "   Price Per Unit  Quantity  Total Spent  Transaction ID_TXN_1002182  \\\n",
      "0            18.5      10.0        185.0                       False   \n",
      "1            29.0       9.0        261.0                       False   \n",
      "2            21.5       2.0         43.0                       False   \n",
      "3            27.5       9.0        247.5                       False   \n",
      "4            12.5       7.0         87.5                       False   \n",
      "\n",
      "   Transaction ID_TXN_1003865  Transaction ID_TXN_1003940  \\\n",
      "0                       False                       False   \n",
      "1                       False                       False   \n",
      "2                       False                       False   \n",
      "3                       False                       False   \n",
      "4                       False                       False   \n",
      "\n",
      "   Transaction ID_TXN_1004091  Transaction ID_TXN_1004124  \\\n",
      "0                       False                       False   \n",
      "1                       False                       False   \n",
      "2                       False                       False   \n",
      "3                       False                       False   \n",
      "4                       False                       False   \n",
      "\n",
      "   Transaction ID_TXN_1004284  Transaction ID_TXN_1005543  ...  \\\n",
      "0                       False                       False  ...   \n",
      "1                       False                       False  ...   \n",
      "2                       False                       False  ...   \n",
      "3                       False                       False  ...   \n",
      "4                       False                       False  ...   \n",
      "\n",
      "   Transaction Date_2025-01-11  Transaction Date_2025-01-12  \\\n",
      "0                        False                        False   \n",
      "1                        False                        False   \n",
      "2                        False                        False   \n",
      "3                        False                        False   \n",
      "4                        False                        False   \n",
      "\n",
      "   Transaction Date_2025-01-13  Transaction Date_2025-01-14  \\\n",
      "0                        False                        False   \n",
      "1                        False                        False   \n",
      "2                        False                        False   \n",
      "3                        False                        False   \n",
      "4                        False                        False   \n",
      "\n",
      "   Transaction Date_2025-01-15  Transaction Date_2025-01-16  \\\n",
      "0                        False                        False   \n",
      "1                        False                        False   \n",
      "2                        False                        False   \n",
      "3                        False                        False   \n",
      "4                        False                        False   \n",
      "\n",
      "   Transaction Date_2025-01-17  Transaction Date_2025-01-18  \\\n",
      "0                        False                        False   \n",
      "1                        False                        False   \n",
      "2                        False                        False   \n",
      "3                        False                        False   \n",
      "4                        False                        False   \n",
      "\n",
      "   Discount Applied_False  Discount Applied_True  \n",
      "0                   False                   True  \n",
      "1                   False                   True  \n",
      "2                    True                  False  \n",
      "3                   False                  False  \n",
      "4                    True                  False  \n",
      "\n",
      "[5 rows x 13932 columns]\n"
     ]
    }
   ],
   "source": [
    "df_encoding = pd.get_dummies(df)\n",
    "print(df_encoding.head())\n",
    "    "
   ]
  },
  {
   "cell_type": "code",
   "execution_count": 41,
   "id": "111c9f3f-bc3b-4bad-b4ae-db13451d9ca3",
   "metadata": {},
   "outputs": [],
   "source": [
    "from sklearn.preprocessing import LabelEncoder"
   ]
  },
  {
   "cell_type": "code",
   "execution_count": 43,
   "id": "e3b9551e-d352-4a30-a80a-10c5cf2d5a70",
   "metadata": {},
   "outputs": [
    {
     "data": {
      "text/plain": [
       "Category\n",
       "Electric household essentials         1591\n",
       "Furniture                             1591\n",
       "Food                                  1588\n",
       "Milk Products                         1584\n",
       "Butchers                              1568\n",
       "Beverages                             1567\n",
       "Computers and electric accessories    1558\n",
       "Patisserie                            1528\n",
       "Name: count, dtype: int64"
      ]
     },
     "execution_count": 43,
     "metadata": {},
     "output_type": "execute_result"
    }
   ],
   "source": [
    "df[\"Category\"].value_counts()"
   ]
  },
  {
   "cell_type": "code",
   "execution_count": 44,
   "id": "8e1fe065-8fd6-4aa8-beae-fb9ab01f0e5f",
   "metadata": {},
   "outputs": [
    {
     "data": {
      "text/plain": [
       "Location\n",
       "Online      6354\n",
       "In-store    6221\n",
       "Name: count, dtype: int64"
      ]
     },
     "execution_count": 44,
     "metadata": {},
     "output_type": "execute_result"
    }
   ],
   "source": [
    "df[\"Location\"].value_counts()"
   ]
  },
  {
   "cell_type": "code",
   "execution_count": 45,
   "id": "93c4f56e-51b4-4ad5-b18f-c6c9ce617ec7",
   "metadata": {},
   "outputs": [
    {
     "data": {
      "text/plain": [
       "array([1, 0])"
      ]
     },
     "execution_count": 45,
     "metadata": {},
     "output_type": "execute_result"
    }
   ],
   "source": [
    "le = LabelEncoder()\n",
    "le.fit_transform([\"Online\",\"In-store\"])"
   ]
  },
  {
   "cell_type": "code",
   "execution_count": 47,
   "id": "263834bf-98ec-41e5-bd24-0fb46b7df78b",
   "metadata": {},
   "outputs": [
    {
     "name": "stdout",
     "output_type": "stream",
     "text": [
      "0        0\n",
      "1        0\n",
      "2        0\n",
      "3        0\n",
      "4        0\n",
      "        ..\n",
      "12570    1\n",
      "12571    0\n",
      "12572    0\n",
      "12573    0\n",
      "12574    0\n",
      "Name: Location, Length: 12575, dtype: int64\n"
     ]
    }
   ],
   "source": [
    "df[\"Location\"]= df[\"Location\"].map({'Online':0,\n",
    "                                    'In-store':1})\n",
    "print(df[\"Location\"])"
   ]
  },
  {
   "cell_type": "code",
   "execution_count": 48,
   "id": "b17778ed-8129-4f4d-bdf1-d7c8c76e59a9",
   "metadata": {},
   "outputs": [
    {
     "data": {
      "text/plain": [
       "Transaction ID      12575\n",
       "Customer ID            25\n",
       "Category                8\n",
       "Item                  200\n",
       "Price Per Unit         25\n",
       "Quantity               10\n",
       "Total Spent           227\n",
       "Payment Method          3\n",
       "Location                2\n",
       "Transaction Date     1114\n",
       "Discount Applied        2\n",
       "dtype: int64"
      ]
     },
     "execution_count": 48,
     "metadata": {},
     "output_type": "execute_result"
    }
   ],
   "source": [
    "df.nunique()"
   ]
  },
  {
   "cell_type": "code",
   "execution_count": 60,
   "id": "5d5a57f3-9610-4f98-8847-42c5e8333e86",
   "metadata": {},
   "outputs": [
    {
     "data": {
      "text/plain": [
       "Item\n",
       "Item_2_BEV      126\n",
       "Item_25_FUR     113\n",
       "Item_11_FUR     110\n",
       "Item_16_MILK    109\n",
       "Item_1_MILK     109\n",
       "               ... \n",
       "Item_5_BEV        7\n",
       "Item_13_BEV       7\n",
       "Item_13_FUR       7\n",
       "Item_21_PAT       6\n",
       "Item_3_EHE        5\n",
       "Name: count, Length: 200, dtype: int64"
      ]
     },
     "execution_count": 60,
     "metadata": {},
     "output_type": "execute_result"
    }
   ],
   "source": [
    "df[\"Item\"].value_counts()"
   ]
  },
  {
   "cell_type": "code",
   "execution_count": 61,
   "id": "e5717cfb-6abe-4f07-bc2a-aeb3324df2af",
   "metadata": {},
   "outputs": [
    {
     "name": "stdout",
     "output_type": "stream",
     "text": [
      "Item\n",
      "Item_2_BEV      126\n",
      "Item_25_FUR     113\n",
      "Item_11_FUR     110\n",
      "Item_16_MILK    109\n",
      "Item_1_MILK     109\n",
      "Name: count, dtype: int64\n"
     ]
    }
   ],
   "source": [
    "temp = df[\"Item\"].value_counts()\n",
    "print(temp.head())"
   ]
  },
  {
   "cell_type": "code",
   "execution_count": 64,
   "id": "e2c7f97e-5edf-43cf-816f-4689c4a9f86f",
   "metadata": {},
   "outputs": [
    {
     "name": "stdout",
     "output_type": "stream",
     "text": [
      "           Item  Item_count\n",
      "0   Item_10_PAT        29.0\n",
      "1  Item_17_MILK        75.0\n",
      "2   Item_12_BUT        90.0\n",
      "3   Item_16_BEV        75.0\n",
      "4   Item_6_FOOD        67.0\n"
     ]
    }
   ],
   "source": [
    "# count frequency of each Item\n",
    "temp = df[\"Item\"].value_counts().to_dict()\n",
    "\n",
    "# map counts back to the column\n",
    "df[\"Item_count\"] = df[\"Item\"].map(temp)\n",
    "\n",
    "print(df[[\"Item\", \"Item_count\"]].head())\n"
   ]
  },
  {
   "cell_type": "code",
   "execution_count": 69,
   "id": "3d687dd6-862b-45ba-b96a-196336f6ac71",
   "metadata": {},
   "outputs": [
    {
     "name": "stdout",
     "output_type": "stream",
     "text": [
      "0         Item_10_PAT\n",
      "1        Item_17_MILK\n",
      "2         Item_12_BUT\n",
      "3         Item_16_BEV\n",
      "4         Item_6_FOOD\n",
      "             ...     \n",
      "12570     Item_23_PAT\n",
      "12571      Item_2_BEV\n",
      "12572      Item_7_BUT\n",
      "12573      Item_7_FUR\n",
      "12574     Item_9_FOOD\n",
      "Name: Item, Length: 12575, dtype: object\n"
     ]
    }
   ],
   "source": [
    "df[\"Item\"] = df[\"Item\"].where(df[\"Item_count\"] >= 10, \"other\")\n",
    "print(df[\"Item\"])\n"
   ]
  },
  {
   "cell_type": "code",
   "execution_count": 59,
   "id": "fa028274-bbc1-40a8-b84b-798529bd3bb4",
   "metadata": {},
   "outputs": [
    {
     "name": "stdout",
     "output_type": "stream",
     "text": [
      "0        other\n",
      "1        other\n",
      "2        other\n",
      "3        other\n",
      "4        other\n",
      "         ...  \n",
      "12570    other\n",
      "12571    other\n",
      "12572    other\n",
      "12573    other\n",
      "12574    other\n",
      "Name: Transaction ID, Length: 12575, dtype: object\n"
     ]
    }
   ],
   "source": [
    "import numpy as np\n",
    "\n",
    "counts = df[\"Transaction ID\"].value_counts()\n",
    "df[\"Transaction ID\"] = np.where(df[\"Transaction ID\"].isin(counts[counts <1].index), \n",
    "                                \"other\", \n",
    "                                df[\"Transaction ID\"])\n",
    "print(df[\"Transaction ID\"])\n"
   ]
  },
  {
   "cell_type": "code",
   "execution_count": 12,
   "id": "b5d971a3-efcf-4ac8-bf80-755f7e55868d",
   "metadata": {},
   "outputs": [
    {
     "name": "stdout",
     "output_type": "stream",
     "text": [
      "            date  precipitation  temp_max  temp_min  wind  weather\n",
      "0     2012-01-01            0.0      12.8       5.0   4.7  drizzle\n",
      "1     2012-01-02           10.9      10.6       2.8   4.5     rain\n",
      "2     2012-01-03            0.8      11.7       7.2   2.3     rain\n",
      "3     2012-01-04           20.3      12.2       5.6   4.7     rain\n",
      "4     2012-01-05            1.3       8.9       2.8   6.1     rain\n",
      "...          ...            ...       ...       ...   ...      ...\n",
      "1456  2015-12-27            8.6       4.4       1.7   2.9     rain\n",
      "1457  2015-12-28            1.5       5.0       1.7   1.3     rain\n",
      "1458  2015-12-29            0.0       7.2       0.6   2.6      fog\n",
      "1459  2015-12-30            0.0       5.6      -1.0   3.4      sun\n",
      "1460  2015-12-31            0.0       5.6      -2.1   3.5      sun\n",
      "\n",
      "[1461 rows x 6 columns]\n"
     ]
    }
   ],
   "source": [
    "import matplotlib.pyplot as plt\n",
    "df1 = pd.read_csv(r\"C:\\Users\\amnaj\\OneDrive\\Desktop\\ARTIFICIAL INTELLIGENCE\\seattle-weather.csv\")\n",
    "print(df1)"
   ]
  },
  {
   "cell_type": "code",
   "execution_count": 13,
   "id": "971e0af4-b426-469b-a3d8-a5de1a2f4eeb",
   "metadata": {},
   "outputs": [
    {
     "data": {
      "text/html": [
       "<div>\n",
       "<style scoped>\n",
       "    .dataframe tbody tr th:only-of-type {\n",
       "        vertical-align: middle;\n",
       "    }\n",
       "\n",
       "    .dataframe tbody tr th {\n",
       "        vertical-align: top;\n",
       "    }\n",
       "\n",
       "    .dataframe thead th {\n",
       "        text-align: right;\n",
       "    }\n",
       "</style>\n",
       "<table border=\"1\" class=\"dataframe\">\n",
       "  <thead>\n",
       "    <tr style=\"text-align: right;\">\n",
       "      <th></th>\n",
       "      <th>date</th>\n",
       "      <th>precipitation</th>\n",
       "      <th>temp_max</th>\n",
       "      <th>temp_min</th>\n",
       "      <th>wind</th>\n",
       "      <th>weather</th>\n",
       "    </tr>\n",
       "  </thead>\n",
       "  <tbody>\n",
       "    <tr>\n",
       "      <th>0</th>\n",
       "      <td>2012-01-01</td>\n",
       "      <td>0.0</td>\n",
       "      <td>12.8</td>\n",
       "      <td>5.0</td>\n",
       "      <td>4.7</td>\n",
       "      <td>drizzle</td>\n",
       "    </tr>\n",
       "    <tr>\n",
       "      <th>1</th>\n",
       "      <td>2012-01-02</td>\n",
       "      <td>10.9</td>\n",
       "      <td>10.6</td>\n",
       "      <td>2.8</td>\n",
       "      <td>4.5</td>\n",
       "      <td>rain</td>\n",
       "    </tr>\n",
       "    <tr>\n",
       "      <th>2</th>\n",
       "      <td>2012-01-03</td>\n",
       "      <td>0.8</td>\n",
       "      <td>11.7</td>\n",
       "      <td>7.2</td>\n",
       "      <td>2.3</td>\n",
       "      <td>rain</td>\n",
       "    </tr>\n",
       "    <tr>\n",
       "      <th>3</th>\n",
       "      <td>2012-01-04</td>\n",
       "      <td>20.3</td>\n",
       "      <td>12.2</td>\n",
       "      <td>5.6</td>\n",
       "      <td>4.7</td>\n",
       "      <td>rain</td>\n",
       "    </tr>\n",
       "    <tr>\n",
       "      <th>4</th>\n",
       "      <td>2012-01-05</td>\n",
       "      <td>1.3</td>\n",
       "      <td>8.9</td>\n",
       "      <td>2.8</td>\n",
       "      <td>6.1</td>\n",
       "      <td>rain</td>\n",
       "    </tr>\n",
       "  </tbody>\n",
       "</table>\n",
       "</div>"
      ],
      "text/plain": [
       "         date  precipitation  temp_max  temp_min  wind  weather\n",
       "0  2012-01-01            0.0      12.8       5.0   4.7  drizzle\n",
       "1  2012-01-02           10.9      10.6       2.8   4.5     rain\n",
       "2  2012-01-03            0.8      11.7       7.2   2.3     rain\n",
       "3  2012-01-04           20.3      12.2       5.6   4.7     rain\n",
       "4  2012-01-05            1.3       8.9       2.8   6.1     rain"
      ]
     },
     "execution_count": 13,
     "metadata": {},
     "output_type": "execute_result"
    }
   ],
   "source": [
    "df1.head()"
   ]
  },
  {
   "cell_type": "code",
   "execution_count": 14,
   "id": "ee515ae1-0e29-4249-9772-b4b12b05b07c",
   "metadata": {},
   "outputs": [
    {
     "data": {
      "text/plain": [
       "date        precipitation  temp_max  temp_min  wind  weather\n",
       "2015-12-31  0.0            5.6       -2.1      3.5   sun        1\n",
       "2012-01-01  0.0            12.8       5.0      4.7   drizzle    1\n",
       "2012-01-02  10.9           10.6       2.8      4.5   rain       1\n",
       "2012-01-03  0.8            11.7       7.2      2.3   rain       1\n",
       "2012-01-04  20.3           12.2       5.6      4.7   rain       1\n",
       "                                                               ..\n",
       "2012-01-10  1.0            6.1        0.6      3.4   rain       1\n",
       "2012-01-09  4.3            9.4        5.0      3.4   rain       1\n",
       "2012-01-08  0.0            10.0       2.8      2.0   sun        1\n",
       "2012-01-07  0.0            7.2        2.8      2.3   rain       1\n",
       "2012-01-06  2.5            4.4        2.2      2.2   rain       1\n",
       "Name: count, Length: 1461, dtype: int64"
      ]
     },
     "execution_count": 14,
     "metadata": {},
     "output_type": "execute_result"
    }
   ],
   "source": [
    "df1.value_counts()"
   ]
  },
  {
   "cell_type": "markdown",
   "id": "47feb766-65a4-4905-b25d-f41489777f71",
   "metadata": {},
   "source": [
    "df1.columns"
   ]
  },
  {
   "cell_type": "code",
   "execution_count": 15,
   "id": "13286eab-44e1-4b49-86f2-0c2f97061367",
   "metadata": {},
   "outputs": [],
   "source": [
    "bins = [0,5,10,15]\n",
    "group = ['low','high','extreme']\n",
    "df1['temp_max_category'] = pd.cut(df1['temp_max'],bins,labels=group)\n"
   ]
  },
  {
   "cell_type": "code",
   "execution_count": 17,
   "id": "90dd741d-15c2-4773-90ff-2e3259b438ea",
   "metadata": {},
   "outputs": [
    {
     "data": {
      "text/html": [
       "<div>\n",
       "<style scoped>\n",
       "    .dataframe tbody tr th:only-of-type {\n",
       "        vertical-align: middle;\n",
       "    }\n",
       "\n",
       "    .dataframe tbody tr th {\n",
       "        vertical-align: top;\n",
       "    }\n",
       "\n",
       "    .dataframe thead th {\n",
       "        text-align: right;\n",
       "    }\n",
       "</style>\n",
       "<table border=\"1\" class=\"dataframe\">\n",
       "  <thead>\n",
       "    <tr style=\"text-align: right;\">\n",
       "      <th></th>\n",
       "      <th>temp_max</th>\n",
       "      <th>temp_max_category</th>\n",
       "    </tr>\n",
       "  </thead>\n",
       "  <tbody>\n",
       "    <tr>\n",
       "      <th>0</th>\n",
       "      <td>12.8</td>\n",
       "      <td>extreme</td>\n",
       "    </tr>\n",
       "    <tr>\n",
       "      <th>1</th>\n",
       "      <td>10.6</td>\n",
       "      <td>extreme</td>\n",
       "    </tr>\n",
       "    <tr>\n",
       "      <th>2</th>\n",
       "      <td>11.7</td>\n",
       "      <td>extreme</td>\n",
       "    </tr>\n",
       "    <tr>\n",
       "      <th>3</th>\n",
       "      <td>12.2</td>\n",
       "      <td>extreme</td>\n",
       "    </tr>\n",
       "    <tr>\n",
       "      <th>4</th>\n",
       "      <td>8.9</td>\n",
       "      <td>high</td>\n",
       "    </tr>\n",
       "  </tbody>\n",
       "</table>\n",
       "</div>"
      ],
      "text/plain": [
       "   temp_max temp_max_category\n",
       "0      12.8           extreme\n",
       "1      10.6           extreme\n",
       "2      11.7           extreme\n",
       "3      12.2           extreme\n",
       "4       8.9              high"
      ]
     },
     "execution_count": 17,
     "metadata": {},
     "output_type": "execute_result"
    }
   ],
   "source": [
    "df1[['temp_max','temp_max_category']].head()"
   ]
  },
  {
   "cell_type": "code",
   "execution_count": 18,
   "id": "1e11f3bc-d5f7-4d55-b2aa-50eeedaa91ee",
   "metadata": {},
   "outputs": [],
   "source": [
    "def detect_outlier(data):\n",
    "    Q1 = np.percentile(data,25)\n",
    "    print(\"First Quantifier\",Q1)\n",
    "    Q3 = np.percentile(data,75)\n",
    "    print(\"3rd Quantifier\",Q3)\n",
    "    IQR = Q3-Q1\n",
    "    print(IQR)\n",
    "    lower_bound = Q1 -1.5*IQR\n",
    "    upper_bound = Q3+ 1.5*IQR\n",
    "    print(\"Lower_bound\",lower_bound)\n",
    "    print(\"upper_bound\",upper_bound)\n",
    "    outlier = [x for x in data if x < lower_bound or x> upper_bound]\n",
    "    return outlier,lower_bound,upper_bound"
   ]
  },
  {
   "cell_type": "code",
   "execution_count": 19,
   "id": "4a062fff-1110-4b1c-8c58-6b42da0e6bd0",
   "metadata": {},
   "outputs": [
    {
     "name": "stdout",
     "output_type": "stream",
     "text": [
      "First Quantifier 0.0\n",
      "3rd Quantifier 2.8\n",
      "2.8\n",
      "Lower_bound -4.199999999999999\n",
      "upper_bound 6.999999999999999\n",
      "Outliers: [10.9, 20.3, 8.1, 19.8, 15.2, 13.5, 8.6, 8.1, 27.7, 13.5]\n",
      "Number of outliers: 206\n"
     ]
    }
   ],
   "source": [
    "outliers, lower, upper = detect_outlier(df1[\"precipitation\"])\n",
    "\n",
    "print(\"Outliers:\", outliers[:10])   # show first 10 outliers\n",
    "print(\"Number of outliers:\", len(outliers))\n"
   ]
  },
  {
   "cell_type": "code",
   "execution_count": 20,
   "id": "65542b30-b230-4038-8bba-3fbd4c9a10ad",
   "metadata": {},
   "outputs": [
    {
     "data": {
      "text/plain": [
       "Text(0, 0.5, 'precipitation')"
      ]
     },
     "execution_count": 20,
     "metadata": {},
     "output_type": "execute_result"
    },
    {
     "data": {
      "image/png": "[encoded data removed]",
      "text/plain": [
       "<Figure size 640x480 with 1 Axes>"
      ]
     },
     "metadata": {},
     "output_type": "display_data"
    }
   ],
   "source": [
    "import matplotlib.pyplot as plt\n",
    "plt.boxplot(df1[\"precipitation\"])\n",
    "plt.title(\"precipitationwith outlier\")\n",
    "plt.ylabel(\"precipitation\")"
   ]
  },
  {
   "cell_type": "code",
   "execution_count": 21,
   "id": "11e4deb7-9dd6-470c-9cf8-c0107a1fc1ab",
   "metadata": {},
   "outputs": [
    {
     "data": {
      "image/png": "[encoded data removed]",
      "text/plain": [
       "<Figure size 640x480 with 1 Axes>"
      ]
     },
     "metadata": {},
     "output_type": "display_data"
    }
   ],
   "source": [
    "import matplotlib.pyplot as plt\n",
    "\n",
    "plt.boxplot(df1[\"precipitation\"])   # ✅ actual column values, not a string\n",
    "plt.title(\"Precipitation with Outliers\")\n",
    "plt.ylabel(\"Precipitation\")\n",
    "plt.show()\n"
   ]
  },
  {
   "cell_type": "code",
   "execution_count": 23,
   "id": "d1ed05c7-0125-4af4-b76d-29621f7a6a48",
   "metadata": {},
   "outputs": [
    {
     "name": "stdout",
     "output_type": "stream",
     "text": [
      "            date  precipitation  temp_max  temp_min  wind  weather  \\\n",
      "0     2012-01-01            0.0      12.8       5.0   4.7  drizzle   \n",
      "2     2012-01-03            0.8      11.7       7.2   2.3     rain   \n",
      "4     2012-01-05            1.3       8.9       2.8   6.1     rain   \n",
      "5     2012-01-06            2.5       4.4       2.2   2.2     rain   \n",
      "6     2012-01-07            0.0       7.2       2.8   2.3     rain   \n",
      "...          ...            ...       ...       ...   ...      ...   \n",
      "1455  2015-12-26            0.0       4.4       0.0   2.5      sun   \n",
      "1457  2015-12-28            1.5       5.0       1.7   1.3     rain   \n",
      "1458  2015-12-29            0.0       7.2       0.6   2.6      fog   \n",
      "1459  2015-12-30            0.0       5.6      -1.0   3.4      sun   \n",
      "1460  2015-12-31            0.0       5.6      -2.1   3.5      sun   \n",
      "\n",
      "     temp_max_category  \n",
      "0              extreme  \n",
      "2              extreme  \n",
      "4                 high  \n",
      "5                  low  \n",
      "6                 high  \n",
      "...                ...  \n",
      "1455               low  \n",
      "1457               low  \n",
      "1458              high  \n",
      "1459              high  \n",
      "1460              high  \n",
      "\n",
      "[1255 rows x 7 columns]\n"
     ]
    }
   ],
   "source": [
    "Q1= df1[\"precipitation\"].quantile(0.25)\n",
    "Q3 = df1[\"precipitation\"].quantile(0.75)\n",
    "IQR = Q3 - Q1\n",
    "lower = Q1-1.5*IQR\n",
    "upper = Q3+1.5* IQR\n",
    "df1_no_outliers = df1[(df1[\"precipitation\"] >= lower) & (df1[\"precipitation\"]<= upper)]\n",
    "print(df1_no_outliers)"
   ]
  },
  {
   "cell_type": "code",
   "execution_count": 25,
   "id": "8dd663c6-5644-4c9d-b708-8a5d43e2ce91",
   "metadata": {},
   "outputs": [
    {
     "data": {
      "text/plain": [
       "{'whiskers': [<matplotlib.lines.Line2D at 0x2c92ef065d0>,\n",
       "  <matplotlib.lines.Line2D at 0x2c92ef06710>],\n",
       " 'caps': [<matplotlib.lines.Line2D at 0x2c92ef06850>,\n",
       "  <matplotlib.lines.Line2D at 0x2c92ef06990>],\n",
       " 'boxes': [<matplotlib.lines.Line2D at 0x2c92ef06490>],\n",
       " 'medians': [<matplotlib.lines.Line2D at 0x2c92ef06ad0>],\n",
       " 'fliers': [<matplotlib.lines.Line2D at 0x2c92ef06c10>],\n",
       " 'means': []}"
      ]
     },
     "execution_count": 25,
     "metadata": {},
     "output_type": "execute_result"
    },
    {
     "data": {
      "image/png": "[encoded data removed]",
      "text/plain": [
       "<Figure size 640x480 with 1 Axes>"
      ]
     },
     "metadata": {},
     "output_type": "display_data"
    }
   ],
   "source": [
    "plt.boxplot(df1_no_outliers[\"precipitation\"])"
   ]
  },
  {
   "cell_type": "code",
   "execution_count": 26,
   "id": "e6d5e92a-27ec-4516-bb3f-06bcc113760e",
   "metadata": {},
   "outputs": [
    {
     "name": "stdout",
     "output_type": "stream",
     "text": [
      "      log_precipitation\n",
      "0              0.000000\n",
      "1              2.476538\n",
      "2              0.587787\n",
      "3              3.058707\n",
      "4              0.832909\n",
      "...                 ...\n",
      "1456           2.261763\n",
      "1457           0.916291\n",
      "1458           0.000000\n",
      "1459           0.000000\n",
      "1460           0.000000\n",
      "\n",
      "[1461 rows x 1 columns]\n"
     ]
    }
   ],
   "source": [
    "\n",
    "df1['log_precipitation'] = np.log1p(df1['precipitation'])\n",
    "print(df1[['log_precipitation']])"
   ]
  },
  {
   "cell_type": "code",
   "execution_count": 28,
   "id": "699d4934-382a-4479-a74a-03f4ae30d67d",
   "metadata": {},
   "outputs": [
    {
     "name": "stdout",
     "output_type": "stream",
     "text": [
      "      precipitation_encoded  temp_max_encoded\n",
      "0                         0                25\n",
      "1                        43                21\n",
      "2                         3                23\n",
      "3                        74                24\n",
      "4                         5                18\n",
      "...                     ...               ...\n",
      "1456                     34                10\n",
      "1457                      6                11\n",
      "1458                      0                15\n",
      "1459                      0                12\n",
      "1460                      0                12\n",
      "\n",
      "[1461 rows x 2 columns]\n"
     ]
    }
   ],
   "source": [
    "from sklearn.preprocessing import LabelEncoder\n",
    "le = LabelEncoder()\n",
    "df1[\"precipitation_encoded\"] = le.fit_transform(df1[\"precipitation\"])\n",
    "df1[\"temp_max_encoded\"] = le.fit_transform(df1[\"temp_max\"])\n",
    "print(df1[[\"precipitation_encoded\",\"temp_max_encoded\"]])"
   ]
  },
  {
   "cell_type": "code",
   "execution_count": 29,
   "id": "e9b5614e-e26d-42dd-a783-cb7409e42f7d",
   "metadata": {},
   "outputs": [
    {
     "name": "stdout",
     "output_type": "stream",
     "text": [
      "      temp_max_norm  temp_min_norm\n",
      "0          0.387097       0.476378\n",
      "1          0.327957       0.389764\n",
      "2          0.357527       0.562992\n",
      "3          0.370968       0.500000\n",
      "4          0.282258       0.389764\n",
      "...             ...            ...\n",
      "1456       0.161290       0.346457\n",
      "1457       0.177419       0.346457\n",
      "1458       0.236559       0.303150\n",
      "1459       0.193548       0.240157\n",
      "1460       0.193548       0.196850\n",
      "\n",
      "[1461 rows x 2 columns]\n"
     ]
    }
   ],
   "source": [
    "from sklearn.preprocessing import MinMaxScaler\n",
    "scaler = MinMaxScaler()\n",
    "df1[[\"temp_max_norm\",\"temp_min_norm\"]]= scaler.fit_transform(df1[[\"temp_max\",\"temp_min\"]])\n",
    "print(df1[[\"temp_max_norm\",\"temp_min_norm\"]])"
   ]
  },
  {
   "cell_type": "code",
   "execution_count": 30,
   "id": "384e8805-6106-4b93-830d-0992b1b5f693",
   "metadata": {},
   "outputs": [
    {
     "name": "stdout",
     "output_type": "stream",
     "text": [
      "      temp_max_norm  temp_min_norm\n",
      "0         -0.495299      -0.644212\n",
      "1         -0.794731      -1.082347\n",
      "2         -0.645015      -0.206077\n",
      "3         -0.576962      -0.524720\n",
      "4         -1.026111      -1.082347\n",
      "...             ...            ...\n",
      "1456      -1.638585      -1.301414\n",
      "1457      -1.556922      -1.301414\n",
      "1458      -1.257490      -1.520481\n",
      "1459      -1.475259      -1.839125\n",
      "1460      -1.475259      -2.058192\n",
      "\n",
      "[1461 rows x 2 columns]\n"
     ]
    }
   ],
   "source": [
    "from sklearn.preprocessing import StandardScaler\n",
    "scaler = StandardScaler()\n",
    "df1[[\"temp_max_norm\",\"temp_min_norm\"]] = scaler.fit_transform(df1[[\"temp_max\",\"temp_min\"]])\n",
    "print(df1[[\"temp_max_norm\",\"temp_min_norm\"]])"
   ]
  },
  {
   "cell_type": "code",
   "execution_count": 32,
   "id": "728eb3d3-7c4a-43d7-95e5-adc8e193e882",
   "metadata": {},
   "outputs": [
    {
     "name": "stdout",
     "output_type": "stream",
     "text": [
      "First Quantifier 2.2\n",
      "3rd Quantifier 4.0\n",
      "1.7999999999999998\n",
      "Lower_bound -0.49999999999999956\n",
      "upper_bound 6.699999999999999\n",
      "Outliers: [8.2, 8.1, 7.5, 7.0, 7.0, 6.8, 8.0, 7.3, 9.5, 7.3]\n",
      "Number of outliers: 34\n"
     ]
    }
   ],
   "source": [
    "outliers, lower, upper = detect_outlier(df1[\"wind\"])\n",
    "\n",
    "print(\"Outliers:\", outliers[:10])   # show first 10 outliers\n",
    "print(\"Number of outliers:\", len(outliers))\n"
   ]
  },
  {
   "cell_type": "code",
   "execution_count": 33,
   "id": "ee675a78-82f8-41f5-9da9-942e3e72315c",
   "metadata": {},
   "outputs": [
    {
     "data": {
      "text/plain": [
       "{'whiskers': [<matplotlib.lines.Line2D at 0x2c92fbff890>,\n",
       "  <matplotlib.lines.Line2D at 0x2c92fbff9d0>],\n",
       " 'caps': [<matplotlib.lines.Line2D at 0x2c92fbffb10>,\n",
       "  <matplotlib.lines.Line2D at 0x2c92fbffc50>],\n",
       " 'boxes': [<matplotlib.lines.Line2D at 0x2c92fbff750>],\n",
       " 'medians': [<matplotlib.lines.Line2D at 0x2c92fbffd90>],\n",
       " 'fliers': [<matplotlib.lines.Line2D at 0x2c92fbffed0>],\n",
       " 'means': []}"
      ]
     },
     "execution_count": 33,
     "metadata": {},
     "output_type": "execute_result"
    },
    {
     "data": {
      "image/png": "[encoded data removed]",
      "text/plain": [
       "<Figure size 640x480 with 1 Axes>"
      ]
     },
     "metadata": {},
     "output_type": "display_data"
    }
   ],
   "source": [
    "plt.boxplot(df1[\"wind\"])"
   ]
  },
  {
   "cell_type": "code",
   "execution_count": 34,
   "id": "a96dd579-0c69-45b9-ad6a-09e6c8b0e672",
   "metadata": {},
   "outputs": [
    {
     "data": {
      "image/png": "[encoded data removed]",
      "text/plain": [
       "<Figure size 640x480 with 1 Axes>"
      ]
     },
     "metadata": {},
     "output_type": "display_data"
    }
   ],
   "source": [
    "plt.boxplot(df1[\"wind\"])   # ✅ actual column values, not a string\n",
    "plt.title(\"wind with Outliers\")\n",
    "plt.ylabel(\"wind\")\n",
    "plt.show()"
   ]
  },
  {
   "cell_type": "code",
   "execution_count": 35,
   "id": "cc0257f9-8223-46b1-9ea6-740740c4faba",
   "metadata": {},
   "outputs": [
    {
     "name": "stdout",
     "output_type": "stream",
     "text": [
      "            date  precipitation  temp_max  temp_min  wind  weather  \\\n",
      "0     2012-01-01            0.0      12.8       5.0   4.7  drizzle   \n",
      "1     2012-01-02           10.9      10.6       2.8   4.5     rain   \n",
      "2     2012-01-03            0.8      11.7       7.2   2.3     rain   \n",
      "3     2012-01-04           20.3      12.2       5.6   4.7     rain   \n",
      "4     2012-01-05            1.3       8.9       2.8   6.1     rain   \n",
      "...          ...            ...       ...       ...   ...      ...   \n",
      "1456  2015-12-27            8.6       4.4       1.7   2.9     rain   \n",
      "1457  2015-12-28            1.5       5.0       1.7   1.3     rain   \n",
      "1458  2015-12-29            0.0       7.2       0.6   2.6      fog   \n",
      "1459  2015-12-30            0.0       5.6      -1.0   3.4      sun   \n",
      "1460  2015-12-31            0.0       5.6      -2.1   3.5      sun   \n",
      "\n",
      "     temp_max_category  log_precipitation  precipitation_encoded  \\\n",
      "0              extreme           0.000000                      0   \n",
      "1              extreme           2.476538                     43   \n",
      "2              extreme           0.587787                      3   \n",
      "3              extreme           3.058707                     74   \n",
      "4                 high           0.832909                      5   \n",
      "...                ...                ...                    ...   \n",
      "1456               low           2.261763                     34   \n",
      "1457               low           0.916291                      6   \n",
      "1458              high           0.000000                      0   \n",
      "1459              high           0.000000                      0   \n",
      "1460              high           0.000000                      0   \n",
      "\n",
      "      temp_max_encoded  temp_max_norm  temp_min_norm  \n",
      "0                   25      -0.495299      -0.644212  \n",
      "1                   21      -0.794731      -1.082347  \n",
      "2                   23      -0.645015      -0.206077  \n",
      "3                   24      -0.576962      -0.524720  \n",
      "4                   18      -1.026111      -1.082347  \n",
      "...                ...            ...            ...  \n",
      "1456                10      -1.638585      -1.301414  \n",
      "1457                11      -1.556922      -1.301414  \n",
      "1458                15      -1.257490      -1.520481  \n",
      "1459                12      -1.475259      -1.839125  \n",
      "1460                12      -1.475259      -2.058192  \n",
      "\n",
      "[1427 rows x 12 columns]\n"
     ]
    }
   ],
   "source": [
    "Q1= df1[\"wind\"].quantile(0.25)\n",
    "Q3 = df1[\"wind\"].quantile(0.75)\n",
    "IQR = Q3 - Q1\n",
    "lower = Q1-1.5*IQR\n",
    "upper = Q3+1.5* IQR\n",
    "df1_no_outliers = df1[(df1[\"wind\"] >= lower) & (df1[\"wind\"]<= upper)]\n",
    "print(df1_no_outliers)"
   ]
  },
  {
   "cell_type": "code",
   "execution_count": 36,
   "id": "3ece415e-4f4b-4aec-94ba-f6763708a328",
   "metadata": {},
   "outputs": [
    {
     "data": {
      "image/png": "[encoded data removed]",
      "text/plain": [
       "<Figure size 640x480 with 1 Axes>"
      ]
     },
     "metadata": {},
     "output_type": "display_data"
    }
   ],
   "source": [
    "plt.boxplot(df1_no_outliers[\"wind\"])\n",
    "plt.title(\"wind without Outliers\")\n",
    "plt.ylabel(\"wind\")\n",
    "plt.show()"
   ]
  },
  {
   "cell_type": "code",
   "execution_count": 37,
   "id": "d90a4077-9728-4927-9d95-40548ad7c93b",
   "metadata": {},
   "outputs": [
    {
     "name": "stdout",
     "output_type": "stream",
     "text": [
      "      log_wind\n",
      "0     1.740466\n",
      "1     1.704748\n",
      "2     1.193922\n",
      "3     1.740466\n",
      "4     1.960095\n",
      "...        ...\n",
      "1456  1.360977\n",
      "1457  0.832909\n",
      "1458  1.280934\n",
      "1459  1.481605\n",
      "1460  1.504077\n",
      "\n",
      "[1461 rows x 1 columns]\n"
     ]
    }
   ],
   "source": [
    "df1['log_wind'] = np.log1p(df1['wind'])\n",
    "print(df1[['log_wind']])"
   ]
  },
  {
   "cell_type": "code",
   "execution_count": 38,
   "id": "ee147b36-644b-4d9c-95bf-debbb2fb59e3",
   "metadata": {},
   "outputs": [
    {
     "name": "stdout",
     "output_type": "stream",
     "text": [
      "      wind_encoded  temp_max_encoded\n",
      "0               43                25\n",
      "1               41                21\n",
      "2               19                23\n",
      "3               43                24\n",
      "4               57                18\n",
      "...            ...               ...\n",
      "1456            25                10\n",
      "1457             9                11\n",
      "1458            22                15\n",
      "1459            30                12\n",
      "1460            31                12\n",
      "\n",
      "[1461 rows x 2 columns]\n"
     ]
    }
   ],
   "source": [
    "from sklearn.preprocessing import LabelEncoder\n",
    "le = LabelEncoder()\n",
    "df1[\"wind_encoded\"] = le.fit_transform(df1[\"wind\"])\n",
    "df1[\"temp_max_encoded\"] = le.fit_transform(df1[\"temp_max\"])\n",
    "print(df1[[\"wind_encoded\",\"temp_max_encoded\"]])"
   ]
  },
  {
   "cell_type": "code",
   "execution_count": 39,
   "id": "26892ec1-6b40-47cf-9671-4849a6c5c859",
   "metadata": {},
   "outputs": [
    {
     "name": "stdout",
     "output_type": "stream",
     "text": [
      "      wind_norm  temp_min_norm\n",
      "0      0.472527       0.476378\n",
      "1      0.450549       0.389764\n",
      "2      0.208791       0.562992\n",
      "3      0.472527       0.500000\n",
      "4      0.626374       0.389764\n",
      "...         ...            ...\n",
      "1456   0.274725       0.346457\n",
      "1457   0.098901       0.346457\n",
      "1458   0.241758       0.303150\n",
      "1459   0.329670       0.240157\n",
      "1460   0.340659       0.196850\n",
      "\n",
      "[1461 rows x 2 columns]\n"
     ]
    }
   ],
   "source": [
    "from sklearn.preprocessing import MinMaxScaler\n",
    "scaler = MinMaxScaler()\n",
    "df1[[\"wind_norm\",\"temp_min_norm\"]]= scaler.fit_transform(df1[[\"wind\",\"temp_min\"]])\n",
    "print(df1[[\"wind_norm\",\"temp_min_norm\"]])"
   ]
  },
  {
   "cell_type": "code",
   "execution_count": 43,
   "id": "775ae4c9-f5ec-4bea-bdeb-2543410065b7",
   "metadata": {},
   "outputs": [
    {
     "name": "stdout",
     "output_type": "stream",
     "text": [
      "          wind\n",
      "0     1.014980\n",
      "1     0.875833\n",
      "2    -0.654780\n",
      "3     1.014980\n",
      "4     1.989006\n",
      "...        ...\n",
      "1456 -0.237340\n",
      "1457 -1.350513\n",
      "1458 -0.446060\n",
      "1459  0.110527\n",
      "1460  0.180100\n",
      "\n",
      "[1461 rows x 1 columns]\n"
     ]
    }
   ],
   "source": [
    "from sklearn.preprocessing import StandardScaler\n",
    "scaler = StandardScaler()\n",
    "df1[[\"wind\"]] = scaler.fit_transform(df1[[\"wind\"]])\n",
    "print(df1[[\"wind\"]])"
   ]
  },
  {
   "cell_type": "code",
   "execution_count": null,
   "id": "5f6302da-fef1-4286-8405-56a5069bd573",
   "metadata": {},
   "outputs": [],
   "source": []
  }
 ],
 "metadata": {
  "kernelspec": {
   "display_name": "Python [conda env:base] *",
   "language": "python",
   "name": "conda-base-py"
  },
  "language_info": {
   "codemirror_mode": {
    "name": "ipython",
    "version": 3
   },
   "file_extension": ".py",
   "mimetype": "text/x-python",
   "name": "python",
   "nbconvert_exporter": "python",
   "pygments_lexer": "ipython3",
   "version": "3.13.5"
  }
 },
 "nbformat": 4,
 "nbformat_minor": 5
}
