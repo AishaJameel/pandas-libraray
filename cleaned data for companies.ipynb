{
 "cells": [
  {
   "cell_type": "code",
   "execution_count": 1,
   "id": "7bb7195a-9f7f-49d8-b06c-ec53243b7aeb",
   "metadata": {},
   "outputs": [],
   "source": [
    "import numpy as np\n",
    "import pandas as pd\n",
    "import matplotlib as plt\n",
    "import seaborn as sns"
   ]
  },
  {
   "cell_type": "code",
   "execution_count": 2,
   "id": "44d09b52-0ea4-4174-94a1-4d26c8208272",
   "metadata": {},
   "outputs": [
    {
     "ename": "NameError",
     "evalue": "name 'os' is not defined",
     "output_type": "error",
     "traceback": [
      "\u001b[1;31m---------------------------------------------------------------------------\u001b[0m",
      "\u001b[1;31mNameError\u001b[0m                                 Traceback (most recent call last)",
      "Cell \u001b[1;32mIn[2], line 1\u001b[0m\n\u001b[1;32m----> 1\u001b[0m os\u001b[38;5;241m.\u001b[39mlistdir()\n",
      "\u001b[1;31mNameError\u001b[0m: name 'os' is not defined"
     ]
    }
   ],
   "source": [
    "os.listdir()\n"
   ]
  },
  {
   "cell_type": "code",
   "execution_count": 3,
   "id": "44ae4c3b-562c-47b5-8bb4-7262c24ca247",
   "metadata": {},
   "outputs": [
    {
     "name": "stdout",
     "output_type": "stream",
     "text": [
      "            Date        Open        High         Low       Close   Adj Close  \\\n",
      "0     2015-01-02   27.847500   27.860001   26.837500   27.332500   24.745996   \n",
      "1     2015-01-05   27.072500   27.162500   26.352501   26.562500   24.048864   \n",
      "2     2015-01-06   26.635000   26.857500   26.157499   26.565001   24.051125   \n",
      "3     2015-01-07   26.799999   27.049999   26.674999   26.937500   24.388372   \n",
      "4     2015-01-08   27.307501   28.037500   27.174999   27.972500   25.325430   \n",
      "...          ...         ...         ...         ...         ...         ...   \n",
      "1756  2021-12-22  173.039993  175.860001  172.149994  175.639999  175.639999   \n",
      "1757  2021-12-23  175.850006  176.850006  175.270004  176.279999  176.279999   \n",
      "1758  2021-12-27  177.089996  180.419998  177.070007  180.330002  180.330002   \n",
      "1759  2021-12-28  180.160004  181.330002  178.529999  179.289993  179.289993   \n",
      "1760  2021-12-29  179.330002  180.630005  178.139999  179.380005  179.380005   \n",
      "\n",
      "         Volume  \n",
      "0     212818400  \n",
      "1     257142000  \n",
      "2     263188400  \n",
      "3     160423600  \n",
      "4     237458000  \n",
      "...         ...  \n",
      "1756   92135300  \n",
      "1757   68227500  \n",
      "1758   74919600  \n",
      "1759   79144300  \n",
      "1760   62231200  \n",
      "\n",
      "[1761 rows x 7 columns]\n"
     ]
    }
   ],
   "source": [
    "import pandas as pd\n",
    "apple = pd.read_csv(\"Apple.csv\")\n",
    "print(apple)\n",
    "\n"
   ]
  },
  {
   "cell_type": "code",
   "execution_count": 4,
   "id": "8c148c88-e5af-4af3-8bf0-bdf187c1da22",
   "metadata": {},
   "outputs": [
    {
     "name": "stdout",
     "output_type": "stream",
     "text": [
      "            Date         Open         High          Low        Close  \\\n",
      "0     2011-01-03     5.368000     5.400000     5.180000     5.324000   \n",
      "1     2011-01-04     5.332000     5.390000     5.204000     5.334000   \n",
      "2     2011-01-05     5.296000     5.380000     5.238000     5.366000   \n",
      "3     2011-01-06     5.366000     5.600000     5.362000     5.576000   \n",
      "4     2011-01-07     5.600000     5.716000     5.580000     5.648000   \n",
      "...          ...          ...          ...          ...          ...   \n",
      "2762  2021-12-22   965.659973  1015.659973   957.049988  1008.869995   \n",
      "2763  2021-12-23  1006.799988  1072.979980   997.559998  1067.000000   \n",
      "2764  2021-12-27  1073.670044  1117.000000  1070.719971  1093.939941   \n",
      "2765  2021-12-28  1109.489990  1119.000000  1078.420044  1088.469971   \n",
      "2766  2021-12-29  1098.640015  1104.000000  1064.140015  1086.189941   \n",
      "\n",
      "        Adj Close    Volume  \n",
      "0        5.324000   6415000  \n",
      "1        5.334000   5937000  \n",
      "2        5.366000   7233500  \n",
      "3        5.576000  10306000  \n",
      "4        5.648000  11239500  \n",
      "...           ...       ...  \n",
      "2762  1008.869995  31211400  \n",
      "2763  1067.000000  30841900  \n",
      "2764  1093.939941  23715300  \n",
      "2765  1088.469971  20108000  \n",
      "2766  1086.189941  18616700  \n",
      "\n",
      "[2767 rows x 7 columns]\n"
     ]
    }
   ],
   "source": [
    "tesla = pd.read_csv(\"Tesla.csv\")\n",
    "print (tesla)"
   ]
  },
  {
   "cell_type": "markdown",
   "id": "b67a0e48-4014-435a-966f-3156c15c0cb9",
   "metadata": {},
   "source": [
    "inspecting dataset individually"
   ]
  },
  {
   "cell_type": "code",
   "execution_count": 13,
   "id": "ec251c7c-f266-4c39-ba23-8c77a4e21070",
   "metadata": {},
   "outputs": [
    {
     "name": "stdout",
     "output_type": "stream",
     "text": [
      "            Date         Open         High          Low        Close  \\\n",
      "0     2015-01-02   312.579987   314.750000   306.959991   308.519989   \n",
      "1     2015-01-05   307.010010   308.380005   300.850006   302.190002   \n",
      "2     2015-01-06   302.239990   303.000000   292.380005   295.290009   \n",
      "3     2015-01-07   297.500000   301.279999   295.329987   298.420013   \n",
      "4     2015-01-08   300.320007   303.140015   296.109985   300.459991   \n",
      "...          ...          ...          ...          ...          ...   \n",
      "1756  2021-12-22  3385.399902  3441.000000  3370.010010  3420.739990   \n",
      "1757  2021-12-23  3408.560059  3439.500000  3403.000000  3421.370117   \n",
      "1758  2021-12-27  3420.739990  3458.860107  3384.310059  3393.389893   \n",
      "1759  2021-12-28  3403.649902  3443.520020  3382.709961  3413.219971   \n",
      "1760  2021-12-29  3416.800049  3424.239990  3372.010010  3384.020020   \n",
      "\n",
      "        Adj Close   Volume  \n",
      "0      308.519989  2783200  \n",
      "1      302.190002  2774200  \n",
      "2      295.290009  3519000  \n",
      "3      298.420013  2640300  \n",
      "4      300.459991  3088400  \n",
      "...           ...      ...  \n",
      "1756  3420.739990  2751800  \n",
      "1757  3421.370117  1837500  \n",
      "1758  3393.389893  2934400  \n",
      "1759  3413.219971  2731900  \n",
      "1760  3384.020020  1782700  \n",
      "\n",
      "[1761 rows x 7 columns]\n"
     ]
    }
   ],
   "source": [
    "amazon = pd.read_csv(\"Amazon.csv\")\n",
    "print(amazon)"
   ]
  },
  {
   "cell_type": "code",
   "execution_count": 14,
   "id": "7f6260ed-4d1a-4cc1-af16-7e28acf13d7e",
   "metadata": {},
   "outputs": [
    {
     "name": "stdout",
     "output_type": "stream",
     "text": [
      "            Date        Open        High         Low       Close   Adj Close  \\\n",
      "0     2015-01-02   78.580002   78.930000   77.699997   78.449997   78.449997   \n",
      "1     2015-01-05   77.980003   79.250000   76.860001   77.190002   77.190002   \n",
      "2     2015-01-06   77.230003   77.589996   75.360001   76.150002   76.150002   \n",
      "3     2015-01-07   76.760002   77.360001   75.820000   76.150002   76.150002   \n",
      "4     2015-01-08   76.739998   78.230003   76.080002   78.180000   78.180000   \n",
      "...          ...         ...         ...         ...         ...         ...   \n",
      "1756  2021-12-22  333.799988  334.510010  328.260010  330.450012  330.450012   \n",
      "1757  2021-12-23  330.100006  336.670013  328.359985  335.239990  335.239990   \n",
      "1758  2021-12-27  338.850006  347.869995  338.010010  346.179993  346.179993   \n",
      "1759  2021-12-28  346.630005  352.709991  345.200012  346.220001  346.220001   \n",
      "1760  2021-12-29  346.910004  349.690002  341.640015  342.940002  342.940002   \n",
      "\n",
      "        Volume  \n",
      "0     18177500  \n",
      "1     26452200  \n",
      "2     27399300  \n",
      "3     22045300  \n",
      "4     23961000  \n",
      "...        ...  \n",
      "1756  16764600  \n",
      "1757  13977200  \n",
      "1758  17795000  \n",
      "1759  16637600  \n",
      "1760  10731700  \n",
      "\n",
      "[1761 rows x 7 columns]\n"
     ]
    }
   ],
   "source": [
    "facebook = pd.read_csv(\"Facebook.csv\")\n",
    "print(facebook)"
   ]
  },
  {
   "cell_type": "code",
   "execution_count": 15,
   "id": "51da1b57-f5ac-4152-97c6-528e87aa3cb5",
   "metadata": {},
   "outputs": [
    {
     "name": "stdout",
     "output_type": "stream",
     "text": [
      "            Date         Open         High          Low        Close  \\\n",
      "0     2015-01-02   527.561584   529.815369   522.665039   523.373108   \n",
      "1     2015-01-05   521.827332   522.894409   511.655243   512.463013   \n",
      "2     2015-01-06   513.589966   514.761719   499.678131   500.585632   \n",
      "3     2015-01-07   505.611847   505.855164   498.281952   499.727997   \n",
      "4     2015-01-08   496.626526   502.101471   489.655640   501.303680   \n",
      "...          ...          ...          ...          ...          ...   \n",
      "1756  2021-12-22  2882.000000  2946.060059  2879.260010  2938.979980   \n",
      "1757  2021-12-23  2941.790039  2971.451904  2939.017090  2942.850098   \n",
      "1758  2021-12-27  2949.270020  2968.530029  2945.000000  2961.280029   \n",
      "1759  2021-12-28  2967.489990  2967.489990  2918.709961  2928.959961   \n",
      "1760  2021-12-29  2928.590088  2943.675049  2910.090088  2930.090088   \n",
      "\n",
      "        Adj Close   Volume  \n",
      "0      523.373108  1447563  \n",
      "1      512.463013  2059840  \n",
      "2      500.585632  2899940  \n",
      "3      499.727997  2065054  \n",
      "4      501.303680  3353582  \n",
      "...           ...      ...  \n",
      "1756  2938.979980   921900  \n",
      "1757  2942.850098   690300  \n",
      "1758  2961.280029   662800  \n",
      "1759  2928.959961   931200  \n",
      "1760  2930.090088   851100  \n",
      "\n",
      "[1761 rows x 7 columns]\n"
     ]
    }
   ],
   "source": [
    "google= pd.read_csv(\"Google.csv\")\n",
    "print(google)"
   ]
  },
  {
   "cell_type": "code",
   "execution_count": 16,
   "id": "fcafc548-0ba5-4d16-a635-5b0e7c563949",
   "metadata": {},
   "outputs": [
    {
     "name": "stdout",
     "output_type": "stream",
     "text": [
      "            Date        Open        High         Low       Close   Adj Close  \\\n",
      "0     2015-01-02   46.660000   47.419998   46.540001   46.759998   41.193840   \n",
      "1     2015-01-05   46.369999   46.730000   46.250000   46.330002   40.815037   \n",
      "2     2015-01-06   46.380001   46.750000   45.540001   45.650002   40.215973   \n",
      "3     2015-01-07   45.980000   46.459999   45.490002   46.230000   40.726925   \n",
      "4     2015-01-08   46.750000   47.750000   46.720001   47.590000   41.925045   \n",
      "...          ...         ...         ...         ...         ...         ...   \n",
      "1756  2021-12-22  328.299988  333.609985  325.750000  333.200012  333.200012   \n",
      "1757  2021-12-23  332.750000  336.390015  332.730011  334.690002  334.690002   \n",
      "1758  2021-12-27  335.459991  342.480011  335.429993  342.450012  342.450012   \n",
      "1759  2021-12-28  343.149994  343.809998  340.320007  341.250000  341.250000   \n",
      "1760  2021-12-29  341.299988  344.299988  339.679993  341.950012  341.950012   \n",
      "\n",
      "        Volume  \n",
      "0     27913900  \n",
      "1     39673900  \n",
      "2     36447900  \n",
      "3     29114100  \n",
      "4     29645200  \n",
      "...        ...  \n",
      "1756  24831500  \n",
      "1757  19611200  \n",
      "1758  19947000  \n",
      "1759  15661500  \n",
      "1760  15027300  \n",
      "\n",
      "[1761 rows x 7 columns]\n"
     ]
    }
   ],
   "source": [
    "microsoft= pd.read_csv(\"Microsoft.csv\")\n",
    "print(microsoft)"
   ]
  },
  {
   "cell_type": "code",
   "execution_count": 17,
   "id": "bd315dc3-d9b7-4643-81f7-10553eb1da70",
   "metadata": {},
   "outputs": [
    {
     "name": "stdout",
     "output_type": "stream",
     "text": [
      "            Date        Open        High         Low       Close   Adj Close  \\\n",
      "0     2015-01-02   49.151428   50.331429   48.731430   49.848572   49.848572   \n",
      "1     2015-01-05   49.258572   49.258572   47.147144   47.311428   47.311428   \n",
      "2     2015-01-06   47.347141   47.639999   45.661430   46.501431   46.501431   \n",
      "3     2015-01-07   47.347141   47.421429   46.271427   46.742859   46.742859   \n",
      "4     2015-01-08   47.119999   47.835712   46.478573   47.779999   47.779999   \n",
      "...          ...         ...         ...         ...         ...         ...   \n",
      "1756  2021-12-22  603.359985  614.820007  602.630005  614.239990  614.239990   \n",
      "1757  2021-12-23  616.400024  616.880005  607.570007  614.090027  614.090027   \n",
      "1758  2021-12-27  615.000000  615.000000  609.250000  613.119995  613.119995   \n",
      "1759  2021-12-28  614.950012  618.409973  609.690002  610.710022  610.710022   \n",
      "1760  2021-12-29  610.710022  613.979980  604.679993  610.539978  610.539978   \n",
      "\n",
      "        Volume  \n",
      "0     13475000  \n",
      "1     18165000  \n",
      "2     16037700  \n",
      "3      9849700  \n",
      "4      9601900  \n",
      "...        ...  \n",
      "1756   2335700  \n",
      "1757   1620600  \n",
      "1758   2061500  \n",
      "1759   1882800  \n",
      "1760   1287200  \n",
      "\n",
      "[1761 rows x 7 columns]\n"
     ]
    }
   ],
   "source": [
    "netflix= pd.read_csv(\"Netflix.csv\")\n",
    "print(netflix)"
   ]
  },
  {
   "cell_type": "code",
   "execution_count": 18,
   "id": "eae36d8c-e3b4-4c50-b15b-d29525846c10",
   "metadata": {},
   "outputs": [
    {
     "name": "stdout",
     "output_type": "stream",
     "text": [
      "           Date       Open       High        Low      Close  Adj Close  \\\n",
      "0    2019-05-10  42.000000  45.000000  41.060001  41.570000  41.570000   \n",
      "1    2019-05-13  38.790001  39.240002  36.080002  37.099998  37.099998   \n",
      "2    2019-05-14  38.310001  39.959999  36.849998  39.959999  39.959999   \n",
      "3    2019-05-15  39.369999  41.880001  38.950001  41.290001  41.290001   \n",
      "4    2019-05-16  41.480000  44.060001  41.250000  43.000000  43.000000   \n",
      "..          ...        ...        ...        ...        ...        ...   \n",
      "661  2021-12-22  41.950001  43.230000  41.450001  43.020000  43.020000   \n",
      "662  2021-12-23  43.029999  44.349998  42.759998  43.910000  43.910000   \n",
      "663  2021-12-27  43.439999  44.240002  42.820000  42.959999  42.959999   \n",
      "664  2021-12-28  42.599998  43.740002  42.299999  42.540001  42.540001   \n",
      "665  2021-12-29  42.720001  42.930000  41.814999  42.459999  42.459999   \n",
      "\n",
      "        Volume  \n",
      "0    186322500  \n",
      "1     79442400  \n",
      "2     46661100  \n",
      "3     36086100  \n",
      "4     38115500  \n",
      "..         ...  \n",
      "661   27675700  \n",
      "662   21741900  \n",
      "663   28285000  \n",
      "664   21481000  \n",
      "665   15901800  \n",
      "\n",
      "[666 rows x 7 columns]\n"
     ]
    }
   ],
   "source": [
    "uber= pd.read_csv(\"Uber.csv\")\n",
    "print(uber)"
   ]
  },
  {
   "cell_type": "code",
   "execution_count": 19,
   "id": "fb0443ae-84ca-4717-a530-2d562bb4b42d",
   "metadata": {},
   "outputs": [
    {
     "name": "stdout",
     "output_type": "stream",
     "text": [
      "           Date        Open        High         Low       Close   Adj Close  \\\n",
      "0    2019-04-18   65.000000   66.000000   60.320999   62.000000   62.000000   \n",
      "1    2019-04-22   61.000000   68.900002   59.939999   65.699997   65.699997   \n",
      "2    2019-04-23   66.870003   74.168999   65.550003   69.000000   69.000000   \n",
      "3    2019-04-24   71.400002   71.500000   63.160000   63.200001   63.200001   \n",
      "4    2019-04-25   64.739998   66.849998   62.599998   65.000000   65.000000   \n",
      "..          ...         ...         ...         ...         ...         ...   \n",
      "676  2021-12-22  197.050003  200.250000  190.419998  193.130005  193.130005   \n",
      "677  2021-12-23  191.000000  193.410004  186.649994  191.649994  191.649994   \n",
      "678  2021-12-27  189.539993  190.440002  185.660004  187.440002  187.440002   \n",
      "679  2021-12-28  186.600006  190.630005  183.089996  183.770004  183.770004   \n",
      "680  2021-12-29  184.000000  185.214005  179.785004  181.809998  181.809998   \n",
      "\n",
      "       Volume  \n",
      "0    25764700  \n",
      "1     9949700  \n",
      "2     6786500  \n",
      "3     4973500  \n",
      "4     3863300  \n",
      "..        ...  \n",
      "676   2865900  \n",
      "677   3102900  \n",
      "678   3068500  \n",
      "679   3129100  \n",
      "680   2562800  \n",
      "\n",
      "[681 rows x 7 columns]\n"
     ]
    }
   ],
   "source": [
    "zoom= pd.read_csv(\"Zoom.csv\")\n",
    "print(zoom)"
   ]
  },
  {
   "cell_type": "code",
   "execution_count": 20,
   "id": "23b5bf94-2564-45b3-9e89-4734f74de69a",
   "metadata": {},
   "outputs": [
    {
     "name": "stdout",
     "output_type": "stream",
     "text": [
      "            Date        Open        High         Low       Close   Adj Close  \\\n",
      "0     2015-01-02   86.269997   86.720001   85.550003   85.900002   73.388664   \n",
      "1     2015-01-05   85.720001   86.320000   85.510002   85.650002   73.175095   \n",
      "2     2015-01-06   85.980003   86.750000   85.790001   86.309998   73.738953   \n",
      "3     2015-01-07   86.779999   88.680000   86.669998   88.599998   75.695427   \n",
      "4     2015-01-08   89.209999   90.669998   89.070000   90.470001   77.293053   \n",
      "...          ...         ...         ...         ...         ...         ...   \n",
      "1756  2021-12-22  139.899994  139.990005  138.529999  139.800003  139.800003   \n",
      "1757  2021-12-23  139.800003  140.160004  138.850006  139.490005  139.490005   \n",
      "1758  2021-12-27  139.600006  140.869995  139.570007  140.759995  140.759995   \n",
      "1759  2021-12-28  140.600006  142.970001  140.600006  142.779999  142.779999   \n",
      "1760  2021-12-29  142.660004  143.529999  142.320007  142.710007  142.710007   \n",
      "\n",
      "        Volume  \n",
      "0      4501800  \n",
      "1      6979000  \n",
      "2      8205100  \n",
      "3      8498400  \n",
      "4     12713600  \n",
      "...        ...  \n",
      "1756   5676000  \n",
      "1757   5862800  \n",
      "1758   5346900  \n",
      "1759   5261000  \n",
      "1760   4346800  \n",
      "\n",
      "[1761 rows x 7 columns]\n"
     ]
    }
   ],
   "source": [
    "walmart= pd.read_csv(\"Walmart.csv\")\n",
    "print(walmart)"
   ]
  },
  {
   "cell_type": "code",
   "execution_count": 10,
   "id": "50b8e446-a788-4d59-a709-a96c93067395",
   "metadata": {},
   "outputs": [
    {
     "name": "stdout",
     "output_type": "stream",
     "text": [
      "\n",
      "📄 File: Amazon.csv\n",
      "<class 'pandas.core.frame.DataFrame'>\n",
      "RangeIndex: 1761 entries, 0 to 1760\n",
      "Data columns (total 7 columns):\n",
      " #   Column     Non-Null Count  Dtype  \n",
      "---  ------     --------------  -----  \n",
      " 0   Date       1761 non-null   object \n",
      " 1   Open       1761 non-null   float64\n",
      " 2   High       1761 non-null   float64\n",
      " 3   Low        1761 non-null   float64\n",
      " 4   Close      1761 non-null   float64\n",
      " 5   Adj Close  1761 non-null   float64\n",
      " 6   Volume     1761 non-null   int64  \n",
      "dtypes: float64(5), int64(1), object(1)\n",
      "memory usage: 96.4+ KB\n",
      "None\n",
      "         Date        Open        High         Low       Close   Adj Close  \\\n",
      "0  2015-01-02  312.579987  314.750000  306.959991  308.519989  308.519989   \n",
      "1  2015-01-05  307.010010  308.380005  300.850006  302.190002  302.190002   \n",
      "\n",
      "    Volume  \n",
      "0  2783200  \n",
      "1  2774200  \n",
      "\n",
      "📄 File: Apple.csv\n",
      "<class 'pandas.core.frame.DataFrame'>\n",
      "RangeIndex: 1761 entries, 0 to 1760\n",
      "Data columns (total 7 columns):\n",
      " #   Column     Non-Null Count  Dtype  \n",
      "---  ------     --------------  -----  \n",
      " 0   Date       1761 non-null   object \n",
      " 1   Open       1761 non-null   float64\n",
      " 2   High       1761 non-null   float64\n",
      " 3   Low        1761 non-null   float64\n",
      " 4   Close      1761 non-null   float64\n",
      " 5   Adj Close  1761 non-null   float64\n",
      " 6   Volume     1761 non-null   int64  \n",
      "dtypes: float64(5), int64(1), object(1)\n",
      "memory usage: 96.4+ KB\n",
      "None\n",
      "         Date     Open       High        Low    Close  Adj Close     Volume\n",
      "0  2015-01-02  27.8475  27.860001  26.837500  27.3325  24.745996  212818400\n",
      "1  2015-01-05  27.0725  27.162500  26.352501  26.5625  24.048864  257142000\n",
      "\n",
      "📄 File: Facebook.csv\n",
      "<class 'pandas.core.frame.DataFrame'>\n",
      "RangeIndex: 1761 entries, 0 to 1760\n",
      "Data columns (total 7 columns):\n",
      " #   Column     Non-Null Count  Dtype  \n",
      "---  ------     --------------  -----  \n",
      " 0   Date       1761 non-null   object \n",
      " 1   Open       1761 non-null   float64\n",
      " 2   High       1761 non-null   float64\n",
      " 3   Low        1761 non-null   float64\n",
      " 4   Close      1761 non-null   float64\n",
      " 5   Adj Close  1761 non-null   float64\n",
      " 6   Volume     1761 non-null   int64  \n",
      "dtypes: float64(5), int64(1), object(1)\n",
      "memory usage: 96.4+ KB\n",
      "None\n",
      "         Date       Open   High        Low      Close  Adj Close    Volume\n",
      "0  2015-01-02  78.580002  78.93  77.699997  78.449997  78.449997  18177500\n",
      "1  2015-01-05  77.980003  79.25  76.860001  77.190002  77.190002  26452200\n",
      "\n",
      "📄 File: Google.csv\n",
      "<class 'pandas.core.frame.DataFrame'>\n",
      "RangeIndex: 1761 entries, 0 to 1760\n",
      "Data columns (total 7 columns):\n",
      " #   Column     Non-Null Count  Dtype  \n",
      "---  ------     --------------  -----  \n",
      " 0   Date       1761 non-null   object \n",
      " 1   Open       1761 non-null   float64\n",
      " 2   High       1761 non-null   float64\n",
      " 3   Low        1761 non-null   float64\n",
      " 4   Close      1761 non-null   float64\n",
      " 5   Adj Close  1761 non-null   float64\n",
      " 6   Volume     1761 non-null   int64  \n",
      "dtypes: float64(5), int64(1), object(1)\n",
      "memory usage: 96.4+ KB\n",
      "None\n",
      "         Date        Open        High         Low       Close   Adj Close  \\\n",
      "0  2015-01-02  527.561584  529.815369  522.665039  523.373108  523.373108   \n",
      "1  2015-01-05  521.827332  522.894409  511.655243  512.463013  512.463013   \n",
      "\n",
      "    Volume  \n",
      "0  1447563  \n",
      "1  2059840  \n",
      "\n",
      "📄 File: Microsoft.csv\n",
      "<class 'pandas.core.frame.DataFrame'>\n",
      "RangeIndex: 1761 entries, 0 to 1760\n",
      "Data columns (total 7 columns):\n",
      " #   Column     Non-Null Count  Dtype  \n",
      "---  ------     --------------  -----  \n",
      " 0   Date       1761 non-null   object \n",
      " 1   Open       1761 non-null   float64\n",
      " 2   High       1761 non-null   float64\n",
      " 3   Low        1761 non-null   float64\n",
      " 4   Close      1761 non-null   float64\n",
      " 5   Adj Close  1761 non-null   float64\n",
      " 6   Volume     1761 non-null   int64  \n",
      "dtypes: float64(5), int64(1), object(1)\n",
      "memory usage: 96.4+ KB\n",
      "None\n",
      "         Date       Open       High        Low      Close  Adj Close    Volume\n",
      "0  2015-01-02  46.660000  47.419998  46.540001  46.759998  41.193840  27913900\n",
      "1  2015-01-05  46.369999  46.730000  46.250000  46.330002  40.815037  39673900\n",
      "\n",
      "📄 File: Netflix.csv\n",
      "<class 'pandas.core.frame.DataFrame'>\n",
      "RangeIndex: 1761 entries, 0 to 1760\n",
      "Data columns (total 7 columns):\n",
      " #   Column     Non-Null Count  Dtype  \n",
      "---  ------     --------------  -----  \n",
      " 0   Date       1761 non-null   object \n",
      " 1   Open       1761 non-null   float64\n",
      " 2   High       1761 non-null   float64\n",
      " 3   Low        1761 non-null   float64\n",
      " 4   Close      1761 non-null   float64\n",
      " 5   Adj Close  1761 non-null   float64\n",
      " 6   Volume     1761 non-null   int64  \n",
      "dtypes: float64(5), int64(1), object(1)\n",
      "memory usage: 96.4+ KB\n",
      "None\n",
      "         Date       Open       High        Low      Close  Adj Close    Volume\n",
      "0  2015-01-02  49.151428  50.331429  48.731430  49.848572  49.848572  13475000\n",
      "1  2015-01-05  49.258572  49.258572  47.147144  47.311428  47.311428  18165000\n",
      "\n",
      "📄 File: Tesla.csv\n",
      "<class 'pandas.core.frame.DataFrame'>\n",
      "RangeIndex: 2767 entries, 0 to 2766\n",
      "Data columns (total 7 columns):\n",
      " #   Column     Non-Null Count  Dtype  \n",
      "---  ------     --------------  -----  \n",
      " 0   Date       2767 non-null   object \n",
      " 1   Open       2767 non-null   float64\n",
      " 2   High       2767 non-null   float64\n",
      " 3   Low        2767 non-null   float64\n",
      " 4   Close      2767 non-null   float64\n",
      " 5   Adj Close  2767 non-null   float64\n",
      " 6   Volume     2767 non-null   int64  \n",
      "dtypes: float64(5), int64(1), object(1)\n",
      "memory usage: 151.4+ KB\n",
      "None\n",
      "         Date   Open  High    Low  Close  Adj Close   Volume\n",
      "0  2011-01-03  5.368  5.40  5.180  5.324      5.324  6415000\n",
      "1  2011-01-04  5.332  5.39  5.204  5.334      5.334  5937000\n",
      "\n",
      "📄 File: Uber.csv\n",
      "<class 'pandas.core.frame.DataFrame'>\n",
      "RangeIndex: 666 entries, 0 to 665\n",
      "Data columns (total 7 columns):\n",
      " #   Column     Non-Null Count  Dtype  \n",
      "---  ------     --------------  -----  \n",
      " 0   Date       666 non-null    object \n",
      " 1   Open       666 non-null    float64\n",
      " 2   High       666 non-null    float64\n",
      " 3   Low        666 non-null    float64\n",
      " 4   Close      666 non-null    float64\n",
      " 5   Adj Close  666 non-null    float64\n",
      " 6   Volume     666 non-null    int64  \n",
      "dtypes: float64(5), int64(1), object(1)\n",
      "memory usage: 36.6+ KB\n",
      "None\n",
      "         Date       Open       High        Low      Close  Adj Close  \\\n",
      "0  2019-05-10  42.000000  45.000000  41.060001  41.570000  41.570000   \n",
      "1  2019-05-13  38.790001  39.240002  36.080002  37.099998  37.099998   \n",
      "\n",
      "      Volume  \n",
      "0  186322500  \n",
      "1   79442400  \n",
      "\n",
      "📄 File: Walmart.csv\n",
      "<class 'pandas.core.frame.DataFrame'>\n",
      "RangeIndex: 1761 entries, 0 to 1760\n",
      "Data columns (total 7 columns):\n",
      " #   Column     Non-Null Count  Dtype  \n",
      "---  ------     --------------  -----  \n",
      " 0   Date       1761 non-null   object \n",
      " 1   Open       1761 non-null   float64\n",
      " 2   High       1761 non-null   float64\n",
      " 3   Low        1761 non-null   float64\n",
      " 4   Close      1761 non-null   float64\n",
      " 5   Adj Close  1761 non-null   float64\n",
      " 6   Volume     1761 non-null   int64  \n",
      "dtypes: float64(5), int64(1), object(1)\n",
      "memory usage: 96.4+ KB\n",
      "None\n",
      "         Date       Open       High        Low      Close  Adj Close   Volume\n",
      "0  2015-01-02  86.269997  86.720001  85.550003  85.900002  73.388664  4501800\n",
      "1  2015-01-05  85.720001  86.320000  85.510002  85.650002  73.175095  6979000\n",
      "\n",
      "📄 File: Zoom.csv\n",
      "<class 'pandas.core.frame.DataFrame'>\n",
      "RangeIndex: 681 entries, 0 to 680\n",
      "Data columns (total 7 columns):\n",
      " #   Column     Non-Null Count  Dtype  \n",
      "---  ------     --------------  -----  \n",
      " 0   Date       681 non-null    object \n",
      " 1   Open       681 non-null    float64\n",
      " 2   High       681 non-null    float64\n",
      " 3   Low        681 non-null    float64\n",
      " 4   Close      681 non-null    float64\n",
      " 5   Adj Close  681 non-null    float64\n",
      " 6   Volume     681 non-null    int64  \n",
      "dtypes: float64(5), int64(1), object(1)\n",
      "memory usage: 37.4+ KB\n",
      "None\n",
      "         Date  Open       High        Low      Close  Adj Close    Volume\n",
      "0  2019-04-18  65.0  66.000000  60.320999  62.000000  62.000000  25764700\n",
      "1  2019-04-22  61.0  68.900002  59.939999  65.699997  65.699997   9949700\n"
     ]
    }
   ],
   "source": [
    "import pandas as pd\n",
    "import os\n",
    "\n",
    "for file in os.listdir():\n",
    "    if file.endswith(\".csv\"):\n",
    "        print(f\"\\n📄 File: {file}\")\n",
    "        df = pd.read_csv(file)\n",
    "        print(df.info())\n",
    "        print(df.head(2))\n"
   ]
  },
  {
   "cell_type": "markdown",
   "id": "7e314af3-0b2b-4bd4-8000-7b4d4c7c1e43",
   "metadata": {},
   "source": [
    "#converting data to datetime format"
   ]
  },
  {
   "cell_type": "code",
   "execution_count": 21,
   "id": "3c8e2166-3590-40f0-8f46-055735d9c862",
   "metadata": {},
   "outputs": [
    {
     "name": "stdout",
     "output_type": "stream",
     "text": [
      "Amazon:Converted DATE to Datetime\n",
      "Apple:Converted DATE to Datetime\n",
      "Facebook:Converted DATE to Datetime\n",
      "Google:Converted DATE to Datetime\n",
      "Microsoft:Converted DATE to Datetime\n",
      "Netflix:Converted DATE to Datetime\n",
      "Tesla:Converted DATE to Datetime\n",
      "Uber:Converted DATE to Datetime\n",
      "Walmart:Converted DATE to Datetime\n",
      "Zoom:Converted DATE to Datetime\n"
     ]
    }
   ],
   "source": [
    "datasets = [amazon, apple, facebook, google, microsoft, netflix, tesla, uber, walmart, zoom]\n",
    "names = [\"Amazon\", \"Apple\", \"Facebook\", \"Google\", \"Microsoft\", \"Netflix\", \"Tesla\", \"Uber\", \"Walmart\", \"Zoom\"]\n",
    "for i,df in enumerate(datasets):\n",
    "    df[\"Date\"] = pd.to_datetime(df[\"Date\"], errors = \"coerce\")\n",
    "    print(f\"{names[i]}:Converted DATE to Datetime\")"
   ]
  },
  {
   "cell_type": "markdown",
   "id": "e9427094-66a8-4676-bfd8-c686adb92479",
   "metadata": {},
   "source": [
    "CHECKING MISSING VALUES"
   ]
  },
  {
   "cell_type": "code",
   "execution_count": 24,
   "id": "9292eaa4-78f9-454b-98db-f999de454c70",
   "metadata": {},
   "outputs": [
    {
     "name": "stdout",
     "output_type": "stream",
     "text": [
      "\n",
      "AmazonMissing Values:\n",
      "Date         0\n",
      "Open         0\n",
      "High         0\n",
      "Low          0\n",
      "Close        0\n",
      "Adj Close    0\n",
      "Volume       0\n",
      "dtype: int64\n",
      "\n",
      "AppleMissing Values:\n",
      "Date         0\n",
      "Open         0\n",
      "High         0\n",
      "Low          0\n",
      "Close        0\n",
      "Adj Close    0\n",
      "Volume       0\n",
      "dtype: int64\n",
      "\n",
      "FacebookMissing Values:\n",
      "Date         0\n",
      "Open         0\n",
      "High         0\n",
      "Low          0\n",
      "Close        0\n",
      "Adj Close    0\n",
      "Volume       0\n",
      "dtype: int64\n",
      "\n",
      "GoogleMissing Values:\n",
      "Date         0\n",
      "Open         0\n",
      "High         0\n",
      "Low          0\n",
      "Close        0\n",
      "Adj Close    0\n",
      "Volume       0\n",
      "dtype: int64\n",
      "\n",
      "MicrosoftMissing Values:\n",
      "Date         0\n",
      "Open         0\n",
      "High         0\n",
      "Low          0\n",
      "Close        0\n",
      "Adj Close    0\n",
      "Volume       0\n",
      "dtype: int64\n",
      "\n",
      "NetflixMissing Values:\n",
      "Date         0\n",
      "Open         0\n",
      "High         0\n",
      "Low          0\n",
      "Close        0\n",
      "Adj Close    0\n",
      "Volume       0\n",
      "dtype: int64\n",
      "\n",
      "TeslaMissing Values:\n",
      "Date         0\n",
      "Open         0\n",
      "High         0\n",
      "Low          0\n",
      "Close        0\n",
      "Adj Close    0\n",
      "Volume       0\n",
      "dtype: int64\n",
      "\n",
      "UberMissing Values:\n",
      "Date         0\n",
      "Open         0\n",
      "High         0\n",
      "Low          0\n",
      "Close        0\n",
      "Adj Close    0\n",
      "Volume       0\n",
      "dtype: int64\n",
      "\n",
      "WalmartMissing Values:\n",
      "Date         0\n",
      "Open         0\n",
      "High         0\n",
      "Low          0\n",
      "Close        0\n",
      "Adj Close    0\n",
      "Volume       0\n",
      "dtype: int64\n",
      "\n",
      "ZoomMissing Values:\n",
      "Date         0\n",
      "Open         0\n",
      "High         0\n",
      "Low          0\n",
      "Close        0\n",
      "Adj Close    0\n",
      "Volume       0\n",
      "dtype: int64\n"
     ]
    }
   ],
   "source": [
    "for i ,df in enumerate(datasets):\n",
    "    print(f\"\\n{names[i]}Missing Values:\")\n",
    "    print(df.isnull().sum())\n",
    "    "
   ]
  },
  {
   "cell_type": "code",
   "execution_count": 25,
   "id": "12e965b2-2b80-4384-9b57-bd96831174d3",
   "metadata": {},
   "outputs": [
    {
     "name": "stdout",
     "output_type": "stream",
     "text": [
      "Amazon: Removed 0 duplicates\n",
      "Apple: Removed 0 duplicates\n",
      "Facebook: Removed 0 duplicates\n",
      "Google: Removed 0 duplicates\n",
      "Microsoft: Removed 0 duplicates\n",
      "Netflix: Removed 0 duplicates\n",
      "Tesla: Removed 0 duplicates\n",
      "Uber: Removed 0 duplicates\n",
      "Walmart: Removed 0 duplicates\n",
      "Zoom: Removed 0 duplicates\n"
     ]
    }
   ],
   "source": [
    "for i, df in enumerate(datasets):\n",
    "    before = df.shape[0]\n",
    "    df.drop_duplicates(inplace=True)\n",
    "    after = df.shape[0]\n",
    "    print(f\"{names[i]}: Removed {before - after} duplicates\")\n"
   ]
  },
  {
   "cell_type": "code",
   "execution_count": 28,
   "id": "1fcef9d5-a4f8-4615-be73-f138d21f114d",
   "metadata": {},
   "outputs": [],
   "source": [
    "for df in datasets:\n",
    "   sort_dates= df.sort_values(by=\"Date\",inplace = True)\n",
    "\n",
    "    "
   ]
  },
  {
   "cell_type": "code",
   "execution_count": 30,
   "id": "da4bd3fc-5a60-4dbf-b58e-4a1be5b0c094",
   "metadata": {},
   "outputs": [
    {
     "name": "stdout",
     "output_type": "stream",
     "text": [
      "          Date        Open        High         Low       Close   Adj Close  \\\n",
      "0   2019-04-18   65.000000   66.000000   60.320999   62.000000   62.000000   \n",
      "1   2019-04-22   61.000000   68.900002   59.939999   65.699997   65.699997   \n",
      "2   2019-04-23   66.870003   74.168999   65.550003   69.000000   69.000000   \n",
      "3   2019-04-24   71.400002   71.500000   63.160000   63.200001   63.200001   \n",
      "4   2019-04-25   64.739998   66.849998   62.599998   65.000000   65.000000   \n",
      "..         ...         ...         ...         ...         ...         ...   \n",
      "676 2021-12-22  197.050003  200.250000  190.419998  193.130005  193.130005   \n",
      "677 2021-12-23  191.000000  193.410004  186.649994  191.649994  191.649994   \n",
      "678 2021-12-27  189.539993  190.440002  185.660004  187.440002  187.440002   \n",
      "679 2021-12-28  186.600006  190.630005  183.089996  183.770004  183.770004   \n",
      "680 2021-12-29  184.000000  185.214005  179.785004  181.809998  181.809998   \n",
      "\n",
      "       Volume  \n",
      "0    25764700  \n",
      "1     9949700  \n",
      "2     6786500  \n",
      "3     4973500  \n",
      "4     3863300  \n",
      "..        ...  \n",
      "676   2865900  \n",
      "677   3102900  \n",
      "678   3068500  \n",
      "679   3129100  \n",
      "680   2562800  \n",
      "\n",
      "[681 rows x 7 columns]\n"
     ]
    }
   ],
   "source": [
    "for df in datasets:\n",
    "    df.reset_index(drop=True, inplace=True)\n",
    "print(df)"
   ]
  },
  {
   "cell_type": "code",
   "execution_count": 31,
   "id": "3de65bd4-b2ed-4054-b130-b687d80ece26",
   "metadata": {},
   "outputs": [
    {
     "name": "stdout",
     "output_type": "stream",
     "text": [
      "\n",
      "✅ Amazon — Rows: 1761, Date range: 2015-01-02 to 2021-12-29\n",
      "\n",
      "✅ Apple — Rows: 1761, Date range: 2015-01-02 to 2021-12-29\n",
      "\n",
      "✅ Facebook — Rows: 1761, Date range: 2015-01-02 to 2021-12-29\n",
      "\n",
      "✅ Google — Rows: 1761, Date range: 2015-01-02 to 2021-12-29\n",
      "\n",
      "✅ Microsoft — Rows: 1761, Date range: 2015-01-02 to 2021-12-29\n",
      "\n",
      "✅ Netflix — Rows: 1761, Date range: 2015-01-02 to 2021-12-29\n",
      "\n",
      "✅ Tesla — Rows: 2767, Date range: 2011-01-03 to 2021-12-29\n",
      "\n",
      "✅ Uber — Rows: 666, Date range: 2019-05-10 to 2021-12-29\n",
      "\n",
      "✅ Walmart — Rows: 1761, Date range: 2015-01-02 to 2021-12-29\n",
      "\n",
      "✅ Zoom — Rows: 681, Date range: 2019-04-18 to 2021-12-29\n"
     ]
    }
   ],
   "source": [
    "for i, df in enumerate(datasets):\n",
    "    print(f\"\\n {names[i]} — Rows: {len(df)}, Date range: {df['Date'].min().date()} to {df['Date'].max().date()}\")\n"
   ]
  },
  {
   "cell_type": "markdown",
   "id": "0fad54e1-36d0-400b-a0fc-58ceaf069b35",
   "metadata": {},
   "source": [
    "combining all dataset"
   ]
  },
  {
   "cell_type": "code",
   "execution_count": 33,
   "id": "03c5438e-4aac-4d17-abcf-5193bb7b79db",
   "metadata": {},
   "outputs": [
    {
     "name": "stdout",
     "output_type": "stream",
     "text": [
      "            Date         Open         High          Low        Close  \\\n",
      "10566 2011-01-03     5.368000     5.400000     5.180000     5.324000   \n",
      "10567 2011-01-04     5.332000     5.390000     5.204000     5.334000   \n",
      "10568 2011-01-05     5.296000     5.380000     5.238000     5.366000   \n",
      "10569 2011-01-06     5.366000     5.600000     5.362000     5.576000   \n",
      "10570 2011-01-07     5.600000     5.716000     5.580000     5.648000   \n",
      "...          ...          ...          ...          ...          ...   \n",
      "7043  2021-12-29  2928.590088  2943.675049  2910.090088  2930.090088   \n",
      "1760  2021-12-29  3416.800049  3424.239990  3372.010010  3384.020020   \n",
      "8804  2021-12-29   341.299988   344.299988   339.679993   341.950012   \n",
      "13998 2021-12-29    42.720001    42.930000    41.814999    42.459999   \n",
      "16440 2021-12-29   184.000000   185.214005   179.785004   181.809998   \n",
      "\n",
      "         Adj Close    Volume    Company  \n",
      "10566     5.324000   6415000      Tesla  \n",
      "10567     5.334000   5937000      Tesla  \n",
      "10568     5.366000   7233500      Tesla  \n",
      "10569     5.576000  10306000      Tesla  \n",
      "10570     5.648000  11239500      Tesla  \n",
      "...            ...       ...        ...  \n",
      "7043   2930.090088    851100     Google  \n",
      "1760   3384.020020   1782700     Amazon  \n",
      "8804    341.950012  15027300  Microsoft  \n",
      "13998    42.459999  15901800       Uber  \n",
      "16440   181.809998   2562800       Zoom  \n",
      "\n",
      "[16441 rows x 8 columns]\n"
     ]
    }
   ],
   "source": [
    "import pandas as pd\n",
    "\n",
    "# Create a dictionary of your cleaned datasets\n",
    "data_dict = {\n",
    "    'Amazon': amazon,\n",
    "    'Apple': apple,\n",
    "    'Facebook': facebook,\n",
    "    'Google': google,\n",
    "    'Microsoft': microsoft,\n",
    "    'Netflix': netflix,\n",
    "    'Tesla': tesla,\n",
    "    'Uber': uber,\n",
    "    'Walmart': walmart,\n",
    "    'Zoom': zoom\n",
    "}\n",
    "\n",
    "# Add a 'Company' column to each and combine\n",
    "combined_df = pd.concat([df.assign(Company=name) for name, df in data_dict.items()], ignore_index=True)\n",
    "\n",
    "# Sort by Date\n",
    "combined_df.sort_values(by='Date', inplace=True)\n",
    "\n",
    "# Check the result\n",
    "print(combined_df)\n"
   ]
  },
  {
   "cell_type": "code",
   "execution_count": 34,
   "id": "90ee04af-77a5-4c65-b03d-1aff4e0abb0e",
   "metadata": {},
   "outputs": [
    {
     "data": {
      "text/plain": [
       "Company\n",
       "Tesla        2767\n",
       "Microsoft    1761\n",
       "Facebook     1761\n",
       "Google       1761\n",
       "Walmart      1761\n",
       "Netflix      1761\n",
       "Apple        1761\n",
       "Amazon       1761\n",
       "Zoom          681\n",
       "Uber          666\n",
       "Name: count, dtype: int64"
      ]
     },
     "execution_count": 34,
     "metadata": {},
     "output_type": "execute_result"
    }
   ],
   "source": [
    "combined_df['Company'].value_counts()\n"
   ]
  },
  {
   "cell_type": "code",
   "execution_count": 35,
   "id": "6482a8ba-bf6b-4379-8146-2f5b6408f7b3",
   "metadata": {},
   "outputs": [
    {
     "name": "stdout",
     "output_type": "stream",
     "text": [
      "<class 'pandas.core.frame.DataFrame'>\n",
      "Index: 16441 entries, 10566 to 16440\n",
      "Data columns (total 8 columns):\n",
      " #   Column     Non-Null Count  Dtype         \n",
      "---  ------     --------------  -----         \n",
      " 0   Date       16441 non-null  datetime64[ns]\n",
      " 1   Open       16441 non-null  float64       \n",
      " 2   High       16441 non-null  float64       \n",
      " 3   Low        16441 non-null  float64       \n",
      " 4   Close      16441 non-null  float64       \n",
      " 5   Adj Close  16441 non-null  float64       \n",
      " 6   Volume     16441 non-null  int64         \n",
      " 7   Company    16441 non-null  object        \n",
      "dtypes: datetime64[ns](1), float64(5), int64(1), object(1)\n",
      "memory usage: 1.1+ MB\n"
     ]
    }
   ],
   "source": [
    "combined_df.info()"
   ]
  },
  {
   "cell_type": "code",
   "execution_count": 45,
   "id": "c1cce6e6-7d8d-4d0e-a5e3-4a94be69f494",
   "metadata": {},
   "outputs": [
    {
     "data": {
      "text/html": [
       "<div>\n",
       "<style scoped>\n",
       "    .dataframe tbody tr th:only-of-type {\n",
       "        vertical-align: middle;\n",
       "    }\n",
       "\n",
       "    .dataframe tbody tr th {\n",
       "        vertical-align: top;\n",
       "    }\n",
       "\n",
       "    .dataframe thead th {\n",
       "        text-align: right;\n",
       "    }\n",
       "</style>\n",
       "<table border=\"1\" class=\"dataframe\">\n",
       "  <thead>\n",
       "    <tr style=\"text-align: right;\">\n",
       "      <th></th>\n",
       "      <th>Date</th>\n",
       "      <th>Open</th>\n",
       "      <th>High</th>\n",
       "      <th>Low</th>\n",
       "      <th>Close</th>\n",
       "      <th>Adj Close</th>\n",
       "      <th>Volume</th>\n",
       "    </tr>\n",
       "  </thead>\n",
       "  <tbody>\n",
       "    <tr>\n",
       "      <th>count</th>\n",
       "      <td>16441</td>\n",
       "      <td>16441.000000</td>\n",
       "      <td>16441.000000</td>\n",
       "      <td>16441.000000</td>\n",
       "      <td>16441.000000</td>\n",
       "      <td>16441.000000</td>\n",
       "      <td>1.644100e+04</td>\n",
       "    </tr>\n",
       "    <tr>\n",
       "      <th>mean</th>\n",
       "      <td>2018-05-04 17:08:52.303387904</td>\n",
       "      <td>421.899081</td>\n",
       "      <td>426.649059</td>\n",
       "      <td>416.942834</td>\n",
       "      <td>421.964527</td>\n",
       "      <td>420.841444</td>\n",
       "      <td>2.964203e+07</td>\n",
       "    </tr>\n",
       "    <tr>\n",
       "      <th>min</th>\n",
       "      <td>2011-01-03 00:00:00</td>\n",
       "      <td>4.356000</td>\n",
       "      <td>4.454000</td>\n",
       "      <td>4.222000</td>\n",
       "      <td>4.366000</td>\n",
       "      <td>4.366000</td>\n",
       "      <td>3.468000e+05</td>\n",
       "    </tr>\n",
       "    <tr>\n",
       "      <th>25%</th>\n",
       "      <td>2016-07-19 00:00:00</td>\n",
       "      <td>58.237499</td>\n",
       "      <td>59.001999</td>\n",
       "      <td>57.599998</td>\n",
       "      <td>58.183998</td>\n",
       "      <td>55.723999</td>\n",
       "      <td>4.615000e+06</td>\n",
       "    </tr>\n",
       "    <tr>\n",
       "      <th>50%</th>\n",
       "      <td>2018-08-01 00:00:00</td>\n",
       "      <td>127.410004</td>\n",
       "      <td>128.850006</td>\n",
       "      <td>126.010002</td>\n",
       "      <td>127.529999</td>\n",
       "      <td>126.475647</td>\n",
       "      <td>1.320430e+07</td>\n",
       "    </tr>\n",
       "    <tr>\n",
       "      <th>75%</th>\n",
       "      <td>2020-05-13 00:00:00</td>\n",
       "      <td>444.899994</td>\n",
       "      <td>452.760010</td>\n",
       "      <td>436.600006</td>\n",
       "      <td>445.989990</td>\n",
       "      <td>445.989990</td>\n",
       "      <td>2.971960e+07</td>\n",
       "    </tr>\n",
       "    <tr>\n",
       "      <th>max</th>\n",
       "      <td>2021-12-29 00:00:00</td>\n",
       "      <td>3744.000000</td>\n",
       "      <td>3773.080078</td>\n",
       "      <td>3696.790039</td>\n",
       "      <td>3731.409912</td>\n",
       "      <td>3731.409912</td>\n",
       "      <td>6.488252e+08</td>\n",
       "    </tr>\n",
       "    <tr>\n",
       "      <th>std</th>\n",
       "      <td>NaN</td>\n",
       "      <td>677.541577</td>\n",
       "      <td>684.507034</td>\n",
       "      <td>670.143068</td>\n",
       "      <td>677.452315</td>\n",
       "      <td>678.015255</td>\n",
       "      <td>4.746818e+07</td>\n",
       "    </tr>\n",
       "  </tbody>\n",
       "</table>\n",
       "</div>"
      ],
      "text/plain": [
       "                                Date          Open          High  \\\n",
       "count                          16441  16441.000000  16441.000000   \n",
       "mean   2018-05-04 17:08:52.303387904    421.899081    426.649059   \n",
       "min              2011-01-03 00:00:00      4.356000      4.454000   \n",
       "25%              2016-07-19 00:00:00     58.237499     59.001999   \n",
       "50%              2018-08-01 00:00:00    127.410004    128.850006   \n",
       "75%              2020-05-13 00:00:00    444.899994    452.760010   \n",
       "max              2021-12-29 00:00:00   3744.000000   3773.080078   \n",
       "std                              NaN    677.541577    684.507034   \n",
       "\n",
       "                Low         Close     Adj Close        Volume  \n",
       "count  16441.000000  16441.000000  16441.000000  1.644100e+04  \n",
       "mean     416.942834    421.964527    420.841444  2.964203e+07  \n",
       "min        4.222000      4.366000      4.366000  3.468000e+05  \n",
       "25%       57.599998     58.183998     55.723999  4.615000e+06  \n",
       "50%      126.010002    127.529999    126.475647  1.320430e+07  \n",
       "75%      436.600006    445.989990    445.989990  2.971960e+07  \n",
       "max     3696.790039   3731.409912   3731.409912  6.488252e+08  \n",
       "std      670.143068    677.452315    678.015255  4.746818e+07  "
      ]
     },
     "execution_count": 45,
     "metadata": {},
     "output_type": "execute_result"
    }
   ],
   "source": [
    "combined_df.describe()"
   ]
  },
  {
   "cell_type": "code",
   "execution_count": 37,
   "id": "4c7cfab7-c547-483e-8fb6-b5792c8ff09c",
   "metadata": {},
   "outputs": [
    {
     "data": {
      "text/plain": [
       "Date         datetime64[ns]\n",
       "Open                float64\n",
       "High                float64\n",
       "Low                 float64\n",
       "Close               float64\n",
       "Adj Close           float64\n",
       "Volume                int64\n",
       "Company              object\n",
       "dtype: object"
      ]
     },
     "execution_count": 37,
     "metadata": {},
     "output_type": "execute_result"
    }
   ],
   "source": [
    "combined_df.dtypes"
   ]
  },
  {
   "cell_type": "code",
   "execution_count": 38,
   "id": "c19a2a37-8f50-468c-b249-5f94c8cb04a0",
   "metadata": {},
   "outputs": [
    {
     "data": {
      "text/plain": [
       "Date         0\n",
       "Open         0\n",
       "High         0\n",
       "Low          0\n",
       "Close        0\n",
       "Adj Close    0\n",
       "Volume       0\n",
       "Company      0\n",
       "dtype: int64"
      ]
     },
     "execution_count": 38,
     "metadata": {},
     "output_type": "execute_result"
    }
   ],
   "source": [
    "combined_df.isnull().sum()"
   ]
  },
  {
   "cell_type": "markdown",
   "id": "c0abc367-46e3-498b-b10e-651b6f70ed5d",
   "metadata": {},
   "source": [
    "STATISTICAL STEPS \n",
    "Step 1: Calculate each company’s overall growth"
   ]
  },
  {
   "cell_type": "code",
   "execution_count": 53,
   "id": "b9d6c895-0ccb-409c-aea3-b786b8b89cd6",
   "metadata": {},
   "outputs": [
    {
     "name": "stdout",
     "output_type": "stream",
     "text": [
      "           Start_Close    End_Close  Growth_percent\n",
      "Company                                            \n",
      "Tesla         5.324000  1086.189941    20301.764482\n",
      "Netflix      49.848572   610.539978     1124.789304\n",
      "Amazon      308.519989  3384.020020      996.856003\n",
      "Microsoft    46.759998   341.950012      631.287482\n",
      "Apple        27.332500   179.380005      556.288320\n",
      "Google      523.373108  2930.090088      459.847276\n",
      "Facebook     78.449997   342.940002      337.144697\n",
      "Zoom         62.000000   181.809998      193.241932\n",
      "Walmart      85.900002   142.710007       66.135045\n",
      "Uber         41.570000    42.459999        2.140965\n"
     ]
    }
   ],
   "source": [
    "growth_df = (\n",
    "    combined_df.groupby('Company')\n",
    "    .agg(Start_Close=('Close', 'first'),\n",
    "         End_Close=('Close', 'last'))\n",
    "    .assign(Growth_percent=lambda x: (x['End_Close'] - x['Start_Close']) / x['Start_Close'] * 100)\n",
    "    .sort_values(by='Growth_percent', ascending=False)\n",
    ")\n",
    "print(growth_df)\n"
   ]
  },
  {
   "cell_type": "code",
   "execution_count": null,
   "id": "709e1dc5-9057-42c8-b2a8-b427ab1ccfb9",
   "metadata": {},
   "outputs": [],
   "source": []
  }
 ],
 "metadata": {
  "kernelspec": {
   "display_name": "Python [conda env:base] *",
   "language": "python",
   "name": "conda-base-py"
  },
  "language_info": {
   "codemirror_mode": {
    "name": "ipython",
    "version": 3
   },
   "file_extension": ".py",
   "mimetype": "text/x-python",
   "name": "python",
   "nbconvert_exporter": "python",
   "pygments_lexer": "ipython3",
   "version": "3.13.5"
  }
 },
 "nbformat": 4,
 "nbformat_minor": 5
}
